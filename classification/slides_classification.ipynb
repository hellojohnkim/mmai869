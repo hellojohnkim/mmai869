{
 "cells": [
  {
   "cell_type": "markdown",
   "metadata": {},
   "source": [
    "# My First Classification Slides\n",
    "\n",
    "- Stephen W. Thomas\n",
    "- Used for MMA 869, MMAI 869, and GMMA 869\n",
    "- The Easy version - no hard dependencies or packages, no complication"
   ]
  },
  {
   "cell_type": "code",
   "execution_count": null,
   "metadata": {},
   "outputs": [],
   "source": [
    "import datetime\n",
    "print(datetime.datetime.now())"
   ]
  },
  {
   "cell_type": "code",
   "execution_count": 2,
   "metadata": {},
   "outputs": [],
   "source": [
    "import pandas as pd\n",
    "import numpy as np\n",
    "\n",
    "import itertools\n",
    "import scipy\n",
    "\n",
    "from IPython.core.interactiveshell import InteractiveShell\n",
    "InteractiveShell.ast_node_interactivity = \"all\""
   ]
  },
  {
   "cell_type": "code",
   "execution_count": 3,
   "metadata": {},
   "outputs": [
    {
     "name": "stdout",
     "output_type": "stream",
     "text": [
      "The scikit-learn version is 0.23.1.\n"
     ]
    }
   ],
   "source": [
    "import sklearn\n",
    "print('The scikit-learn version is {}.'.format(sklearn.__version__))"
   ]
  },
  {
   "cell_type": "markdown",
   "metadata": {},
   "source": [
    "# Read Data\n"
   ]
  },
  {
   "cell_type": "code",
   "execution_count": 4,
   "metadata": {},
   "outputs": [
    {
     "name": "stdout",
     "output_type": "stream",
     "text": [
      "<class 'pandas.core.frame.DataFrame'>\n",
      "RangeIndex: 500 entries, 0 to 499\n",
      "Data columns (total 3 columns):\n",
      " #   Column  Non-Null Count  Dtype  \n",
      "---  ------  --------------  -----  \n",
      " 0   Age     500 non-null    float64\n",
      " 1   Income  500 non-null    float64\n",
      " 2   Bought  500 non-null    int64  \n",
      "dtypes: float64(2), int64(1)\n",
      "memory usage: 11.8 KB\n"
     ]
    },
    {
     "data": {
      "text/html": [
       "<div>\n",
       "<style scoped>\n",
       "    .dataframe tbody tr th:only-of-type {\n",
       "        vertical-align: middle;\n",
       "    }\n",
       "\n",
       "    .dataframe tbody tr th {\n",
       "        vertical-align: top;\n",
       "    }\n",
       "\n",
       "    .dataframe thead th {\n",
       "        text-align: right;\n",
       "    }\n",
       "</style>\n",
       "<table border=\"1\" class=\"dataframe\">\n",
       "  <thead>\n",
       "    <tr style=\"text-align: right;\">\n",
       "      <th></th>\n",
       "      <th>Age</th>\n",
       "      <th>Income</th>\n",
       "      <th>Bought</th>\n",
       "    </tr>\n",
       "  </thead>\n",
       "  <tbody>\n",
       "    <tr>\n",
       "      <th>0</th>\n",
       "      <td>0.748126</td>\n",
       "      <td>1.185890</td>\n",
       "      <td>0</td>\n",
       "    </tr>\n",
       "    <tr>\n",
       "      <th>1</th>\n",
       "      <td>-1.645760</td>\n",
       "      <td>-2.933332</td>\n",
       "      <td>1</td>\n",
       "    </tr>\n",
       "    <tr>\n",
       "      <th>2</th>\n",
       "      <td>0.279829</td>\n",
       "      <td>0.835401</td>\n",
       "      <td>0</td>\n",
       "    </tr>\n",
       "    <tr>\n",
       "      <th>3</th>\n",
       "      <td>0.195853</td>\n",
       "      <td>1.249209</td>\n",
       "      <td>0</td>\n",
       "    </tr>\n",
       "    <tr>\n",
       "      <th>4</th>\n",
       "      <td>-1.357053</td>\n",
       "      <td>-1.409123</td>\n",
       "      <td>1</td>\n",
       "    </tr>\n",
       "  </tbody>\n",
       "</table>\n",
       "</div>"
      ],
      "text/plain": [
       "        Age    Income  Bought\n",
       "0  0.748126  1.185890       0\n",
       "1 -1.645760 -2.933332       1\n",
       "2  0.279829  0.835401       0\n",
       "3  0.195853  1.249209       0\n",
       "4 -1.357053 -1.409123       1"
      ]
     },
     "execution_count": 4,
     "metadata": {},
     "output_type": "execute_result"
    }
   ],
   "source": [
    "df = pd.read_csv(\"../data/generated_marketing.csv\")\n",
    "df.info()\n",
    "df.head()\n",
    "\n",
    "feature_names = ['Age', 'Income']\n",
    "X = df[feature_names].to_numpy()\n",
    "y = df['Bought'].to_numpy()"
   ]
  },
  {
   "cell_type": "markdown",
   "metadata": {},
   "source": [
    "# Splitting the Data"
   ]
  },
  {
   "cell_type": "code",
   "execution_count": 5,
   "metadata": {},
   "outputs": [
    {
     "data": {
      "text/plain": [
       "numpy.ndarray"
      ]
     },
     "execution_count": 5,
     "metadata": {},
     "output_type": "execute_result"
    },
    {
     "data": {
      "text/plain": [
       "numpy.ndarray"
      ]
     },
     "execution_count": 5,
     "metadata": {},
     "output_type": "execute_result"
    }
   ],
   "source": [
    "from sklearn.model_selection import train_test_split\n",
    "\n",
    "X_train, X_test, y_train, y_test = train_test_split(X, y, test_size=0.2, random_state=42)\n",
    "\n",
    "type(X_train)\n",
    "type(y_train)"
   ]
  },
  {
   "cell_type": "markdown",
   "metadata": {},
   "source": [
    "# Decision Trees"
   ]
  },
  {
   "cell_type": "code",
   "execution_count": 6,
   "metadata": {},
   "outputs": [
    {
     "data": {
      "text/plain": [
       "DecisionTreeClassifier(criterion='entropy', max_depth=3, max_leaf_nodes=5,\n",
       "                       min_samples_leaf=10, min_samples_split=10,\n",
       "                       random_state=42)"
      ]
     },
     "execution_count": 6,
     "metadata": {},
     "output_type": "execute_result"
    }
   ],
   "source": [
    "from sklearn.tree import DecisionTreeClassifier\n",
    "\n",
    "clf = DecisionTreeClassifier(random_state=42, criterion=\"entropy\",\n",
    "                             min_samples_split=10, min_samples_leaf=10, max_depth=3, max_leaf_nodes=5)\n",
    "clf.fit(X_train, y_train)\n",
    "\n",
    "y_pred_dt = clf.predict(X_test)"
   ]
  },
  {
   "cell_type": "code",
   "execution_count": 7,
   "metadata": {},
   "outputs": [],
   "source": [
    "class_names = [str(x) for x in clf.classes_]"
   ]
  },
  {
   "cell_type": "markdown",
   "metadata": {},
   "source": [
    "## Use the Model to Predict Someone New"
   ]
  },
  {
   "cell_type": "code",
   "execution_count": 8,
   "metadata": {},
   "outputs": [
    {
     "data": {
      "text/plain": [
       "array([[0.93922652, 0.06077348]])"
      ]
     },
     "execution_count": 8,
     "metadata": {},
     "output_type": "execute_result"
    },
    {
     "data": {
      "text/plain": [
       "array([0], dtype=int64)"
      ]
     },
     "execution_count": 8,
     "metadata": {},
     "output_type": "execute_result"
    }
   ],
   "source": [
    "new_data = [[0.5, 1.24]]\n",
    "clf.predict_proba(new_data)\n",
    "clf.predict(new_data)"
   ]
  },
  {
   "cell_type": "markdown",
   "metadata": {},
   "source": [
    "## Model Parameters\n",
    "\n",
    "Surpisingly, sci-kit learn does not have a function to print the decision tree in text format. (It does have a way to graphical render the three, which we'll do later.) For now, we'll just print a few stats about the tree."
   ]
  },
  {
   "cell_type": "code",
   "execution_count": 9,
   "metadata": {},
   "outputs": [
    {
     "name": "stdout",
     "output_type": "stream",
     "text": [
      "9\n",
      "[0.99971144 0.40077522 0.45449306 0.99107606 0.33050773 0.22746906\n",
      " 0.83147439 0.28998605 0.        ]\n",
      "[ 1  5  3 -1 -1  7 -1 -1 -1]\n",
      "[-0.05775159 -0.15540861  0.2254563  -2.         -2.         -0.7764757\n",
      " -2.         -2.         -2.        ]\n"
     ]
    }
   ],
   "source": [
    "print(clf.tree_.node_count)\n",
    "print(clf.tree_.impurity)\n",
    "print(clf.tree_.children_left)\n",
    "print(clf.tree_.threshold)"
   ]
  },
  {
   "cell_type": "markdown",
   "metadata": {},
   "source": [
    "## Model Performance"
   ]
  },
  {
   "cell_type": "code",
   "execution_count": 10,
   "metadata": {},
   "outputs": [
    {
     "data": {
      "text/plain": [
       "array([[50,  5],\n",
       "       [ 5, 40]], dtype=int64)"
      ]
     },
     "execution_count": 10,
     "metadata": {},
     "output_type": "execute_result"
    }
   ],
   "source": [
    "from sklearn.metrics import confusion_matrix\n",
    "\n",
    "confusion_matrix(y_test, y_pred_dt)"
   ]
  },
  {
   "cell_type": "code",
   "execution_count": 11,
   "metadata": {},
   "outputs": [
    {
     "name": "stdout",
     "output_type": "stream",
     "text": [
      "              precision    recall  f1-score   support\n",
      "\n",
      "           0       0.91      0.91      0.91        55\n",
      "           1       0.89      0.89      0.89        45\n",
      "\n",
      "    accuracy                           0.90       100\n",
      "   macro avg       0.90      0.90      0.90       100\n",
      "weighted avg       0.90      0.90      0.90       100\n",
      "\n"
     ]
    }
   ],
   "source": [
    "from sklearn.metrics import classification_report\n",
    "\n",
    "print(classification_report(y_test, y_pred_dt, target_names=class_names))"
   ]
  },
  {
   "cell_type": "code",
   "execution_count": 12,
   "metadata": {},
   "outputs": [
    {
     "name": "stdout",
     "output_type": "stream",
     "text": [
      "Accuracy = 0.90\n",
      "Kappa = 0.80\n",
      "F1 Score = 0.89\n",
      "Log Loss = 3.45\n"
     ]
    }
   ],
   "source": [
    "from sklearn.metrics import accuracy_score, cohen_kappa_score, f1_score, log_loss\n",
    "\n",
    "print(\"Accuracy = {:.2f}\".format(accuracy_score(y_test, y_pred_dt)))\n",
    "print(\"Kappa = {:.2f}\".format(cohen_kappa_score(y_test, y_pred_dt)))\n",
    "print(\"F1 Score = {:.2f}\".format(f1_score(y_test, y_pred_dt)))\n",
    "print(\"Log Loss = {:.2f}\".format(log_loss(y_test, y_pred_dt)))"
   ]
  },
  {
   "cell_type": "markdown",
   "metadata": {},
   "source": [
    "## Model Visualization"
   ]
  },
  {
   "cell_type": "code",
   "execution_count": 13,
   "metadata": {},
   "outputs": [
    {
     "data": {
      "text/plain": [
       "[Text(186.0, 190.26, 'X[0] <= -0.058\\nentropy = 1.0\\nsamples = 400\\nvalue = [196, 204]'),\n",
       " Text(111.60000000000001, 135.9, 'X[1] <= -0.155\\nentropy = 0.401\\nsamples = 201\\nvalue = [16, 185]'),\n",
       " Text(74.4, 81.53999999999999, 'X[0] <= -0.776\\nentropy = 0.227\\nsamples = 163\\nvalue = [6, 157]'),\n",
       " Text(37.2, 27.180000000000007, 'entropy = 0.29\\nsamples = 118\\nvalue = [6, 112]'),\n",
       " Text(111.60000000000001, 27.180000000000007, 'entropy = 0.0\\nsamples = 45\\nvalue = [0, 45]'),\n",
       " Text(148.8, 81.53999999999999, 'entropy = 0.831\\nsamples = 38\\nvalue = [10, 28]'),\n",
       " Text(260.40000000000003, 135.9, 'X[0] <= 0.225\\nentropy = 0.454\\nsamples = 199\\nvalue = [180, 19]'),\n",
       " Text(223.20000000000002, 81.53999999999999, 'entropy = 0.991\\nsamples = 18\\nvalue = [10, 8]'),\n",
       " Text(297.6, 81.53999999999999, 'entropy = 0.331\\nsamples = 181\\nvalue = [170, 11]')]"
      ]
     },
     "execution_count": 13,
     "metadata": {},
     "output_type": "execute_result"
    },
    {
     "data": {
      "image/png": "[encoded data removed]",
      "text/plain": [
       "<Figure size 432x288 with 1 Axes>"
      ]
     },
     "metadata": {
      "needs_background": "light"
     },
     "output_type": "display_data"
    }
   ],
   "source": [
    "# New in version 0.21. If you don't have 0.21+, then either upgrade, or just skip this cell.\n",
    "from sklearn import tree\n",
    "tree.plot_tree(clf)"
   ]
  },
  {
   "cell_type": "code",
   "execution_count": 14,
   "metadata": {},
   "outputs": [
    {
     "data": {
      "image/png": "[encoded data removed]",
      "text/plain": [
       "<Figure size 864x504 with 1 Axes>"
      ]
     },
     "metadata": {
      "needs_background": "light"
     },
     "output_type": "display_data"
    }
   ],
   "source": [
    "#Bigger and prettier!\n",
    "\n",
    "import matplotlib.pyplot as plt\n",
    "\n",
    "plt.figure(figsize=(12, 7));\n",
    "tree.plot_tree(clf, filled=True, feature_names=feature_names, class_names=class_names, proportion=False, fontsize=12);\n",
    "#plt.savefig('out/marketing-dt-tree.png', transparent=False);"
   ]
  },
  {
   "cell_type": "markdown",
   "metadata": {},
   "source": [
    "# Naive Bayes"
   ]
  },
  {
   "cell_type": "code",
   "execution_count": 15,
   "metadata": {},
   "outputs": [],
   "source": [
    "from sklearn.naive_bayes import GaussianNB\n",
    "gnb = GaussianNB()\n",
    "gnb = gnb.fit(X_train, y_train)\n",
    "\n",
    "y_pred_gnb = gnb.predict(X_test)"
   ]
  },
  {
   "cell_type": "markdown",
   "metadata": {},
   "source": [
    "## Model Parameters"
   ]
  },
  {
   "cell_type": "code",
   "execution_count": 16,
   "metadata": {},
   "outputs": [
    {
     "data": {
      "text/plain": [
       "array([[ 0.99887777,  1.06512859],\n",
       "       [-0.91827636, -1.08561939]])"
      ]
     },
     "execution_count": 16,
     "metadata": {},
     "output_type": "execute_result"
    },
    {
     "data": {
      "text/plain": [
       "array([[0.70142311, 0.949339  ],\n",
       "       [0.62737657, 1.68858577]])"
      ]
     },
     "execution_count": 16,
     "metadata": {},
     "output_type": "execute_result"
    }
   ],
   "source": [
    "gnb.theta_ # Mean of each feature per class\n",
    "gnb.sigma_ # Variance of each feature per class"
   ]
  },
  {
   "cell_type": "markdown",
   "metadata": {},
   "source": [
    "## Model Performance"
   ]
  },
  {
   "cell_type": "code",
   "execution_count": 17,
   "metadata": {},
   "outputs": [
    {
     "data": {
      "text/plain": [
       "array([[51,  4],\n",
       "       [ 2, 43]], dtype=int64)"
      ]
     },
     "execution_count": 17,
     "metadata": {},
     "output_type": "execute_result"
    }
   ],
   "source": [
    "confusion_matrix(y_test, y_pred_gnb)"
   ]
  },
  {
   "cell_type": "code",
   "execution_count": 18,
   "metadata": {},
   "outputs": [
    {
     "name": "stdout",
     "output_type": "stream",
     "text": [
      "              precision    recall  f1-score   support\n",
      "\n",
      "           0       0.96      0.93      0.94        55\n",
      "           1       0.91      0.96      0.93        45\n",
      "\n",
      "    accuracy                           0.94       100\n",
      "   macro avg       0.94      0.94      0.94       100\n",
      "weighted avg       0.94      0.94      0.94       100\n",
      "\n"
     ]
    }
   ],
   "source": [
    "print(classification_report(y_test, y_pred_gnb, target_names=class_names))"
   ]
  },
  {
   "cell_type": "code",
   "execution_count": 19,
   "metadata": {},
   "outputs": [
    {
     "name": "stdout",
     "output_type": "stream",
     "text": [
      "Accuracy = 0.94\n",
      "Kappa = 0.88\n",
      "F1 Score = 0.93\n",
      "Log Loss = 2.07\n"
     ]
    }
   ],
   "source": [
    "print(\"Accuracy = {:.2f}\".format(accuracy_score(y_test, y_pred_gnb)))\n",
    "print(\"Kappa = {:.2f}\".format(cohen_kappa_score(y_test, y_pred_gnb)))\n",
    "print(\"F1 Score = {:.2f}\".format(f1_score(y_test, y_pred_gnb)))\n",
    "print(\"Log Loss = {:.2f}\".format(log_loss(y_test, y_pred_gnb)))"
   ]
  },
  {
   "cell_type": "markdown",
   "metadata": {},
   "source": [
    "# KNN"
   ]
  },
  {
   "cell_type": "code",
   "execution_count": 20,
   "metadata": {},
   "outputs": [
    {
     "data": {
      "text/plain": [
       "KNeighborsClassifier(n_neighbors=3)"
      ]
     },
     "execution_count": 20,
     "metadata": {},
     "output_type": "execute_result"
    }
   ],
   "source": [
    "from sklearn.neighbors import KNeighborsClassifier\n",
    "\n",
    "knn_clf = KNeighborsClassifier(n_neighbors=3)\n",
    "knn_clf.fit(X_train, y_train)\n",
    "\n",
    "y_pred_knn = knn_clf.predict(X_test)"
   ]
  },
  {
   "cell_type": "markdown",
   "metadata": {},
   "source": [
    "## Model Parameters"
   ]
  },
  {
   "cell_type": "code",
   "execution_count": 21,
   "metadata": {},
   "outputs": [
    {
     "data": {
      "text/plain": [
       "'euclidean'"
      ]
     },
     "execution_count": 21,
     "metadata": {},
     "output_type": "execute_result"
    },
    {
     "data": {
      "text/plain": [
       "{}"
      ]
     },
     "execution_count": 21,
     "metadata": {},
     "output_type": "execute_result"
    }
   ],
   "source": [
    "knn_clf.effective_metric_\n",
    "knn_clf.effective_metric_params_"
   ]
  },
  {
   "cell_type": "markdown",
   "metadata": {},
   "source": [
    "## Model Performance"
   ]
  },
  {
   "cell_type": "code",
   "execution_count": 22,
   "metadata": {},
   "outputs": [
    {
     "name": "stdout",
     "output_type": "stream",
     "text": [
      "[[47  8]\n",
      " [ 2 43]]\n"
     ]
    }
   ],
   "source": [
    "print(confusion_matrix(y_test, y_pred_knn))"
   ]
  },
  {
   "cell_type": "code",
   "execution_count": 23,
   "metadata": {},
   "outputs": [
    {
     "name": "stdout",
     "output_type": "stream",
     "text": [
      "              precision    recall  f1-score   support\n",
      "\n",
      "           0       0.96      0.85      0.90        55\n",
      "           1       0.84      0.96      0.90        45\n",
      "\n",
      "    accuracy                           0.90       100\n",
      "   macro avg       0.90      0.91      0.90       100\n",
      "weighted avg       0.91      0.90      0.90       100\n",
      "\n"
     ]
    }
   ],
   "source": [
    "print(classification_report(y_test, y_pred_knn, target_names=class_names))"
   ]
  },
  {
   "cell_type": "code",
   "execution_count": 24,
   "metadata": {},
   "outputs": [
    {
     "name": "stdout",
     "output_type": "stream",
     "text": [
      "Accuracy = 0.90\n",
      "Kappa = 0.80\n",
      "F1 Score = 0.90\n",
      "Log Loss = 3.45\n"
     ]
    }
   ],
   "source": [
    "print(\"Accuracy = {:.2f}\".format(accuracy_score(y_test, y_pred_knn)))\n",
    "print(\"Kappa = {:.2f}\".format(cohen_kappa_score(y_test, y_pred_knn)))\n",
    "print(\"F1 Score = {:.2f}\".format(f1_score(y_test, y_pred_knn)))\n",
    "print(\"Log Loss = {:.2f}\".format(log_loss(y_test, y_pred_knn)))"
   ]
  },
  {
   "cell_type": "markdown",
   "metadata": {},
   "source": [
    "# SVM - Linear"
   ]
  },
  {
   "cell_type": "code",
   "execution_count": 25,
   "metadata": {},
   "outputs": [
    {
     "data": {
      "text/plain": [
       "SVC(C=0.025, kernel='linear')"
      ]
     },
     "execution_count": 25,
     "metadata": {},
     "output_type": "execute_result"
    }
   ],
   "source": [
    "from sklearn.svm import SVC\n",
    "\n",
    "svm_clf = SVC(kernel=\"linear\", C=0.025)\n",
    "svm_clf.fit(X_train, y_train)\n",
    "\n",
    "y_pred_svm = svm_clf.predict(X_test)"
   ]
  },
  {
   "cell_type": "markdown",
   "metadata": {},
   "source": [
    "## Model Parameters"
   ]
  },
  {
   "cell_type": "code",
   "execution_count": 26,
   "metadata": {},
   "outputs": [
    {
     "data": {
      "text/plain": [
       "array([70, 69])"
      ]
     },
     "execution_count": 26,
     "metadata": {},
     "output_type": "execute_result"
    }
   ],
   "source": [
    "svm_clf.n_support_"
   ]
  },
  {
   "cell_type": "code",
   "execution_count": 27,
   "metadata": {},
   "outputs": [],
   "source": [
    "#svm_clf.support_vectors_"
   ]
  },
  {
   "cell_type": "code",
   "execution_count": 28,
   "metadata": {},
   "outputs": [
    {
     "data": {
      "text/plain": [
       "array([[-0.025     , -0.025     , -0.025     , -0.025     , -0.025     ,\n",
       "        -0.025     , -0.025     , -0.025     , -0.025     , -0.025     ,\n",
       "        -0.025     , -0.025     , -0.025     , -0.025     , -0.025     ,\n",
       "        -0.025     , -0.025     , -0.025     , -0.025     , -0.025     ,\n",
       "        -0.025     , -0.025     , -0.025     , -0.00055246, -0.025     ,\n",
       "        -0.025     , -0.025     , -0.025     , -0.025     , -0.025     ,\n",
       "        -0.025     , -0.025     , -0.025     , -0.025     , -0.025     ,\n",
       "        -0.025     , -0.025     , -0.025     , -0.025     , -0.025     ,\n",
       "        -0.025     , -0.025     , -0.025     , -0.025     , -0.025     ,\n",
       "        -0.025     , -0.025     , -0.025     , -0.025     , -0.025     ,\n",
       "        -0.025     , -0.025     , -0.025     , -0.025     , -0.025     ,\n",
       "        -0.025     , -0.025     , -0.025     , -0.025     , -0.025     ,\n",
       "        -0.025     , -0.025     , -0.025     , -0.01900603, -0.025     ,\n",
       "        -0.025     , -0.025     , -0.025     , -0.025     , -0.025     ,\n",
       "         0.025     ,  0.025     ,  0.025     ,  0.025     ,  0.025     ,\n",
       "         0.025     ,  0.025     ,  0.025     ,  0.025     ,  0.025     ,\n",
       "         0.025     ,  0.025     ,  0.025     ,  0.025     ,  0.025     ,\n",
       "         0.025     ,  0.025     ,  0.025     ,  0.025     ,  0.025     ,\n",
       "         0.025     ,  0.025     ,  0.025     ,  0.01955849,  0.025     ,\n",
       "         0.025     ,  0.025     ,  0.025     ,  0.025     ,  0.025     ,\n",
       "         0.025     ,  0.025     ,  0.025     ,  0.025     ,  0.025     ,\n",
       "         0.025     ,  0.025     ,  0.025     ,  0.025     ,  0.025     ,\n",
       "         0.025     ,  0.025     ,  0.025     ,  0.025     ,  0.025     ,\n",
       "         0.025     ,  0.025     ,  0.025     ,  0.025     ,  0.025     ,\n",
       "         0.025     ,  0.025     ,  0.025     ,  0.025     ,  0.025     ,\n",
       "         0.025     ,  0.025     ,  0.025     ,  0.025     ,  0.025     ,\n",
       "         0.025     ,  0.025     ,  0.025     ,  0.025     ,  0.025     ,\n",
       "         0.025     ,  0.025     ,  0.025     ,  0.025     ]])"
      ]
     },
     "execution_count": 28,
     "metadata": {},
     "output_type": "execute_result"
    }
   ],
   "source": [
    "svm_clf.dual_coef_ "
   ]
  },
  {
   "cell_type": "code",
   "execution_count": 29,
   "metadata": {},
   "outputs": [
    {
     "data": {
      "text/plain": [
       "array([0.0853027])"
      ]
     },
     "execution_count": 29,
     "metadata": {},
     "output_type": "execute_result"
    }
   ],
   "source": [
    "svm_clf.intercept_ "
   ]
  },
  {
   "cell_type": "markdown",
   "metadata": {},
   "source": [
    "## Model Performance"
   ]
  },
  {
   "cell_type": "code",
   "execution_count": 30,
   "metadata": {},
   "outputs": [
    {
     "name": "stdout",
     "output_type": "stream",
     "text": [
      "[[51  4]\n",
      " [ 2 43]]\n"
     ]
    }
   ],
   "source": [
    "print(confusion_matrix(y_test, y_pred_svm))"
   ]
  },
  {
   "cell_type": "code",
   "execution_count": 31,
   "metadata": {},
   "outputs": [
    {
     "name": "stdout",
     "output_type": "stream",
     "text": [
      "              precision    recall  f1-score   support\n",
      "\n",
      "           0       0.96      0.93      0.94        55\n",
      "           1       0.91      0.96      0.93        45\n",
      "\n",
      "    accuracy                           0.94       100\n",
      "   macro avg       0.94      0.94      0.94       100\n",
      "weighted avg       0.94      0.94      0.94       100\n",
      "\n"
     ]
    }
   ],
   "source": [
    "print(classification_report(y_test, y_pred_svm, target_names=class_names))"
   ]
  },
  {
   "cell_type": "code",
   "execution_count": 32,
   "metadata": {},
   "outputs": [
    {
     "name": "stdout",
     "output_type": "stream",
     "text": [
      "Accuracy = 0.94\n",
      "Kappa = 0.88\n",
      "F1 Score = 0.93\n",
      "Log Loss = 2.07\n"
     ]
    }
   ],
   "source": [
    "print(\"Accuracy = {:.2f}\".format(accuracy_score(y_test, y_pred_svm)))\n",
    "print(\"Kappa = {:.2f}\".format(cohen_kappa_score(y_test, y_pred_svm)))\n",
    "print(\"F1 Score = {:.2f}\".format(f1_score(y_test, y_pred_svm)))\n",
    "print(\"Log Loss = {:.2f}\".format(log_loss(y_test, y_pred_svm)))"
   ]
  },
  {
   "cell_type": "markdown",
   "metadata": {},
   "source": [
    "# NN"
   ]
  },
  {
   "cell_type": "code",
   "execution_count": 33,
   "metadata": {},
   "outputs": [
    {
     "data": {
      "text/plain": [
       "MLPClassifier(alpha=0.001, hidden_layer_sizes=(10, 10), max_iter=1500,\n",
       "              random_state=1, solver='lbfgs', verbose=True)"
      ]
     },
     "execution_count": 33,
     "metadata": {},
     "output_type": "execute_result"
    }
   ],
   "source": [
    "from sklearn.neural_network import MLPClassifier\n",
    "\n",
    "nn_clf = MLPClassifier(solver='lbfgs', activation='relu', alpha=1e-3, max_iter=1500,\n",
    "                       hidden_layer_sizes=(10, 10), random_state=1, verbose=True)\n",
    "nn_clf.fit(X_train, y_train)\n",
    "\n",
    "y_pred_nn = nn_clf.predict(X_test)"
   ]
  },
  {
   "cell_type": "markdown",
   "metadata": {},
   "source": [
    "## Model Parameters"
   ]
  },
  {
   "cell_type": "code",
   "execution_count": 34,
   "metadata": {},
   "outputs": [
    {
     "data": {
      "text/plain": [
       "0.1902121899084164"
      ]
     },
     "execution_count": 34,
     "metadata": {},
     "output_type": "execute_result"
    }
   ],
   "source": [
    "nn_clf.loss_"
   ]
  },
  {
   "cell_type": "code",
   "execution_count": 35,
   "metadata": {},
   "outputs": [
    {
     "data": {
      "text/plain": [
       "4"
      ]
     },
     "execution_count": 35,
     "metadata": {},
     "output_type": "execute_result"
    }
   ],
   "source": [
    "nn_clf.n_layers_"
   ]
  },
  {
   "cell_type": "code",
   "execution_count": 36,
   "metadata": {},
   "outputs": [
    {
     "data": {
      "text/plain": [
       "[array([[ 0.39484443,  3.6168169 , -2.35886967, -2.98254502, -3.34627985,\n",
       "         -2.02511889, -1.19449333, -0.21476121, -0.26848678, -2.49899499],\n",
       "        [ 0.0133287 ,  0.71609611, -2.61456774,  1.94136054, -0.88393835,\n",
       "         -2.98345122, -0.09362134,  0.0816133 , -3.05676095, -0.98022462]]),\n",
       " array([[ 0.19010143,  1.86358527,  1.63640583, -0.26180744,  0.03199737,\n",
       "          0.14873061,  0.51005878, -0.71271874, -0.78617782,  0.0286179 ],\n",
       "        [ 2.07684735,  1.33907275,  1.62070434, -0.55622229, -0.4392815 ,\n",
       "         -0.38495463,  0.209834  , -2.00444024, -1.52270678, -0.44711658],\n",
       "        [-0.29646896,  0.39895893, -0.22924598, -0.26062761, -0.22156303,\n",
       "          1.37487841,  0.64988495, -1.44182634, -0.89595428, -0.15971443],\n",
       "        [-2.26693252,  0.33111119,  0.54011625, -0.27109698, -0.55611768,\n",
       "          1.21347874,  0.41663382,  0.00795094,  0.27040295,  0.07728117],\n",
       "        [ 0.751225  , -1.30288834, -2.63929396,  0.31802194, -0.54090303,\n",
       "         -0.57297463, -0.60984746,  1.02951663,  1.53244289, -0.44182926],\n",
       "        [ 1.90804724, -1.28597848, -0.59801676, -0.16473386, -0.40503839,\n",
       "          2.94803213, -2.32055104, -1.67972024,  0.78788442, -0.17300562],\n",
       "        [-1.16637384,  0.48407215, -0.05395749,  0.08283916, -0.11945243,\n",
       "          1.02786235,  0.04852786, -1.3300117 , -1.639097  ,  0.06975182],\n",
       "        [-0.18672838,  0.02914547,  0.41571516, -0.153741  ,  0.44005113,\n",
       "          0.13287659, -0.52153018,  0.46256568,  0.20562344,  0.53568826],\n",
       "        [-2.09455088,  0.41695886,  1.99581694,  0.2031989 , -0.56035747,\n",
       "          0.76106276,  1.95297228,  2.23459046,  1.9258054 , -0.56675948],\n",
       "        [-0.40014558, -1.37133097, -2.21587333, -0.28124626,  0.08542777,\n",
       "          0.40073269, -0.60075261,  0.56053646,  0.28595354, -0.60107733]]),\n",
       " array([[ 3.85533113],\n",
       "        [-1.36576621],\n",
       "        [-3.7824256 ],\n",
       "        [-0.45240668],\n",
       "        [-0.59757255],\n",
       "        [-1.60213248],\n",
       "        [ 2.72575313],\n",
       "        [ 0.47663023],\n",
       "        [ 3.161514  ],\n",
       "        [-0.304182  ]])]"
      ]
     },
     "execution_count": 36,
     "metadata": {},
     "output_type": "execute_result"
    }
   ],
   "source": [
    "w = nn_clf.coefs_ # The ith element in the list represents the weight matrix corresponding to layer i.\n",
    "w"
   ]
  },
  {
   "cell_type": "code",
   "execution_count": 37,
   "metadata": {},
   "outputs": [
    {
     "data": {
      "text/plain": [
       "[array([ 0.97730557,  0.02788257,  3.13545594, -1.73613488,  0.82051725,\n",
       "        -0.44191419, -1.91532978, -0.65187498,  1.07137398,  1.13671389]),\n",
       " array([ 1.05814073,  2.41111307, -0.11478221, -0.87224812,  0.02431854,\n",
       "        -1.32993284,  1.41742854,  0.71147382,  0.57096284, -0.07094557]),\n",
       " array([-1.05927662])]"
      ]
     },
     "execution_count": 37,
     "metadata": {},
     "output_type": "execute_result"
    }
   ],
   "source": [
    "b = nn_clf.intercepts_ # The ith element in the list represents the bias vector corresponding to layer i + 1.\n",
    "b"
   ]
  },
  {
   "cell_type": "code",
   "execution_count": 38,
   "metadata": {},
   "outputs": [
    {
     "data": {
      "text/plain": [
       "'logistic'"
      ]
     },
     "execution_count": 38,
     "metadata": {},
     "output_type": "execute_result"
    }
   ],
   "source": [
    "nn_clf.out_activation_"
   ]
  },
  {
   "cell_type": "code",
   "execution_count": 39,
   "metadata": {},
   "outputs": [
    {
     "data": {
      "text/plain": [
       "array([[0.90447752, 0.09552248]])"
      ]
     },
     "execution_count": 39,
     "metadata": {},
     "output_type": "execute_result"
    }
   ],
   "source": [
    "nn_clf.predict_proba([[0.5, 1]])"
   ]
  },
  {
   "cell_type": "markdown",
   "metadata": {},
   "source": [
    "## Model Performance"
   ]
  },
  {
   "cell_type": "code",
   "execution_count": 40,
   "metadata": {},
   "outputs": [
    {
     "name": "stdout",
     "output_type": "stream",
     "text": [
      "[[51  4]\n",
      " [ 2 43]]\n"
     ]
    }
   ],
   "source": [
    "print(confusion_matrix(y_test, y_pred_nn))"
   ]
  },
  {
   "cell_type": "code",
   "execution_count": 41,
   "metadata": {},
   "outputs": [
    {
     "name": "stdout",
     "output_type": "stream",
     "text": [
      "              precision    recall  f1-score   support\n",
      "\n",
      "           0       0.96      0.93      0.94        55\n",
      "           1       0.91      0.96      0.93        45\n",
      "\n",
      "    accuracy                           0.94       100\n",
      "   macro avg       0.94      0.94      0.94       100\n",
      "weighted avg       0.94      0.94      0.94       100\n",
      "\n"
     ]
    }
   ],
   "source": [
    "print(classification_report(y_test, y_pred_nn, target_names=class_names))"
   ]
  },
  {
   "cell_type": "code",
   "execution_count": 42,
   "metadata": {},
   "outputs": [
    {
     "name": "stdout",
     "output_type": "stream",
     "text": [
      "Accuracy = 0.94\n",
      "Kappa = 0.88\n",
      "F1 Score = 0.93\n",
      "Log Loss = 2.07\n"
     ]
    }
   ],
   "source": [
    "print(\"Accuracy = {:.2f}\".format(accuracy_score(y_test, y_pred_nn)))\n",
    "print(\"Kappa = {:.2f}\".format(cohen_kappa_score(y_test, y_pred_nn)))\n",
    "print(\"F1 Score = {:.2f}\".format(f1_score(y_test, y_pred_nn)))\n",
    "print(\"Log Loss = {:.2f}\".format(log_loss(y_test, y_pred_nn)))"
   ]
  },
  {
   "cell_type": "markdown",
   "metadata": {},
   "source": [
    "# Logistic Regression"
   ]
  },
  {
   "cell_type": "code",
   "execution_count": 43,
   "metadata": {},
   "outputs": [
    {
     "data": {
      "text/plain": [
       "LogisticRegression(random_state=22)"
      ]
     },
     "execution_count": 43,
     "metadata": {},
     "output_type": "execute_result"
    }
   ],
   "source": [
    "from sklearn.linear_model import LogisticRegression\n",
    "\n",
    "lr_clf = LogisticRegression(random_state=22)\n",
    "lr_clf.fit(X_train, y_train)\n",
    "\n",
    "y_pred_lr = lr_clf.predict(X_test)"
   ]
  },
  {
   "cell_type": "code",
   "execution_count": 44,
   "metadata": {},
   "outputs": [
    {
     "data": {
      "text/plain": [
       "array([[-1.55711283, -0.76316837]])"
      ]
     },
     "execution_count": 44,
     "metadata": {},
     "output_type": "execute_result"
    }
   ],
   "source": [
    "lr_clf.coef_"
   ]
  },
  {
   "cell_type": "code",
   "execution_count": 45,
   "metadata": {},
   "outputs": [
    {
     "data": {
      "text/plain": [
       "array([0.20820149])"
      ]
     },
     "execution_count": 45,
     "metadata": {},
     "output_type": "execute_result"
    }
   ],
   "source": [
    "lr_clf.intercept_"
   ]
  },
  {
   "cell_type": "markdown",
   "metadata": {},
   "source": [
    "## Model Performance"
   ]
  },
  {
   "cell_type": "code",
   "execution_count": 46,
   "metadata": {},
   "outputs": [
    {
     "name": "stdout",
     "output_type": "stream",
     "text": [
      "[[51  4]\n",
      " [ 2 43]]\n"
     ]
    }
   ],
   "source": [
    "print(confusion_matrix(y_test, y_pred_lr))"
   ]
  },
  {
   "cell_type": "code",
   "execution_count": 47,
   "metadata": {},
   "outputs": [
    {
     "name": "stdout",
     "output_type": "stream",
     "text": [
      "              precision    recall  f1-score   support\n",
      "\n",
      "           0       0.96      0.93      0.94        55\n",
      "           1       0.91      0.96      0.93        45\n",
      "\n",
      "    accuracy                           0.94       100\n",
      "   macro avg       0.94      0.94      0.94       100\n",
      "weighted avg       0.94      0.94      0.94       100\n",
      "\n"
     ]
    }
   ],
   "source": [
    "print(classification_report(y_test, y_pred_lr, target_names=class_names))"
   ]
  },
  {
   "cell_type": "code",
   "execution_count": 48,
   "metadata": {},
   "outputs": [
    {
     "name": "stdout",
     "output_type": "stream",
     "text": [
      "Accuracy = 0.94\n",
      "Kappa = 0.88\n",
      "F1 Score = 0.93\n",
      "Log Loss = 2.07\n"
     ]
    }
   ],
   "source": [
    "print(\"Accuracy = {:.2f}\".format(accuracy_score(y_test, y_pred_lr)))\n",
    "print(\"Kappa = {:.2f}\".format(cohen_kappa_score(y_test, y_pred_lr)))\n",
    "print(\"F1 Score = {:.2f}\".format(f1_score(y_test, y_pred_lr)))\n",
    "print(\"Log Loss = {:.2f}\".format(log_loss(y_test, y_pred_lr)))"
   ]
  }
 ],
 "metadata": {
  "kernelspec": {
   "display_name": "small_sklearn_kernel",
   "language": "python",
   "name": "small_sklearn_kernel"
  },
  "language_info": {
   "codemirror_mode": {
    "name": "ipython",
    "version": 3
   },
   "file_extension": ".py",
   "mimetype": "text/x-python",
   "name": "python",
   "nbconvert_exporter": "python",
   "pygments_lexer": "ipython3",
   "version": "3.6.10"
  }
 },
 "nbformat": 4,
 "nbformat_minor": 4
}
