{
  "nbformat": 4,
  "nbformat_minor": 0,
  "metadata": {
    "kernelspec": {
      "display_name": "small_sklearn_kernel",
      "language": "python",
      "name": "small_sklearn_kernel"
    },
    "language_info": {
      "codemirror_mode": {
        "name": "ipython",
        "version": 3
      },
      "file_extension": ".py",
      "mimetype": "text/x-python",
      "name": "python",
      "nbconvert_exporter": "python",
      "pygments_lexer": "ipython3",
      "version": "3.6.10"
    },
    "colab": {
      "name": "slides_classification_tuning.ipynb",
      "provenance": [],
      "include_colab_link": true
    }
  },
  "cells": [
    {
      "cell_type": "markdown",
      "metadata": {
        "id": "view-in-github",
        "colab_type": "text"
      },
      "source": [
        "<a href=\"https://colab.research.google.com/github/stepthom/869_course/blob/main/classification/slides_classification_cv.ipynb\" target=\"_parent\"><img src=\"https://colab.research.google.com/assets/colab-badge.svg\" alt=\"Open In Colab\"/></a>"
      ]
    },
    {
      "cell_type": "markdown",
      "metadata": {
        "id": "sbjbn2l_5rX5"
      },
      "source": [
        "# Classification Cross Validation\n",
        "\n",
        "- Stephen W. Thomas\n",
        "- Used for MMA 869, MMAI 869, and GMMA 869"
      ]
    },
    {
      "cell_type": "code",
      "metadata": {
        "id": "937zO8u25rX_",
        "outputId": "41ae9006-3cc8-4dae-87ec-ca7b635f8e22",
        "colab": {
          "base_uri": "https://localhost:8080/"
        }
      },
      "source": [
        "import datetime\n",
        "print(datetime.datetime.now())"
      ],
      "execution_count": 1,
      "outputs": [
        {
          "output_type": "stream",
          "name": "stdout",
          "text": [
            "2022-05-11 19:02:04.538578\n"
          ]
        }
      ]
    },
    {
      "cell_type": "code",
      "metadata": {
        "id": "fQibmrRQ5rYC"
      },
      "source": [
        "import pandas as pd\n",
        "import numpy as np\n",
        "import matplotlib.pyplot as plt\n",
        "\n",
        "from sklearn.model_selection import train_test_split\n",
        "from sklearn.metrics import accuracy_score,confusion_matrix, classification_report\n",
        "from sklearn.tree import DecisionTreeClassifier\n",
        "from sklearn.preprocessing import StandardScaler, OneHotEncoder, FunctionTransformer\n",
        "from sklearn.ensemble import RandomForestClassifier\n",
        "from sklearn.impute import SimpleImputer\n",
        "from sklearn.model_selection import cross_val_score\n",
        "from sklearn.model_selection import RepeatedKFold, ShuffleSplit\n",
        "from sklearn.pipeline import Pipeline"
      ],
      "execution_count": 2,
      "outputs": []
    },
    {
      "cell_type": "code",
      "metadata": {
        "id": "fZVBjC-t5rYD",
        "outputId": "9a379a7c-279a-456d-cf79-65923ee948f3",
        "colab": {
          "base_uri": "https://localhost:8080/"
        }
      },
      "source": [
        "import sklearn\n",
        "print('The scikit-learn version is {}.'.format(sklearn.__version__))"
      ],
      "execution_count": 3,
      "outputs": [
        {
          "output_type": "stream",
          "name": "stdout",
          "text": [
            "The scikit-learn version is 1.0.2.\n"
          ]
        }
      ]
    },
    {
      "cell_type": "markdown",
      "metadata": {
        "id": "LuLGmnlh5rYF"
      },
      "source": [
        "# Load Data"
      ]
    },
    {
      "cell_type": "code",
      "metadata": {
        "id": "K2gxI8kS5rYG",
        "outputId": "683d39d4-3513-4fab-a62e-0ee109bcaad4",
        "colab": {
          "base_uri": "https://localhost:8080/",
          "height": 1000
        }
      },
      "source": [
        "df = pd.read_csv('https://raw.githubusercontent.com/stepthom/869_course/main/data/GermanCredit.csv')\n",
        "df['Class'] = df['Class'].map({'Good': 1, 'Bad': 0})\n",
        "df.info()\n",
        "df.head()"
      ],
      "execution_count": 4,
      "outputs": [
        {
          "output_type": "stream",
          "name": "stdout",
          "text": [
            "<class 'pandas.core.frame.DataFrame'>\n",
            "RangeIndex: 1000 entries, 0 to 999\n",
            "Data columns (total 62 columns):\n",
            " #   Column                                  Non-Null Count  Dtype\n",
            "---  ------                                  --------------  -----\n",
            " 0   Duration                                1000 non-null   int64\n",
            " 1   Amount                                  1000 non-null   int64\n",
            " 2   InstallmentRatePercentage               1000 non-null   int64\n",
            " 3   ResidenceDuration                       1000 non-null   int64\n",
            " 4   Age                                     1000 non-null   int64\n",
            " 5   NumberExistingCredits                   1000 non-null   int64\n",
            " 6   NumberPeopleMaintenance                 1000 non-null   int64\n",
            " 7   Telephone                               1000 non-null   int64\n",
            " 8   ForeignWorker                           1000 non-null   int64\n",
            " 9   Class                                   1000 non-null   int64\n",
            " 10  CheckingAccountStatus.lt.0              1000 non-null   int64\n",
            " 11  CheckingAccountStatus.0.to.200          1000 non-null   int64\n",
            " 12  CheckingAccountStatus.gt.200            1000 non-null   int64\n",
            " 13  CheckingAccountStatus.none              1000 non-null   int64\n",
            " 14  CreditHistory.NoCredit.AllPaid          1000 non-null   int64\n",
            " 15  CreditHistory.ThisBank.AllPaid          1000 non-null   int64\n",
            " 16  CreditHistory.PaidDuly                  1000 non-null   int64\n",
            " 17  CreditHistory.Delay                     1000 non-null   int64\n",
            " 18  CreditHistory.Critical                  1000 non-null   int64\n",
            " 19  Purpose.NewCar                          1000 non-null   int64\n",
            " 20  Purpose.UsedCar                         1000 non-null   int64\n",
            " 21  Purpose.Furniture.Equipment             1000 non-null   int64\n",
            " 22  Purpose.Radio.Television                1000 non-null   int64\n",
            " 23  Purpose.DomesticAppliance               1000 non-null   int64\n",
            " 24  Purpose.Repairs                         1000 non-null   int64\n",
            " 25  Purpose.Education                       1000 non-null   int64\n",
            " 26  Purpose.Vacation                        1000 non-null   int64\n",
            " 27  Purpose.Retraining                      1000 non-null   int64\n",
            " 28  Purpose.Business                        1000 non-null   int64\n",
            " 29  Purpose.Other                           1000 non-null   int64\n",
            " 30  SavingsAccountBonds.lt.100              1000 non-null   int64\n",
            " 31  SavingsAccountBonds.100.to.500          1000 non-null   int64\n",
            " 32  SavingsAccountBonds.500.to.1000         1000 non-null   int64\n",
            " 33  SavingsAccountBonds.gt.1000             1000 non-null   int64\n",
            " 34  SavingsAccountBonds.Unknown             1000 non-null   int64\n",
            " 35  EmploymentDuration.lt.1                 1000 non-null   int64\n",
            " 36  EmploymentDuration.1.to.4               1000 non-null   int64\n",
            " 37  EmploymentDuration.4.to.7               1000 non-null   int64\n",
            " 38  EmploymentDuration.gt.7                 1000 non-null   int64\n",
            " 39  EmploymentDuration.Unemployed           1000 non-null   int64\n",
            " 40  Personal.Male.Divorced.Seperated        1000 non-null   int64\n",
            " 41  Personal.Female.NotSingle               1000 non-null   int64\n",
            " 42  Personal.Male.Single                    1000 non-null   int64\n",
            " 43  Personal.Male.Married.Widowed           1000 non-null   int64\n",
            " 44  Personal.Female.Single                  1000 non-null   int64\n",
            " 45  OtherDebtorsGuarantors.None             1000 non-null   int64\n",
            " 46  OtherDebtorsGuarantors.CoApplicant      1000 non-null   int64\n",
            " 47  OtherDebtorsGuarantors.Guarantor        1000 non-null   int64\n",
            " 48  Property.RealEstate                     1000 non-null   int64\n",
            " 49  Property.Insurance                      1000 non-null   int64\n",
            " 50  Property.CarOther                       1000 non-null   int64\n",
            " 51  Property.Unknown                        1000 non-null   int64\n",
            " 52  OtherInstallmentPlans.Bank              1000 non-null   int64\n",
            " 53  OtherInstallmentPlans.Stores            1000 non-null   int64\n",
            " 54  OtherInstallmentPlans.None              1000 non-null   int64\n",
            " 55  Housing.Rent                            1000 non-null   int64\n",
            " 56  Housing.Own                             1000 non-null   int64\n",
            " 57  Housing.ForFree                         1000 non-null   int64\n",
            " 58  Job.UnemployedUnskilled                 1000 non-null   int64\n",
            " 59  Job.UnskilledResident                   1000 non-null   int64\n",
            " 60  Job.SkilledEmployee                     1000 non-null   int64\n",
            " 61  Job.Management.SelfEmp.HighlyQualified  1000 non-null   int64\n",
            "dtypes: int64(62)\n",
            "memory usage: 484.5 KB\n"
          ]
        },
        {
          "output_type": "execute_result",
          "data": {
            "text/plain": [
              "   Duration  Amount  InstallmentRatePercentage  ResidenceDuration  Age  \\\n",
              "0         6    1169                          4                  4   67   \n",
              "1        48    5951                          2                  2   22   \n",
              "2        12    2096                          2                  3   49   \n",
              "3        42    7882                          2                  4   45   \n",
              "4        24    4870                          3                  4   53   \n",
              "\n",
              "   NumberExistingCredits  NumberPeopleMaintenance  Telephone  ForeignWorker  \\\n",
              "0                      2                        1          0              1   \n",
              "1                      1                        1          1              1   \n",
              "2                      1                        2          1              1   \n",
              "3                      1                        2          1              1   \n",
              "4                      2                        2          1              1   \n",
              "\n",
              "   Class  ...  OtherInstallmentPlans.Bank  OtherInstallmentPlans.Stores  \\\n",
              "0      1  ...                           0                             0   \n",
              "1      0  ...                           0                             0   \n",
              "2      1  ...                           0                             0   \n",
              "3      1  ...                           0                             0   \n",
              "4      0  ...                           0                             0   \n",
              "\n",
              "   OtherInstallmentPlans.None  Housing.Rent  Housing.Own  Housing.ForFree  \\\n",
              "0                           1             0            1                0   \n",
              "1                           1             0            1                0   \n",
              "2                           1             0            1                0   \n",
              "3                           1             0            0                1   \n",
              "4                           1             0            0                1   \n",
              "\n",
              "   Job.UnemployedUnskilled  Job.UnskilledResident  Job.SkilledEmployee  \\\n",
              "0                        0                      0                    1   \n",
              "1                        0                      0                    1   \n",
              "2                        0                      1                    0   \n",
              "3                        0                      0                    1   \n",
              "4                        0                      0                    1   \n",
              "\n",
              "   Job.Management.SelfEmp.HighlyQualified  \n",
              "0                                       0  \n",
              "1                                       0  \n",
              "2                                       0  \n",
              "3                                       0  \n",
              "4                                       0  \n",
              "\n",
              "[5 rows x 62 columns]"
            ],
            "text/html": [
              "\n",
              "  <div id=\"df-0fbf0e34-e68e-4f76-aaba-1f7b237d5c06\">\n",
              "    <div class=\"colab-df-container\">\n",
              "      <div>\n",
              "<style scoped>\n",
              "    .dataframe tbody tr th:only-of-type {\n",
              "        vertical-align: middle;\n",
              "    }\n",
              "\n",
              "    .dataframe tbody tr th {\n",
              "        vertical-align: top;\n",
              "    }\n",
              "\n",
              "    .dataframe thead th {\n",
              "        text-align: right;\n",
              "    }\n",
              "</style>\n",
              "<table border=\"1\" class=\"dataframe\">\n",
              "  <thead>\n",
              "    <tr style=\"text-align: right;\">\n",
              "      <th></th>\n",
              "      <th>Duration</th>\n",
              "      <th>Amount</th>\n",
              "      <th>InstallmentRatePercentage</th>\n",
              "      <th>ResidenceDuration</th>\n",
              "      <th>Age</th>\n",
              "      <th>NumberExistingCredits</th>\n",
              "      <th>NumberPeopleMaintenance</th>\n",
              "      <th>Telephone</th>\n",
              "      <th>ForeignWorker</th>\n",
              "      <th>Class</th>\n",
              "      <th>...</th>\n",
              "      <th>OtherInstallmentPlans.Bank</th>\n",
              "      <th>OtherInstallmentPlans.Stores</th>\n",
              "      <th>OtherInstallmentPlans.None</th>\n",
              "      <th>Housing.Rent</th>\n",
              "      <th>Housing.Own</th>\n",
              "      <th>Housing.ForFree</th>\n",
              "      <th>Job.UnemployedUnskilled</th>\n",
              "      <th>Job.UnskilledResident</th>\n",
              "      <th>Job.SkilledEmployee</th>\n",
              "      <th>Job.Management.SelfEmp.HighlyQualified</th>\n",
              "    </tr>\n",
              "  </thead>\n",
              "  <tbody>\n",
              "    <tr>\n",
              "      <th>0</th>\n",
              "      <td>6</td>\n",
              "      <td>1169</td>\n",
              "      <td>4</td>\n",
              "      <td>4</td>\n",
              "      <td>67</td>\n",
              "      <td>2</td>\n",
              "      <td>1</td>\n",
              "      <td>0</td>\n",
              "      <td>1</td>\n",
              "      <td>1</td>\n",
              "      <td>...</td>\n",
              "      <td>0</td>\n",
              "      <td>0</td>\n",
              "      <td>1</td>\n",
              "      <td>0</td>\n",
              "      <td>1</td>\n",
              "      <td>0</td>\n",
              "      <td>0</td>\n",
              "      <td>0</td>\n",
              "      <td>1</td>\n",
              "      <td>0</td>\n",
              "    </tr>\n",
              "    <tr>\n",
              "      <th>1</th>\n",
              "      <td>48</td>\n",
              "      <td>5951</td>\n",
              "      <td>2</td>\n",
              "      <td>2</td>\n",
              "      <td>22</td>\n",
              "      <td>1</td>\n",
              "      <td>1</td>\n",
              "      <td>1</td>\n",
              "      <td>1</td>\n",
              "      <td>0</td>\n",
              "      <td>...</td>\n",
              "      <td>0</td>\n",
              "      <td>0</td>\n",
              "      <td>1</td>\n",
              "      <td>0</td>\n",
              "      <td>1</td>\n",
              "      <td>0</td>\n",
              "      <td>0</td>\n",
              "      <td>0</td>\n",
              "      <td>1</td>\n",
              "      <td>0</td>\n",
              "    </tr>\n",
              "    <tr>\n",
              "      <th>2</th>\n",
              "      <td>12</td>\n",
              "      <td>2096</td>\n",
              "      <td>2</td>\n",
              "      <td>3</td>\n",
              "      <td>49</td>\n",
              "      <td>1</td>\n",
              "      <td>2</td>\n",
              "      <td>1</td>\n",
              "      <td>1</td>\n",
              "      <td>1</td>\n",
              "      <td>...</td>\n",
              "      <td>0</td>\n",
              "      <td>0</td>\n",
              "      <td>1</td>\n",
              "      <td>0</td>\n",
              "      <td>1</td>\n",
              "      <td>0</td>\n",
              "      <td>0</td>\n",
              "      <td>1</td>\n",
              "      <td>0</td>\n",
              "      <td>0</td>\n",
              "    </tr>\n",
              "    <tr>\n",
              "      <th>3</th>\n",
              "      <td>42</td>\n",
              "      <td>7882</td>\n",
              "      <td>2</td>\n",
              "      <td>4</td>\n",
              "      <td>45</td>\n",
              "      <td>1</td>\n",
              "      <td>2</td>\n",
              "      <td>1</td>\n",
              "      <td>1</td>\n",
              "      <td>1</td>\n",
              "      <td>...</td>\n",
              "      <td>0</td>\n",
              "      <td>0</td>\n",
              "      <td>1</td>\n",
              "      <td>0</td>\n",
              "      <td>0</td>\n",
              "      <td>1</td>\n",
              "      <td>0</td>\n",
              "      <td>0</td>\n",
              "      <td>1</td>\n",
              "      <td>0</td>\n",
              "    </tr>\n",
              "    <tr>\n",
              "      <th>4</th>\n",
              "      <td>24</td>\n",
              "      <td>4870</td>\n",
              "      <td>3</td>\n",
              "      <td>4</td>\n",
              "      <td>53</td>\n",
              "      <td>2</td>\n",
              "      <td>2</td>\n",
              "      <td>1</td>\n",
              "      <td>1</td>\n",
              "      <td>0</td>\n",
              "      <td>...</td>\n",
              "      <td>0</td>\n",
              "      <td>0</td>\n",
              "      <td>1</td>\n",
              "      <td>0</td>\n",
              "      <td>0</td>\n",
              "      <td>1</td>\n",
              "      <td>0</td>\n",
              "      <td>0</td>\n",
              "      <td>1</td>\n",
              "      <td>0</td>\n",
              "    </tr>\n",
              "  </tbody>\n",
              "</table>\n",
              "<p>5 rows × 62 columns</p>\n",
              "</div>\n",
              "      <button class=\"colab-df-convert\" onclick=\"convertToInteractive('df-0fbf0e34-e68e-4f76-aaba-1f7b237d5c06')\"\n",
              "              title=\"Convert this dataframe to an interactive table.\"\n",
              "              style=\"display:none;\">\n",
              "        \n",
              "  <svg xmlns=\"http://www.w3.org/2000/svg\" height=\"24px\"viewBox=\"0 0 24 24\"\n",
              "       width=\"24px\">\n",
              "    <path d=\"M0 0h24v24H0V0z\" fill=\"none\"/>\n",
              "    <path d=\"M18.56 5.44l.94 2.06.94-2.06 2.06-.94-2.06-.94-.94-2.06-.94 2.06-2.06.94zm-11 1L8.5 8.5l.94-2.06 2.06-.94-2.06-.94L8.5 2.5l-.94 2.06-2.06.94zm10 10l.94 2.06.94-2.06 2.06-.94-2.06-.94-.94-2.06-.94 2.06-2.06.94z\"/><path d=\"M17.41 7.96l-1.37-1.37c-.4-.4-.92-.59-1.43-.59-.52 0-1.04.2-1.43.59L10.3 9.45l-7.72 7.72c-.78.78-.78 2.05 0 2.83L4 21.41c.39.39.9.59 1.41.59.51 0 1.02-.2 1.41-.59l7.78-7.78 2.81-2.81c.8-.78.8-2.07 0-2.86zM5.41 20L4 18.59l7.72-7.72 1.47 1.35L5.41 20z\"/>\n",
              "  </svg>\n",
              "      </button>\n",
              "      \n",
              "  <style>\n",
              "    .colab-df-container {\n",
              "      display:flex;\n",
              "      flex-wrap:wrap;\n",
              "      gap: 12px;\n",
              "    }\n",
              "\n",
              "    .colab-df-convert {\n",
              "      background-color: #E8F0FE;\n",
              "      border: none;\n",
              "      border-radius: 50%;\n",
              "      cursor: pointer;\n",
              "      display: none;\n",
              "      fill: #1967D2;\n",
              "      height: 32px;\n",
              "      padding: 0 0 0 0;\n",
              "      width: 32px;\n",
              "    }\n",
              "\n",
              "    .colab-df-convert:hover {\n",
              "      background-color: #E2EBFA;\n",
              "      box-shadow: 0px 1px 2px rgba(60, 64, 67, 0.3), 0px 1px 3px 1px rgba(60, 64, 67, 0.15);\n",
              "      fill: #174EA6;\n",
              "    }\n",
              "\n",
              "    [theme=dark] .colab-df-convert {\n",
              "      background-color: #3B4455;\n",
              "      fill: #D2E3FC;\n",
              "    }\n",
              "\n",
              "    [theme=dark] .colab-df-convert:hover {\n",
              "      background-color: #434B5C;\n",
              "      box-shadow: 0px 1px 3px 1px rgba(0, 0, 0, 0.15);\n",
              "      filter: drop-shadow(0px 1px 2px rgba(0, 0, 0, 0.3));\n",
              "      fill: #FFFFFF;\n",
              "    }\n",
              "  </style>\n",
              "\n",
              "      <script>\n",
              "        const buttonEl =\n",
              "          document.querySelector('#df-0fbf0e34-e68e-4f76-aaba-1f7b237d5c06 button.colab-df-convert');\n",
              "        buttonEl.style.display =\n",
              "          google.colab.kernel.accessAllowed ? 'block' : 'none';\n",
              "\n",
              "        async function convertToInteractive(key) {\n",
              "          const element = document.querySelector('#df-0fbf0e34-e68e-4f76-aaba-1f7b237d5c06');\n",
              "          const dataTable =\n",
              "            await google.colab.kernel.invokeFunction('convertToInteractive',\n",
              "                                                     [key], {});\n",
              "          if (!dataTable) return;\n",
              "\n",
              "          const docLinkHtml = 'Like what you see? Visit the ' +\n",
              "            '<a target=\"_blank\" href=https://colab.research.google.com/notebooks/data_table.ipynb>data table notebook</a>'\n",
              "            + ' to learn more about interactive tables.';\n",
              "          element.innerHTML = '';\n",
              "          dataTable['output_type'] = 'display_data';\n",
              "          await google.colab.output.renderOutput(dataTable, element);\n",
              "          const docLink = document.createElement('div');\n",
              "          docLink.innerHTML = docLinkHtml;\n",
              "          element.appendChild(docLink);\n",
              "        }\n",
              "      </script>\n",
              "    </div>\n",
              "  </div>\n",
              "  "
            ]
          },
          "metadata": {},
          "execution_count": 4
        }
      ]
    },
    {
      "cell_type": "code",
      "source": [
        "X = df.drop(['Class'], axis=1).to_numpy()\n",
        "y = df['Class'].to_numpy()"
      ],
      "metadata": {
        "id": "RPqf4heOl-E9"
      },
      "execution_count": 5,
      "outputs": []
    },
    {
      "cell_type": "markdown",
      "metadata": {
        "id": "uhLW45Zw5rYI"
      },
      "source": [
        "# Defining and Assessing Candidate Pipelines"
      ]
    },
    {
      "cell_type": "code",
      "metadata": {
        "id": "tTNlZB265rYJ",
        "outputId": "95569c45-6687-4186-9573-c57b01ae5fda",
        "colab": {
          "base_uri": "https://localhost:8080/"
        }
      },
      "source": [
        "clf1 = DecisionTreeClassifier(criterion='entropy', max_depth=5, min_samples_split=5, random_state=0)\n",
        "\n",
        "pipe1 = Pipeline(steps=[\n",
        "                        (\"clf\", clf1)\n",
        "                        ])\n",
        "\n",
        "scores = cross_val_score(pipe1, X, y, cv=10, scoring=\"f1_macro\")\n",
        "\n",
        "\n",
        "with np.printoptions(formatter={'float': '{: 0.3f}'.format}):\n",
        "  print(\"CV scores: {}\".format(scores))\n",
        "print(\"Estimated F1 Score: {:0.3f} +/- {:0.2f}\".format(np.mean(scores), np.std(scores)))"
      ],
      "execution_count": 6,
      "outputs": [
        {
          "output_type": "stream",
          "name": "stdout",
          "text": [
            "CV scores: [ 0.682  0.600  0.597  0.655  0.566  0.543  0.667  0.693  0.505  0.592]\n",
            "Estimated F1 Score: 0.610 +/- 0.06\n"
          ]
        }
      ]
    },
    {
      "cell_type": "code",
      "metadata": {
        "id": "MRu7XuOc6Hug",
        "outputId": "c37eaca1-76e1-47d2-9661-148d0c8ebcc5",
        "colab": {
          "base_uri": "https://localhost:8080/"
        }
      },
      "source": [
        "clf2 = DecisionTreeClassifier(criterion='entropy', max_depth=10, min_samples_split=5, random_state=0)\n",
        "\n",
        "pipe2 = Pipeline(steps=[\n",
        "                        ('imputer', SimpleImputer()),\n",
        "                        ('scaler', StandardScaler()),\n",
        "                        (\"clf\", clf2),\n",
        "                        ])\n",
        "\n",
        "scores = cross_val_score(pipe2, X, y, cv=10, scoring=\"f1_macro\")\n",
        "\n",
        "with np.printoptions(formatter={'float': '{: 0.3f}'.format}):\n",
        "  print(\"CV scores: {}\".format(scores))\n",
        "print(\"Estimated F1 Score: {:0.3f} +/- {:0.2f}\".format(np.mean(scores), np.std(scores)))"
      ],
      "execution_count": 7,
      "outputs": [
        {
          "output_type": "stream",
          "name": "stdout",
          "text": [
            "CV scores: [ 0.632  0.705  0.679  0.670  0.536  0.566  0.611  0.693  0.595  0.594]\n",
            "Estimated F1 Score: 0.628 +/- 0.05\n"
          ]
        }
      ]
    },
    {
      "cell_type": "code",
      "metadata": {
        "id": "IUE5D1aE7Bl_",
        "outputId": "9ede5455-bca4-4692-9c43-28f395caa216",
        "colab": {
          "base_uri": "https://localhost:8080/"
        }
      },
      "source": [
        "clf3 = RandomForestClassifier(random_state=0)\n",
        "\n",
        "pipe3 = Pipeline(steps=[\n",
        "                        ('imputer', SimpleImputer()),\n",
        "                        ('scaler', StandardScaler()),\n",
        "                        (\"clf\", clf3),\n",
        "                        ])\n",
        "\n",
        "scores = cross_val_score(pipe3, X, y, cv=10, scoring=\"f1_macro\")\n",
        "\n",
        "with np.printoptions(formatter={'float': '{: 0.3f}'.format}):\n",
        "  print(\"CV scores: {}\".format(scores))\n",
        "print(\"Estimated F1 Score: {:0.3f} +/- {:0.2f}\".format(np.mean(scores), np.std(scores)))"
      ],
      "execution_count": 8,
      "outputs": [
        {
          "output_type": "stream",
          "name": "stdout",
          "text": [
            "CV scores: [ 0.752  0.616  0.608  0.662  0.699  0.602  0.608  0.736  0.714  0.689]\n",
            "Estimated F1 Score: 0.669 +/- 0.05\n"
          ]
        }
      ]
    },
    {
      "cell_type": "markdown",
      "source": [
        "# Comparing Different Validation Techniques"
      ],
      "metadata": {
        "id": "5f-XQzfOnVmt"
      }
    },
    {
      "cell_type": "code",
      "source": [
        "pipes = [(\"pipe1\", pipe1), (\"pipe2\", pipe2), (\"pipe3\", pipe3)]\n",
        "for pipe_name, pipe in pipes:\n",
        "\n",
        "  for k in [2, 5, 10]:\n",
        "    scores = cross_val_score(pipe, X, y, cv=k, scoring=\"f1_macro\")\n",
        "    print(\"{}, K={:3d} CV, F1 Score: {:0.3f} +/- {:0.2f}\".format(pipe_name, k, np.mean(scores), np.std(scores)))\n",
        "\n",
        "  for k in [2, 5, 10]:\n",
        "    splitter = RepeatedKFold(n_splits=k, n_repeats=10, random_state=62)\n",
        "    scores = cross_val_score(pipe, X, y, cv=splitter, scoring=\"f1_macro\")\n",
        "    print(\"{}, K={:3d} CV Repeated, F1 Score: {:0.3f} +/- {:0.2f}\".format(pipe_name, k, np.mean(scores), np.std(scores)))\n",
        "\n",
        "\n",
        "  for k in [2, 5, 10]:\n",
        "    splitter = ShuffleSplit(n_splits=k, random_state=62)\n",
        "    scores = cross_val_score(pipe, X, y, cv=splitter, scoring=\"f1_macro\")\n",
        "    print(\"{}, K={:3d} Shuffle, F1 Score: {:0.3f} +/- {:0.2f}\".format(pipe_name, k, np.mean(scores), np.std(scores)))\n",
        "\n"
      ],
      "metadata": {
        "id": "JhxkZrD1kt3e",
        "outputId": "433d7104-6e9d-4de7-dd10-aecc3a3e032a",
        "colab": {
          "base_uri": "https://localhost:8080/"
        }
      },
      "execution_count": 9,
      "outputs": [
        {
          "output_type": "stream",
          "name": "stdout",
          "text": [
            "pipe1, K=  2 CV, F1 Score: 0.577 +/- 0.01\n",
            "pipe1, K=  5 CV, F1 Score: 0.616 +/- 0.03\n",
            "pipe1, K= 10 CV, F1 Score: 0.610 +/- 0.06\n",
            "pipe1, K=  2 CV Repeated, F1 Score: 0.601 +/- 0.04\n",
            "pipe1, K=  5 CV Repeated, F1 Score: 0.595 +/- 0.05\n",
            "pipe1, K= 10 CV Repeated, F1 Score: 0.593 +/- 0.06\n",
            "pipe1, K=  2 Shuffle, F1 Score: 0.594 +/- 0.02\n",
            "pipe1, K=  5 Shuffle, F1 Score: 0.587 +/- 0.04\n",
            "pipe1, K= 10 Shuffle, F1 Score: 0.594 +/- 0.04\n",
            "pipe2, K=  2 CV, F1 Score: 0.627 +/- 0.02\n",
            "pipe2, K=  5 CV, F1 Score: 0.642 +/- 0.03\n",
            "pipe2, K= 10 CV, F1 Score: 0.628 +/- 0.05\n",
            "pipe2, K=  2 CV Repeated, F1 Score: 0.622 +/- 0.03\n",
            "pipe2, K=  5 CV Repeated, F1 Score: 0.621 +/- 0.04\n",
            "pipe2, K= 10 CV Repeated, F1 Score: 0.618 +/- 0.05\n",
            "pipe2, K=  2 Shuffle, F1 Score: 0.569 +/- 0.03\n",
            "pipe2, K=  5 Shuffle, F1 Score: 0.578 +/- 0.02\n",
            "pipe2, K= 10 Shuffle, F1 Score: 0.590 +/- 0.05\n",
            "pipe3, K=  2 CV, F1 Score: 0.659 +/- 0.01\n",
            "pipe3, K=  5 CV, F1 Score: 0.657 +/- 0.02\n",
            "pipe3, K= 10 CV, F1 Score: 0.669 +/- 0.05\n",
            "pipe3, K=  2 CV Repeated, F1 Score: 0.654 +/- 0.02\n",
            "pipe3, K=  5 CV Repeated, F1 Score: 0.672 +/- 0.04\n",
            "pipe3, K= 10 CV Repeated, F1 Score: 0.669 +/- 0.05\n",
            "pipe3, K=  2 Shuffle, F1 Score: 0.654 +/- 0.02\n",
            "pipe3, K=  5 Shuffle, F1 Score: 0.662 +/- 0.05\n",
            "pipe3, K= 10 Shuffle, F1 Score: 0.656 +/- 0.05\n"
          ]
        }
      ]
    },
    {
      "cell_type": "code",
      "source": [
        ""
      ],
      "metadata": {
        "id": "h8Eg1O3PneAP"
      },
      "execution_count": 9,
      "outputs": []
    }
  ]
}