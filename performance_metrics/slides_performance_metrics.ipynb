{
  "cells": [
    {
      "cell_type": "markdown",
      "metadata": {
        "id": "GmZWvwD6mTtW"
      },
      "source": [
        "# Playground for Performance Measure Slides\n",
        "\n",
        "- Stephen W. Thomas\n",
        "- Used for MMA 869, MMAI 869, and GMMA 869"
      ]
    },
    {
      "cell_type": "code",
      "execution_count": 1,
      "metadata": {
        "id": "LyOFf9gAmTtY",
        "outputId": "3bacd9d0-752f-4248-e558-9baa547a17aa",
        "colab": {
          "base_uri": "https://localhost:8080/"
        }
      },
      "outputs": [
        {
          "output_type": "stream",
          "name": "stdout",
          "text": [
            "2022-07-07 12:18:57.117325\n"
          ]
        }
      ],
      "source": [
        "import datetime\n",
        "print(datetime.datetime.now())"
      ]
    },
    {
      "cell_type": "code",
      "execution_count": 2,
      "metadata": {
        "id": "9hD9JASnmTtZ"
      },
      "outputs": [],
      "source": [
        "import pandas as pd\n",
        "import numpy as np\n",
        "\n",
        "import matplotlib.pyplot as plt\n",
        "\n",
        "from sklearn.metrics import silhouette_score, silhouette_samples\n",
        "\n",
        "from IPython.core.interactiveshell import InteractiveShell\n",
        "InteractiveShell.ast_node_interactivity = \"all\""
      ]
    },
    {
      "cell_type": "code",
      "execution_count": 3,
      "metadata": {
        "id": "hNxFOMX2mTtZ"
      },
      "outputs": [],
      "source": [
        "y_test = np.ones((20,), dtype=int)\n",
        "y_test = np.append(y_test, np.zeros((80,), dtype=int))\n",
        "\n",
        "y_pred = np.ones((18,), dtype=int)\n",
        "y_pred = np.append(y_pred, np.zeros((2,), dtype=int))\n",
        "y_pred = np.append(y_pred, np.zeros((75, ), dtype=int))\n",
        "y_pred = np.append(y_pred, np.ones((5,), dtype=int))"
      ]
    },
    {
      "cell_type": "code",
      "execution_count": 4,
      "metadata": {
        "id": "er05RKc_mTta",
        "outputId": "9830f9a0-8d8a-45cd-d180-d1c3a2b3b04c",
        "colab": {
          "base_uri": "https://localhost:8080/"
        }
      },
      "outputs": [
        {
          "output_type": "execute_result",
          "data": {
            "text/plain": [
              "array([80, 20])"
            ]
          },
          "metadata": {},
          "execution_count": 4
        },
        {
          "output_type": "execute_result",
          "data": {
            "text/plain": [
              "array([77, 23])"
            ]
          },
          "metadata": {},
          "execution_count": 4
        }
      ],
      "source": [
        "np.bincount(y_test)\n",
        "np.bincount(y_pred)"
      ]
    },
    {
      "cell_type": "markdown",
      "metadata": {
        "id": "awtjgTzOmTta"
      },
      "source": [
        "## Model Performance"
      ]
    },
    {
      "cell_type": "code",
      "execution_count": 10,
      "metadata": {
        "id": "1NIr9FXZmTtb",
        "outputId": "730a8011-9626-4bab-f17c-2ba455fb5337",
        "colab": {
          "base_uri": "https://localhost:8080/"
        }
      },
      "outputs": [
        {
          "output_type": "execute_result",
          "data": {
            "text/plain": [
              "array([[75,  5],\n",
              "       [ 2, 18]])"
            ]
          },
          "metadata": {},
          "execution_count": 10
        }
      ],
      "source": [
        "from sklearn.metrics import zero_one_loss, classification_report, accuracy_score, cohen_kappa_score, f1_score, log_loss, confusion_matrix, precision_score, recall_score, balanced_accuracy_score, brier_score_loss, precision_recall_fscore_support\n",
        "\n",
        "# C00 = TN\n",
        "# C10 = FN\n",
        "# C11 = TP\n",
        "# C01 = FP\n",
        "confusion_matrix(y_test, y_pred)"
      ]
    },
    {
      "cell_type": "code",
      "execution_count": null,
      "metadata": {
        "id": "QTfw76tOmTtb",
        "outputId": "687f49b5-580c-4c72-b6df-789aa3405e24"
      },
      "outputs": [
        {
          "name": "stdout",
          "output_type": "stream",
          "text": [
            "          pred:0  pred:1\n",
            "  true:0      75       5\n",
            "  true:1       2      18\n"
          ]
        }
      ],
      "source": [
        "unique_label = np.unique([y_test, y_pred])\n",
        "cmtx = pd.DataFrame(\n",
        "confusion_matrix(y_test, y_pred, labels=unique_label), \n",
        "index=['  true:{:}'.format(x) for x in unique_label], \n",
        "columns=['pred:{:}'.format(x) for x in unique_label])\n",
        "print(cmtx)"
      ]
    },
    {
      "cell_type": "code",
      "execution_count": null,
      "metadata": {
        "id": "-42g7_udmTtc",
        "outputId": "4b11fc57-3710-4118-fcd9-608e86fd0e51"
      },
      "outputs": [
        {
          "name": "stdout",
          "output_type": "stream",
          "text": [
            "Accuracy          = 0.930\n",
            "Zero-one Loss     = 0.070\n",
            "Balanced Accuracy = 0.919\n",
            "Brier Score       = 0.070\n",
            "Precision         = 0.783\n",
            "Recall            = 0.900\n",
            "F1 Score          = 0.837\n"
          ]
        }
      ],
      "source": [
        "print(\"Accuracy          = {:.3f}\".format(accuracy_score(y_test, y_pred)))\n",
        "print(\"Zero-one Loss     = {:.3f}\".format(zero_one_loss(y_test, y_pred)))\n",
        "print(\"Balanced Accuracy = {:.3f}\".format(balanced_accuracy_score(y_test, y_pred)))\n",
        "print(\"Brier Score       = {:.3f}\".format(brier_score_loss(y_test, y_pred)))\n",
        "print(\"Precision         = {:.3f}\".format(precision_score(y_test, y_pred)))\n",
        "print(\"Recall            = {:.3f}\".format(recall_score(y_test, y_pred)))\n",
        "print(\"F1 Score          = {:.3f}\".format(f1_score(y_test, y_pred)))"
      ]
    },
    {
      "cell_type": "code",
      "execution_count": null,
      "metadata": {
        "id": "SEIELxNKmTtd",
        "outputId": "b9505a3a-e95f-42b2-d1ed-4f95df610635"
      },
      "outputs": [
        {
          "name": "stdout",
          "output_type": "stream",
          "text": [
            "(array([0.97402597, 0.7826087 ]), array([0.9375, 0.9   ]), array([0.95541401, 0.8372093 ]), array([80, 20], dtype=int64))\n"
          ]
        }
      ],
      "source": [
        "print(precision_recall_fscore_support(y_test, y_pred))"
      ]
    },
    {
      "cell_type": "code",
      "execution_count": null,
      "metadata": {
        "id": "4qpdLfaqmTte",
        "outputId": "0831acc7-1abd-4e1d-f664-b8632cbd1b09"
      },
      "outputs": [
        {
          "name": "stdout",
          "output_type": "stream",
          "text": [
            "              precision    recall  f1-score   support\n",
            "\n",
            "           0       0.97      0.94      0.96        80\n",
            "           1       0.78      0.90      0.84        20\n",
            "\n",
            "    accuracy                           0.93       100\n",
            "   macro avg       0.88      0.92      0.90       100\n",
            "weighted avg       0.94      0.93      0.93       100\n",
            "\n"
          ]
        }
      ],
      "source": [
        "print(classification_report(y_test, y_pred))"
      ]
    },
    {
      "cell_type": "code",
      "execution_count": null,
      "metadata": {
        "id": "Pb1mcqXTmTte",
        "outputId": "0db7ac35-410b-470c-cdbc-341de924b130"
      },
      "outputs": [
        {
          "name": "stdout",
          "output_type": "stream",
          "text": [
            "\n",
            "Average = binary\n",
            "  Precision = 0.783\n",
            "  Recall    = 0.900\n",
            "  F1        = 0.837\n",
            "\n",
            "Average = micro\n",
            "  Precision = 0.930\n",
            "  Recall    = 0.930\n",
            "  F1        = 0.930\n",
            "\n",
            "Average = macro\n",
            "  Precision = 0.878\n",
            "  Recall    = 0.919\n",
            "  F1        = 0.896\n",
            "\n",
            "Average = weighted\n",
            "  Precision = 0.936\n",
            "  Recall    = 0.930\n",
            "  F1        = 0.932\n"
          ]
        }
      ],
      "source": [
        "averages = ['binary', 'micro', 'macro', 'weighted']\n",
        "\n",
        "for average in averages:\n",
        "    print(\"\\nAverage = {}\".format(average))\n",
        "    print(\"  Precision = {:.3f}\".format(precision_score(y_test, y_pred, average=average)))\n",
        "    print(\"  Recall    = {:.3f}\".format(recall_score(y_test, y_pred, average=average)))\n",
        "    print(\"  F1        = {:.3f}\".format(f1_score(y_test, y_pred, average=average)))\n"
      ]
    },
    {
      "cell_type": "code",
      "execution_count": null,
      "metadata": {
        "id": "6cQLVGh8mTte"
      },
      "outputs": [],
      "source": [
        ""
      ]
    },
    {
      "cell_type": "markdown",
      "source": [
        "# Thresholds"
      ],
      "metadata": {
        "id": "2RoaEjnpmY7B"
      }
    },
    {
      "cell_type": "code",
      "source": [
        "# 25 made-up people for disease example\n",
        "\n",
        "# In reality, 20 do not have the disease, 5 do\n",
        "truths = [0.00, 0.00, 0.00, 0.00, 0.00, 0.00, 0.00, 0.00, 0.00, 0.00, 0.00, 0.00, 0.00, 0.00, 0.00, 0.00, 0.00, 0.00, 0.00, 0.00, 1.00, 1.00, 1.00, 1.00, 1.00]\n",
        "\n",
        "# Our model makes the following predictions\n",
        "probs =  [0.00, 0.02, 0.03, 0.04, 0.05, 0.05, 0.10, 0.12, 0.15, 0.17, 0.18, 0.25, 0.25, 0.25 , 0.41, 0.41, 0.43, 0.51, 0.55, 0.56, 0.42, 0.52, 0.69, 0.80, 0.85]\n"
      ],
      "metadata": {
        "id": "YjgieFP-maWu"
      },
      "execution_count": 34,
      "outputs": []
    },
    {
      "cell_type": "code",
      "source": [
        "def print_metrics(truths, probs, thresh, print_output=False):\n",
        "  preds = [1 if x> thresh else 0 for x in probs]\n",
        "\n",
        "  cm = confusion_matrix(truths, preds)\n",
        "  tn, fp, fn, tp = cm.ravel()\n",
        "  cm2 = np.array([[tp, fn], [fp, tn]])\n",
        "\n",
        "  acc = accuracy_score(truths, preds)\n",
        "  pre = precision_score(truths, preds, zero_division=1)\n",
        "  npv = precision_score(truths, preds, pos_label=0)\n",
        "  rec = recall_score(truths, preds)\n",
        "  tnr = recall_score(truths, preds, pos_label=0)\n",
        "\n",
        "  #print(classification_report(truths, preds))\n",
        "  if print_output:\n",
        "    print(\"Threshold = {}\".format(thresh))\n",
        "    print(cm2)\n",
        "    print(\"Accuracy:                       {:.2f}\".format(acc))\n",
        "    print(\"Precision (Precision of 1):     {:.2f}\".format(pre))\n",
        "    print(\"NPV (Precision of 0):           {:.2f}\".format(npv))\n",
        "    print(\"Recall (Recall of 1):           {:.2f}\".format(rec))\n",
        "    print(\"TNR/Specificity (Recall of 0):  {:.2f}\".format(tnr))\n",
        "  \n",
        "  return {\n",
        "      'Threshold': thresh, \n",
        "      'TN': tn, \n",
        "      'FP': fp, \n",
        "      'FN': fn, \n",
        "      'TP': tp, \n",
        "      'Accuracy': acc, \n",
        "      'Precision':pre, \n",
        "      'NPV': npv, \n",
        "      'Recall': rec, \n",
        "      'TNR': tnr,\n",
        "  }"
      ],
      "metadata": {
        "id": "uduNPpIBnY5o"
      },
      "execution_count": 77,
      "outputs": []
    },
    {
      "cell_type": "code",
      "source": [
        "print_metrics(truths, probs, 0.4, print_output=True)"
      ],
      "metadata": {
        "id": "hVGGR00nsuDr",
        "outputId": "b5a78fa5-87d7-423b-996f-8f7d44dc05e4",
        "colab": {
          "base_uri": "https://localhost:8080/"
        }
      },
      "execution_count": 78,
      "outputs": [
        {
          "output_type": "stream",
          "name": "stdout",
          "text": [
            "Threshold = 0.4\n",
            "[[ 5  0]\n",
            " [ 6 14]]\n",
            "Accuracy:                       0.76\n",
            "Precision (Precision of 1):     0.45\n",
            "NPV (Precision of 0):           1.00\n",
            "Recall (Recall of 1):           1.00\n",
            "TNR/Specificity (Recall of 0):  0.70\n"
          ]
        },
        {
          "output_type": "execute_result",
          "data": {
            "text/plain": [
              "{'Accuracy': 0.76,\n",
              " 'FN': 0,\n",
              " 'FP': 6,\n",
              " 'NPV': 1.0,\n",
              " 'Precision': 0.45454545454545453,\n",
              " 'Recall': 1.0,\n",
              " 'TN': 14,\n",
              " 'TNR': 0.7,\n",
              " 'TP': 5,\n",
              " 'Threshold': 0.4}"
            ]
          },
          "metadata": {},
          "execution_count": 78
        }
      ]
    },
    {
      "cell_type": "code",
      "source": [
        "print_metrics(truths, probs, 0.5, print_output=True)"
      ],
      "metadata": {
        "id": "cHopGq5Untp6",
        "outputId": "84f7e328-72f0-4c21-a8e5-3149c7416d94",
        "colab": {
          "base_uri": "https://localhost:8080/"
        }
      },
      "execution_count": 79,
      "outputs": [
        {
          "output_type": "stream",
          "name": "stdout",
          "text": [
            "Threshold = 0.5\n",
            "[[ 4  1]\n",
            " [ 3 17]]\n",
            "Accuracy:                       0.84\n",
            "Precision (Precision of 1):     0.57\n",
            "NPV (Precision of 0):           0.94\n",
            "Recall (Recall of 1):           0.80\n",
            "TNR/Specificity (Recall of 0):  0.85\n"
          ]
        },
        {
          "output_type": "execute_result",
          "data": {
            "text/plain": [
              "{'Accuracy': 0.84,\n",
              " 'FN': 1,\n",
              " 'FP': 3,\n",
              " 'NPV': 0.9444444444444444,\n",
              " 'Precision': 0.5714285714285714,\n",
              " 'Recall': 0.8,\n",
              " 'TN': 17,\n",
              " 'TNR': 0.85,\n",
              " 'TP': 4,\n",
              " 'Threshold': 0.5}"
            ]
          },
          "metadata": {},
          "execution_count": 79
        }
      ]
    },
    {
      "cell_type": "code",
      "source": [
        "print_metrics(truths, probs, 0.6, print_output=True)"
      ],
      "metadata": {
        "id": "Awy3Ucxjq_Qt",
        "outputId": "5a1f96d1-9e5b-4238-d053-063a7654e07f",
        "colab": {
          "base_uri": "https://localhost:8080/"
        }
      },
      "execution_count": 80,
      "outputs": [
        {
          "output_type": "stream",
          "name": "stdout",
          "text": [
            "Threshold = 0.6\n",
            "[[ 3  2]\n",
            " [ 0 20]]\n",
            "Accuracy:                       0.92\n",
            "Precision (Precision of 1):     1.00\n",
            "NPV (Precision of 0):           0.91\n",
            "Recall (Recall of 1):           0.60\n",
            "TNR/Specificity (Recall of 0):  1.00\n"
          ]
        },
        {
          "output_type": "execute_result",
          "data": {
            "text/plain": [
              "{'Accuracy': 0.92,\n",
              " 'FN': 2,\n",
              " 'FP': 0,\n",
              " 'NPV': 0.9090909090909091,\n",
              " 'Precision': 1.0,\n",
              " 'Recall': 0.6,\n",
              " 'TN': 20,\n",
              " 'TNR': 1.0,\n",
              " 'TP': 3,\n",
              " 'Threshold': 0.6}"
            ]
          },
          "metadata": {},
          "execution_count": 80
        }
      ]
    },
    {
      "cell_type": "code",
      "source": [
        "df = pd.DataFrame([print_metrics(truths, probs, thresh) for thresh in np.arange(0, 1, 0.1)])"
      ],
      "metadata": {
        "id": "mKMJGB07rIh-"
      },
      "execution_count": 81,
      "outputs": []
    },
    {
      "cell_type": "code",
      "source": [
        "df"
      ],
      "metadata": {
        "id": "835t9O7CtiJN",
        "outputId": "6145cf39-a5f9-48a5-bdbc-df4262a94a8d",
        "colab": {
          "base_uri": "https://localhost:8080/",
          "height": 363
        }
      },
      "execution_count": 82,
      "outputs": [
        {
          "output_type": "execute_result",
          "data": {
            "text/plain": [
              "   Threshold  TN  FP  FN  TP  Accuracy  Precision       NPV  Recall   TNR\n",
              "0        0.0   1  19   0   5      0.24   0.208333  1.000000     1.0  0.05\n",
              "1        0.1   7  13   0   5      0.48   0.277778  1.000000     1.0  0.35\n",
              "2        0.2  11   9   0   5      0.64   0.357143  1.000000     1.0  0.55\n",
              "3        0.3  14   6   0   5      0.76   0.454545  1.000000     1.0  0.70\n",
              "4        0.4  14   6   0   5      0.76   0.454545  1.000000     1.0  0.70\n",
              "5        0.5  17   3   1   4      0.84   0.571429  0.944444     0.8  0.85\n",
              "6        0.6  20   0   2   3      0.92   1.000000  0.909091     0.6  1.00\n",
              "7        0.7  20   0   3   2      0.88   1.000000  0.869565     0.4  1.00\n",
              "8        0.8  20   0   4   1      0.84   1.000000  0.833333     0.2  1.00\n",
              "9        0.9  20   0   5   0      0.80   1.000000  0.800000     0.0  1.00"
            ],
            "text/html": [
              "\n",
              "  <div id=\"df-5a2cae1e-d4d0-4b36-ab38-b6149c097a45\">\n",
              "    <div class=\"colab-df-container\">\n",
              "      <div>\n",
              "<style scoped>\n",
              "    .dataframe tbody tr th:only-of-type {\n",
              "        vertical-align: middle;\n",
              "    }\n",
              "\n",
              "    .dataframe tbody tr th {\n",
              "        vertical-align: top;\n",
              "    }\n",
              "\n",
              "    .dataframe thead th {\n",
              "        text-align: right;\n",
              "    }\n",
              "</style>\n",
              "<table border=\"1\" class=\"dataframe\">\n",
              "  <thead>\n",
              "    <tr style=\"text-align: right;\">\n",
              "      <th></th>\n",
              "      <th>Threshold</th>\n",
              "      <th>TN</th>\n",
              "      <th>FP</th>\n",
              "      <th>FN</th>\n",
              "      <th>TP</th>\n",
              "      <th>Accuracy</th>\n",
              "      <th>Precision</th>\n",
              "      <th>NPV</th>\n",
              "      <th>Recall</th>\n",
              "      <th>TNR</th>\n",
              "    </tr>\n",
              "  </thead>\n",
              "  <tbody>\n",
              "    <tr>\n",
              "      <th>0</th>\n",
              "      <td>0.0</td>\n",
              "      <td>1</td>\n",
              "      <td>19</td>\n",
              "      <td>0</td>\n",
              "      <td>5</td>\n",
              "      <td>0.24</td>\n",
              "      <td>0.208333</td>\n",
              "      <td>1.000000</td>\n",
              "      <td>1.0</td>\n",
              "      <td>0.05</td>\n",
              "    </tr>\n",
              "    <tr>\n",
              "      <th>1</th>\n",
              "      <td>0.1</td>\n",
              "      <td>7</td>\n",
              "      <td>13</td>\n",
              "      <td>0</td>\n",
              "      <td>5</td>\n",
              "      <td>0.48</td>\n",
              "      <td>0.277778</td>\n",
              "      <td>1.000000</td>\n",
              "      <td>1.0</td>\n",
              "      <td>0.35</td>\n",
              "    </tr>\n",
              "    <tr>\n",
              "      <th>2</th>\n",
              "      <td>0.2</td>\n",
              "      <td>11</td>\n",
              "      <td>9</td>\n",
              "      <td>0</td>\n",
              "      <td>5</td>\n",
              "      <td>0.64</td>\n",
              "      <td>0.357143</td>\n",
              "      <td>1.000000</td>\n",
              "      <td>1.0</td>\n",
              "      <td>0.55</td>\n",
              "    </tr>\n",
              "    <tr>\n",
              "      <th>3</th>\n",
              "      <td>0.3</td>\n",
              "      <td>14</td>\n",
              "      <td>6</td>\n",
              "      <td>0</td>\n",
              "      <td>5</td>\n",
              "      <td>0.76</td>\n",
              "      <td>0.454545</td>\n",
              "      <td>1.000000</td>\n",
              "      <td>1.0</td>\n",
              "      <td>0.70</td>\n",
              "    </tr>\n",
              "    <tr>\n",
              "      <th>4</th>\n",
              "      <td>0.4</td>\n",
              "      <td>14</td>\n",
              "      <td>6</td>\n",
              "      <td>0</td>\n",
              "      <td>5</td>\n",
              "      <td>0.76</td>\n",
              "      <td>0.454545</td>\n",
              "      <td>1.000000</td>\n",
              "      <td>1.0</td>\n",
              "      <td>0.70</td>\n",
              "    </tr>\n",
              "    <tr>\n",
              "      <th>5</th>\n",
              "      <td>0.5</td>\n",
              "      <td>17</td>\n",
              "      <td>3</td>\n",
              "      <td>1</td>\n",
              "      <td>4</td>\n",
              "      <td>0.84</td>\n",
              "      <td>0.571429</td>\n",
              "      <td>0.944444</td>\n",
              "      <td>0.8</td>\n",
              "      <td>0.85</td>\n",
              "    </tr>\n",
              "    <tr>\n",
              "      <th>6</th>\n",
              "      <td>0.6</td>\n",
              "      <td>20</td>\n",
              "      <td>0</td>\n",
              "      <td>2</td>\n",
              "      <td>3</td>\n",
              "      <td>0.92</td>\n",
              "      <td>1.000000</td>\n",
              "      <td>0.909091</td>\n",
              "      <td>0.6</td>\n",
              "      <td>1.00</td>\n",
              "    </tr>\n",
              "    <tr>\n",
              "      <th>7</th>\n",
              "      <td>0.7</td>\n",
              "      <td>20</td>\n",
              "      <td>0</td>\n",
              "      <td>3</td>\n",
              "      <td>2</td>\n",
              "      <td>0.88</td>\n",
              "      <td>1.000000</td>\n",
              "      <td>0.869565</td>\n",
              "      <td>0.4</td>\n",
              "      <td>1.00</td>\n",
              "    </tr>\n",
              "    <tr>\n",
              "      <th>8</th>\n",
              "      <td>0.8</td>\n",
              "      <td>20</td>\n",
              "      <td>0</td>\n",
              "      <td>4</td>\n",
              "      <td>1</td>\n",
              "      <td>0.84</td>\n",
              "      <td>1.000000</td>\n",
              "      <td>0.833333</td>\n",
              "      <td>0.2</td>\n",
              "      <td>1.00</td>\n",
              "    </tr>\n",
              "    <tr>\n",
              "      <th>9</th>\n",
              "      <td>0.9</td>\n",
              "      <td>20</td>\n",
              "      <td>0</td>\n",
              "      <td>5</td>\n",
              "      <td>0</td>\n",
              "      <td>0.80</td>\n",
              "      <td>1.000000</td>\n",
              "      <td>0.800000</td>\n",
              "      <td>0.0</td>\n",
              "      <td>1.00</td>\n",
              "    </tr>\n",
              "  </tbody>\n",
              "</table>\n",
              "</div>\n",
              "      <button class=\"colab-df-convert\" onclick=\"convertToInteractive('df-5a2cae1e-d4d0-4b36-ab38-b6149c097a45')\"\n",
              "              title=\"Convert this dataframe to an interactive table.\"\n",
              "              style=\"display:none;\">\n",
              "        \n",
              "  <svg xmlns=\"http://www.w3.org/2000/svg\" height=\"24px\"viewBox=\"0 0 24 24\"\n",
              "       width=\"24px\">\n",
              "    <path d=\"M0 0h24v24H0V0z\" fill=\"none\"/>\n",
              "    <path d=\"M18.56 5.44l.94 2.06.94-2.06 2.06-.94-2.06-.94-.94-2.06-.94 2.06-2.06.94zm-11 1L8.5 8.5l.94-2.06 2.06-.94-2.06-.94L8.5 2.5l-.94 2.06-2.06.94zm10 10l.94 2.06.94-2.06 2.06-.94-2.06-.94-.94-2.06-.94 2.06-2.06.94z\"/><path d=\"M17.41 7.96l-1.37-1.37c-.4-.4-.92-.59-1.43-.59-.52 0-1.04.2-1.43.59L10.3 9.45l-7.72 7.72c-.78.78-.78 2.05 0 2.83L4 21.41c.39.39.9.59 1.41.59.51 0 1.02-.2 1.41-.59l7.78-7.78 2.81-2.81c.8-.78.8-2.07 0-2.86zM5.41 20L4 18.59l7.72-7.72 1.47 1.35L5.41 20z\"/>\n",
              "  </svg>\n",
              "      </button>\n",
              "      \n",
              "  <style>\n",
              "    .colab-df-container {\n",
              "      display:flex;\n",
              "      flex-wrap:wrap;\n",
              "      gap: 12px;\n",
              "    }\n",
              "\n",
              "    .colab-df-convert {\n",
              "      background-color: #E8F0FE;\n",
              "      border: none;\n",
              "      border-radius: 50%;\n",
              "      cursor: pointer;\n",
              "      display: none;\n",
              "      fill: #1967D2;\n",
              "      height: 32px;\n",
              "      padding: 0 0 0 0;\n",
              "      width: 32px;\n",
              "    }\n",
              "\n",
              "    .colab-df-convert:hover {\n",
              "      background-color: #E2EBFA;\n",
              "      box-shadow: 0px 1px 2px rgba(60, 64, 67, 0.3), 0px 1px 3px 1px rgba(60, 64, 67, 0.15);\n",
              "      fill: #174EA6;\n",
              "    }\n",
              "\n",
              "    [theme=dark] .colab-df-convert {\n",
              "      background-color: #3B4455;\n",
              "      fill: #D2E3FC;\n",
              "    }\n",
              "\n",
              "    [theme=dark] .colab-df-convert:hover {\n",
              "      background-color: #434B5C;\n",
              "      box-shadow: 0px 1px 3px 1px rgba(0, 0, 0, 0.15);\n",
              "      filter: drop-shadow(0px 1px 2px rgba(0, 0, 0, 0.3));\n",
              "      fill: #FFFFFF;\n",
              "    }\n",
              "  </style>\n",
              "\n",
              "      <script>\n",
              "        const buttonEl =\n",
              "          document.querySelector('#df-5a2cae1e-d4d0-4b36-ab38-b6149c097a45 button.colab-df-convert');\n",
              "        buttonEl.style.display =\n",
              "          google.colab.kernel.accessAllowed ? 'block' : 'none';\n",
              "\n",
              "        async function convertToInteractive(key) {\n",
              "          const element = document.querySelector('#df-5a2cae1e-d4d0-4b36-ab38-b6149c097a45');\n",
              "          const dataTable =\n",
              "            await google.colab.kernel.invokeFunction('convertToInteractive',\n",
              "                                                     [key], {});\n",
              "          if (!dataTable) return;\n",
              "\n",
              "          const docLinkHtml = 'Like what you see? Visit the ' +\n",
              "            '<a target=\"_blank\" href=https://colab.research.google.com/notebooks/data_table.ipynb>data table notebook</a>'\n",
              "            + ' to learn more about interactive tables.';\n",
              "          element.innerHTML = '';\n",
              "          dataTable['output_type'] = 'display_data';\n",
              "          await google.colab.output.renderOutput(dataTable, element);\n",
              "          const docLink = document.createElement('div');\n",
              "          docLink.innerHTML = docLinkHtml;\n",
              "          element.appendChild(docLink);\n",
              "        }\n",
              "      </script>\n",
              "    </div>\n",
              "  </div>\n",
              "  "
            ]
          },
          "metadata": {},
          "execution_count": 82
        }
      ]
    },
    {
      "cell_type": "code",
      "source": [
        "import seaborn as sns\n",
        "sns.set_context(\"talk\")\n",
        "sns.set_style(\"whitegrid\")\n",
        "sns.set(rc={'figure.figsize':(11.7,8.27)})"
      ],
      "metadata": {
        "id": "1Gpp2ai2tjhN"
      },
      "execution_count": 83,
      "outputs": []
    },
    {
      "cell_type": "code",
      "source": [
        "counts = ['Threshold', 'TN', 'FN', 'FP', 'TP']\n",
        "sns.lineplot(x=\"Threshold\", y=\"value\", hue=\"variable\", data=pd.melt(df[counts], ['Threshold']))"
      ],
      "metadata": {
        "id": "W0dORP_wurvG",
        "outputId": "002a15f3-7c79-4f56-a378-dd7a125a2562",
        "colab": {
          "base_uri": "https://localhost:8080/",
          "height": 535
        }
      },
      "execution_count": 84,
      "outputs": [
        {
          "output_type": "execute_result",
          "data": {
            "text/plain": [
              "<matplotlib.axes._subplots.AxesSubplot at 0x7f9d1f4b1190>"
            ]
          },
          "metadata": {},
          "execution_count": 84
        },
        {
          "output_type": "display_data",
          "data": {
            "text/plain": [
              "<Figure size 842.4x595.44 with 1 Axes>"
            ],
            "image/png": "[encoded data removed]"
          },
          "metadata": {}
        }
      ]
    },
    {
      "cell_type": "code",
      "source": [
        "metrics = ['Threshold', 'Accuracy', \t'Precision', \t'NPV', \t'Recall', \t'TNR']\n",
        "sns.lineplot(x=\"Threshold\", y=\"value\", hue=\"variable\", data=pd.melt(df[metrics], ['Threshold']))"
      ],
      "metadata": {
        "id": "3UI6srlou76T",
        "outputId": "9a5dcc4c-d3ab-4146-9fda-0465589bca4c",
        "colab": {
          "base_uri": "https://localhost:8080/",
          "height": 535
        }
      },
      "execution_count": 85,
      "outputs": [
        {
          "output_type": "execute_result",
          "data": {
            "text/plain": [
              "<matplotlib.axes._subplots.AxesSubplot at 0x7f9d1f4022d0>"
            ]
          },
          "metadata": {},
          "execution_count": 85
        },
        {
          "output_type": "display_data",
          "data": {
            "text/plain": [
              "<Figure size 842.4x595.44 with 1 Axes>"
            ],
            "image/png": "[encoded data removed]"
          },
          "metadata": {}
        }
      ]
    },
    {
      "cell_type": "code",
      "source": [
        ""
      ],
      "metadata": {
        "id": "GrhZjcscvlTo"
      },
      "execution_count": null,
      "outputs": []
    },
    {
      "cell_type": "markdown",
      "source": [
        "# Trade-off"
      ],
      "metadata": {
        "id": "dnxjhnSpy0tG"
      }
    },
    {
      "cell_type": "code",
      "source": [
        "# 1000 random, made-up people for purchasing car\n",
        "\n",
        "# In reality, 200 will buy, 800 will not\n",
        "truths = np.concatenate([np.ones(200), np.zeros(800)])\n",
        "\n",
        "\n",
        "# Our model makes the following predictions\n",
        "np.random.seed(77)\n",
        "probs =  np.concatenate([np.random.normal(0.80, 0.15, 100), np.random.normal(0.50, 0.25, 100), \n",
        "                         np.random.normal(0.10, 0.15, 700), np.random.normal(0.50, 0.25, 100)])\n"
      ],
      "metadata": {
        "id": "fMhg4xW_y10o"
      },
      "execution_count": 107,
      "outputs": []
    },
    {
      "cell_type": "code",
      "source": [
        "print_metrics(truths, probs, 0.3, print_output=True)"
      ],
      "metadata": {
        "id": "zMhHhF0wzMXK",
        "outputId": "9e80ca93-3075-4af8-bb62-ce2407c786df",
        "colab": {
          "base_uri": "https://localhost:8080/"
        }
      },
      "execution_count": 108,
      "outputs": [
        {
          "output_type": "stream",
          "name": "stdout",
          "text": [
            "Threshold = 0.3\n",
            "[[176  24]\n",
            " [153 647]]\n",
            "Accuracy:                       0.82\n",
            "Precision (Precision of 1):     0.53\n",
            "NPV (Precision of 0):           0.96\n",
            "Recall (Recall of 1):           0.88\n",
            "TNR/Specificity (Recall of 0):  0.81\n"
          ]
        },
        {
          "output_type": "execute_result",
          "data": {
            "text/plain": [
              "{'Accuracy': 0.823,\n",
              " 'FN': 24,\n",
              " 'FP': 153,\n",
              " 'NPV': 0.9642324888226528,\n",
              " 'Precision': 0.5349544072948328,\n",
              " 'Recall': 0.88,\n",
              " 'TN': 647,\n",
              " 'TNR': 0.80875,\n",
              " 'TP': 176,\n",
              " 'Threshold': 0.3}"
            ]
          },
          "metadata": {},
          "execution_count": 108
        }
      ]
    },
    {
      "cell_type": "code",
      "source": [
        "print_metrics(truths, probs, 0.7, print_output=True)"
      ],
      "metadata": {
        "id": "iXdEWK_IzO8c",
        "outputId": "7622f4a9-cd48-4033-b4d6-6fd4e9d9b783",
        "colab": {
          "base_uri": "https://localhost:8080/"
        }
      },
      "execution_count": 109,
      "outputs": [
        {
          "output_type": "stream",
          "name": "stdout",
          "text": [
            "Threshold = 0.7\n",
            "[[ 89 111]\n",
            " [ 19 781]]\n",
            "Accuracy:                       0.87\n",
            "Precision (Precision of 1):     0.82\n",
            "NPV (Precision of 0):           0.88\n",
            "Recall (Recall of 1):           0.45\n",
            "TNR/Specificity (Recall of 0):  0.98\n"
          ]
        },
        {
          "output_type": "execute_result",
          "data": {
            "text/plain": [
              "{'Accuracy': 0.87,\n",
              " 'FN': 111,\n",
              " 'FP': 19,\n",
              " 'NPV': 0.875560538116592,\n",
              " 'Precision': 0.8240740740740741,\n",
              " 'Recall': 0.445,\n",
              " 'TN': 781,\n",
              " 'TNR': 0.97625,\n",
              " 'TP': 89,\n",
              " 'Threshold': 0.7}"
            ]
          },
          "metadata": {},
          "execution_count": 109
        }
      ]
    },
    {
      "cell_type": "code",
      "source": [
        ""
      ],
      "metadata": {
        "id": "ttAP1ViJzQCe"
      },
      "execution_count": null,
      "outputs": []
    }
  ],
  "metadata": {
    "kernelspec": {
      "display_name": "Python 3",
      "language": "python",
      "name": "python3"
    },
    "language_info": {
      "codemirror_mode": {
        "name": "ipython",
        "version": 3
      },
      "file_extension": ".py",
      "mimetype": "text/x-python",
      "name": "python",
      "nbconvert_exporter": "python",
      "pygments_lexer": "ipython3",
      "version": "3.6.4"
    },
    "colab": {
      "name": "slides_performance_metrics.ipynb",
      "provenance": []
    }
  },
  "nbformat": 4,
  "nbformat_minor": 0
}