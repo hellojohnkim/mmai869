{
 "cells": [
  {
   "cell_type": "code",
   "execution_count": 2,
   "metadata": {},
   "outputs": [],
   "source": [
    "import datetime\n",
    "import pandas as pd\n",
    "import numpy as np\n",
    "import matplotlib.pyplot as plt"
   ]
  },
  {
   "cell_type": "code",
   "execution_count": 21,
   "metadata": {},
   "outputs": [
    {
     "name": "stdout",
     "output_type": "stream",
     "text": [
      "<class 'pandas.core.frame.DataFrame'>\n",
      "RangeIndex: 9568 entries, 0 to 9567\n",
      "Data columns (total 5 columns):\n",
      " #   Column  Non-Null Count  Dtype  \n",
      "---  ------  --------------  -----  \n",
      " 0   AT      9568 non-null   float64\n",
      " 1   V       9568 non-null   float64\n",
      " 2   AP      9568 non-null   float64\n",
      " 3   RH      9568 non-null   float64\n",
      " 4   PE      9568 non-null   float64\n",
      "dtypes: float64(5)\n",
      "memory usage: 373.9 KB\n"
     ]
    }
   ],
   "source": [
    "df = pd.read_csv(\"https://storage.googleapis.com/aipi_datasets/CCPP_data.csv\")\n",
    "df.info()"
   ]
  },
  {
   "cell_type": "code",
   "execution_count": 13,
   "metadata": {},
   "outputs": [],
   "source": [
    "from sklearn.model_selection import train_test_split\n",
    "\n",
    "# Splitting the data into features and target variable\n",
    "X = df[['AT', 'AP', 'RH', 'V']]\n",
    "y = df['PE']\n",
    "\n",
    "# Splitting the dataset into training and testing sets\n",
    "X_train, X_test, y_train, y_test = train_test_split(X, y, test_size=0.2, random_state=42)\n"
   ]
  },
  {
   "cell_type": "code",
   "execution_count": 15,
   "metadata": {},
   "outputs": [],
   "source": [
    "##Model Training\n",
    "\n",
    "from sklearn.linear_model import LinearRegression\n",
    "from sklearn.ensemble import RandomForestRegressor\n",
    "from xgboost import XGBRegressor\n",
    "from sklearn.metrics import mean_absolute_error, mean_squared_error, r2_score\n",
    "import numpy as np\n",
    "\n",
    "# Initialize models\n",
    "lr_model = LinearRegression()\n",
    "rf_model = RandomForestRegressor(random_state=42)\n",
    "xgb_model = XGBRegressor(random_state=42)\n",
    "\n",
    "# Fit models\n",
    "lr_model.fit(X_train, y_train)\n",
    "rf_model.fit(X_train, y_train)\n",
    "xgb_model.fit(X_train, y_train)\n",
    "\n",
    "# Predictions\n",
    "lr_predictions = lr_model.predict(X_test)\n",
    "rf_predictions = rf_model.predict(X_test)\n",
    "xgb_predictions = xgb_model.predict(X_test)\n"
   ]
  },
  {
   "cell_type": "code",
   "execution_count": 16,
   "metadata": {},
   "outputs": [
    {
     "name": "stdout",
     "output_type": "stream",
     "text": [
      "Linear Regression Performance: MAE = 3.595913178273408 RMSE = 4.502633229532186 R² = 0.9301046431962188\n",
      "Random Forest Performance: MAE = 2.3277773249738707 RMSE = 3.2435915745766297 R² = 0.9637283335356601\n",
      "XGBoost Performance: MAE = 2.190387904885669 RMSE = 3.0195901956515727 R² = 0.9685651642734947\n"
     ]
    }
   ],
   "source": [
    "# Define a function to evaluate models\n",
    "def evaluate_model(predictions, actual):\n",
    "    mae = mean_absolute_error(actual, predictions)\n",
    "    rmse = np.sqrt(mean_squared_error(actual, predictions))\n",
    "    r2 = r2_score(actual, predictions)\n",
    "    return mae, rmse, r2\n",
    "\n",
    "# Evaluate each model\n",
    "lr_mae, lr_rmse, lr_r2 = evaluate_model(lr_predictions, y_test)\n",
    "rf_mae, rf_rmse, rf_r2 = evaluate_model(rf_predictions, y_test)\n",
    "xgb_mae, xgb_rmse, xgb_r2 = evaluate_model(xgb_predictions, y_test)\n",
    "\n",
    "# Print performance\n",
    "print(\"Linear Regression Performance: MAE =\", lr_mae, \"RMSE =\", lr_rmse, \"R² =\", lr_r2)\n",
    "print(\"Random Forest Performance: MAE =\", rf_mae, \"RMSE =\", rf_rmse, \"R² =\", rf_r2)\n",
    "print(\"XGBoost Performance: MAE =\", xgb_mae, \"RMSE =\", xgb_rmse, \"R² =\", xgb_r2)\n"
   ]
  },
  {
   "cell_type": "code",
   "execution_count": 19,
   "metadata": {},
   "outputs": [
    {
     "name": "stdout",
     "output_type": "stream",
     "text": [
      "Linear Regression - Avg MAE: 3.6276598032668077, Std: 0.04689132496359573\n",
      "Random Forest - Avg MAE: 2.349174301323891, Std: 0.06684321198391521\n",
      "XGBoost - Avg MAE: 2.2310986400768775, Std: 0.05736084200599516\n"
     ]
    }
   ],
   "source": [
    "from sklearn.model_selection import cross_val_score\n",
    "\n",
    "# Define a function for cross-validation\n",
    "def perform_cross_validation(model, X, y, cv=5, scoring='neg_mean_absolute_error'):\n",
    "    scores = cross_val_score(model, X, y, cv=cv, scoring=scoring)\n",
    "    return -scores.mean(), scores.std()\n",
    "\n",
    "# Linear Regression\n",
    "lr_cv_mae, lr_cv_std = perform_cross_validation(lr_model, X, y)\n",
    "print(f\"Linear Regression - Avg MAE: {lr_cv_mae}, Std: {lr_cv_std}\")\n",
    "\n",
    "# Random Forest\n",
    "rf_cv_mae, rf_cv_std = perform_cross_validation(rf_model, X, y)\n",
    "print(f\"Random Forest - Avg MAE: {rf_cv_mae}, Std: {rf_cv_std}\")\n",
    "\n",
    "# XGBoost\n",
    "xgb_cv_mae, xgb_cv_std = perform_cross_validation(xgb_model, X, y)\n",
    "print(f\"XGBoost - Avg MAE: {xgb_cv_mae}, Std: {xgb_cv_std}\")\n"
   ]
  },
  {
   "cell_type": "code",
   "execution_count": 20,
   "metadata": {},
   "outputs": [
    {
     "name": "stdout",
     "output_type": "stream",
     "text": [
      "Final Model Performance on Test Set: MAE = 2.190387904885669 RMSE = 3.0195901956515727 R² = 0.9685651642734947\n"
     ]
    }
   ],
   "source": [
    "# Choose the best model based on validation performance\n",
    "# For example, let's assume RandomForest performed best\n",
    "final_model = xgb_model\n",
    "\n",
    "# Evaluate on the test set\n",
    "final_predictions = final_model.predict(X_test)\n",
    "final_mae, final_rmse, final_r2 = evaluate_model(final_predictions, y_test)\n",
    "print(\"Final Model Performance on Test Set: MAE =\", final_mae, \"RMSE =\", final_rmse, \"R² =\", final_r2)\n"
   ]
  }
 ],
 "metadata": {
  "kernelspec": {
   "display_name": "Python 3",
   "language": "python",
   "name": "python3"
  },
  "language_info": {
   "codemirror_mode": {
    "name": "ipython",
    "version": 3
   },
   "file_extension": ".py",
   "mimetype": "text/x-python",
   "name": "python",
   "nbconvert_exporter": "python",
   "pygments_lexer": "ipython3",
   "version": "3.11.3"
  }
 },
 "nbformat": 4,
 "nbformat_minor": 2
}
