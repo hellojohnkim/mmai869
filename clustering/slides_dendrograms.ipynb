{
  "nbformat": 4,
  "nbformat_minor": 0,
  "metadata": {
    "colab": {
      "provenance": [],
      "toc_visible": true,
      "authorship_tag": "ABX9TyNBjYxZ9yXotKoNGNLWPS83",
      "include_colab_link": true
    },
    "kernelspec": {
      "name": "python3",
      "display_name": "Python 3"
    },
    "language_info": {
      "name": "python"
    }
  },
  "cells": [
    {
      "cell_type": "markdown",
      "metadata": {
        "id": "view-in-github",
        "colab_type": "text"
      },
      "source": [
        "<a href=\"https://colab.research.google.com/github/stepthom/869_course/blob/main/clustering/slides_dendrograms.ipynb\" target=\"_parent\"><img src=\"https://colab.research.google.com/assets/colab-badge.svg\" alt=\"Open In Colab\"/></a>"
      ]
    },
    {
      "cell_type": "markdown",
      "source": [
        "# Dendrograms!\n",
        "\n",
        "\n",
        "- Stephen W. Thomas\n",
        "- Used for MMA/MMAI 869, MMAI 869\n"
      ],
      "metadata": {
        "id": "NL5AFoMMhotz"
      }
    },
    {
      "cell_type": "code",
      "execution_count": 1,
      "metadata": {
        "id": "yS7dVLMqhoDA"
      },
      "outputs": [],
      "source": [
        "import pandas as pd\n",
        "import numpy as np\n",
        "\n",
        "import scipy.cluster\n",
        "import matplotlib.pyplot as plt\n",
        "from sklearn.metrics.pairwise import cosine_distances, euclidean_distances"
      ]
    },
    {
      "cell_type": "code",
      "source": [
        "# Default plot settings\n",
        "SMALL_SIZE = 12\n",
        "MEDIUM_SIZE = 14\n",
        "BIGGER_SIZE = 16\n",
        "\n",
        "\n",
        "plt.rc('figure', figsize=[8.0, 5.0])     # controls the size of the figure\n",
        "plt.rc('font', size=SMALL_SIZE)          # controls default text sizes\n",
        "plt.rc('axes', titlesize=SMALL_SIZE)     # fontsize of the axes title\n",
        "plt.rc('axes', labelsize=MEDIUM_SIZE)    # fontsize of the x and y labels\n",
        "plt.rc('xtick', labelsize=SMALL_SIZE)    # fontsize of the tick labels\n",
        "plt.rc('ytick', labelsize=SMALL_SIZE)    # fontsize of the tick labels\n",
        "plt.rc('legend', fontsize=SMALL_SIZE)    # legend fontsize\n",
        "plt.rc('figure', titlesize=BIGGER_SIZE)  # fontsize of the figure title\n",
        "plt.rc('axes', grid=True)"
      ],
      "metadata": {
        "id": "i4S6GkBpnr5d"
      },
      "execution_count": 2,
      "outputs": []
    },
    {
      "cell_type": "code",
      "source": [
        "# Make up some data for illustration\n",
        "\n",
        "X = np.array([\n",
        "    [2.0, 2],\n",
        "    [1.0, 3],\n",
        "    [4.0, 6],\n",
        "    [2.5, 7],\n",
        "    [3.5, 6],\n",
        "])\n",
        "\n",
        "names = ['Steve', 'Bob', 'Alice', 'Eve', 'Jane']\n",
        "\n",
        "plt.scatter(X[:, 0], X[:, 1], s=100)\n",
        "for i, txt in enumerate(names):\n",
        "    plt.annotate(\n",
        "        txt,\n",
        "        (X[i,0], X[i, 1]),\n",
        "        xytext=(5, 5), textcoords=\"offset points\")\n",
        "\n",
        "\n",
        "plt.xlabel('Income');\n",
        "plt.ylabel('Spending Score');\n",
        "plt.xlim(0, 5)\n",
        "plt.ylim(0, 8)"
      ],
      "metadata": {
        "colab": {
          "base_uri": "https://localhost:8080/",
          "height": 498
        },
        "id": "1oqUUYD3h1QB",
        "outputId": "af1eface-1a7b-49aa-bc17-868ea7aebe69"
      },
      "execution_count": 3,
      "outputs": [
        {
          "output_type": "execute_result",
          "data": {
            "text/plain": [
              "(0.0, 8.0)"
            ]
          },
          "metadata": {},
          "execution_count": 3
        },
        {
          "output_type": "display_data",
          "data": {
            "text/plain": [
              "<Figure size 800x500 with 1 Axes>"
            ],
            "image/png": "[encoded data removed]"
          },
          "metadata": {}
        }
      ]
    },
    {
      "cell_type": "code",
      "source": [
        "euclidean_distances(X)"
      ],
      "metadata": {
        "colab": {
          "base_uri": "https://localhost:8080/"
        },
        "id": "MCd6feRDm0tN",
        "outputId": "fd684d68-d196-433f-fa9d-a609f2240036"
      },
      "execution_count": 4,
      "outputs": [
        {
          "output_type": "execute_result",
          "data": {
            "text/plain": [
              "array([[0.        , 1.41421356, 4.47213595, 5.02493781, 4.27200187],\n",
              "       [1.41421356, 0.        , 4.24264069, 4.27200187, 3.90512484],\n",
              "       [4.47213595, 4.24264069, 0.        , 1.80277564, 0.5       ],\n",
              "       [5.02493781, 4.27200187, 1.80277564, 0.        , 1.41421356],\n",
              "       [4.27200187, 3.90512484, 0.5       , 1.41421356, 0.        ]])"
            ]
          },
          "metadata": {},
          "execution_count": 4
        }
      ]
    },
    {
      "cell_type": "code",
      "source": [
        "cosine_distances(X)"
      ],
      "metadata": {
        "colab": {
          "base_uri": "https://localhost:8080/"
        },
        "id": "NgQDtQzemv21",
        "outputId": "e493d6c0-d71b-4bb0-bac1-42f77787c86a"
      },
      "execution_count": 5,
      "outputs": [
        {
          "output_type": "execute_result",
          "data": {
            "text/plain": [
              "array([[0.        , 0.10557281, 0.01941932, 0.09626216, 0.03292546],\n",
              "       [0.10557281, 0.        , 0.03523618, 0.00022627, 0.02120937],\n",
              "       [0.01941932, 0.03523618, 0.        , 0.0298575 , 0.00179515],\n",
              "       [0.09626216, 0.00022627, 0.0298575 , 0.        , 0.01707304],\n",
              "       [0.03292546, 0.02120937, 0.00179515, 0.01707304, 0.        ]])"
            ]
          },
          "metadata": {},
          "execution_count": 5
        }
      ]
    },
    {
      "cell_type": "code",
      "source": [
        "aggl = scipy.cluster.hierarchy.linkage(X, method='ward', metric='euclidean')"
      ],
      "metadata": {
        "id": "1j1dZeQwiD6W"
      },
      "execution_count": 6,
      "outputs": []
    },
    {
      "cell_type": "code",
      "source": [
        "scipy.cluster.hierarchy.dendrogram(aggl,);"
      ],
      "metadata": {
        "colab": {
          "base_uri": "https://localhost:8080/",
          "height": 449
        },
        "id": "3y_EkOEpisa8",
        "outputId": "b41d1265-90aa-474d-e2da-07babd8dabb5"
      },
      "execution_count": 7,
      "outputs": [
        {
          "output_type": "display_data",
          "data": {
            "text/plain": [
              "<Figure size 800x500 with 1 Axes>"
            ],
            "image/png": "[encoded data removed]"
          },
          "metadata": {}
        }
      ]
    },
    {
      "cell_type": "code",
      "source": [],
      "metadata": {
        "id": "geRLQMSFiwtb"
      },
      "execution_count": 7,
      "outputs": []
    }
  ]
}