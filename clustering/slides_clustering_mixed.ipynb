{
 "cells": [
  {
   "cell_type": "markdown",
   "metadata": {},
   "source": [
    "# Clustering with Mixed Data Types (Categorical and Numeric)\n",
    "\n",
    "TLDR: Creating plots and graphs to interpret the results of a clustering, especially when there are more than two features. Both numeric and categorical features are shown.\n",
    "\n",
    "- Stephen W. Thomas\n",
    "- Used for MMA 869, MMAI 869, and GMMA 869"
   ]
  },
  {
   "cell_type": "code",
   "execution_count": 1,
   "metadata": {},
   "outputs": [
    {
     "name": "stdout",
     "output_type": "stream",
     "text": [
      "2020-07-02 14:29:40.838751\n"
     ]
    }
   ],
   "source": [
    "import datetime\n",
    "print(datetime.datetime.now())"
   ]
  },
  {
   "cell_type": "code",
   "execution_count": 2,
   "metadata": {},
   "outputs": [],
   "source": [
    "import pandas as pd\n",
    "import numpy as np\n",
    "\n",
    "import matplotlib.pyplot as plt\n",
    "\n",
    "from IPython.core.interactiveshell import InteractiveShell\n",
    "InteractiveShell.ast_node_interactivity = \"all\""
   ]
  },
  {
   "cell_type": "code",
   "execution_count": 3,
   "metadata": {},
   "outputs": [],
   "source": [
    "# Default plot settings\n",
    "SMALL_SIZE = 12\n",
    "MEDIUM_SIZE = 14\n",
    "BIGGER_SIZE = 16\n",
    "\n",
    "\n",
    "plt.rc('figure', figsize=[8.0, 5.0])     # controls the size of the figure\n",
    "plt.rc('font', size=SMALL_SIZE)          # controls default text sizes\n",
    "plt.rc('axes', titlesize=SMALL_SIZE)     # fontsize of the axes title\n",
    "plt.rc('axes', labelsize=MEDIUM_SIZE)    # fontsize of the x and y labels\n",
    "plt.rc('xtick', labelsize=SMALL_SIZE)    # fontsize of the tick labels\n",
    "plt.rc('ytick', labelsize=SMALL_SIZE)    # fontsize of the tick labels\n",
    "plt.rc('legend', fontsize=SMALL_SIZE)    # legend fontsize\n",
    "plt.rc('figure', titlesize=BIGGER_SIZE)  # fontsize of the figure title\n",
    "plt.rc('axes', grid=True)"
   ]
  },
  {
   "cell_type": "markdown",
   "metadata": {},
   "source": [
    "# Read in Data\n",
    "\n",
    "This data is from the UCI repo: https://archive.ics.uci.edu/ml/datasets/Bank+Marketing\n",
    "\n",
    "The features are described as follows:\n",
    "\n",
    "- age (numeric)\n",
    "- job : type of job (categorical: 'admin.','blue-collar','entrepreneur','housemaid','management','retired','self-employed','services','student','technician','unemployed','unknown')\n",
    "- marital : marital status (categorical: 'divorced','married','single','unknown'; note: 'divorced' means divorced or widowed)\n",
    "- education (categorical: 'basic.4y','basic.6y','basic.9y','high.school','illiterate','professional.course','university.degree','unknown')\n",
    "- housing: has housing loan? (categorical: 'no','yes','unknown')\n",
    "- loan: has personal loan? (categorical: 'no','yes','unknown')\n",
    "\n",
    "\n",
    "(There are others, but we will remove for the purposes of this study.)"
   ]
  },
  {
   "cell_type": "code",
   "execution_count": 4,
   "metadata": {},
   "outputs": [
    {
     "data": {
      "text/plain": [
       "(4521, 7)"
      ]
     },
     "execution_count": 4,
     "metadata": {},
     "output_type": "execute_result"
    },
    {
     "name": "stdout",
     "output_type": "stream",
     "text": [
      "<class 'pandas.core.frame.DataFrame'>\n",
      "RangeIndex: 4521 entries, 0 to 4520\n",
      "Data columns (total 7 columns):\n",
      " #   Column     Non-Null Count  Dtype \n",
      "---  ------     --------------  ----- \n",
      " 0   age        4521 non-null   int64 \n",
      " 1   job        4521 non-null   object\n",
      " 2   marital    4521 non-null   object\n",
      " 3   education  4521 non-null   object\n",
      " 4   balance    4521 non-null   int64 \n",
      " 5   housing    4521 non-null   object\n",
      " 6   loan       4521 non-null   object\n",
      "dtypes: int64(2), object(5)\n",
      "memory usage: 247.4+ KB\n"
     ]
    },
    {
     "data": {
      "text/html": [
       "<div>\n",
       "<style scoped>\n",
       "    .dataframe tbody tr th:only-of-type {\n",
       "        vertical-align: middle;\n",
       "    }\n",
       "\n",
       "    .dataframe tbody tr th {\n",
       "        vertical-align: top;\n",
       "    }\n",
       "\n",
       "    .dataframe thead th {\n",
       "        text-align: right;\n",
       "    }\n",
       "</style>\n",
       "<table border=\"1\" class=\"dataframe\">\n",
       "  <thead>\n",
       "    <tr style=\"text-align: right;\">\n",
       "      <th></th>\n",
       "      <th>age</th>\n",
       "      <th>job</th>\n",
       "      <th>marital</th>\n",
       "      <th>education</th>\n",
       "      <th>balance</th>\n",
       "      <th>housing</th>\n",
       "      <th>loan</th>\n",
       "    </tr>\n",
       "  </thead>\n",
       "  <tbody>\n",
       "    <tr>\n",
       "      <th>0</th>\n",
       "      <td>30</td>\n",
       "      <td>unemployed</td>\n",
       "      <td>married</td>\n",
       "      <td>primary</td>\n",
       "      <td>1787</td>\n",
       "      <td>no</td>\n",
       "      <td>no</td>\n",
       "    </tr>\n",
       "    <tr>\n",
       "      <th>1</th>\n",
       "      <td>33</td>\n",
       "      <td>services</td>\n",
       "      <td>married</td>\n",
       "      <td>secondary</td>\n",
       "      <td>4789</td>\n",
       "      <td>yes</td>\n",
       "      <td>yes</td>\n",
       "    </tr>\n",
       "    <tr>\n",
       "      <th>2</th>\n",
       "      <td>35</td>\n",
       "      <td>management</td>\n",
       "      <td>single</td>\n",
       "      <td>tertiary</td>\n",
       "      <td>1350</td>\n",
       "      <td>yes</td>\n",
       "      <td>no</td>\n",
       "    </tr>\n",
       "    <tr>\n",
       "      <th>3</th>\n",
       "      <td>30</td>\n",
       "      <td>management</td>\n",
       "      <td>married</td>\n",
       "      <td>tertiary</td>\n",
       "      <td>1476</td>\n",
       "      <td>yes</td>\n",
       "      <td>yes</td>\n",
       "    </tr>\n",
       "    <tr>\n",
       "      <th>4</th>\n",
       "      <td>59</td>\n",
       "      <td>blue-collar</td>\n",
       "      <td>married</td>\n",
       "      <td>secondary</td>\n",
       "      <td>0</td>\n",
       "      <td>yes</td>\n",
       "      <td>no</td>\n",
       "    </tr>\n",
       "    <tr>\n",
       "      <th>5</th>\n",
       "      <td>35</td>\n",
       "      <td>management</td>\n",
       "      <td>single</td>\n",
       "      <td>tertiary</td>\n",
       "      <td>747</td>\n",
       "      <td>no</td>\n",
       "      <td>no</td>\n",
       "    </tr>\n",
       "    <tr>\n",
       "      <th>6</th>\n",
       "      <td>36</td>\n",
       "      <td>self-employed</td>\n",
       "      <td>married</td>\n",
       "      <td>tertiary</td>\n",
       "      <td>307</td>\n",
       "      <td>yes</td>\n",
       "      <td>no</td>\n",
       "    </tr>\n",
       "    <tr>\n",
       "      <th>7</th>\n",
       "      <td>39</td>\n",
       "      <td>technician</td>\n",
       "      <td>married</td>\n",
       "      <td>secondary</td>\n",
       "      <td>147</td>\n",
       "      <td>yes</td>\n",
       "      <td>no</td>\n",
       "    </tr>\n",
       "    <tr>\n",
       "      <th>8</th>\n",
       "      <td>41</td>\n",
       "      <td>entrepreneur</td>\n",
       "      <td>married</td>\n",
       "      <td>tertiary</td>\n",
       "      <td>221</td>\n",
       "      <td>yes</td>\n",
       "      <td>no</td>\n",
       "    </tr>\n",
       "    <tr>\n",
       "      <th>9</th>\n",
       "      <td>43</td>\n",
       "      <td>services</td>\n",
       "      <td>married</td>\n",
       "      <td>primary</td>\n",
       "      <td>-88</td>\n",
       "      <td>yes</td>\n",
       "      <td>yes</td>\n",
       "    </tr>\n",
       "  </tbody>\n",
       "</table>\n",
       "</div>"
      ],
      "text/plain": [
       "   age            job  marital  education  balance housing loan\n",
       "0   30     unemployed  married    primary     1787      no   no\n",
       "1   33       services  married  secondary     4789     yes  yes\n",
       "2   35     management   single   tertiary     1350     yes   no\n",
       "3   30     management  married   tertiary     1476     yes  yes\n",
       "4   59    blue-collar  married  secondary        0     yes   no\n",
       "5   35     management   single   tertiary      747      no   no\n",
       "6   36  self-employed  married   tertiary      307     yes   no\n",
       "7   39     technician  married  secondary      147     yes   no\n",
       "8   41   entrepreneur  married   tertiary      221     yes   no\n",
       "9   43       services  married    primary      -88     yes  yes"
      ]
     },
     "execution_count": 4,
     "metadata": {},
     "output_type": "execute_result"
    }
   ],
   "source": [
    "df = pd.read_csv(\"https://raw.githubusercontent.com/stepthom/869_course/main/data/bank.csv\")\n",
    "\n",
    "# drop the target feature; not needed for clustering\n",
    "df = df.drop(['default', 'y', 'contact', 'day', 'month', 'duration', 'campaign', 'pdays', 'previous', 'poutcome'], axis=1)\n",
    "\n",
    "df.shape\n",
    "df.info()\n",
    "df.head(n=10)\n",
    "\n",
    "#Small sample for now\n",
    "df = df.iloc[0:1000,]"
   ]
  },
  {
   "cell_type": "markdown",
   "metadata": {},
   "source": [
    "# Data Description"
   ]
  },
  {
   "cell_type": "code",
   "execution_count": 5,
   "metadata": {},
   "outputs": [
    {
     "name": "stdout",
     "output_type": "stream",
     "text": [
      "cat_col_names: ['job', 'marital', 'education', 'housing', 'loan']\n",
      "num_col_names: ['age', 'balance']\n"
     ]
    }
   ],
   "source": [
    "# Let's figure how many features there are, and which are categorical vs numeric, and save for later\n",
    "\n",
    "n_features = df.shape[1]\n",
    "\n",
    "cat_col_names = list(df.select_dtypes(include=np.object).columns)\n",
    "num_col_names = list(df.select_dtypes(include=np.number).columns)\n",
    "\n",
    "print('cat_col_names: {}'.format(cat_col_names))\n",
    "print('num_col_names: {}'.format(num_col_names))"
   ]
  },
  {
   "cell_type": "code",
   "execution_count": 6,
   "metadata": {},
   "outputs": [
    {
     "data": {
      "text/html": [
       "<div>\n",
       "<style scoped>\n",
       "    .dataframe tbody tr th:only-of-type {\n",
       "        vertical-align: middle;\n",
       "    }\n",
       "\n",
       "    .dataframe tbody tr th {\n",
       "        vertical-align: top;\n",
       "    }\n",
       "\n",
       "    .dataframe thead th {\n",
       "        text-align: right;\n",
       "    }\n",
       "</style>\n",
       "<table border=\"1\" class=\"dataframe\">\n",
       "  <thead>\n",
       "    <tr style=\"text-align: right;\">\n",
       "      <th></th>\n",
       "      <th>count</th>\n",
       "      <th>mean</th>\n",
       "      <th>std</th>\n",
       "      <th>min</th>\n",
       "      <th>25%</th>\n",
       "      <th>50%</th>\n",
       "      <th>75%</th>\n",
       "      <th>max</th>\n",
       "    </tr>\n",
       "  </thead>\n",
       "  <tbody>\n",
       "    <tr>\n",
       "      <th>age</th>\n",
       "      <td>1000.0</td>\n",
       "      <td>41.174</td>\n",
       "      <td>10.463135</td>\n",
       "      <td>19.0</td>\n",
       "      <td>33.0</td>\n",
       "      <td>40.0</td>\n",
       "      <td>49.00</td>\n",
       "      <td>83.0</td>\n",
       "    </tr>\n",
       "    <tr>\n",
       "      <th>balance</th>\n",
       "      <td>1000.0</td>\n",
       "      <td>1498.592</td>\n",
       "      <td>2778.416508</td>\n",
       "      <td>-1680.0</td>\n",
       "      <td>81.0</td>\n",
       "      <td>462.0</td>\n",
       "      <td>1526.75</td>\n",
       "      <td>26965.0</td>\n",
       "    </tr>\n",
       "  </tbody>\n",
       "</table>\n",
       "</div>"
      ],
      "text/plain": [
       "          count      mean          std     min   25%    50%      75%      max\n",
       "age      1000.0    41.174    10.463135    19.0  33.0   40.0    49.00     83.0\n",
       "balance  1000.0  1498.592  2778.416508 -1680.0  81.0  462.0  1526.75  26965.0"
      ]
     },
     "execution_count": 6,
     "metadata": {},
     "output_type": "execute_result"
    }
   ],
   "source": [
    "# Descriptive stats of the numeric features\n",
    "df.describe(include=[np.number]).transpose()"
   ]
  },
  {
   "cell_type": "code",
   "execution_count": 7,
   "metadata": {},
   "outputs": [
    {
     "data": {
      "text/html": [
       "<div>\n",
       "<style scoped>\n",
       "    .dataframe tbody tr th:only-of-type {\n",
       "        vertical-align: middle;\n",
       "    }\n",
       "\n",
       "    .dataframe tbody tr th {\n",
       "        vertical-align: top;\n",
       "    }\n",
       "\n",
       "    .dataframe thead th {\n",
       "        text-align: right;\n",
       "    }\n",
       "</style>\n",
       "<table border=\"1\" class=\"dataframe\">\n",
       "  <thead>\n",
       "    <tr style=\"text-align: right;\">\n",
       "      <th></th>\n",
       "      <th>count</th>\n",
       "      <th>unique</th>\n",
       "      <th>top</th>\n",
       "      <th>freq</th>\n",
       "    </tr>\n",
       "  </thead>\n",
       "  <tbody>\n",
       "    <tr>\n",
       "      <th>job</th>\n",
       "      <td>1000</td>\n",
       "      <td>12</td>\n",
       "      <td>management</td>\n",
       "      <td>221</td>\n",
       "    </tr>\n",
       "    <tr>\n",
       "      <th>marital</th>\n",
       "      <td>1000</td>\n",
       "      <td>3</td>\n",
       "      <td>married</td>\n",
       "      <td>595</td>\n",
       "    </tr>\n",
       "    <tr>\n",
       "      <th>education</th>\n",
       "      <td>1000</td>\n",
       "      <td>4</td>\n",
       "      <td>secondary</td>\n",
       "      <td>492</td>\n",
       "    </tr>\n",
       "    <tr>\n",
       "      <th>housing</th>\n",
       "      <td>1000</td>\n",
       "      <td>2</td>\n",
       "      <td>yes</td>\n",
       "      <td>554</td>\n",
       "    </tr>\n",
       "    <tr>\n",
       "      <th>loan</th>\n",
       "      <td>1000</td>\n",
       "      <td>2</td>\n",
       "      <td>no</td>\n",
       "      <td>836</td>\n",
       "    </tr>\n",
       "  </tbody>\n",
       "</table>\n",
       "</div>"
      ],
      "text/plain": [
       "          count unique         top freq\n",
       "job        1000     12  management  221\n",
       "marital    1000      3     married  595\n",
       "education  1000      4   secondary  492\n",
       "housing    1000      2         yes  554\n",
       "loan       1000      2          no  836"
      ]
     },
     "execution_count": 7,
     "metadata": {},
     "output_type": "execute_result"
    }
   ],
   "source": [
    "# Descriptive stats of the categorical features\n",
    "df.describe(include=[np.object]).transpose()"
   ]
  },
  {
   "cell_type": "markdown",
   "metadata": {},
   "source": [
    "# Data Preprocessing"
   ]
  },
  {
   "cell_type": "code",
   "execution_count": 8,
   "metadata": {},
   "outputs": [
    {
     "data": {
      "text/plain": [
       "array([[-1.0684742983341025, 0.10385495170152446, 'unemployed', ...,\n",
       "        'primary', 'no', 'no'],\n",
       "       [-0.78160989033318, 1.1848671462591531, 'services', ...,\n",
       "        'secondary', 'yes', 'yes'],\n",
       "       [-0.5903669516658984, -0.05350758294926957, 'management', ...,\n",
       "        'tertiary', 'yes', 'no'],\n",
       "       ...,\n",
       "       [-0.6859884209995392, -0.2972934775913464, 'management', ...,\n",
       "        'tertiary', 'yes', 'yes'],\n",
       "       [-0.11225960499769427, -0.662792270887813, 'services', ...,\n",
       "        'secondary', 'yes', 'no'],\n",
       "       [-2.0246889916705104, -0.43485065891080477, 'student', ...,\n",
       "        'secondary', 'no', 'no']], dtype=object)"
      ]
     },
     "execution_count": 8,
     "metadata": {},
     "output_type": "execute_result"
    }
   ],
   "source": [
    "from sklearn.preprocessing import StandardScaler\n",
    "\n",
    "X_num = df[num_col_names].to_numpy()\n",
    "X_cat = df[cat_col_names].to_numpy()\n",
    "\n",
    "# Be sure to scale all numeric features\n",
    "scaler = StandardScaler()\n",
    "X_num = scaler.fit_transform(X_num)\n",
    "\n",
    "X = np.concatenate((X_num, X_cat), axis=1)\n",
    "X"
   ]
  },
  {
   "cell_type": "markdown",
   "metadata": {},
   "source": [
    "# Distance Calculation\n",
    "\n",
    "Since this dataset has both categorical and numeric features, and no distance method exists in scipy or scikit-learn to handle mixed types, we will define our own called `custom_dist`. It will use Euclidean distance on numeric features, Hamming distance on categorical features, and take the weighted average of the two."
   ]
  },
  {
   "cell_type": "code",
   "execution_count": 9,
   "metadata": {},
   "outputs": [],
   "source": [
    "from scipy.spatial import distance\n",
    "\n",
    "# Now, let's define our own function to handle both types of features\n",
    "\n",
    "def custom_dist(x1, x2, cat_cols=None, num_cols=None):\n",
    "   \n",
    "    n = len(x1)\n",
    "    #print(x1)\n",
    "    #print(num_cols)\n",
    "    #print(x1[num_cols])\n",
    "    #print(x2)\n",
    "\n",
    "    dist_num = distance.euclidean(x1[num_cols], x2[num_cols])\n",
    "    #print(dist_num)\n",
    "    dist_cat = distance.hamming(x1[cat_cols], x2[cat_cols])\n",
    "    #print(dist_cat)\n",
    "    \n",
    "    dist = (dist_num*sum(num_cols) + dist_cat*sum(cat_cols)) / n\n",
    "    #print(dist)\n",
    "    return dist"
   ]
  },
  {
   "cell_type": "code",
   "execution_count": 10,
   "metadata": {},
   "outputs": [],
   "source": [
    "# Now, we call our custom distance metric on all pairs of rows in our dataset to create our own custom distance matrix.\n",
    "\n",
    "from scipy.spatial.distance import pdist\n",
    "\n",
    "cat_cols = [type(x)==str for x in X[1,:]]\n",
    "num_cols = [not x for x in cat_cols]\n",
    "\n",
    "# Warning: pdist is kind of slow\n",
    "Y = pdist(X, custom_dist, cat_cols=cat_cols, num_cols=num_cols)"
   ]
  },
  {
   "cell_type": "code",
   "execution_count": 11,
   "metadata": {},
   "outputs": [],
   "source": [
    "# Perform hierarchical clustering, using our custom-built distance matrix.\n",
    "\n",
    "import scipy.cluster\n",
    "\n",
    "aggl = scipy.cluster.hierarchy.linkage(Y, method='ward')"
   ]
  },
  {
   "cell_type": "code",
   "execution_count": 12,
   "metadata": {},
   "outputs": [
    {
     "data": {
      "image/png": "[encoded data removed]",
      "text/plain": [
       "<Figure size 1152x576 with 1 Axes>"
      ]
     },
     "metadata": {
      "needs_background": "light"
     },
     "output_type": "display_data"
    }
   ],
   "source": [
    "plt.figure(figsize=(16, 8));\n",
    "plt.grid(False)\n",
    "dend = scipy.cluster.hierarchy.dendrogram(aggl); "
   ]
  },
  {
   "cell_type": "code",
   "execution_count": 13,
   "metadata": {},
   "outputs": [],
   "source": [
    "# Let's find K=5 clusters\n",
    "K=5\n",
    "labels = scipy.cluster.hierarchy.fcluster(aggl, K, criterion=\"maxclust\")"
   ]
  },
  {
   "cell_type": "markdown",
   "metadata": {},
   "source": [
    "## For Each Cluster, Show Textual Feature Stats"
   ]
  },
  {
   "cell_type": "code",
   "execution_count": 14,
   "metadata": {},
   "outputs": [
    {
     "name": "stdout",
     "output_type": "stream",
     "text": [
      "All Data:\n",
      "Number of Instances: 1000\n"
     ]
    },
    {
     "name": "stderr",
     "output_type": "stream",
     "text": [
      "C:\\Users\\st50\\AppData\\Roaming\\Python\\Python36\\site-packages\\matplotlib\\__init__.py:886: MatplotlibDeprecationWarning: \n",
      "examples.directory is deprecated; in the future, examples will be found relative to the 'datapath' directory.\n",
      "  \"found relative to the 'datapath' directory.\".format(key))\n"
     ]
    },
    {
     "data": {
      "text/html": [
       "<div>\n",
       "<style scoped>\n",
       "    .dataframe tbody tr th:only-of-type {\n",
       "        vertical-align: middle;\n",
       "    }\n",
       "\n",
       "    .dataframe tbody tr th {\n",
       "        vertical-align: top;\n",
       "    }\n",
       "\n",
       "    .dataframe thead th {\n",
       "        text-align: right;\n",
       "    }\n",
       "</style>\n",
       "<table border=\"1\" class=\"dataframe\">\n",
       "  <thead>\n",
       "    <tr style=\"text-align: right;\">\n",
       "      <th></th>\n",
       "      <th>count</th>\n",
       "      <th>mean</th>\n",
       "      <th>std</th>\n",
       "      <th>min</th>\n",
       "      <th>25%</th>\n",
       "      <th>50%</th>\n",
       "      <th>75%</th>\n",
       "      <th>max</th>\n",
       "    </tr>\n",
       "  </thead>\n",
       "  <tbody>\n",
       "    <tr>\n",
       "      <th>age</th>\n",
       "      <td>1000.00</td>\n",
       "      <td>41.17</td>\n",
       "      <td>10.46</td>\n",
       "      <td>19.00</td>\n",
       "      <td>33.00</td>\n",
       "      <td>40.00</td>\n",
       "      <td>49.00</td>\n",
       "      <td>83.00</td>\n",
       "    </tr>\n",
       "    <tr>\n",
       "      <th>balance</th>\n",
       "      <td>1000.00</td>\n",
       "      <td>1498.59</td>\n",
       "      <td>2778.42</td>\n",
       "      <td>-1680.00</td>\n",
       "      <td>81.00</td>\n",
       "      <td>462.00</td>\n",
       "      <td>1526.75</td>\n",
       "      <td>26965.00</td>\n",
       "    </tr>\n",
       "  </tbody>\n",
       "</table>\n",
       "</div>"
      ],
      "text/plain": [
       "          count    mean     std      min   25%    50%     75%      max\n",
       "age     1000.00   41.17   10.46    19.00 33.00  40.00   49.00    83.00\n",
       "balance 1000.00 1498.59 2778.42 -1680.00 81.00 462.00 1526.75 26965.00"
      ]
     },
     "execution_count": 14,
     "metadata": {},
     "output_type": "execute_result"
    },
    {
     "data": {
      "text/html": [
       "<div>\n",
       "<style scoped>\n",
       "    .dataframe tbody tr th:only-of-type {\n",
       "        vertical-align: middle;\n",
       "    }\n",
       "\n",
       "    .dataframe tbody tr th {\n",
       "        vertical-align: top;\n",
       "    }\n",
       "\n",
       "    .dataframe thead th {\n",
       "        text-align: right;\n",
       "    }\n",
       "</style>\n",
       "<table border=\"1\" class=\"dataframe\">\n",
       "  <thead>\n",
       "    <tr style=\"text-align: right;\">\n",
       "      <th></th>\n",
       "      <th>count</th>\n",
       "      <th>unique</th>\n",
       "      <th>top</th>\n",
       "      <th>freq</th>\n",
       "    </tr>\n",
       "  </thead>\n",
       "  <tbody>\n",
       "    <tr>\n",
       "      <th>job</th>\n",
       "      <td>1000</td>\n",
       "      <td>12</td>\n",
       "      <td>management</td>\n",
       "      <td>221</td>\n",
       "    </tr>\n",
       "    <tr>\n",
       "      <th>marital</th>\n",
       "      <td>1000</td>\n",
       "      <td>3</td>\n",
       "      <td>married</td>\n",
       "      <td>595</td>\n",
       "    </tr>\n",
       "    <tr>\n",
       "      <th>education</th>\n",
       "      <td>1000</td>\n",
       "      <td>4</td>\n",
       "      <td>secondary</td>\n",
       "      <td>492</td>\n",
       "    </tr>\n",
       "    <tr>\n",
       "      <th>housing</th>\n",
       "      <td>1000</td>\n",
       "      <td>2</td>\n",
       "      <td>yes</td>\n",
       "      <td>554</td>\n",
       "    </tr>\n",
       "    <tr>\n",
       "      <th>loan</th>\n",
       "      <td>1000</td>\n",
       "      <td>2</td>\n",
       "      <td>no</td>\n",
       "      <td>836</td>\n",
       "    </tr>\n",
       "  </tbody>\n",
       "</table>\n",
       "</div>"
      ],
      "text/plain": [
       "          count unique         top freq\n",
       "job        1000     12  management  221\n",
       "marital    1000      3     married  595\n",
       "education  1000      4   secondary  492\n",
       "housing    1000      2         yes  554\n",
       "loan       1000      2          no  836"
      ]
     },
     "execution_count": 14,
     "metadata": {},
     "output_type": "execute_result"
    },
    {
     "data": {
      "text/plain": [
       "management       221\n",
       "blue-collar      206\n",
       "technician       181\n",
       "admin.            96\n",
       "services          76\n",
       "self-employed     53\n",
       "retired           52\n",
       "entrepreneur      40\n",
       "unemployed        25\n",
       "housemaid         24\n",
       "student           21\n",
       "unknown            5\n",
       "Name: job, dtype: int64"
      ]
     },
     "execution_count": 14,
     "metadata": {},
     "output_type": "execute_result"
    },
    {
     "data": {
      "text/plain": [
       "married     595\n",
       "single      284\n",
       "divorced    121\n",
       "Name: marital, dtype: int64"
      ]
     },
     "execution_count": 14,
     "metadata": {},
     "output_type": "execute_result"
    },
    {
     "data": {
      "text/plain": [
       "secondary    492\n",
       "tertiary     313\n",
       "primary      155\n",
       "unknown       40\n",
       "Name: education, dtype: int64"
      ]
     },
     "execution_count": 14,
     "metadata": {},
     "output_type": "execute_result"
    },
    {
     "data": {
      "text/plain": [
       "yes    554\n",
       "no     446\n",
       "Name: housing, dtype: int64"
      ]
     },
     "execution_count": 14,
     "metadata": {},
     "output_type": "execute_result"
    },
    {
     "data": {
      "text/plain": [
       "no     836\n",
       "yes    164\n",
       "Name: loan, dtype: int64"
      ]
     },
     "execution_count": 14,
     "metadata": {},
     "output_type": "execute_result"
    },
    {
     "name": "stdout",
     "output_type": "stream",
     "text": [
      "\n",
      "Cluster 1:\n",
      "Number of Instances: 345\n"
     ]
    },
    {
     "data": {
      "text/html": [
       "<div>\n",
       "<style scoped>\n",
       "    .dataframe tbody tr th:only-of-type {\n",
       "        vertical-align: middle;\n",
       "    }\n",
       "\n",
       "    .dataframe tbody tr th {\n",
       "        vertical-align: top;\n",
       "    }\n",
       "\n",
       "    .dataframe thead th {\n",
       "        text-align: right;\n",
       "    }\n",
       "</style>\n",
       "<table border=\"1\" class=\"dataframe\">\n",
       "  <thead>\n",
       "    <tr style=\"text-align: right;\">\n",
       "      <th></th>\n",
       "      <th>count</th>\n",
       "      <th>mean</th>\n",
       "      <th>std</th>\n",
       "      <th>min</th>\n",
       "      <th>25%</th>\n",
       "      <th>50%</th>\n",
       "      <th>75%</th>\n",
       "      <th>max</th>\n",
       "    </tr>\n",
       "  </thead>\n",
       "  <tbody>\n",
       "    <tr>\n",
       "      <th>age</th>\n",
       "      <td>345.00</td>\n",
       "      <td>52.50</td>\n",
       "      <td>7.09</td>\n",
       "      <td>37.00</td>\n",
       "      <td>48.00</td>\n",
       "      <td>52.00</td>\n",
       "      <td>56.00</td>\n",
       "      <td>83.00</td>\n",
       "    </tr>\n",
       "    <tr>\n",
       "      <th>balance</th>\n",
       "      <td>345.00</td>\n",
       "      <td>1331.73</td>\n",
       "      <td>1928.58</td>\n",
       "      <td>-1680.00</td>\n",
       "      <td>93.00</td>\n",
       "      <td>478.00</td>\n",
       "      <td>1772.00</td>\n",
       "      <td>9676.00</td>\n",
       "    </tr>\n",
       "  </tbody>\n",
       "</table>\n",
       "</div>"
      ],
      "text/plain": [
       "         count    mean     std      min   25%    50%     75%     max\n",
       "age     345.00   52.50    7.09    37.00 48.00  52.00   56.00   83.00\n",
       "balance 345.00 1331.73 1928.58 -1680.00 93.00 478.00 1772.00 9676.00"
      ]
     },
     "execution_count": 14,
     "metadata": {},
     "output_type": "execute_result"
    },
    {
     "data": {
      "text/html": [
       "<div>\n",
       "<style scoped>\n",
       "    .dataframe tbody tr th:only-of-type {\n",
       "        vertical-align: middle;\n",
       "    }\n",
       "\n",
       "    .dataframe tbody tr th {\n",
       "        vertical-align: top;\n",
       "    }\n",
       "\n",
       "    .dataframe thead th {\n",
       "        text-align: right;\n",
       "    }\n",
       "</style>\n",
       "<table border=\"1\" class=\"dataframe\">\n",
       "  <thead>\n",
       "    <tr style=\"text-align: right;\">\n",
       "      <th></th>\n",
       "      <th>count</th>\n",
       "      <th>unique</th>\n",
       "      <th>top</th>\n",
       "      <th>freq</th>\n",
       "    </tr>\n",
       "  </thead>\n",
       "  <tbody>\n",
       "    <tr>\n",
       "      <th>job</th>\n",
       "      <td>345</td>\n",
       "      <td>11</td>\n",
       "      <td>management</td>\n",
       "      <td>73</td>\n",
       "    </tr>\n",
       "    <tr>\n",
       "      <th>marital</th>\n",
       "      <td>345</td>\n",
       "      <td>3</td>\n",
       "      <td>married</td>\n",
       "      <td>237</td>\n",
       "    </tr>\n",
       "    <tr>\n",
       "      <th>education</th>\n",
       "      <td>345</td>\n",
       "      <td>4</td>\n",
       "      <td>secondary</td>\n",
       "      <td>164</td>\n",
       "    </tr>\n",
       "    <tr>\n",
       "      <th>housing</th>\n",
       "      <td>345</td>\n",
       "      <td>2</td>\n",
       "      <td>no</td>\n",
       "      <td>192</td>\n",
       "    </tr>\n",
       "    <tr>\n",
       "      <th>loan</th>\n",
       "      <td>345</td>\n",
       "      <td>2</td>\n",
       "      <td>no</td>\n",
       "      <td>296</td>\n",
       "    </tr>\n",
       "  </tbody>\n",
       "</table>\n",
       "</div>"
      ],
      "text/plain": [
       "          count unique         top freq\n",
       "job         345     11  management   73\n",
       "marital     345      3     married  237\n",
       "education   345      4   secondary  164\n",
       "housing     345      2          no  192\n",
       "loan        345      2          no  296"
      ]
     },
     "execution_count": 14,
     "metadata": {},
     "output_type": "execute_result"
    },
    {
     "data": {
      "text/plain": [
       "management       73\n",
       "blue-collar      59\n",
       "retired          51\n",
       "technician       43\n",
       "admin.           37\n",
       "services         20\n",
       "self-employed    17\n",
       "housemaid        16\n",
       "entrepreneur     16\n",
       "unemployed       10\n",
       "unknown           3\n",
       "Name: job, dtype: int64"
      ]
     },
     "execution_count": 14,
     "metadata": {},
     "output_type": "execute_result"
    },
    {
     "data": {
      "text/plain": [
       "married     237\n",
       "divorced     80\n",
       "single       28\n",
       "Name: marital, dtype: int64"
      ]
     },
     "execution_count": 14,
     "metadata": {},
     "output_type": "execute_result"
    },
    {
     "data": {
      "text/plain": [
       "secondary    164\n",
       "tertiary      82\n",
       "primary       73\n",
       "unknown       26\n",
       "Name: education, dtype: int64"
      ]
     },
     "execution_count": 14,
     "metadata": {},
     "output_type": "execute_result"
    },
    {
     "data": {
      "text/plain": [
       "no     192\n",
       "yes    153\n",
       "Name: housing, dtype: int64"
      ]
     },
     "execution_count": 14,
     "metadata": {},
     "output_type": "execute_result"
    },
    {
     "data": {
      "text/plain": [
       "no     296\n",
       "yes     49\n",
       "Name: loan, dtype: int64"
      ]
     },
     "execution_count": 14,
     "metadata": {},
     "output_type": "execute_result"
    },
    {
     "name": "stdout",
     "output_type": "stream",
     "text": [
      "\n",
      "Cluster 2:\n",
      "Number of Instances: 138\n"
     ]
    },
    {
     "data": {
      "text/html": [
       "<div>\n",
       "<style scoped>\n",
       "    .dataframe tbody tr th:only-of-type {\n",
       "        vertical-align: middle;\n",
       "    }\n",
       "\n",
       "    .dataframe tbody tr th {\n",
       "        vertical-align: top;\n",
       "    }\n",
       "\n",
       "    .dataframe thead th {\n",
       "        text-align: right;\n",
       "    }\n",
       "</style>\n",
       "<table border=\"1\" class=\"dataframe\">\n",
       "  <thead>\n",
       "    <tr style=\"text-align: right;\">\n",
       "      <th></th>\n",
       "      <th>count</th>\n",
       "      <th>mean</th>\n",
       "      <th>std</th>\n",
       "      <th>min</th>\n",
       "      <th>25%</th>\n",
       "      <th>50%</th>\n",
       "      <th>75%</th>\n",
       "      <th>max</th>\n",
       "    </tr>\n",
       "  </thead>\n",
       "  <tbody>\n",
       "    <tr>\n",
       "      <th>age</th>\n",
       "      <td>138.00</td>\n",
       "      <td>30.60</td>\n",
       "      <td>5.35</td>\n",
       "      <td>19.00</td>\n",
       "      <td>27.00</td>\n",
       "      <td>30.00</td>\n",
       "      <td>34.00</td>\n",
       "      <td>45.00</td>\n",
       "    </tr>\n",
       "    <tr>\n",
       "      <th>balance</th>\n",
       "      <td>138.00</td>\n",
       "      <td>411.57</td>\n",
       "      <td>612.97</td>\n",
       "      <td>-849.00</td>\n",
       "      <td>22.75</td>\n",
       "      <td>247.00</td>\n",
       "      <td>615.25</td>\n",
       "      <td>4111.00</td>\n",
       "    </tr>\n",
       "  </tbody>\n",
       "</table>\n",
       "</div>"
      ],
      "text/plain": [
       "         count   mean    std     min   25%    50%    75%     max\n",
       "age     138.00  30.60   5.35   19.00 27.00  30.00  34.00   45.00\n",
       "balance 138.00 411.57 612.97 -849.00 22.75 247.00 615.25 4111.00"
      ]
     },
     "execution_count": 14,
     "metadata": {},
     "output_type": "execute_result"
    },
    {
     "data": {
      "text/html": [
       "<div>\n",
       "<style scoped>\n",
       "    .dataframe tbody tr th:only-of-type {\n",
       "        vertical-align: middle;\n",
       "    }\n",
       "\n",
       "    .dataframe tbody tr th {\n",
       "        vertical-align: top;\n",
       "    }\n",
       "\n",
       "    .dataframe thead th {\n",
       "        text-align: right;\n",
       "    }\n",
       "</style>\n",
       "<table border=\"1\" class=\"dataframe\">\n",
       "  <thead>\n",
       "    <tr style=\"text-align: right;\">\n",
       "      <th></th>\n",
       "      <th>count</th>\n",
       "      <th>unique</th>\n",
       "      <th>top</th>\n",
       "      <th>freq</th>\n",
       "    </tr>\n",
       "  </thead>\n",
       "  <tbody>\n",
       "    <tr>\n",
       "      <th>job</th>\n",
       "      <td>138</td>\n",
       "      <td>10</td>\n",
       "      <td>technician</td>\n",
       "      <td>30</td>\n",
       "    </tr>\n",
       "    <tr>\n",
       "      <th>marital</th>\n",
       "      <td>138</td>\n",
       "      <td>3</td>\n",
       "      <td>single</td>\n",
       "      <td>121</td>\n",
       "    </tr>\n",
       "    <tr>\n",
       "      <th>education</th>\n",
       "      <td>138</td>\n",
       "      <td>4</td>\n",
       "      <td>secondary</td>\n",
       "      <td>120</td>\n",
       "    </tr>\n",
       "    <tr>\n",
       "      <th>housing</th>\n",
       "      <td>138</td>\n",
       "      <td>2</td>\n",
       "      <td>yes</td>\n",
       "      <td>74</td>\n",
       "    </tr>\n",
       "    <tr>\n",
       "      <th>loan</th>\n",
       "      <td>138</td>\n",
       "      <td>2</td>\n",
       "      <td>no</td>\n",
       "      <td>105</td>\n",
       "    </tr>\n",
       "  </tbody>\n",
       "</table>\n",
       "</div>"
      ],
      "text/plain": [
       "          count unique         top freq\n",
       "job         138     10  technician   30\n",
       "marital     138      3      single  121\n",
       "education   138      4   secondary  120\n",
       "housing     138      2         yes   74\n",
       "loan        138      2          no  105"
      ]
     },
     "execution_count": 14,
     "metadata": {},
     "output_type": "execute_result"
    },
    {
     "data": {
      "text/plain": [
       "technician       30\n",
       "blue-collar      29\n",
       "admin.           26\n",
       "services         24\n",
       "student          13\n",
       "self-employed     6\n",
       "management        4\n",
       "unemployed        4\n",
       "retired           1\n",
       "entrepreneur      1\n",
       "Name: job, dtype: int64"
      ]
     },
     "execution_count": 14,
     "metadata": {},
     "output_type": "execute_result"
    },
    {
     "data": {
      "text/plain": [
       "single      121\n",
       "married      13\n",
       "divorced      4\n",
       "Name: marital, dtype: int64"
      ]
     },
     "execution_count": 14,
     "metadata": {},
     "output_type": "execute_result"
    },
    {
     "data": {
      "text/plain": [
       "secondary    120\n",
       "primary        9\n",
       "tertiary       7\n",
       "unknown        2\n",
       "Name: education, dtype: int64"
      ]
     },
     "execution_count": 14,
     "metadata": {},
     "output_type": "execute_result"
    },
    {
     "data": {
      "text/plain": [
       "yes    74\n",
       "no     64\n",
       "Name: housing, dtype: int64"
      ]
     },
     "execution_count": 14,
     "metadata": {},
     "output_type": "execute_result"
    },
    {
     "data": {
      "text/plain": [
       "no     105\n",
       "yes     33\n",
       "Name: loan, dtype: int64"
      ]
     },
     "execution_count": 14,
     "metadata": {},
     "output_type": "execute_result"
    },
    {
     "name": "stdout",
     "output_type": "stream",
     "text": [
      "\n",
      "Cluster 3:\n",
      "Number of Instances: 410\n"
     ]
    },
    {
     "data": {
      "text/html": [
       "<div>\n",
       "<style scoped>\n",
       "    .dataframe tbody tr th:only-of-type {\n",
       "        vertical-align: middle;\n",
       "    }\n",
       "\n",
       "    .dataframe tbody tr th {\n",
       "        vertical-align: top;\n",
       "    }\n",
       "\n",
       "    .dataframe thead th {\n",
       "        text-align: right;\n",
       "    }\n",
       "</style>\n",
       "<table border=\"1\" class=\"dataframe\">\n",
       "  <thead>\n",
       "    <tr style=\"text-align: right;\">\n",
       "      <th></th>\n",
       "      <th>count</th>\n",
       "      <th>mean</th>\n",
       "      <th>std</th>\n",
       "      <th>min</th>\n",
       "      <th>25%</th>\n",
       "      <th>50%</th>\n",
       "      <th>75%</th>\n",
       "      <th>max</th>\n",
       "    </tr>\n",
       "  </thead>\n",
       "  <tbody>\n",
       "    <tr>\n",
       "      <th>age</th>\n",
       "      <td>410.00</td>\n",
       "      <td>36.33</td>\n",
       "      <td>5.12</td>\n",
       "      <td>26.00</td>\n",
       "      <td>32.00</td>\n",
       "      <td>36.00</td>\n",
       "      <td>40.00</td>\n",
       "      <td>50.00</td>\n",
       "    </tr>\n",
       "    <tr>\n",
       "      <th>balance</th>\n",
       "      <td>410.00</td>\n",
       "      <td>559.13</td>\n",
       "      <td>716.36</td>\n",
       "      <td>-1212.00</td>\n",
       "      <td>37.50</td>\n",
       "      <td>352.00</td>\n",
       "      <td>939.50</td>\n",
       "      <td>3825.00</td>\n",
       "    </tr>\n",
       "  </tbody>\n",
       "</table>\n",
       "</div>"
      ],
      "text/plain": [
       "         count   mean    std      min   25%    50%    75%     max\n",
       "age     410.00  36.33   5.12    26.00 32.00  36.00  40.00   50.00\n",
       "balance 410.00 559.13 716.36 -1212.00 37.50 352.00 939.50 3825.00"
      ]
     },
     "execution_count": 14,
     "metadata": {},
     "output_type": "execute_result"
    },
    {
     "data": {
      "text/html": [
       "<div>\n",
       "<style scoped>\n",
       "    .dataframe tbody tr th:only-of-type {\n",
       "        vertical-align: middle;\n",
       "    }\n",
       "\n",
       "    .dataframe tbody tr th {\n",
       "        vertical-align: top;\n",
       "    }\n",
       "\n",
       "    .dataframe thead th {\n",
       "        text-align: right;\n",
       "    }\n",
       "</style>\n",
       "<table border=\"1\" class=\"dataframe\">\n",
       "  <thead>\n",
       "    <tr style=\"text-align: right;\">\n",
       "      <th></th>\n",
       "      <th>count</th>\n",
       "      <th>unique</th>\n",
       "      <th>top</th>\n",
       "      <th>freq</th>\n",
       "    </tr>\n",
       "  </thead>\n",
       "  <tbody>\n",
       "    <tr>\n",
       "      <th>job</th>\n",
       "      <td>410</td>\n",
       "      <td>11</td>\n",
       "      <td>management</td>\n",
       "      <td>115</td>\n",
       "    </tr>\n",
       "    <tr>\n",
       "      <th>marital</th>\n",
       "      <td>410</td>\n",
       "      <td>3</td>\n",
       "      <td>married</td>\n",
       "      <td>300</td>\n",
       "    </tr>\n",
       "    <tr>\n",
       "      <th>education</th>\n",
       "      <td>410</td>\n",
       "      <td>4</td>\n",
       "      <td>tertiary</td>\n",
       "      <td>177</td>\n",
       "    </tr>\n",
       "    <tr>\n",
       "      <th>housing</th>\n",
       "      <td>410</td>\n",
       "      <td>2</td>\n",
       "      <td>yes</td>\n",
       "      <td>268</td>\n",
       "    </tr>\n",
       "    <tr>\n",
       "      <th>loan</th>\n",
       "      <td>410</td>\n",
       "      <td>2</td>\n",
       "      <td>no</td>\n",
       "      <td>335</td>\n",
       "    </tr>\n",
       "  </tbody>\n",
       "</table>\n",
       "</div>"
      ],
      "text/plain": [
       "          count unique         top freq\n",
       "job         410     11  management  115\n",
       "marital     410      3     married  300\n",
       "education   410      4    tertiary  177\n",
       "housing     410      2         yes  268\n",
       "loan        410      2          no  335"
      ]
     },
     "execution_count": 14,
     "metadata": {},
     "output_type": "execute_result"
    },
    {
     "data": {
      "text/plain": [
       "management       115\n",
       "blue-collar      101\n",
       "technician        89\n",
       "services          25\n",
       "self-employed     22\n",
       "admin.            21\n",
       "entrepreneur      20\n",
       "unemployed        10\n",
       "housemaid          4\n",
       "unknown            2\n",
       "student            1\n",
       "Name: job, dtype: int64"
      ]
     },
     "execution_count": 14,
     "metadata": {},
     "output_type": "execute_result"
    },
    {
     "data": {
      "text/plain": [
       "married     300\n",
       "single       81\n",
       "divorced     29\n",
       "Name: marital, dtype: int64"
      ]
     },
     "execution_count": 14,
     "metadata": {},
     "output_type": "execute_result"
    },
    {
     "data": {
      "text/plain": [
       "tertiary     177\n",
       "secondary    162\n",
       "primary       63\n",
       "unknown        8\n",
       "Name: education, dtype: int64"
      ]
     },
     "execution_count": 14,
     "metadata": {},
     "output_type": "execute_result"
    },
    {
     "data": {
      "text/plain": [
       "yes    268\n",
       "no     142\n",
       "Name: housing, dtype: int64"
      ]
     },
     "execution_count": 14,
     "metadata": {},
     "output_type": "execute_result"
    },
    {
     "data": {
      "text/plain": [
       "no     335\n",
       "yes     75\n",
       "Name: loan, dtype: int64"
      ]
     },
     "execution_count": 14,
     "metadata": {},
     "output_type": "execute_result"
    },
    {
     "name": "stdout",
     "output_type": "stream",
     "text": [
      "\n",
      "Cluster 4:\n",
      "Number of Instances: 23\n"
     ]
    },
    {
     "data": {
      "text/html": [
       "<div>\n",
       "<style scoped>\n",
       "    .dataframe tbody tr th:only-of-type {\n",
       "        vertical-align: middle;\n",
       "    }\n",
       "\n",
       "    .dataframe tbody tr th {\n",
       "        vertical-align: top;\n",
       "    }\n",
       "\n",
       "    .dataframe thead th {\n",
       "        text-align: right;\n",
       "    }\n",
       "</style>\n",
       "<table border=\"1\" class=\"dataframe\">\n",
       "  <thead>\n",
       "    <tr style=\"text-align: right;\">\n",
       "      <th></th>\n",
       "      <th>count</th>\n",
       "      <th>mean</th>\n",
       "      <th>std</th>\n",
       "      <th>min</th>\n",
       "      <th>25%</th>\n",
       "      <th>50%</th>\n",
       "      <th>75%</th>\n",
       "      <th>max</th>\n",
       "    </tr>\n",
       "  </thead>\n",
       "  <tbody>\n",
       "    <tr>\n",
       "      <th>age</th>\n",
       "      <td>23.00</td>\n",
       "      <td>44.74</td>\n",
       "      <td>10.51</td>\n",
       "      <td>30.00</td>\n",
       "      <td>37.50</td>\n",
       "      <td>42.00</td>\n",
       "      <td>53.50</td>\n",
       "      <td>67.00</td>\n",
       "    </tr>\n",
       "    <tr>\n",
       "      <th>balance</th>\n",
       "      <td>23.00</td>\n",
       "      <td>14201.26</td>\n",
       "      <td>4202.13</td>\n",
       "      <td>10287.00</td>\n",
       "      <td>11286.00</td>\n",
       "      <td>12519.00</td>\n",
       "      <td>15170.50</td>\n",
       "      <td>26965.00</td>\n",
       "    </tr>\n",
       "  </tbody>\n",
       "</table>\n",
       "</div>"
      ],
      "text/plain": [
       "         count     mean     std      min      25%      50%      75%      max\n",
       "age      23.00    44.74   10.51    30.00    37.50    42.00    53.50    67.00\n",
       "balance  23.00 14201.26 4202.13 10287.00 11286.00 12519.00 15170.50 26965.00"
      ]
     },
     "execution_count": 14,
     "metadata": {},
     "output_type": "execute_result"
    },
    {
     "data": {
      "text/html": [
       "<div>\n",
       "<style scoped>\n",
       "    .dataframe tbody tr th:only-of-type {\n",
       "        vertical-align: middle;\n",
       "    }\n",
       "\n",
       "    .dataframe tbody tr th {\n",
       "        vertical-align: top;\n",
       "    }\n",
       "\n",
       "    .dataframe thead th {\n",
       "        text-align: right;\n",
       "    }\n",
       "</style>\n",
       "<table border=\"1\" class=\"dataframe\">\n",
       "  <thead>\n",
       "    <tr style=\"text-align: right;\">\n",
       "      <th></th>\n",
       "      <th>count</th>\n",
       "      <th>unique</th>\n",
       "      <th>top</th>\n",
       "      <th>freq</th>\n",
       "    </tr>\n",
       "  </thead>\n",
       "  <tbody>\n",
       "    <tr>\n",
       "      <th>job</th>\n",
       "      <td>23</td>\n",
       "      <td>6</td>\n",
       "      <td>management</td>\n",
       "      <td>7</td>\n",
       "    </tr>\n",
       "    <tr>\n",
       "      <th>marital</th>\n",
       "      <td>23</td>\n",
       "      <td>3</td>\n",
       "      <td>married</td>\n",
       "      <td>11</td>\n",
       "    </tr>\n",
       "    <tr>\n",
       "      <th>education</th>\n",
       "      <td>23</td>\n",
       "      <td>4</td>\n",
       "      <td>tertiary</td>\n",
       "      <td>9</td>\n",
       "    </tr>\n",
       "    <tr>\n",
       "      <th>housing</th>\n",
       "      <td>23</td>\n",
       "      <td>2</td>\n",
       "      <td>no</td>\n",
       "      <td>18</td>\n",
       "    </tr>\n",
       "    <tr>\n",
       "      <th>loan</th>\n",
       "      <td>23</td>\n",
       "      <td>1</td>\n",
       "      <td>no</td>\n",
       "      <td>23</td>\n",
       "    </tr>\n",
       "  </tbody>\n",
       "</table>\n",
       "</div>"
      ],
      "text/plain": [
       "          count unique         top freq\n",
       "job          23      6  management    7\n",
       "marital      23      3     married   11\n",
       "education    23      4    tertiary    9\n",
       "housing      23      2          no   18\n",
       "loan         23      1          no   23"
      ]
     },
     "execution_count": 14,
     "metadata": {},
     "output_type": "execute_result"
    },
    {
     "data": {
      "text/plain": [
       "management       7\n",
       "blue-collar      5\n",
       "housemaid        4\n",
       "self-employed    3\n",
       "technician       2\n",
       "admin.           2\n",
       "Name: job, dtype: int64"
      ]
     },
     "execution_count": 14,
     "metadata": {},
     "output_type": "execute_result"
    },
    {
     "data": {
      "text/plain": [
       "married     11\n",
       "single      10\n",
       "divorced     2\n",
       "Name: marital, dtype: int64"
      ]
     },
     "execution_count": 14,
     "metadata": {},
     "output_type": "execute_result"
    },
    {
     "data": {
      "text/plain": [
       "tertiary     9\n",
       "secondary    8\n",
       "primary      5\n",
       "unknown      1\n",
       "Name: education, dtype: int64"
      ]
     },
     "execution_count": 14,
     "metadata": {},
     "output_type": "execute_result"
    },
    {
     "data": {
      "text/plain": [
       "no     18\n",
       "yes     5\n",
       "Name: housing, dtype: int64"
      ]
     },
     "execution_count": 14,
     "metadata": {},
     "output_type": "execute_result"
    },
    {
     "data": {
      "text/plain": [
       "no    23\n",
       "Name: loan, dtype: int64"
      ]
     },
     "execution_count": 14,
     "metadata": {},
     "output_type": "execute_result"
    },
    {
     "name": "stdout",
     "output_type": "stream",
     "text": [
      "\n",
      "Cluster 5:\n",
      "Number of Instances: 84\n"
     ]
    },
    {
     "data": {
      "text/html": [
       "<div>\n",
       "<style scoped>\n",
       "    .dataframe tbody tr th:only-of-type {\n",
       "        vertical-align: middle;\n",
       "    }\n",
       "\n",
       "    .dataframe tbody tr th {\n",
       "        vertical-align: top;\n",
       "    }\n",
       "\n",
       "    .dataframe thead th {\n",
       "        text-align: right;\n",
       "    }\n",
       "</style>\n",
       "<table border=\"1\" class=\"dataframe\">\n",
       "  <thead>\n",
       "    <tr style=\"text-align: right;\">\n",
       "      <th></th>\n",
       "      <th>count</th>\n",
       "      <th>mean</th>\n",
       "      <th>std</th>\n",
       "      <th>min</th>\n",
       "      <th>25%</th>\n",
       "      <th>50%</th>\n",
       "      <th>75%</th>\n",
       "      <th>max</th>\n",
       "    </tr>\n",
       "  </thead>\n",
       "  <tbody>\n",
       "    <tr>\n",
       "      <th>age</th>\n",
       "      <td>84.00</td>\n",
       "      <td>34.67</td>\n",
       "      <td>4.72</td>\n",
       "      <td>23.00</td>\n",
       "      <td>32.00</td>\n",
       "      <td>35.00</td>\n",
       "      <td>38.00</td>\n",
       "      <td>47.00</td>\n",
       "    </tr>\n",
       "    <tr>\n",
       "      <th>balance</th>\n",
       "      <td>84.00</td>\n",
       "      <td>5077.13</td>\n",
       "      <td>2357.01</td>\n",
       "      <td>1281.00</td>\n",
       "      <td>3387.75</td>\n",
       "      <td>4325.50</td>\n",
       "      <td>6463.00</td>\n",
       "      <td>11555.00</td>\n",
       "    </tr>\n",
       "  </tbody>\n",
       "</table>\n",
       "</div>"
      ],
      "text/plain": [
       "         count    mean     std     min     25%     50%     75%      max\n",
       "age      84.00   34.67    4.72   23.00   32.00   35.00   38.00    47.00\n",
       "balance  84.00 5077.13 2357.01 1281.00 3387.75 4325.50 6463.00 11555.00"
      ]
     },
     "execution_count": 14,
     "metadata": {},
     "output_type": "execute_result"
    },
    {
     "data": {
      "text/html": [
       "<div>\n",
       "<style scoped>\n",
       "    .dataframe tbody tr th:only-of-type {\n",
       "        vertical-align: middle;\n",
       "    }\n",
       "\n",
       "    .dataframe tbody tr th {\n",
       "        vertical-align: top;\n",
       "    }\n",
       "\n",
       "    .dataframe thead th {\n",
       "        text-align: right;\n",
       "    }\n",
       "</style>\n",
       "<table border=\"1\" class=\"dataframe\">\n",
       "  <thead>\n",
       "    <tr style=\"text-align: right;\">\n",
       "      <th></th>\n",
       "      <th>count</th>\n",
       "      <th>unique</th>\n",
       "      <th>top</th>\n",
       "      <th>freq</th>\n",
       "    </tr>\n",
       "  </thead>\n",
       "  <tbody>\n",
       "    <tr>\n",
       "      <th>job</th>\n",
       "      <td>84</td>\n",
       "      <td>9</td>\n",
       "      <td>management</td>\n",
       "      <td>22</td>\n",
       "    </tr>\n",
       "    <tr>\n",
       "      <th>marital</th>\n",
       "      <td>84</td>\n",
       "      <td>3</td>\n",
       "      <td>single</td>\n",
       "      <td>44</td>\n",
       "    </tr>\n",
       "    <tr>\n",
       "      <th>education</th>\n",
       "      <td>84</td>\n",
       "      <td>4</td>\n",
       "      <td>secondary</td>\n",
       "      <td>38</td>\n",
       "    </tr>\n",
       "    <tr>\n",
       "      <th>housing</th>\n",
       "      <td>84</td>\n",
       "      <td>2</td>\n",
       "      <td>yes</td>\n",
       "      <td>54</td>\n",
       "    </tr>\n",
       "    <tr>\n",
       "      <th>loan</th>\n",
       "      <td>84</td>\n",
       "      <td>2</td>\n",
       "      <td>no</td>\n",
       "      <td>77</td>\n",
       "    </tr>\n",
       "  </tbody>\n",
       "</table>\n",
       "</div>"
      ],
      "text/plain": [
       "          count unique         top freq\n",
       "job          84      9  management   22\n",
       "marital      84      3      single   44\n",
       "education    84      4   secondary   38\n",
       "housing      84      2         yes   54\n",
       "loan         84      2          no   77"
      ]
     },
     "execution_count": 14,
     "metadata": {},
     "output_type": "execute_result"
    },
    {
     "data": {
      "text/plain": [
       "management       22\n",
       "technician       17\n",
       "blue-collar      12\n",
       "admin.           10\n",
       "services          7\n",
       "student           7\n",
       "self-employed     5\n",
       "entrepreneur      3\n",
       "unemployed        1\n",
       "Name: job, dtype: int64"
      ]
     },
     "execution_count": 14,
     "metadata": {},
     "output_type": "execute_result"
    },
    {
     "data": {
      "text/plain": [
       "single      44\n",
       "married     34\n",
       "divorced     6\n",
       "Name: marital, dtype: int64"
      ]
     },
     "execution_count": 14,
     "metadata": {},
     "output_type": "execute_result"
    },
    {
     "data": {
      "text/plain": [
       "secondary    38\n",
       "tertiary     38\n",
       "primary       5\n",
       "unknown       3\n",
       "Name: education, dtype: int64"
      ]
     },
     "execution_count": 14,
     "metadata": {},
     "output_type": "execute_result"
    },
    {
     "data": {
      "text/plain": [
       "yes    54\n",
       "no     30\n",
       "Name: housing, dtype: int64"
      ]
     },
     "execution_count": 14,
     "metadata": {},
     "output_type": "execute_result"
    },
    {
     "data": {
      "text/plain": [
       "no     77\n",
       "yes     7\n",
       "Name: loan, dtype: int64"
      ]
     },
     "execution_count": 14,
     "metadata": {},
     "output_type": "execute_result"
    }
   ],
   "source": [
    "from scipy import stats\n",
    "import seaborn as sns\n",
    "\n",
    "pd.set_option(\"display.precision\", 2)\n",
    "pd.set_option('display.float_format', lambda x: '%.2f' % x)\n",
    "\n",
    "print('All Data:')\n",
    "print('Number of Instances: {}'.format(X.shape[0]))\n",
    "df.describe(include=[np.number]).transpose()\n",
    "df.describe(include=[np.object]).transpose()\n",
    "for col in cat_col_names:\n",
    "    df[col].value_counts()\n",
    "\n",
    "\n",
    "for i, label in enumerate(set(labels)):\n",
    "    n = df.iloc[labels==label].shape[0]\n",
    "      \n",
    "    print('\\nCluster {}:'.format(label))\n",
    "    print('Number of Instances: {}'.format(n))\n",
    "\n",
    "    df.iloc[labels==label].describe(include=[np.number]).transpose()\n",
    "    df.iloc[labels==label].describe(include=[np.object]).transpose()\n",
    "    for col in cat_col_names:\n",
    "        df.iloc[labels==label][col].value_counts()\n"
   ]
  },
  {
   "cell_type": "markdown",
   "metadata": {},
   "source": [
    "## For Each Cluster, Show Visual Feature Stats"
   ]
  },
  {
   "cell_type": "code",
   "execution_count": 15,
   "metadata": {},
   "outputs": [
    {
     "data": {
      "image/png": "[encoded data removed]",
      "text/plain": [
       "<Figure size 1728x864 with 35 Axes>"
      ]
     },
     "metadata": {
      "needs_background": "light"
     },
     "output_type": "display_data"
    }
   ],
   "source": [
    "from scipy import stats\n",
    "import seaborn as sns\n",
    "\n",
    "f, axes = plt.subplots(K, n_features, figsize=(24, 12), sharex='col', sharey='col')\n",
    "\n",
    "cols = [x for x in num_col_names]\n",
    "cols += [x for x in cat_col_names]\n",
    "rows = ['Cluster {}'.format(i+1) for i in np.arange(K)]\n",
    "\n",
    "\n",
    "for i, label in enumerate(set(labels)):\n",
    "    n = df.iloc[labels==label].shape[0]\n",
    "  \n",
    "\n",
    "    col_idx = 0\n",
    "    for col in num_col_names:\n",
    "        sns.distplot(df[[col]], hist=False, rug=False, label=\"All\", ax=axes[i-1, col_idx]);\n",
    "        chart = sns.distplot(df.iloc[labels==label][[col]], hist=False, rug=False, label=\"Cluster {}\".format(label), ax=axes[i-1,col_idx]);\n",
    "        chart.set_yticklabels([])\n",
    "        col_idx=col_idx+1\n",
    "    for col in cat_col_names:\n",
    "        \n",
    "        # It's a bit complicated, and it took me a while to figure out, but what we're doing here is this:\n",
    "        # Finding out the (normalized) distribution of each level for \"all data\"\n",
    "        # Finding out the (normalized) distribution fo each level for this cluster\n",
    "        # Plotting both on a bar chart\n",
    "        \n",
    "        all_prop_df = (df[col].value_counts(normalize=True).reset_index())\n",
    "        all_prop_df['Cluster']= 'All'\n",
    "\n",
    "        prop_df = (df.iloc[labels==label][col]\n",
    "           .value_counts(normalize=True)\n",
    "           .reset_index())\n",
    "\n",
    "        prop_df['Cluster']= 'Cluster {}'.format(label)\n",
    "\n",
    "        prop_df = pd.concat([all_prop_df, prop_df])\n",
    "        prop_df = prop_df.reset_index(drop=True)\n",
    "\n",
    "        chart = sns.barplot(x='index', y=col, hue='Cluster', data=prop_df, ci=None, ax=axes[i-1, col_idx])\n",
    "        #chart.set_xticklabels(chart.get_xticklabels(), rotation=55)\n",
    "        \n",
    "        col_idx=col_idx+1\n",
    "\n",
    "for ax1 in axes:\n",
    "    for ax in ax1:\n",
    "        ax.get_legend().remove()\n",
    "        ax.set_ylabel('')\n",
    "        ax.set_xlabel('')\n",
    "        \n",
    "for ax, col in zip(axes[0], cols):\n",
    "    ax.set_title(col, size='large')\n",
    "\n",
    "for ax, row in zip(axes[:,0], rows):\n",
    "    ax.set_ylabel(row, rotation=90, size='large')\n",
    "\n",
    "for j in np.arange(n_features):\n",
    "    ax = axes[K-1,j]\n",
    "    if j >= len(num_col_names): #Tmp hack to avoid rotating numeric lablels\n",
    "        ax.set_xticklabels(ax.get_xticklabels(), rotation=90)\n",
    "    \n",
    "plt.show();\n",
    "    "
   ]
  }
 ],
 "metadata": {
  "kernelspec": {
   "display_name": "small_sklearn_kernel",
   "language": "python",
   "name": "small_sklearn_kernel"
  },
  "language_info": {
   "codemirror_mode": {
    "name": "ipython",
    "version": 3
   },
   "file_extension": ".py",
   "mimetype": "text/x-python",
   "name": "python",
   "nbconvert_exporter": "python",
   "pygments_lexer": "ipython3",
   "version": "3.6.10"
  }
 },
 "nbformat": 4,
 "nbformat_minor": 4
}
