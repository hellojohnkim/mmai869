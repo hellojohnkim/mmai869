{
  "nbformat": 4,
  "nbformat_minor": 0,
  "metadata": {
    "kernelspec": {
      "display_name": "small_sklearn_kernel",
      "language": "python",
      "name": "small_sklearn_kernel"
    },
    "language_info": {
      "codemirror_mode": {
        "name": "ipython",
        "version": 3
      },
      "file_extension": ".py",
      "mimetype": "text/x-python",
      "name": "python",
      "nbconvert_exporter": "python",
      "pygments_lexer": "ipython3",
      "version": "3.6.10"
    },
    "colab": {
      "name": "slides_classification_tuning.ipynb",
      "provenance": []
    }
  },
  "cells": [
    {
      "cell_type": "markdown",
      "metadata": {
        "id": "sbjbn2l_5rX5"
      },
      "source": [
        "# Classification Hyperparameter Tuning\n",
        "\n",
        "- Stephen W. Thomas\n",
        "- Used for MMA 869, MMAI 869, and GMMA 869"
      ]
    },
    {
      "cell_type": "code",
      "metadata": {
        "id": "937zO8u25rX_",
        "outputId": "a0628478-5c43-46c1-874e-ba325afc6d61",
        "colab": {
          "base_uri": "https://localhost:8080/"
        }
      },
      "source": [
        "import datetime\n",
        "print(datetime.datetime.now())"
      ],
      "execution_count": 1,
      "outputs": [
        {
          "output_type": "stream",
          "name": "stdout",
          "text": [
            "2022-07-14 17:52:43.402142\n"
          ]
        }
      ]
    },
    {
      "cell_type": "code",
      "metadata": {
        "id": "fQibmrRQ5rYC"
      },
      "source": [
        "import pandas as pd\n",
        "import numpy as np\n",
        "import matplotlib.pyplot as plt\n",
        "\n",
        "from sklearn.model_selection import train_test_split\n",
        "from sklearn.metrics import accuracy_score,confusion_matrix, classification_report\n",
        "from sklearn.tree import DecisionTreeClassifier\n",
        "from sklearn.model_selection import cross_val_score\n",
        "\n",
        "from IPython.core.interactiveshell import InteractiveShell\n",
        "InteractiveShell.ast_node_interactivity = \"all\""
      ],
      "execution_count": 2,
      "outputs": []
    },
    {
      "cell_type": "code",
      "metadata": {
        "id": "fZVBjC-t5rYD",
        "outputId": "02ad60aa-c105-41a8-e35a-0af49bb05632",
        "colab": {
          "base_uri": "https://localhost:8080/"
        }
      },
      "source": [
        "import sklearn\n",
        "print('The scikit-learn version is {}.'.format(sklearn.__version__))"
      ],
      "execution_count": 3,
      "outputs": [
        {
          "output_type": "stream",
          "name": "stdout",
          "text": [
            "The scikit-learn version is 1.0.2.\n"
          ]
        }
      ]
    },
    {
      "cell_type": "code",
      "metadata": {
        "id": "koAZgmMM5rYE"
      },
      "source": [
        "# Create the 'out' directory to store output images\n",
        "import os\n",
        "if not os.path.exists('out'):\n",
        "    os.makedirs('out')"
      ],
      "execution_count": 4,
      "outputs": []
    },
    {
      "cell_type": "markdown",
      "metadata": {
        "id": "LuLGmnlh5rYF"
      },
      "source": [
        "# Load Data"
      ]
    },
    {
      "cell_type": "code",
      "metadata": {
        "id": "K2gxI8kS5rYG",
        "outputId": "ec87f4e8-ff23-489a-b855-7597f4f53e7e",
        "colab": {
          "base_uri": "https://localhost:8080/",
          "height": 299
        }
      },
      "source": [
        "df = pd.read_csv('https://raw.githubusercontent.com/stepthom/869_course/main/data/GermanCredit.csv')\n",
        "df['Class'] = df['Class'].map({'Good': 1, 'Bad': 0})\n",
        "df.head()\n",
        "X = df.drop(['Class'], axis=1)\n",
        "y = df[['Class']]"
      ],
      "execution_count": 5,
      "outputs": [
        {
          "output_type": "execute_result",
          "data": {
            "text/plain": [
              "   Duration  Amount  InstallmentRatePercentage  ResidenceDuration  Age  \\\n",
              "0         6    1169                          4                  4   67   \n",
              "1        48    5951                          2                  2   22   \n",
              "2        12    2096                          2                  3   49   \n",
              "3        42    7882                          2                  4   45   \n",
              "4        24    4870                          3                  4   53   \n",
              "\n",
              "   NumberExistingCredits  NumberPeopleMaintenance  Telephone  ForeignWorker  \\\n",
              "0                      2                        1          0              1   \n",
              "1                      1                        1          1              1   \n",
              "2                      1                        2          1              1   \n",
              "3                      1                        2          1              1   \n",
              "4                      2                        2          1              1   \n",
              "\n",
              "   Class  ...  OtherInstallmentPlans.Bank  OtherInstallmentPlans.Stores  \\\n",
              "0      1  ...                           0                             0   \n",
              "1      0  ...                           0                             0   \n",
              "2      1  ...                           0                             0   \n",
              "3      1  ...                           0                             0   \n",
              "4      0  ...                           0                             0   \n",
              "\n",
              "   OtherInstallmentPlans.None  Housing.Rent  Housing.Own  Housing.ForFree  \\\n",
              "0                           1             0            1                0   \n",
              "1                           1             0            1                0   \n",
              "2                           1             0            1                0   \n",
              "3                           1             0            0                1   \n",
              "4                           1             0            0                1   \n",
              "\n",
              "   Job.UnemployedUnskilled  Job.UnskilledResident  Job.SkilledEmployee  \\\n",
              "0                        0                      0                    1   \n",
              "1                        0                      0                    1   \n",
              "2                        0                      1                    0   \n",
              "3                        0                      0                    1   \n",
              "4                        0                      0                    1   \n",
              "\n",
              "   Job.Management.SelfEmp.HighlyQualified  \n",
              "0                                       0  \n",
              "1                                       0  \n",
              "2                                       0  \n",
              "3                                       0  \n",
              "4                                       0  \n",
              "\n",
              "[5 rows x 62 columns]"
            ],
            "text/html": [
              "\n",
              "  <div id=\"df-6bcbffdf-8f9d-452b-ae34-40bb455bd030\">\n",
              "    <div class=\"colab-df-container\">\n",
              "      <div>\n",
              "<style scoped>\n",
              "    .dataframe tbody tr th:only-of-type {\n",
              "        vertical-align: middle;\n",
              "    }\n",
              "\n",
              "    .dataframe tbody tr th {\n",
              "        vertical-align: top;\n",
              "    }\n",
              "\n",
              "    .dataframe thead th {\n",
              "        text-align: right;\n",
              "    }\n",
              "</style>\n",
              "<table border=\"1\" class=\"dataframe\">\n",
              "  <thead>\n",
              "    <tr style=\"text-align: right;\">\n",
              "      <th></th>\n",
              "      <th>Duration</th>\n",
              "      <th>Amount</th>\n",
              "      <th>InstallmentRatePercentage</th>\n",
              "      <th>ResidenceDuration</th>\n",
              "      <th>Age</th>\n",
              "      <th>NumberExistingCredits</th>\n",
              "      <th>NumberPeopleMaintenance</th>\n",
              "      <th>Telephone</th>\n",
              "      <th>ForeignWorker</th>\n",
              "      <th>Class</th>\n",
              "      <th>...</th>\n",
              "      <th>OtherInstallmentPlans.Bank</th>\n",
              "      <th>OtherInstallmentPlans.Stores</th>\n",
              "      <th>OtherInstallmentPlans.None</th>\n",
              "      <th>Housing.Rent</th>\n",
              "      <th>Housing.Own</th>\n",
              "      <th>Housing.ForFree</th>\n",
              "      <th>Job.UnemployedUnskilled</th>\n",
              "      <th>Job.UnskilledResident</th>\n",
              "      <th>Job.SkilledEmployee</th>\n",
              "      <th>Job.Management.SelfEmp.HighlyQualified</th>\n",
              "    </tr>\n",
              "  </thead>\n",
              "  <tbody>\n",
              "    <tr>\n",
              "      <th>0</th>\n",
              "      <td>6</td>\n",
              "      <td>1169</td>\n",
              "      <td>4</td>\n",
              "      <td>4</td>\n",
              "      <td>67</td>\n",
              "      <td>2</td>\n",
              "      <td>1</td>\n",
              "      <td>0</td>\n",
              "      <td>1</td>\n",
              "      <td>1</td>\n",
              "      <td>...</td>\n",
              "      <td>0</td>\n",
              "      <td>0</td>\n",
              "      <td>1</td>\n",
              "      <td>0</td>\n",
              "      <td>1</td>\n",
              "      <td>0</td>\n",
              "      <td>0</td>\n",
              "      <td>0</td>\n",
              "      <td>1</td>\n",
              "      <td>0</td>\n",
              "    </tr>\n",
              "    <tr>\n",
              "      <th>1</th>\n",
              "      <td>48</td>\n",
              "      <td>5951</td>\n",
              "      <td>2</td>\n",
              "      <td>2</td>\n",
              "      <td>22</td>\n",
              "      <td>1</td>\n",
              "      <td>1</td>\n",
              "      <td>1</td>\n",
              "      <td>1</td>\n",
              "      <td>0</td>\n",
              "      <td>...</td>\n",
              "      <td>0</td>\n",
              "      <td>0</td>\n",
              "      <td>1</td>\n",
              "      <td>0</td>\n",
              "      <td>1</td>\n",
              "      <td>0</td>\n",
              "      <td>0</td>\n",
              "      <td>0</td>\n",
              "      <td>1</td>\n",
              "      <td>0</td>\n",
              "    </tr>\n",
              "    <tr>\n",
              "      <th>2</th>\n",
              "      <td>12</td>\n",
              "      <td>2096</td>\n",
              "      <td>2</td>\n",
              "      <td>3</td>\n",
              "      <td>49</td>\n",
              "      <td>1</td>\n",
              "      <td>2</td>\n",
              "      <td>1</td>\n",
              "      <td>1</td>\n",
              "      <td>1</td>\n",
              "      <td>...</td>\n",
              "      <td>0</td>\n",
              "      <td>0</td>\n",
              "      <td>1</td>\n",
              "      <td>0</td>\n",
              "      <td>1</td>\n",
              "      <td>0</td>\n",
              "      <td>0</td>\n",
              "      <td>1</td>\n",
              "      <td>0</td>\n",
              "      <td>0</td>\n",
              "    </tr>\n",
              "    <tr>\n",
              "      <th>3</th>\n",
              "      <td>42</td>\n",
              "      <td>7882</td>\n",
              "      <td>2</td>\n",
              "      <td>4</td>\n",
              "      <td>45</td>\n",
              "      <td>1</td>\n",
              "      <td>2</td>\n",
              "      <td>1</td>\n",
              "      <td>1</td>\n",
              "      <td>1</td>\n",
              "      <td>...</td>\n",
              "      <td>0</td>\n",
              "      <td>0</td>\n",
              "      <td>1</td>\n",
              "      <td>0</td>\n",
              "      <td>0</td>\n",
              "      <td>1</td>\n",
              "      <td>0</td>\n",
              "      <td>0</td>\n",
              "      <td>1</td>\n",
              "      <td>0</td>\n",
              "    </tr>\n",
              "    <tr>\n",
              "      <th>4</th>\n",
              "      <td>24</td>\n",
              "      <td>4870</td>\n",
              "      <td>3</td>\n",
              "      <td>4</td>\n",
              "      <td>53</td>\n",
              "      <td>2</td>\n",
              "      <td>2</td>\n",
              "      <td>1</td>\n",
              "      <td>1</td>\n",
              "      <td>0</td>\n",
              "      <td>...</td>\n",
              "      <td>0</td>\n",
              "      <td>0</td>\n",
              "      <td>1</td>\n",
              "      <td>0</td>\n",
              "      <td>0</td>\n",
              "      <td>1</td>\n",
              "      <td>0</td>\n",
              "      <td>0</td>\n",
              "      <td>1</td>\n",
              "      <td>0</td>\n",
              "    </tr>\n",
              "  </tbody>\n",
              "</table>\n",
              "<p>5 rows × 62 columns</p>\n",
              "</div>\n",
              "      <button class=\"colab-df-convert\" onclick=\"convertToInteractive('df-6bcbffdf-8f9d-452b-ae34-40bb455bd030')\"\n",
              "              title=\"Convert this dataframe to an interactive table.\"\n",
              "              style=\"display:none;\">\n",
              "        \n",
              "  <svg xmlns=\"http://www.w3.org/2000/svg\" height=\"24px\"viewBox=\"0 0 24 24\"\n",
              "       width=\"24px\">\n",
              "    <path d=\"M0 0h24v24H0V0z\" fill=\"none\"/>\n",
              "    <path d=\"M18.56 5.44l.94 2.06.94-2.06 2.06-.94-2.06-.94-.94-2.06-.94 2.06-2.06.94zm-11 1L8.5 8.5l.94-2.06 2.06-.94-2.06-.94L8.5 2.5l-.94 2.06-2.06.94zm10 10l.94 2.06.94-2.06 2.06-.94-2.06-.94-.94-2.06-.94 2.06-2.06.94z\"/><path d=\"M17.41 7.96l-1.37-1.37c-.4-.4-.92-.59-1.43-.59-.52 0-1.04.2-1.43.59L10.3 9.45l-7.72 7.72c-.78.78-.78 2.05 0 2.83L4 21.41c.39.39.9.59 1.41.59.51 0 1.02-.2 1.41-.59l7.78-7.78 2.81-2.81c.8-.78.8-2.07 0-2.86zM5.41 20L4 18.59l7.72-7.72 1.47 1.35L5.41 20z\"/>\n",
              "  </svg>\n",
              "      </button>\n",
              "      \n",
              "  <style>\n",
              "    .colab-df-container {\n",
              "      display:flex;\n",
              "      flex-wrap:wrap;\n",
              "      gap: 12px;\n",
              "    }\n",
              "\n",
              "    .colab-df-convert {\n",
              "      background-color: #E8F0FE;\n",
              "      border: none;\n",
              "      border-radius: 50%;\n",
              "      cursor: pointer;\n",
              "      display: none;\n",
              "      fill: #1967D2;\n",
              "      height: 32px;\n",
              "      padding: 0 0 0 0;\n",
              "      width: 32px;\n",
              "    }\n",
              "\n",
              "    .colab-df-convert:hover {\n",
              "      background-color: #E2EBFA;\n",
              "      box-shadow: 0px 1px 2px rgba(60, 64, 67, 0.3), 0px 1px 3px 1px rgba(60, 64, 67, 0.15);\n",
              "      fill: #174EA6;\n",
              "    }\n",
              "\n",
              "    [theme=dark] .colab-df-convert {\n",
              "      background-color: #3B4455;\n",
              "      fill: #D2E3FC;\n",
              "    }\n",
              "\n",
              "    [theme=dark] .colab-df-convert:hover {\n",
              "      background-color: #434B5C;\n",
              "      box-shadow: 0px 1px 3px 1px rgba(0, 0, 0, 0.15);\n",
              "      filter: drop-shadow(0px 1px 2px rgba(0, 0, 0, 0.3));\n",
              "      fill: #FFFFFF;\n",
              "    }\n",
              "  </style>\n",
              "\n",
              "      <script>\n",
              "        const buttonEl =\n",
              "          document.querySelector('#df-6bcbffdf-8f9d-452b-ae34-40bb455bd030 button.colab-df-convert');\n",
              "        buttonEl.style.display =\n",
              "          google.colab.kernel.accessAllowed ? 'block' : 'none';\n",
              "\n",
              "        async function convertToInteractive(key) {\n",
              "          const element = document.querySelector('#df-6bcbffdf-8f9d-452b-ae34-40bb455bd030');\n",
              "          const dataTable =\n",
              "            await google.colab.kernel.invokeFunction('convertToInteractive',\n",
              "                                                     [key], {});\n",
              "          if (!dataTable) return;\n",
              "\n",
              "          const docLinkHtml = 'Like what you see? Visit the ' +\n",
              "            '<a target=\"_blank\" href=https://colab.research.google.com/notebooks/data_table.ipynb>data table notebook</a>'\n",
              "            + ' to learn more about interactive tables.';\n",
              "          element.innerHTML = '';\n",
              "          dataTable['output_type'] = 'display_data';\n",
              "          await google.colab.output.renderOutput(dataTable, element);\n",
              "          const docLink = document.createElement('div');\n",
              "          docLink.innerHTML = docLinkHtml;\n",
              "          element.appendChild(docLink);\n",
              "        }\n",
              "      </script>\n",
              "    </div>\n",
              "  </div>\n",
              "  "
            ]
          },
          "metadata": {},
          "execution_count": 5
        }
      ]
    },
    {
      "cell_type": "code",
      "metadata": {
        "id": "75KgGK195rYG"
      },
      "source": [
        "# Helper function to print out the results of hyperparmater tuning in a nice table.\n",
        "\n",
        "def cv_results_to_df(cv_results):\n",
        "    results = pd.DataFrame(list(cv_results['params']))\n",
        "    #results['mean_fit_time'] = cv_results['mean_fit_time']\n",
        "    #results['mean_score_time'] = cv_results['mean_score_time']\n",
        "    #results['mean_train_score'] = cv_results['mean_train_score']\n",
        "    #results['std_train_score'] = cv_results['std_train_score']\n",
        "    results['mean_val_score'] = cv_results['mean_test_score']\n",
        "    #results['std_val_score'] = cv_results['std_test_score']\n",
        "    results['rank_val_score'] = cv_results['rank_test_score']\n",
        "\n",
        "    results = results.sort_values(['mean_val_score'], ascending=False)\n",
        "    return results"
      ],
      "execution_count": 6,
      "outputs": []
    },
    {
      "cell_type": "markdown",
      "metadata": {
        "id": "uhLW45Zw5rYI"
      },
      "source": [
        "# Decision Trees"
      ]
    },
    {
      "cell_type": "code",
      "metadata": {
        "id": "tTNlZB265rYJ",
        "outputId": "711888b9-c0e5-4202-9972-e699613d853c",
        "colab": {
          "base_uri": "https://localhost:8080/"
        }
      },
      "source": [
        "clf = DecisionTreeClassifier(criterion='entropy', max_depth=5, min_samples_split=5, random_state=0)\n",
        "\n",
        "scores = cross_val_score(clf, X, y, cv=10, scoring=\"accuracy\")\n",
        "print(\"Mean Accuracy: {:.4f}\".format(np.mean(scores)))"
      ],
      "execution_count": 7,
      "outputs": [
        {
          "output_type": "stream",
          "name": "stdout",
          "text": [
            "Mean Accuracy: 0.6970\n"
          ]
        }
      ]
    },
    {
      "cell_type": "code",
      "metadata": {
        "id": "MRu7XuOc6Hug",
        "outputId": "51c56f95-0b9f-4d7c-b1af-ed5ac81da1f8",
        "colab": {
          "base_uri": "https://localhost:8080/"
        }
      },
      "source": [
        "clf2 = DecisionTreeClassifier(criterion='entropy', max_depth=10, min_samples_split=5, random_state=0)\n",
        "\n",
        "scores = cross_val_score(clf2, X, y, cv=10, scoring=\"accuracy\")\n",
        "print(\"Mean Accuracy: {:.4f}\".format(np.mean(scores)))"
      ],
      "execution_count": 8,
      "outputs": [
        {
          "output_type": "stream",
          "name": "stdout",
          "text": [
            "Mean Accuracy: 0.7010\n"
          ]
        }
      ]
    },
    {
      "cell_type": "code",
      "metadata": {
        "id": "IUE5D1aE7Bl_",
        "outputId": "5af66fd2-4d6d-478d-a721-8b8617364db3",
        "colab": {
          "base_uri": "https://localhost:8080/"
        }
      },
      "source": [
        "clf3 = DecisionTreeClassifier(criterion='entropy', max_depth=10, min_samples_split=6, random_state=0)\n",
        "\n",
        "scores = cross_val_score(clf3, X, y, cv=10, scoring=\"accuracy\")\n",
        "print(\"Mean Accuracy: {:.4f}\".format(np.mean(scores)))"
      ],
      "execution_count": 9,
      "outputs": [
        {
          "output_type": "stream",
          "name": "stdout",
          "text": [
            "Mean Accuracy: 0.7040\n"
          ]
        }
      ]
    },
    {
      "cell_type": "markdown",
      "metadata": {
        "id": "2nHxK9q-5rYK"
      },
      "source": [
        "## Hyperparameter Tuning"
      ]
    },
    {
      "cell_type": "markdown",
      "metadata": {
        "id": "iT-5K9bV5rYK"
      },
      "source": [
        "### Grid Search"
      ]
    },
    {
      "cell_type": "code",
      "metadata": {
        "id": "sC2TPQ3g5rYL",
        "outputId": "221ccb84-6e98-42b9-cd13-66d3b1436ca6",
        "colab": {
          "base_uri": "https://localhost:8080/"
        }
      },
      "source": [
        "from sklearn.model_selection import GridSearchCV\n",
        "\n",
        "clf = DecisionTreeClassifier(random_state=42)\n",
        "\n",
        "params = {'criterion': ('gini', 'entropy'), \n",
        "          'splitter': ('best', 'random'), \n",
        "          'class_weight': ('balanced', None), \n",
        "          'max_depth': [2, 5, 10, 20], \n",
        "          'min_samples_leaf': [1, 5, 10],\n",
        "          'max_features':[0.25, 0.5, 0.75, 1.0]}\n",
        "\n",
        "search = GridSearchCV(clf, params, scoring='f1_macro', cv=10, verbose=1)\n",
        "search = search.fit(X, y)"
      ],
      "execution_count": 10,
      "outputs": [
        {
          "output_type": "stream",
          "name": "stdout",
          "text": [
            "Fitting 10 folds for each of 384 candidates, totalling 3840 fits\n"
          ]
        }
      ]
    },
    {
      "cell_type": "code",
      "metadata": {
        "id": "Z1gwRiSM5rYN",
        "outputId": "e8b5b233-0ca7-4c76-a42b-b8995589a465",
        "colab": {
          "base_uri": "https://localhost:8080/"
        }
      },
      "source": [
        "search.best_params_"
      ],
      "execution_count": 11,
      "outputs": [
        {
          "output_type": "execute_result",
          "data": {
            "text/plain": [
              "{'class_weight': 'balanced',\n",
              " 'criterion': 'gini',\n",
              " 'max_depth': 10,\n",
              " 'max_features': 1.0,\n",
              " 'min_samples_leaf': 1,\n",
              " 'splitter': 'best'}"
            ]
          },
          "metadata": {},
          "execution_count": 11
        }
      ]
    },
    {
      "cell_type": "code",
      "source": [
        "search.best_score_"
      ],
      "metadata": {
        "id": "E4vfk0Gw1me2",
        "outputId": "08ec96a2-2432-49e4-b245-d31f2a453cab",
        "colab": {
          "base_uri": "https://localhost:8080/"
        }
      },
      "execution_count": 12,
      "outputs": [
        {
          "output_type": "execute_result",
          "data": {
            "text/plain": [
              "0.6631045623915302"
            ]
          },
          "metadata": {},
          "execution_count": 12
        }
      ]
    },
    {
      "cell_type": "code",
      "metadata": {
        "id": "Jv7eBGv65rYP",
        "outputId": "6cd761eb-f697-4b80-927e-8901cbcb9d9c",
        "colab": {
          "base_uri": "https://localhost:8080/",
          "height": 423
        }
      },
      "source": [
        "cv_results_to_df(search.cv_results_)"
      ],
      "execution_count": 13,
      "outputs": [
        {
          "output_type": "execute_result",
          "data": {
            "text/plain": [
              "    class_weight criterion  max_depth  max_features  min_samples_leaf  \\\n",
              "66      balanced      gini         10          1.00                 1   \n",
              "339         None   entropy         10          0.25                 5   \n",
              "145     balanced   entropy         10          0.25                 1   \n",
              "280         None      gini         20          0.75                10   \n",
              "364         None   entropy         20          0.25                10   \n",
              "..           ...       ...        ...           ...               ...   \n",
              "196         None      gini          2          0.25                10   \n",
              "194         None      gini          2          0.25                 5   \n",
              "288         None   entropy          2          0.25                 1   \n",
              "290         None   entropy          2          0.25                 5   \n",
              "192         None      gini          2          0.25                 1   \n",
              "\n",
              "    splitter  mean_val_score  rank_val_score  \n",
              "66      best        0.663105               1  \n",
              "339   random        0.662809               2  \n",
              "145   random        0.659962               3  \n",
              "280     best        0.658818               4  \n",
              "364     best        0.657111               5  \n",
              "..       ...             ...             ...  \n",
              "196     best        0.411765             379  \n",
              "194     best        0.411765             379  \n",
              "288     best        0.411765             379  \n",
              "290     best        0.411765             379  \n",
              "192     best        0.411765             379  \n",
              "\n",
              "[384 rows x 8 columns]"
            ],
            "text/html": [
              "\n",
              "  <div id=\"df-33a47bf2-8189-43db-bfda-f83e1a13f04d\">\n",
              "    <div class=\"colab-df-container\">\n",
              "      <div>\n",
              "<style scoped>\n",
              "    .dataframe tbody tr th:only-of-type {\n",
              "        vertical-align: middle;\n",
              "    }\n",
              "\n",
              "    .dataframe tbody tr th {\n",
              "        vertical-align: top;\n",
              "    }\n",
              "\n",
              "    .dataframe thead th {\n",
              "        text-align: right;\n",
              "    }\n",
              "</style>\n",
              "<table border=\"1\" class=\"dataframe\">\n",
              "  <thead>\n",
              "    <tr style=\"text-align: right;\">\n",
              "      <th></th>\n",
              "      <th>class_weight</th>\n",
              "      <th>criterion</th>\n",
              "      <th>max_depth</th>\n",
              "      <th>max_features</th>\n",
              "      <th>min_samples_leaf</th>\n",
              "      <th>splitter</th>\n",
              "      <th>mean_val_score</th>\n",
              "      <th>rank_val_score</th>\n",
              "    </tr>\n",
              "  </thead>\n",
              "  <tbody>\n",
              "    <tr>\n",
              "      <th>66</th>\n",
              "      <td>balanced</td>\n",
              "      <td>gini</td>\n",
              "      <td>10</td>\n",
              "      <td>1.00</td>\n",
              "      <td>1</td>\n",
              "      <td>best</td>\n",
              "      <td>0.663105</td>\n",
              "      <td>1</td>\n",
              "    </tr>\n",
              "    <tr>\n",
              "      <th>339</th>\n",
              "      <td>None</td>\n",
              "      <td>entropy</td>\n",
              "      <td>10</td>\n",
              "      <td>0.25</td>\n",
              "      <td>5</td>\n",
              "      <td>random</td>\n",
              "      <td>0.662809</td>\n",
              "      <td>2</td>\n",
              "    </tr>\n",
              "    <tr>\n",
              "      <th>145</th>\n",
              "      <td>balanced</td>\n",
              "      <td>entropy</td>\n",
              "      <td>10</td>\n",
              "      <td>0.25</td>\n",
              "      <td>1</td>\n",
              "      <td>random</td>\n",
              "      <td>0.659962</td>\n",
              "      <td>3</td>\n",
              "    </tr>\n",
              "    <tr>\n",
              "      <th>280</th>\n",
              "      <td>None</td>\n",
              "      <td>gini</td>\n",
              "      <td>20</td>\n",
              "      <td>0.75</td>\n",
              "      <td>10</td>\n",
              "      <td>best</td>\n",
              "      <td>0.658818</td>\n",
              "      <td>4</td>\n",
              "    </tr>\n",
              "    <tr>\n",
              "      <th>364</th>\n",
              "      <td>None</td>\n",
              "      <td>entropy</td>\n",
              "      <td>20</td>\n",
              "      <td>0.25</td>\n",
              "      <td>10</td>\n",
              "      <td>best</td>\n",
              "      <td>0.657111</td>\n",
              "      <td>5</td>\n",
              "    </tr>\n",
              "    <tr>\n",
              "      <th>...</th>\n",
              "      <td>...</td>\n",
              "      <td>...</td>\n",
              "      <td>...</td>\n",
              "      <td>...</td>\n",
              "      <td>...</td>\n",
              "      <td>...</td>\n",
              "      <td>...</td>\n",
              "      <td>...</td>\n",
              "    </tr>\n",
              "    <tr>\n",
              "      <th>196</th>\n",
              "      <td>None</td>\n",
              "      <td>gini</td>\n",
              "      <td>2</td>\n",
              "      <td>0.25</td>\n",
              "      <td>10</td>\n",
              "      <td>best</td>\n",
              "      <td>0.411765</td>\n",
              "      <td>379</td>\n",
              "    </tr>\n",
              "    <tr>\n",
              "      <th>194</th>\n",
              "      <td>None</td>\n",
              "      <td>gini</td>\n",
              "      <td>2</td>\n",
              "      <td>0.25</td>\n",
              "      <td>5</td>\n",
              "      <td>best</td>\n",
              "      <td>0.411765</td>\n",
              "      <td>379</td>\n",
              "    </tr>\n",
              "    <tr>\n",
              "      <th>288</th>\n",
              "      <td>None</td>\n",
              "      <td>entropy</td>\n",
              "      <td>2</td>\n",
              "      <td>0.25</td>\n",
              "      <td>1</td>\n",
              "      <td>best</td>\n",
              "      <td>0.411765</td>\n",
              "      <td>379</td>\n",
              "    </tr>\n",
              "    <tr>\n",
              "      <th>290</th>\n",
              "      <td>None</td>\n",
              "      <td>entropy</td>\n",
              "      <td>2</td>\n",
              "      <td>0.25</td>\n",
              "      <td>5</td>\n",
              "      <td>best</td>\n",
              "      <td>0.411765</td>\n",
              "      <td>379</td>\n",
              "    </tr>\n",
              "    <tr>\n",
              "      <th>192</th>\n",
              "      <td>None</td>\n",
              "      <td>gini</td>\n",
              "      <td>2</td>\n",
              "      <td>0.25</td>\n",
              "      <td>1</td>\n",
              "      <td>best</td>\n",
              "      <td>0.411765</td>\n",
              "      <td>379</td>\n",
              "    </tr>\n",
              "  </tbody>\n",
              "</table>\n",
              "<p>384 rows × 8 columns</p>\n",
              "</div>\n",
              "      <button class=\"colab-df-convert\" onclick=\"convertToInteractive('df-33a47bf2-8189-43db-bfda-f83e1a13f04d')\"\n",
              "              title=\"Convert this dataframe to an interactive table.\"\n",
              "              style=\"display:none;\">\n",
              "        \n",
              "  <svg xmlns=\"http://www.w3.org/2000/svg\" height=\"24px\"viewBox=\"0 0 24 24\"\n",
              "       width=\"24px\">\n",
              "    <path d=\"M0 0h24v24H0V0z\" fill=\"none\"/>\n",
              "    <path d=\"M18.56 5.44l.94 2.06.94-2.06 2.06-.94-2.06-.94-.94-2.06-.94 2.06-2.06.94zm-11 1L8.5 8.5l.94-2.06 2.06-.94-2.06-.94L8.5 2.5l-.94 2.06-2.06.94zm10 10l.94 2.06.94-2.06 2.06-.94-2.06-.94-.94-2.06-.94 2.06-2.06.94z\"/><path d=\"M17.41 7.96l-1.37-1.37c-.4-.4-.92-.59-1.43-.59-.52 0-1.04.2-1.43.59L10.3 9.45l-7.72 7.72c-.78.78-.78 2.05 0 2.83L4 21.41c.39.39.9.59 1.41.59.51 0 1.02-.2 1.41-.59l7.78-7.78 2.81-2.81c.8-.78.8-2.07 0-2.86zM5.41 20L4 18.59l7.72-7.72 1.47 1.35L5.41 20z\"/>\n",
              "  </svg>\n",
              "      </button>\n",
              "      \n",
              "  <style>\n",
              "    .colab-df-container {\n",
              "      display:flex;\n",
              "      flex-wrap:wrap;\n",
              "      gap: 12px;\n",
              "    }\n",
              "\n",
              "    .colab-df-convert {\n",
              "      background-color: #E8F0FE;\n",
              "      border: none;\n",
              "      border-radius: 50%;\n",
              "      cursor: pointer;\n",
              "      display: none;\n",
              "      fill: #1967D2;\n",
              "      height: 32px;\n",
              "      padding: 0 0 0 0;\n",
              "      width: 32px;\n",
              "    }\n",
              "\n",
              "    .colab-df-convert:hover {\n",
              "      background-color: #E2EBFA;\n",
              "      box-shadow: 0px 1px 2px rgba(60, 64, 67, 0.3), 0px 1px 3px 1px rgba(60, 64, 67, 0.15);\n",
              "      fill: #174EA6;\n",
              "    }\n",
              "\n",
              "    [theme=dark] .colab-df-convert {\n",
              "      background-color: #3B4455;\n",
              "      fill: #D2E3FC;\n",
              "    }\n",
              "\n",
              "    [theme=dark] .colab-df-convert:hover {\n",
              "      background-color: #434B5C;\n",
              "      box-shadow: 0px 1px 3px 1px rgba(0, 0, 0, 0.15);\n",
              "      filter: drop-shadow(0px 1px 2px rgba(0, 0, 0, 0.3));\n",
              "      fill: #FFFFFF;\n",
              "    }\n",
              "  </style>\n",
              "\n",
              "      <script>\n",
              "        const buttonEl =\n",
              "          document.querySelector('#df-33a47bf2-8189-43db-bfda-f83e1a13f04d button.colab-df-convert');\n",
              "        buttonEl.style.display =\n",
              "          google.colab.kernel.accessAllowed ? 'block' : 'none';\n",
              "\n",
              "        async function convertToInteractive(key) {\n",
              "          const element = document.querySelector('#df-33a47bf2-8189-43db-bfda-f83e1a13f04d');\n",
              "          const dataTable =\n",
              "            await google.colab.kernel.invokeFunction('convertToInteractive',\n",
              "                                                     [key], {});\n",
              "          if (!dataTable) return;\n",
              "\n",
              "          const docLinkHtml = 'Like what you see? Visit the ' +\n",
              "            '<a target=\"_blank\" href=https://colab.research.google.com/notebooks/data_table.ipynb>data table notebook</a>'\n",
              "            + ' to learn more about interactive tables.';\n",
              "          element.innerHTML = '';\n",
              "          dataTable['output_type'] = 'display_data';\n",
              "          await google.colab.output.renderOutput(dataTable, element);\n",
              "          const docLink = document.createElement('div');\n",
              "          docLink.innerHTML = docLinkHtml;\n",
              "          element.appendChild(docLink);\n",
              "        }\n",
              "      </script>\n",
              "    </div>\n",
              "  </div>\n",
              "  "
            ]
          },
          "metadata": {},
          "execution_count": 13
        }
      ]
    },
    {
      "cell_type": "markdown",
      "metadata": {
        "id": "tnXwirRi5rYP"
      },
      "source": [
        "### Random Search"
      ]
    },
    {
      "cell_type": "code",
      "metadata": {
        "id": "FRk-AsiX5rYP",
        "outputId": "06544d76-a4c0-40c7-d696-0b9d0d37e90f",
        "colab": {
          "base_uri": "https://localhost:8080/"
        }
      },
      "source": [
        "from sklearn.model_selection import RandomizedSearchCV\n",
        "from scipy.stats import randint, uniform\n",
        "\n",
        "clf = DecisionTreeClassifier(random_state=42)\n",
        "\n",
        "params = {\"criterion\": [\"gini\", \"entropy\"],\n",
        "          \"splitter\": [\"best\", \"random\"],\n",
        "          \"class_weight\": ['balanced', None], \n",
        "          \"max_depth\": randint(2, 21),\n",
        "          \"min_samples_leaf\": randint(1, 11),\n",
        "          \"max_features\": uniform(0.0, 1.0)}\n",
        "\n",
        "search = RandomizedSearchCV(clf, param_distributions=params, n_iter=1000, scoring='f1_macro', cv=10, verbose=1)\n",
        "search = search.fit(X, y)"
      ],
      "execution_count": 15,
      "outputs": [
        {
          "output_type": "stream",
          "name": "stdout",
          "text": [
            "Fitting 10 folds for each of 1000 candidates, totalling 10000 fits\n"
          ]
        }
      ]
    },
    {
      "cell_type": "code",
      "metadata": {
        "id": "pNrBDryu5rYR",
        "outputId": "d5d0e9db-44ac-4d25-f906-4c90e3197638",
        "colab": {
          "base_uri": "https://localhost:8080/"
        }
      },
      "source": [
        "search.best_params_"
      ],
      "execution_count": 16,
      "outputs": [
        {
          "output_type": "execute_result",
          "data": {
            "text/plain": [
              "{'class_weight': None,\n",
              " 'criterion': 'gini',\n",
              " 'max_depth': 8,\n",
              " 'max_features': 0.3305176264926438,\n",
              " 'min_samples_leaf': 7,\n",
              " 'splitter': 'random'}"
            ]
          },
          "metadata": {},
          "execution_count": 16
        }
      ]
    },
    {
      "cell_type": "code",
      "source": [
        "search.best_score_"
      ],
      "metadata": {
        "id": "1apo9rK81z4_",
        "outputId": "ae71d399-eef2-489f-e2aa-2334a475e800",
        "colab": {
          "base_uri": "https://localhost:8080/"
        }
      },
      "execution_count": 18,
      "outputs": [
        {
          "output_type": "execute_result",
          "data": {
            "text/plain": [
              "0.6773351251760114"
            ]
          },
          "metadata": {},
          "execution_count": 18
        }
      ]
    },
    {
      "cell_type": "code",
      "metadata": {
        "id": "x7x9Qvj65rYR",
        "outputId": "d4377362-433a-4895-8681-d558ef7faa06",
        "colab": {
          "base_uri": "https://localhost:8080/",
          "height": 423
        }
      },
      "source": [
        "cv_results_to_df(search.cv_results_)"
      ],
      "execution_count": 19,
      "outputs": [
        {
          "output_type": "execute_result",
          "data": {
            "text/plain": [
              "    class_weight criterion  max_depth  max_features  min_samples_leaf  \\\n",
              "142         None      gini          8      0.330518                 7   \n",
              "477         None   entropy         18      0.146264                 8   \n",
              "839         None   entropy         20      0.740945                 8   \n",
              "108         None   entropy         10      0.120987                10   \n",
              "645         None   entropy         20      0.886055                 7   \n",
              "..           ...       ...        ...           ...               ...   \n",
              "738     balanced   entropy          2      0.018126                 2   \n",
              "250         None      gini          2      0.042513                 1   \n",
              "73          None      gini          2      0.021087                 4   \n",
              "304         None   entropy          2      0.170939                10   \n",
              "270         None      gini          2      0.025195                 7   \n",
              "\n",
              "    splitter  mean_val_score  rank_val_score  \n",
              "142   random        0.677335               1  \n",
              "477     best        0.677065               2  \n",
              "839     best        0.671164               3  \n",
              "108     best        0.669481               4  \n",
              "645     best        0.669268               5  \n",
              "..       ...             ...             ...  \n",
              "738     best        0.416271             996  \n",
              "250     best        0.411765             997  \n",
              "73      best        0.411765             997  \n",
              "304   random        0.411765             997  \n",
              "270   random        0.411765             997  \n",
              "\n",
              "[1000 rows x 8 columns]"
            ],
            "text/html": [
              "\n",
              "  <div id=\"df-2e196711-0d25-4f9a-b30f-b4b3497a088b\">\n",
              "    <div class=\"colab-df-container\">\n",
              "      <div>\n",
              "<style scoped>\n",
              "    .dataframe tbody tr th:only-of-type {\n",
              "        vertical-align: middle;\n",
              "    }\n",
              "\n",
              "    .dataframe tbody tr th {\n",
              "        vertical-align: top;\n",
              "    }\n",
              "\n",
              "    .dataframe thead th {\n",
              "        text-align: right;\n",
              "    }\n",
              "</style>\n",
              "<table border=\"1\" class=\"dataframe\">\n",
              "  <thead>\n",
              "    <tr style=\"text-align: right;\">\n",
              "      <th></th>\n",
              "      <th>class_weight</th>\n",
              "      <th>criterion</th>\n",
              "      <th>max_depth</th>\n",
              "      <th>max_features</th>\n",
              "      <th>min_samples_leaf</th>\n",
              "      <th>splitter</th>\n",
              "      <th>mean_val_score</th>\n",
              "      <th>rank_val_score</th>\n",
              "    </tr>\n",
              "  </thead>\n",
              "  <tbody>\n",
              "    <tr>\n",
              "      <th>142</th>\n",
              "      <td>None</td>\n",
              "      <td>gini</td>\n",
              "      <td>8</td>\n",
              "      <td>0.330518</td>\n",
              "      <td>7</td>\n",
              "      <td>random</td>\n",
              "      <td>0.677335</td>\n",
              "      <td>1</td>\n",
              "    </tr>\n",
              "    <tr>\n",
              "      <th>477</th>\n",
              "      <td>None</td>\n",
              "      <td>entropy</td>\n",
              "      <td>18</td>\n",
              "      <td>0.146264</td>\n",
              "      <td>8</td>\n",
              "      <td>best</td>\n",
              "      <td>0.677065</td>\n",
              "      <td>2</td>\n",
              "    </tr>\n",
              "    <tr>\n",
              "      <th>839</th>\n",
              "      <td>None</td>\n",
              "      <td>entropy</td>\n",
              "      <td>20</td>\n",
              "      <td>0.740945</td>\n",
              "      <td>8</td>\n",
              "      <td>best</td>\n",
              "      <td>0.671164</td>\n",
              "      <td>3</td>\n",
              "    </tr>\n",
              "    <tr>\n",
              "      <th>108</th>\n",
              "      <td>None</td>\n",
              "      <td>entropy</td>\n",
              "      <td>10</td>\n",
              "      <td>0.120987</td>\n",
              "      <td>10</td>\n",
              "      <td>best</td>\n",
              "      <td>0.669481</td>\n",
              "      <td>4</td>\n",
              "    </tr>\n",
              "    <tr>\n",
              "      <th>645</th>\n",
              "      <td>None</td>\n",
              "      <td>entropy</td>\n",
              "      <td>20</td>\n",
              "      <td>0.886055</td>\n",
              "      <td>7</td>\n",
              "      <td>best</td>\n",
              "      <td>0.669268</td>\n",
              "      <td>5</td>\n",
              "    </tr>\n",
              "    <tr>\n",
              "      <th>...</th>\n",
              "      <td>...</td>\n",
              "      <td>...</td>\n",
              "      <td>...</td>\n",
              "      <td>...</td>\n",
              "      <td>...</td>\n",
              "      <td>...</td>\n",
              "      <td>...</td>\n",
              "      <td>...</td>\n",
              "    </tr>\n",
              "    <tr>\n",
              "      <th>738</th>\n",
              "      <td>balanced</td>\n",
              "      <td>entropy</td>\n",
              "      <td>2</td>\n",
              "      <td>0.018126</td>\n",
              "      <td>2</td>\n",
              "      <td>best</td>\n",
              "      <td>0.416271</td>\n",
              "      <td>996</td>\n",
              "    </tr>\n",
              "    <tr>\n",
              "      <th>250</th>\n",
              "      <td>None</td>\n",
              "      <td>gini</td>\n",
              "      <td>2</td>\n",
              "      <td>0.042513</td>\n",
              "      <td>1</td>\n",
              "      <td>best</td>\n",
              "      <td>0.411765</td>\n",
              "      <td>997</td>\n",
              "    </tr>\n",
              "    <tr>\n",
              "      <th>73</th>\n",
              "      <td>None</td>\n",
              "      <td>gini</td>\n",
              "      <td>2</td>\n",
              "      <td>0.021087</td>\n",
              "      <td>4</td>\n",
              "      <td>best</td>\n",
              "      <td>0.411765</td>\n",
              "      <td>997</td>\n",
              "    </tr>\n",
              "    <tr>\n",
              "      <th>304</th>\n",
              "      <td>None</td>\n",
              "      <td>entropy</td>\n",
              "      <td>2</td>\n",
              "      <td>0.170939</td>\n",
              "      <td>10</td>\n",
              "      <td>random</td>\n",
              "      <td>0.411765</td>\n",
              "      <td>997</td>\n",
              "    </tr>\n",
              "    <tr>\n",
              "      <th>270</th>\n",
              "      <td>None</td>\n",
              "      <td>gini</td>\n",
              "      <td>2</td>\n",
              "      <td>0.025195</td>\n",
              "      <td>7</td>\n",
              "      <td>random</td>\n",
              "      <td>0.411765</td>\n",
              "      <td>997</td>\n",
              "    </tr>\n",
              "  </tbody>\n",
              "</table>\n",
              "<p>1000 rows × 8 columns</p>\n",
              "</div>\n",
              "      <button class=\"colab-df-convert\" onclick=\"convertToInteractive('df-2e196711-0d25-4f9a-b30f-b4b3497a088b')\"\n",
              "              title=\"Convert this dataframe to an interactive table.\"\n",
              "              style=\"display:none;\">\n",
              "        \n",
              "  <svg xmlns=\"http://www.w3.org/2000/svg\" height=\"24px\"viewBox=\"0 0 24 24\"\n",
              "       width=\"24px\">\n",
              "    <path d=\"M0 0h24v24H0V0z\" fill=\"none\"/>\n",
              "    <path d=\"M18.56 5.44l.94 2.06.94-2.06 2.06-.94-2.06-.94-.94-2.06-.94 2.06-2.06.94zm-11 1L8.5 8.5l.94-2.06 2.06-.94-2.06-.94L8.5 2.5l-.94 2.06-2.06.94zm10 10l.94 2.06.94-2.06 2.06-.94-2.06-.94-.94-2.06-.94 2.06-2.06.94z\"/><path d=\"M17.41 7.96l-1.37-1.37c-.4-.4-.92-.59-1.43-.59-.52 0-1.04.2-1.43.59L10.3 9.45l-7.72 7.72c-.78.78-.78 2.05 0 2.83L4 21.41c.39.39.9.59 1.41.59.51 0 1.02-.2 1.41-.59l7.78-7.78 2.81-2.81c.8-.78.8-2.07 0-2.86zM5.41 20L4 18.59l7.72-7.72 1.47 1.35L5.41 20z\"/>\n",
              "  </svg>\n",
              "      </button>\n",
              "      \n",
              "  <style>\n",
              "    .colab-df-container {\n",
              "      display:flex;\n",
              "      flex-wrap:wrap;\n",
              "      gap: 12px;\n",
              "    }\n",
              "\n",
              "    .colab-df-convert {\n",
              "      background-color: #E8F0FE;\n",
              "      border: none;\n",
              "      border-radius: 50%;\n",
              "      cursor: pointer;\n",
              "      display: none;\n",
              "      fill: #1967D2;\n",
              "      height: 32px;\n",
              "      padding: 0 0 0 0;\n",
              "      width: 32px;\n",
              "    }\n",
              "\n",
              "    .colab-df-convert:hover {\n",
              "      background-color: #E2EBFA;\n",
              "      box-shadow: 0px 1px 2px rgba(60, 64, 67, 0.3), 0px 1px 3px 1px rgba(60, 64, 67, 0.15);\n",
              "      fill: #174EA6;\n",
              "    }\n",
              "\n",
              "    [theme=dark] .colab-df-convert {\n",
              "      background-color: #3B4455;\n",
              "      fill: #D2E3FC;\n",
              "    }\n",
              "\n",
              "    [theme=dark] .colab-df-convert:hover {\n",
              "      background-color: #434B5C;\n",
              "      box-shadow: 0px 1px 3px 1px rgba(0, 0, 0, 0.15);\n",
              "      filter: drop-shadow(0px 1px 2px rgba(0, 0, 0, 0.3));\n",
              "      fill: #FFFFFF;\n",
              "    }\n",
              "  </style>\n",
              "\n",
              "      <script>\n",
              "        const buttonEl =\n",
              "          document.querySelector('#df-2e196711-0d25-4f9a-b30f-b4b3497a088b button.colab-df-convert');\n",
              "        buttonEl.style.display =\n",
              "          google.colab.kernel.accessAllowed ? 'block' : 'none';\n",
              "\n",
              "        async function convertToInteractive(key) {\n",
              "          const element = document.querySelector('#df-2e196711-0d25-4f9a-b30f-b4b3497a088b');\n",
              "          const dataTable =\n",
              "            await google.colab.kernel.invokeFunction('convertToInteractive',\n",
              "                                                     [key], {});\n",
              "          if (!dataTable) return;\n",
              "\n",
              "          const docLinkHtml = 'Like what you see? Visit the ' +\n",
              "            '<a target=\"_blank\" href=https://colab.research.google.com/notebooks/data_table.ipynb>data table notebook</a>'\n",
              "            + ' to learn more about interactive tables.';\n",
              "          element.innerHTML = '';\n",
              "          dataTable['output_type'] = 'display_data';\n",
              "          await google.colab.output.renderOutput(dataTable, element);\n",
              "          const docLink = document.createElement('div');\n",
              "          docLink.innerHTML = docLinkHtml;\n",
              "          element.appendChild(docLink);\n",
              "        }\n",
              "      </script>\n",
              "    </div>\n",
              "  </div>\n",
              "  "
            ]
          },
          "metadata": {},
          "execution_count": 19
        }
      ]
    },
    {
      "cell_type": "markdown",
      "source": [
        "# Halving Grid Search"
      ],
      "metadata": {
        "id": "c53Ud7dc2sw1"
      }
    },
    {
      "cell_type": "code",
      "source": [
        "from sklearn.experimental import enable_halving_search_cv # noqa\n",
        "from sklearn.model_selection import HalvingGridSearchCV\n",
        "\n",
        "clf = DecisionTreeClassifier(random_state=42)\n",
        "\n",
        "params = {'criterion': ('gini', 'entropy'), \n",
        "          'splitter': ('best', 'random'), \n",
        "          'class_weight': ('balanced', None), \n",
        "          'max_depth': [2, 5, 10, 20], \n",
        "          'min_samples_leaf': [1, 5, 10],\n",
        "          'max_features':[0.25, 0.5, 0.75, 1.0]}\n",
        "\n",
        "search = HalvingGridSearchCV(clf, params, scoring='f1_macro', cv=10, verbose=1)\n",
        "search = search.fit(X, y)"
      ],
      "metadata": {
        "id": "BO7hgxHx2tyM",
        "outputId": "5097a735-bc25-4360-ab49-b200b34bc1f8",
        "colab": {
          "base_uri": "https://localhost:8080/"
        }
      },
      "execution_count": 20,
      "outputs": [
        {
          "output_type": "stream",
          "name": "stderr",
          "text": [
            "/usr/local/lib/python3.7/dist-packages/sklearn/utils/validation.py:993: DataConversionWarning: A column-vector y was passed when a 1d array was expected. Please change the shape of y to (n_samples, ), for example using ravel().\n",
            "  y = column_or_1d(y, warn=True)\n"
          ]
        },
        {
          "output_type": "stream",
          "name": "stdout",
          "text": [
            "n_iterations: 3\n",
            "n_required_iterations: 6\n",
            "n_possible_iterations: 3\n",
            "min_resources_: 40\n",
            "max_resources_: 1000\n",
            "aggressive_elimination: False\n",
            "factor: 3\n",
            "----------\n",
            "iter: 0\n",
            "n_candidates: 384\n",
            "n_resources: 40\n",
            "Fitting 10 folds for each of 384 candidates, totalling 3840 fits\n",
            "----------\n",
            "iter: 1\n",
            "n_candidates: 128\n",
            "n_resources: 120\n",
            "Fitting 10 folds for each of 128 candidates, totalling 1280 fits\n",
            "----------\n",
            "iter: 2\n",
            "n_candidates: 43\n",
            "n_resources: 360\n",
            "Fitting 10 folds for each of 43 candidates, totalling 430 fits\n"
          ]
        }
      ]
    },
    {
      "cell_type": "code",
      "source": [
        "search.best_params_"
      ],
      "metadata": {
        "id": "X5R78q2Z2_P2",
        "outputId": "1a348c19-be93-4a95-8370-62d8382367da",
        "colab": {
          "base_uri": "https://localhost:8080/"
        }
      },
      "execution_count": 21,
      "outputs": [
        {
          "output_type": "execute_result",
          "data": {
            "text/plain": [
              "{'class_weight': None,\n",
              " 'criterion': 'gini',\n",
              " 'max_depth': 20,\n",
              " 'max_features': 1.0,\n",
              " 'min_samples_leaf': 5,\n",
              " 'splitter': 'random'}"
            ]
          },
          "metadata": {},
          "execution_count": 21
        }
      ]
    },
    {
      "cell_type": "code",
      "source": [
        "search.best_score_"
      ],
      "metadata": {
        "id": "kPFupz4s255k",
        "outputId": "062a633c-8f28-468f-bcfa-45a97e8b3cc5",
        "colab": {
          "base_uri": "https://localhost:8080/"
        }
      },
      "execution_count": 22,
      "outputs": [
        {
          "output_type": "execute_result",
          "data": {
            "text/plain": [
              "0.6523930710014034"
            ]
          },
          "metadata": {},
          "execution_count": 22
        }
      ]
    },
    {
      "cell_type": "code",
      "source": [
        "cv_results_to_df(search.cv_results_)"
      ],
      "metadata": {
        "id": "J7SYnnUM3ASm",
        "outputId": "60babfc4-4844-4fb1-f6fa-ae71f64933f4",
        "colab": {
          "base_uri": "https://localhost:8080/",
          "height": 423
        }
      },
      "execution_count": 23,
      "outputs": [
        {
          "output_type": "execute_result",
          "data": {
            "text/plain": [
              "    class_weight criterion  max_depth  max_features  min_samples_leaf  \\\n",
              "285         None      gini         20          1.00                 5   \n",
              "261         None      gini         10          1.00                 5   \n",
              "237         None      gini          5          1.00                 5   \n",
              "303         None   entropy          2          0.75                 5   \n",
              "213         None      gini          2          1.00                 5   \n",
              "..           ...       ...        ...           ...               ...   \n",
              "113     balanced   entropy          2          0.75                10   \n",
              "191     balanced   entropy         20          1.00                10   \n",
              "119     balanced   entropy          2          1.00                10   \n",
              "161     balanced   entropy         10          0.75                10   \n",
              "137     balanced   entropy          5          0.75                10   \n",
              "\n",
              "    splitter  mean_val_score  rank_val_score  \n",
              "285   random        0.723333               1  \n",
              "261   random        0.723333               1  \n",
              "237   random        0.723333               1  \n",
              "303   random        0.720000               4  \n",
              "213   random        0.696667               5  \n",
              "..       ...             ...             ...  \n",
              "113   random        0.380000             548  \n",
              "191   random        0.380000             548  \n",
              "119   random        0.380000             548  \n",
              "161   random        0.380000             548  \n",
              "137   random        0.380000             548  \n",
              "\n",
              "[555 rows x 8 columns]"
            ],
            "text/html": [
              "\n",
              "  <div id=\"df-ce1cf36e-5647-44d4-99c9-ff9c11ac5839\">\n",
              "    <div class=\"colab-df-container\">\n",
              "      <div>\n",
              "<style scoped>\n",
              "    .dataframe tbody tr th:only-of-type {\n",
              "        vertical-align: middle;\n",
              "    }\n",
              "\n",
              "    .dataframe tbody tr th {\n",
              "        vertical-align: top;\n",
              "    }\n",
              "\n",
              "    .dataframe thead th {\n",
              "        text-align: right;\n",
              "    }\n",
              "</style>\n",
              "<table border=\"1\" class=\"dataframe\">\n",
              "  <thead>\n",
              "    <tr style=\"text-align: right;\">\n",
              "      <th></th>\n",
              "      <th>class_weight</th>\n",
              "      <th>criterion</th>\n",
              "      <th>max_depth</th>\n",
              "      <th>max_features</th>\n",
              "      <th>min_samples_leaf</th>\n",
              "      <th>splitter</th>\n",
              "      <th>mean_val_score</th>\n",
              "      <th>rank_val_score</th>\n",
              "    </tr>\n",
              "  </thead>\n",
              "  <tbody>\n",
              "    <tr>\n",
              "      <th>285</th>\n",
              "      <td>None</td>\n",
              "      <td>gini</td>\n",
              "      <td>20</td>\n",
              "      <td>1.00</td>\n",
              "      <td>5</td>\n",
              "      <td>random</td>\n",
              "      <td>0.723333</td>\n",
              "      <td>1</td>\n",
              "    </tr>\n",
              "    <tr>\n",
              "      <th>261</th>\n",
              "      <td>None</td>\n",
              "      <td>gini</td>\n",
              "      <td>10</td>\n",
              "      <td>1.00</td>\n",
              "      <td>5</td>\n",
              "      <td>random</td>\n",
              "      <td>0.723333</td>\n",
              "      <td>1</td>\n",
              "    </tr>\n",
              "    <tr>\n",
              "      <th>237</th>\n",
              "      <td>None</td>\n",
              "      <td>gini</td>\n",
              "      <td>5</td>\n",
              "      <td>1.00</td>\n",
              "      <td>5</td>\n",
              "      <td>random</td>\n",
              "      <td>0.723333</td>\n",
              "      <td>1</td>\n",
              "    </tr>\n",
              "    <tr>\n",
              "      <th>303</th>\n",
              "      <td>None</td>\n",
              "      <td>entropy</td>\n",
              "      <td>2</td>\n",
              "      <td>0.75</td>\n",
              "      <td>5</td>\n",
              "      <td>random</td>\n",
              "      <td>0.720000</td>\n",
              "      <td>4</td>\n",
              "    </tr>\n",
              "    <tr>\n",
              "      <th>213</th>\n",
              "      <td>None</td>\n",
              "      <td>gini</td>\n",
              "      <td>2</td>\n",
              "      <td>1.00</td>\n",
              "      <td>5</td>\n",
              "      <td>random</td>\n",
              "      <td>0.696667</td>\n",
              "      <td>5</td>\n",
              "    </tr>\n",
              "    <tr>\n",
              "      <th>...</th>\n",
              "      <td>...</td>\n",
              "      <td>...</td>\n",
              "      <td>...</td>\n",
              "      <td>...</td>\n",
              "      <td>...</td>\n",
              "      <td>...</td>\n",
              "      <td>...</td>\n",
              "      <td>...</td>\n",
              "    </tr>\n",
              "    <tr>\n",
              "      <th>113</th>\n",
              "      <td>balanced</td>\n",
              "      <td>entropy</td>\n",
              "      <td>2</td>\n",
              "      <td>0.75</td>\n",
              "      <td>10</td>\n",
              "      <td>random</td>\n",
              "      <td>0.380000</td>\n",
              "      <td>548</td>\n",
              "    </tr>\n",
              "    <tr>\n",
              "      <th>191</th>\n",
              "      <td>balanced</td>\n",
              "      <td>entropy</td>\n",
              "      <td>20</td>\n",
              "      <td>1.00</td>\n",
              "      <td>10</td>\n",
              "      <td>random</td>\n",
              "      <td>0.380000</td>\n",
              "      <td>548</td>\n",
              "    </tr>\n",
              "    <tr>\n",
              "      <th>119</th>\n",
              "      <td>balanced</td>\n",
              "      <td>entropy</td>\n",
              "      <td>2</td>\n",
              "      <td>1.00</td>\n",
              "      <td>10</td>\n",
              "      <td>random</td>\n",
              "      <td>0.380000</td>\n",
              "      <td>548</td>\n",
              "    </tr>\n",
              "    <tr>\n",
              "      <th>161</th>\n",
              "      <td>balanced</td>\n",
              "      <td>entropy</td>\n",
              "      <td>10</td>\n",
              "      <td>0.75</td>\n",
              "      <td>10</td>\n",
              "      <td>random</td>\n",
              "      <td>0.380000</td>\n",
              "      <td>548</td>\n",
              "    </tr>\n",
              "    <tr>\n",
              "      <th>137</th>\n",
              "      <td>balanced</td>\n",
              "      <td>entropy</td>\n",
              "      <td>5</td>\n",
              "      <td>0.75</td>\n",
              "      <td>10</td>\n",
              "      <td>random</td>\n",
              "      <td>0.380000</td>\n",
              "      <td>548</td>\n",
              "    </tr>\n",
              "  </tbody>\n",
              "</table>\n",
              "<p>555 rows × 8 columns</p>\n",
              "</div>\n",
              "      <button class=\"colab-df-convert\" onclick=\"convertToInteractive('df-ce1cf36e-5647-44d4-99c9-ff9c11ac5839')\"\n",
              "              title=\"Convert this dataframe to an interactive table.\"\n",
              "              style=\"display:none;\">\n",
              "        \n",
              "  <svg xmlns=\"http://www.w3.org/2000/svg\" height=\"24px\"viewBox=\"0 0 24 24\"\n",
              "       width=\"24px\">\n",
              "    <path d=\"M0 0h24v24H0V0z\" fill=\"none\"/>\n",
              "    <path d=\"M18.56 5.44l.94 2.06.94-2.06 2.06-.94-2.06-.94-.94-2.06-.94 2.06-2.06.94zm-11 1L8.5 8.5l.94-2.06 2.06-.94-2.06-.94L8.5 2.5l-.94 2.06-2.06.94zm10 10l.94 2.06.94-2.06 2.06-.94-2.06-.94-.94-2.06-.94 2.06-2.06.94z\"/><path d=\"M17.41 7.96l-1.37-1.37c-.4-.4-.92-.59-1.43-.59-.52 0-1.04.2-1.43.59L10.3 9.45l-7.72 7.72c-.78.78-.78 2.05 0 2.83L4 21.41c.39.39.9.59 1.41.59.51 0 1.02-.2 1.41-.59l7.78-7.78 2.81-2.81c.8-.78.8-2.07 0-2.86zM5.41 20L4 18.59l7.72-7.72 1.47 1.35L5.41 20z\"/>\n",
              "  </svg>\n",
              "      </button>\n",
              "      \n",
              "  <style>\n",
              "    .colab-df-container {\n",
              "      display:flex;\n",
              "      flex-wrap:wrap;\n",
              "      gap: 12px;\n",
              "    }\n",
              "\n",
              "    .colab-df-convert {\n",
              "      background-color: #E8F0FE;\n",
              "      border: none;\n",
              "      border-radius: 50%;\n",
              "      cursor: pointer;\n",
              "      display: none;\n",
              "      fill: #1967D2;\n",
              "      height: 32px;\n",
              "      padding: 0 0 0 0;\n",
              "      width: 32px;\n",
              "    }\n",
              "\n",
              "    .colab-df-convert:hover {\n",
              "      background-color: #E2EBFA;\n",
              "      box-shadow: 0px 1px 2px rgba(60, 64, 67, 0.3), 0px 1px 3px 1px rgba(60, 64, 67, 0.15);\n",
              "      fill: #174EA6;\n",
              "    }\n",
              "\n",
              "    [theme=dark] .colab-df-convert {\n",
              "      background-color: #3B4455;\n",
              "      fill: #D2E3FC;\n",
              "    }\n",
              "\n",
              "    [theme=dark] .colab-df-convert:hover {\n",
              "      background-color: #434B5C;\n",
              "      box-shadow: 0px 1px 3px 1px rgba(0, 0, 0, 0.15);\n",
              "      filter: drop-shadow(0px 1px 2px rgba(0, 0, 0, 0.3));\n",
              "      fill: #FFFFFF;\n",
              "    }\n",
              "  </style>\n",
              "\n",
              "      <script>\n",
              "        const buttonEl =\n",
              "          document.querySelector('#df-ce1cf36e-5647-44d4-99c9-ff9c11ac5839 button.colab-df-convert');\n",
              "        buttonEl.style.display =\n",
              "          google.colab.kernel.accessAllowed ? 'block' : 'none';\n",
              "\n",
              "        async function convertToInteractive(key) {\n",
              "          const element = document.querySelector('#df-ce1cf36e-5647-44d4-99c9-ff9c11ac5839');\n",
              "          const dataTable =\n",
              "            await google.colab.kernel.invokeFunction('convertToInteractive',\n",
              "                                                     [key], {});\n",
              "          if (!dataTable) return;\n",
              "\n",
              "          const docLinkHtml = 'Like what you see? Visit the ' +\n",
              "            '<a target=\"_blank\" href=https://colab.research.google.com/notebooks/data_table.ipynb>data table notebook</a>'\n",
              "            + ' to learn more about interactive tables.';\n",
              "          element.innerHTML = '';\n",
              "          dataTable['output_type'] = 'display_data';\n",
              "          await google.colab.output.renderOutput(dataTable, element);\n",
              "          const docLink = document.createElement('div');\n",
              "          docLink.innerHTML = docLinkHtml;\n",
              "          element.appendChild(docLink);\n",
              "        }\n",
              "      </script>\n",
              "    </div>\n",
              "  </div>\n",
              "  "
            ]
          },
          "metadata": {},
          "execution_count": 23
        }
      ]
    },
    {
      "cell_type": "code",
      "source": [
        ""
      ],
      "metadata": {
        "id": "ORPZcFEE3N9Y"
      },
      "execution_count": null,
      "outputs": []
    }
  ]
}