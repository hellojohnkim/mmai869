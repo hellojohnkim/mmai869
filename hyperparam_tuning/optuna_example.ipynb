{
  "cells": [
    {
      "cell_type": "markdown",
      "metadata": {
        "id": "view-in-github",
        "colab_type": "text"
      },
      "source": [
        "<a href=\"https://colab.research.google.com/github/stepthom/869_course/blob/main/optuna_example.ipynb\" target=\"_parent\"><img src=\"https://colab.research.google.com/assets/colab-badge.svg\" alt=\"Open In Colab\"/></a>"
      ]
    },
    {
      "cell_type": "markdown",
      "metadata": {
        "id": "tSpbEI6NBcHO"
      },
      "source": [
        "\n",
        "# My First Optuna Slides\n",
        "\n",
        "[Optuna](https://optuna.org/) is great for advanced hyperparameter tuning.\n",
        "\n",
        "- Stephen W. Thomas\n",
        "- Used for MMA 869, MMAI 869, and GMMA 869"
      ]
    },
    {
      "cell_type": "code",
      "execution_count": 1,
      "metadata": {
        "colab": {
          "base_uri": "https://localhost:8080/"
        },
        "id": "qXTNdxFGBuDH",
        "outputId": "ad8deedb-3e01-48f8-e59e-3bfbc648d8cd"
      },
      "outputs": [
        {
          "output_type": "stream",
          "name": "stdout",
          "text": [
            "2022-07-11 15:46:35.955518\n"
          ]
        }
      ],
      "source": [
        "import datetime\n",
        "print(datetime.datetime.now())"
      ]
    },
    {
      "cell_type": "code",
      "execution_count": null,
      "metadata": {
        "id": "XkZkVsz_BgzO"
      },
      "outputs": [],
      "source": [
        "pip install optuna"
      ]
    },
    {
      "cell_type": "code",
      "source": [
        "import pandas as pd\n",
        "import optuna\n",
        "import numpy as np"
      ],
      "metadata": {
        "id": "6ZWkau7zzXUc"
      },
      "execution_count": 3,
      "outputs": []
    },
    {
      "cell_type": "markdown",
      "source": [
        "# Load and Prep Data"
      ],
      "metadata": {
        "id": "L51YaiI47l0G"
      }
    },
    {
      "cell_type": "code",
      "source": [
        "df = pd.read_csv(\"https://raw.githubusercontent.com/stepthom/869_course/main/data/GermanCredit.csv\")\n",
        "df.head()"
      ],
      "metadata": {
        "colab": {
          "base_uri": "https://localhost:8080/",
          "height": 300
        },
        "id": "kM2bRzqqzWF7",
        "outputId": "27e8e357-03db-4c93-c33a-58b3f3a5aa33"
      },
      "execution_count": 4,
      "outputs": [
        {
          "output_type": "execute_result",
          "data": {
            "text/plain": [
              "   Duration  Amount  InstallmentRatePercentage  ResidenceDuration  Age  \\\n",
              "0         6    1169                          4                  4   67   \n",
              "1        48    5951                          2                  2   22   \n",
              "2        12    2096                          2                  3   49   \n",
              "3        42    7882                          2                  4   45   \n",
              "4        24    4870                          3                  4   53   \n",
              "\n",
              "   NumberExistingCredits  NumberPeopleMaintenance  Telephone  ForeignWorker  \\\n",
              "0                      2                        1          0              1   \n",
              "1                      1                        1          1              1   \n",
              "2                      1                        2          1              1   \n",
              "3                      1                        2          1              1   \n",
              "4                      2                        2          1              1   \n",
              "\n",
              "  Class  ...  OtherInstallmentPlans.Bank  OtherInstallmentPlans.Stores  \\\n",
              "0  Good  ...                           0                             0   \n",
              "1   Bad  ...                           0                             0   \n",
              "2  Good  ...                           0                             0   \n",
              "3  Good  ...                           0                             0   \n",
              "4   Bad  ...                           0                             0   \n",
              "\n",
              "   OtherInstallmentPlans.None  Housing.Rent  Housing.Own  Housing.ForFree  \\\n",
              "0                           1             0            1                0   \n",
              "1                           1             0            1                0   \n",
              "2                           1             0            1                0   \n",
              "3                           1             0            0                1   \n",
              "4                           1             0            0                1   \n",
              "\n",
              "   Job.UnemployedUnskilled  Job.UnskilledResident  Job.SkilledEmployee  \\\n",
              "0                        0                      0                    1   \n",
              "1                        0                      0                    1   \n",
              "2                        0                      1                    0   \n",
              "3                        0                      0                    1   \n",
              "4                        0                      0                    1   \n",
              "\n",
              "   Job.Management.SelfEmp.HighlyQualified  \n",
              "0                                       0  \n",
              "1                                       0  \n",
              "2                                       0  \n",
              "3                                       0  \n",
              "4                                       0  \n",
              "\n",
              "[5 rows x 62 columns]"
            ],
            "text/html": [
              "\n",
              "  <div id=\"df-2954c32c-fa64-46d8-81fa-edeb35e7a491\">\n",
              "    <div class=\"colab-df-container\">\n",
              "      <div>\n",
              "<style scoped>\n",
              "    .dataframe tbody tr th:only-of-type {\n",
              "        vertical-align: middle;\n",
              "    }\n",
              "\n",
              "    .dataframe tbody tr th {\n",
              "        vertical-align: top;\n",
              "    }\n",
              "\n",
              "    .dataframe thead th {\n",
              "        text-align: right;\n",
              "    }\n",
              "</style>\n",
              "<table border=\"1\" class=\"dataframe\">\n",
              "  <thead>\n",
              "    <tr style=\"text-align: right;\">\n",
              "      <th></th>\n",
              "      <th>Duration</th>\n",
              "      <th>Amount</th>\n",
              "      <th>InstallmentRatePercentage</th>\n",
              "      <th>ResidenceDuration</th>\n",
              "      <th>Age</th>\n",
              "      <th>NumberExistingCredits</th>\n",
              "      <th>NumberPeopleMaintenance</th>\n",
              "      <th>Telephone</th>\n",
              "      <th>ForeignWorker</th>\n",
              "      <th>Class</th>\n",
              "      <th>...</th>\n",
              "      <th>OtherInstallmentPlans.Bank</th>\n",
              "      <th>OtherInstallmentPlans.Stores</th>\n",
              "      <th>OtherInstallmentPlans.None</th>\n",
              "      <th>Housing.Rent</th>\n",
              "      <th>Housing.Own</th>\n",
              "      <th>Housing.ForFree</th>\n",
              "      <th>Job.UnemployedUnskilled</th>\n",
              "      <th>Job.UnskilledResident</th>\n",
              "      <th>Job.SkilledEmployee</th>\n",
              "      <th>Job.Management.SelfEmp.HighlyQualified</th>\n",
              "    </tr>\n",
              "  </thead>\n",
              "  <tbody>\n",
              "    <tr>\n",
              "      <th>0</th>\n",
              "      <td>6</td>\n",
              "      <td>1169</td>\n",
              "      <td>4</td>\n",
              "      <td>4</td>\n",
              "      <td>67</td>\n",
              "      <td>2</td>\n",
              "      <td>1</td>\n",
              "      <td>0</td>\n",
              "      <td>1</td>\n",
              "      <td>Good</td>\n",
              "      <td>...</td>\n",
              "      <td>0</td>\n",
              "      <td>0</td>\n",
              "      <td>1</td>\n",
              "      <td>0</td>\n",
              "      <td>1</td>\n",
              "      <td>0</td>\n",
              "      <td>0</td>\n",
              "      <td>0</td>\n",
              "      <td>1</td>\n",
              "      <td>0</td>\n",
              "    </tr>\n",
              "    <tr>\n",
              "      <th>1</th>\n",
              "      <td>48</td>\n",
              "      <td>5951</td>\n",
              "      <td>2</td>\n",
              "      <td>2</td>\n",
              "      <td>22</td>\n",
              "      <td>1</td>\n",
              "      <td>1</td>\n",
              "      <td>1</td>\n",
              "      <td>1</td>\n",
              "      <td>Bad</td>\n",
              "      <td>...</td>\n",
              "      <td>0</td>\n",
              "      <td>0</td>\n",
              "      <td>1</td>\n",
              "      <td>0</td>\n",
              "      <td>1</td>\n",
              "      <td>0</td>\n",
              "      <td>0</td>\n",
              "      <td>0</td>\n",
              "      <td>1</td>\n",
              "      <td>0</td>\n",
              "    </tr>\n",
              "    <tr>\n",
              "      <th>2</th>\n",
              "      <td>12</td>\n",
              "      <td>2096</td>\n",
              "      <td>2</td>\n",
              "      <td>3</td>\n",
              "      <td>49</td>\n",
              "      <td>1</td>\n",
              "      <td>2</td>\n",
              "      <td>1</td>\n",
              "      <td>1</td>\n",
              "      <td>Good</td>\n",
              "      <td>...</td>\n",
              "      <td>0</td>\n",
              "      <td>0</td>\n",
              "      <td>1</td>\n",
              "      <td>0</td>\n",
              "      <td>1</td>\n",
              "      <td>0</td>\n",
              "      <td>0</td>\n",
              "      <td>1</td>\n",
              "      <td>0</td>\n",
              "      <td>0</td>\n",
              "    </tr>\n",
              "    <tr>\n",
              "      <th>3</th>\n",
              "      <td>42</td>\n",
              "      <td>7882</td>\n",
              "      <td>2</td>\n",
              "      <td>4</td>\n",
              "      <td>45</td>\n",
              "      <td>1</td>\n",
              "      <td>2</td>\n",
              "      <td>1</td>\n",
              "      <td>1</td>\n",
              "      <td>Good</td>\n",
              "      <td>...</td>\n",
              "      <td>0</td>\n",
              "      <td>0</td>\n",
              "      <td>1</td>\n",
              "      <td>0</td>\n",
              "      <td>0</td>\n",
              "      <td>1</td>\n",
              "      <td>0</td>\n",
              "      <td>0</td>\n",
              "      <td>1</td>\n",
              "      <td>0</td>\n",
              "    </tr>\n",
              "    <tr>\n",
              "      <th>4</th>\n",
              "      <td>24</td>\n",
              "      <td>4870</td>\n",
              "      <td>3</td>\n",
              "      <td>4</td>\n",
              "      <td>53</td>\n",
              "      <td>2</td>\n",
              "      <td>2</td>\n",
              "      <td>1</td>\n",
              "      <td>1</td>\n",
              "      <td>Bad</td>\n",
              "      <td>...</td>\n",
              "      <td>0</td>\n",
              "      <td>0</td>\n",
              "      <td>1</td>\n",
              "      <td>0</td>\n",
              "      <td>0</td>\n",
              "      <td>1</td>\n",
              "      <td>0</td>\n",
              "      <td>0</td>\n",
              "      <td>1</td>\n",
              "      <td>0</td>\n",
              "    </tr>\n",
              "  </tbody>\n",
              "</table>\n",
              "<p>5 rows × 62 columns</p>\n",
              "</div>\n",
              "      <button class=\"colab-df-convert\" onclick=\"convertToInteractive('df-2954c32c-fa64-46d8-81fa-edeb35e7a491')\"\n",
              "              title=\"Convert this dataframe to an interactive table.\"\n",
              "              style=\"display:none;\">\n",
              "        \n",
              "  <svg xmlns=\"http://www.w3.org/2000/svg\" height=\"24px\"viewBox=\"0 0 24 24\"\n",
              "       width=\"24px\">\n",
              "    <path d=\"M0 0h24v24H0V0z\" fill=\"none\"/>\n",
              "    <path d=\"M18.56 5.44l.94 2.06.94-2.06 2.06-.94-2.06-.94-.94-2.06-.94 2.06-2.06.94zm-11 1L8.5 8.5l.94-2.06 2.06-.94-2.06-.94L8.5 2.5l-.94 2.06-2.06.94zm10 10l.94 2.06.94-2.06 2.06-.94-2.06-.94-.94-2.06-.94 2.06-2.06.94z\"/><path d=\"M17.41 7.96l-1.37-1.37c-.4-.4-.92-.59-1.43-.59-.52 0-1.04.2-1.43.59L10.3 9.45l-7.72 7.72c-.78.78-.78 2.05 0 2.83L4 21.41c.39.39.9.59 1.41.59.51 0 1.02-.2 1.41-.59l7.78-7.78 2.81-2.81c.8-.78.8-2.07 0-2.86zM5.41 20L4 18.59l7.72-7.72 1.47 1.35L5.41 20z\"/>\n",
              "  </svg>\n",
              "      </button>\n",
              "      \n",
              "  <style>\n",
              "    .colab-df-container {\n",
              "      display:flex;\n",
              "      flex-wrap:wrap;\n",
              "      gap: 12px;\n",
              "    }\n",
              "\n",
              "    .colab-df-convert {\n",
              "      background-color: #E8F0FE;\n",
              "      border: none;\n",
              "      border-radius: 50%;\n",
              "      cursor: pointer;\n",
              "      display: none;\n",
              "      fill: #1967D2;\n",
              "      height: 32px;\n",
              "      padding: 0 0 0 0;\n",
              "      width: 32px;\n",
              "    }\n",
              "\n",
              "    .colab-df-convert:hover {\n",
              "      background-color: #E2EBFA;\n",
              "      box-shadow: 0px 1px 2px rgba(60, 64, 67, 0.3), 0px 1px 3px 1px rgba(60, 64, 67, 0.15);\n",
              "      fill: #174EA6;\n",
              "    }\n",
              "\n",
              "    [theme=dark] .colab-df-convert {\n",
              "      background-color: #3B4455;\n",
              "      fill: #D2E3FC;\n",
              "    }\n",
              "\n",
              "    [theme=dark] .colab-df-convert:hover {\n",
              "      background-color: #434B5C;\n",
              "      box-shadow: 0px 1px 3px 1px rgba(0, 0, 0, 0.15);\n",
              "      filter: drop-shadow(0px 1px 2px rgba(0, 0, 0, 0.3));\n",
              "      fill: #FFFFFF;\n",
              "    }\n",
              "  </style>\n",
              "\n",
              "      <script>\n",
              "        const buttonEl =\n",
              "          document.querySelector('#df-2954c32c-fa64-46d8-81fa-edeb35e7a491 button.colab-df-convert');\n",
              "        buttonEl.style.display =\n",
              "          google.colab.kernel.accessAllowed ? 'block' : 'none';\n",
              "\n",
              "        async function convertToInteractive(key) {\n",
              "          const element = document.querySelector('#df-2954c32c-fa64-46d8-81fa-edeb35e7a491');\n",
              "          const dataTable =\n",
              "            await google.colab.kernel.invokeFunction('convertToInteractive',\n",
              "                                                     [key], {});\n",
              "          if (!dataTable) return;\n",
              "\n",
              "          const docLinkHtml = 'Like what you see? Visit the ' +\n",
              "            '<a target=\"_blank\" href=https://colab.research.google.com/notebooks/data_table.ipynb>data table notebook</a>'\n",
              "            + ' to learn more about interactive tables.';\n",
              "          element.innerHTML = '';\n",
              "          dataTable['output_type'] = 'display_data';\n",
              "          await google.colab.output.renderOutput(dataTable, element);\n",
              "          const docLink = document.createElement('div');\n",
              "          docLink.innerHTML = docLinkHtml;\n",
              "          element.appendChild(docLink);\n",
              "        }\n",
              "      </script>\n",
              "    </div>\n",
              "  </div>\n",
              "  "
            ]
          },
          "metadata": {},
          "execution_count": 4
        }
      ]
    },
    {
      "cell_type": "code",
      "source": [
        "target_name = 'Class'\n",
        "X = df.drop([target_name], axis=1)\n",
        "y = df[target_name].to_numpy()"
      ],
      "metadata": {
        "id": "OBuv_x2VzguL"
      },
      "execution_count": 5,
      "outputs": []
    },
    {
      "cell_type": "markdown",
      "source": [
        "# Create and Run an Optuna Study"
      ],
      "metadata": {
        "id": "fwP8jrpk7cfN"
      }
    },
    {
      "cell_type": "markdown",
      "source": [
        "First we must create an objective function. This is a function that builds a model (given a particular values for all hyperparameters) and returns a score.\n",
        "\n",
        "Read more in the tutorials: https://optuna.readthedocs.io/en/stable/tutorial/index.html"
      ],
      "metadata": {
        "id": "lMZnnCiw7rLf"
      }
    },
    {
      "cell_type": "code",
      "execution_count": 6,
      "metadata": {
        "id": "cT-jmjKsBrDl"
      },
      "outputs": [],
      "source": [
        "from sklearn.tree import DecisionTreeClassifier\n",
        "from sklearn.model_selection import cross_val_score\n",
        "\n",
        "\n",
        "def objective_dt(trial, X, y):\n",
        "\n",
        "  # Now, define all the hyperparams we want to vary, and what values they are allowed\n",
        "  # to take.\n",
        "  #\n",
        "  # Each trial, optuna will automatically choose values for each hyperparam.\n",
        "  hyper_params = {\n",
        "        \n",
        "        'criterion': trial.suggest_categorical('criterion', ['gini', 'entropy']),\n",
        "        'splitter': trial.suggest_categorical('splitter', ['best', 'random']),\n",
        "\n",
        "        \"max_depth\": trial.suggest_int(\"max_depth\", 5, 100, step=5),\n",
        "\n",
        "        \"min_samples_split\": trial.suggest_int(\"min_samples_split\", 5, 100, step=5),\n",
        "        \"min_samples_leaf\": trial.suggest_int(\"min_samples_leaf\", 5, 100, step=5),\n",
        "        \"max_leaf_nodes\": trial.suggest_int(\"max_leaf_nodes\", 10, 1010, step=100),\n",
        "\n",
        "        'class_weight': trial.suggest_categorical('class_weight', ['balanced', None]),\n",
        "\n",
        "        \"random_state\": 77,\n",
        "  }\n",
        "    \n",
        "\n",
        "  # Use the hyperparams that optuna has chosen for this trial to create a DecisionTreeClassifier\n",
        "  clf = DecisionTreeClassifier(**hyper_params)\n",
        "\n",
        "  # Run CV to see how well these hyper_params do\n",
        "  cv_scores = cross_val_score(clf, X, y, cv=10, scoring=\"f1_macro\")\n",
        "  score = np.mean(cv_scores)\n",
        "\n",
        "  # Whatever we return here tells optuna how well these parameters did\n",
        "  return score"
      ]
    },
    {
      "cell_type": "code",
      "source": [
        "# Create and run an Optuna study\n",
        "\n",
        "# More options for creating the optuna study can be found at their webpage:\n",
        "# https://optuna.readthedocs.io/en/stable/reference/generated/optuna.create_study.html\n",
        "#\n",
        "# The default sampler is called TPESampler and is very good, but there are others.\n",
        "\n",
        "study = optuna.create_study(direction=\"maximize\")\n"
      ],
      "metadata": {
        "colab": {
          "base_uri": "https://localhost:8080/"
        },
        "id": "4D0Mv-k60BL9",
        "outputId": "a81b38e3-cc0e-4cb5-95cf-b7f425f0b7c7"
      },
      "execution_count": 7,
      "outputs": [
        {
          "output_type": "stream",
          "name": "stderr",
          "text": [
            "\u001b[32m[I 2022-07-11 15:46:43,826]\u001b[0m A new study created in memory with name: no-name-27b9d015-0fbc-44ac-b273-3d957be51776\u001b[0m\n"
          ]
        }
      ]
    },
    {
      "cell_type": "code",
      "source": [
        "# More options for optimizing the hyperparms can be found:\n",
        "# https://optuna.readthedocs.io/en/stable/reference/generated/optuna.study.Study.html#optuna.study.Study.optimize\n",
        "\n",
        "study.optimize(lambda trial: objective_dt(trial, X, y), n_trials=100,  gc_after_trial=True)"
      ],
      "metadata": {
        "colab": {
          "base_uri": "https://localhost:8080/"
        },
        "id": "0TXdbBA57b8s",
        "outputId": "9f696706-9abe-4a5c-82b8-e5d8848a4dbf"
      },
      "execution_count": 8,
      "outputs": [
        {
          "output_type": "stream",
          "name": "stderr",
          "text": [
            "\u001b[32m[I 2022-07-11 15:46:43,961]\u001b[0m Trial 0 finished with value: 0.6320754457375056 and parameters: {'criterion': 'entropy', 'splitter': 'random', 'max_depth': 80, 'min_samples_split': 95, 'min_samples_leaf': 40, 'max_leaf_nodes': 210, 'class_weight': 'balanced'}. Best is trial 0 with value: 0.6320754457375056.\u001b[0m\n",
            "\u001b[32m[I 2022-07-11 15:46:44,251]\u001b[0m Trial 1 finished with value: 0.6362491445911533 and parameters: {'criterion': 'gini', 'splitter': 'best', 'max_depth': 25, 'min_samples_split': 30, 'min_samples_leaf': 10, 'max_leaf_nodes': 610, 'class_weight': None}. Best is trial 1 with value: 0.6362491445911533.\u001b[0m\n",
            "\u001b[32m[I 2022-07-11 15:46:44,518]\u001b[0m Trial 2 finished with value: 0.6388172148542477 and parameters: {'criterion': 'entropy', 'splitter': 'random', 'max_depth': 45, 'min_samples_split': 15, 'min_samples_leaf': 40, 'max_leaf_nodes': 510, 'class_weight': None}. Best is trial 2 with value: 0.6388172148542477.\u001b[0m\n",
            "\u001b[32m[I 2022-07-11 15:46:44,727]\u001b[0m Trial 3 finished with value: 0.6437142569055366 and parameters: {'criterion': 'entropy', 'splitter': 'best', 'max_depth': 25, 'min_samples_split': 70, 'min_samples_leaf': 45, 'max_leaf_nodes': 910, 'class_weight': 'balanced'}. Best is trial 3 with value: 0.6437142569055366.\u001b[0m\n",
            "\u001b[32m[I 2022-07-11 15:46:45,020]\u001b[0m Trial 4 finished with value: 0.5911964940014421 and parameters: {'criterion': 'entropy', 'splitter': 'best', 'max_depth': 75, 'min_samples_split': 75, 'min_samples_leaf': 70, 'max_leaf_nodes': 410, 'class_weight': None}. Best is trial 3 with value: 0.6437142569055366.\u001b[0m\n",
            "\u001b[32m[I 2022-07-11 15:46:45,228]\u001b[0m Trial 5 finished with value: 0.6368758754832926 and parameters: {'criterion': 'entropy', 'splitter': 'random', 'max_depth': 20, 'min_samples_split': 50, 'min_samples_leaf': 25, 'max_leaf_nodes': 110, 'class_weight': 'balanced'}. Best is trial 3 with value: 0.6437142569055366.\u001b[0m\n",
            "\u001b[32m[I 2022-07-11 15:46:45,489]\u001b[0m Trial 6 finished with value: 0.6302367333250428 and parameters: {'criterion': 'entropy', 'splitter': 'best', 'max_depth': 55, 'min_samples_split': 90, 'min_samples_leaf': 30, 'max_leaf_nodes': 810, 'class_weight': 'balanced'}. Best is trial 3 with value: 0.6437142569055366.\u001b[0m\n",
            "\u001b[32m[I 2022-07-11 15:46:45,815]\u001b[0m Trial 7 finished with value: 0.6540645427725201 and parameters: {'criterion': 'gini', 'splitter': 'random', 'max_depth': 35, 'min_samples_split': 95, 'min_samples_leaf': 75, 'max_leaf_nodes': 810, 'class_weight': 'balanced'}. Best is trial 7 with value: 0.6540645427725201.\u001b[0m\n",
            "\u001b[32m[I 2022-07-11 15:46:46,107]\u001b[0m Trial 8 finished with value: 0.6103615255239928 and parameters: {'criterion': 'gini', 'splitter': 'best', 'max_depth': 80, 'min_samples_split': 20, 'min_samples_leaf': 65, 'max_leaf_nodes': 810, 'class_weight': None}. Best is trial 7 with value: 0.6540645427725201.\u001b[0m\n",
            "\u001b[32m[I 2022-07-11 15:46:46,420]\u001b[0m Trial 9 finished with value: 0.6358830078409856 and parameters: {'criterion': 'gini', 'splitter': 'best', 'max_depth': 100, 'min_samples_split': 80, 'min_samples_leaf': 90, 'max_leaf_nodes': 510, 'class_weight': 'balanced'}. Best is trial 7 with value: 0.6540645427725201.\u001b[0m\n",
            "\u001b[32m[I 2022-07-11 15:46:46,780]\u001b[0m Trial 10 finished with value: 0.6311157826051206 and parameters: {'criterion': 'gini', 'splitter': 'random', 'max_depth': 5, 'min_samples_split': 50, 'min_samples_leaf': 95, 'max_leaf_nodes': 1010, 'class_weight': None}. Best is trial 7 with value: 0.6540645427725201.\u001b[0m\n",
            "\u001b[32m[I 2022-07-11 15:46:47,089]\u001b[0m Trial 11 finished with value: 0.6162503070962616 and parameters: {'criterion': 'gini', 'splitter': 'random', 'max_depth': 40, 'min_samples_split': 65, 'min_samples_leaf': 70, 'max_leaf_nodes': 1010, 'class_weight': None}. Best is trial 7 with value: 0.6540645427725201.\u001b[0m\n",
            "\u001b[32m[I 2022-07-11 15:46:47,438]\u001b[0m Trial 12 finished with value: 0.5981647540603531 and parameters: {'criterion': 'gini', 'splitter': 'best', 'max_depth': 25, 'min_samples_split': 65, 'min_samples_leaf': 55, 'max_leaf_nodes': 810, 'class_weight': None}. Best is trial 7 with value: 0.6540645427725201.\u001b[0m\n",
            "\u001b[32m[I 2022-07-11 15:46:47,755]\u001b[0m Trial 13 finished with value: 0.6302067366524841 and parameters: {'criterion': 'entropy', 'splitter': 'random', 'max_depth': 5, 'min_samples_split': 100, 'min_samples_leaf': 85, 'max_leaf_nodes': 710, 'class_weight': None}. Best is trial 7 with value: 0.6540645427725201.\u001b[0m\n",
            "\u001b[32m[I 2022-07-11 15:46:48,129]\u001b[0m Trial 14 finished with value: 0.5890651770545976 and parameters: {'criterion': 'entropy', 'splitter': 'best', 'max_depth': 60, 'min_samples_split': 80, 'min_samples_leaf': 55, 'max_leaf_nodes': 1010, 'class_weight': None}. Best is trial 7 with value: 0.6540645427725201.\u001b[0m\n",
            "\u001b[32m[I 2022-07-11 15:46:48,534]\u001b[0m Trial 15 finished with value: 0.6302067366524841 and parameters: {'criterion': 'gini', 'splitter': 'random', 'max_depth': 35, 'min_samples_split': 35, 'min_samples_leaf': 80, 'max_leaf_nodes': 910, 'class_weight': None}. Best is trial 7 with value: 0.6540645427725201.\u001b[0m\n",
            "\u001b[32m[I 2022-07-11 15:46:48,867]\u001b[0m Trial 16 finished with value: 0.6332564002440945 and parameters: {'criterion': 'entropy', 'splitter': 'random', 'max_depth': 15, 'min_samples_split': 60, 'min_samples_leaf': 45, 'max_leaf_nodes': 310, 'class_weight': None}. Best is trial 7 with value: 0.6540645427725201.\u001b[0m\n",
            "\u001b[32m[I 2022-07-11 15:46:49,246]\u001b[0m Trial 17 finished with value: 0.6247499367597559 and parameters: {'criterion': 'gini', 'splitter': 'best', 'max_depth': 35, 'min_samples_split': 85, 'min_samples_leaf': 5, 'max_leaf_nodes': 710, 'class_weight': None}. Best is trial 7 with value: 0.6540645427725201.\u001b[0m\n",
            "\u001b[32m[I 2022-07-11 15:46:49,614]\u001b[0m Trial 18 finished with value: 0.5876782992077239 and parameters: {'criterion': 'entropy', 'splitter': 'best', 'max_depth': 60, 'min_samples_split': 100, 'min_samples_leaf': 20, 'max_leaf_nodes': 910, 'class_weight': None}. Best is trial 7 with value: 0.6540645427725201.\u001b[0m\n",
            "\u001b[32m[I 2022-07-11 15:46:49,967]\u001b[0m Trial 19 finished with value: 0.6311157826051206 and parameters: {'criterion': 'gini', 'splitter': 'random', 'max_depth': 50, 'min_samples_split': 70, 'min_samples_leaf': 100, 'max_leaf_nodes': 10, 'class_weight': None}. Best is trial 7 with value: 0.6540645427725201.\u001b[0m\n",
            "\u001b[32m[I 2022-07-11 15:46:50,304]\u001b[0m Trial 20 finished with value: 0.6055314704893647 and parameters: {'criterion': 'gini', 'splitter': 'random', 'max_depth': 15, 'min_samples_split': 40, 'min_samples_leaf': 60, 'max_leaf_nodes': 610, 'class_weight': None}. Best is trial 7 with value: 0.6540645427725201.\u001b[0m\n",
            "\u001b[32m[I 2022-07-11 15:46:50,614]\u001b[0m Trial 21 finished with value: 0.6388172148542477 and parameters: {'criterion': 'entropy', 'splitter': 'random', 'max_depth': 45, 'min_samples_split': 5, 'min_samples_leaf': 40, 'max_leaf_nodes': 510, 'class_weight': None}. Best is trial 7 with value: 0.6540645427725201.\u001b[0m\n",
            "\u001b[32m[I 2022-07-11 15:46:50,984]\u001b[0m Trial 22 finished with value: 0.6332564002440945 and parameters: {'criterion': 'entropy', 'splitter': 'random', 'max_depth': 30, 'min_samples_split': 10, 'min_samples_leaf': 45, 'max_leaf_nodes': 410, 'class_weight': None}. Best is trial 7 with value: 0.6540645427725201.\u001b[0m\n",
            "\u001b[32m[I 2022-07-11 15:46:51,383]\u001b[0m Trial 23 finished with value: 0.6267838602560896 and parameters: {'criterion': 'entropy', 'splitter': 'random', 'max_depth': 45, 'min_samples_split': 20, 'min_samples_leaf': 35, 'max_leaf_nodes': 710, 'class_weight': None}. Best is trial 7 with value: 0.6540645427725201.\u001b[0m\n",
            "\u001b[32m[I 2022-07-11 15:46:51,753]\u001b[0m Trial 24 finished with value: 0.6248805589694888 and parameters: {'criterion': 'entropy', 'splitter': 'random', 'max_depth': 65, 'min_samples_split': 55, 'min_samples_leaf': 75, 'max_leaf_nodes': 910, 'class_weight': None}. Best is trial 7 with value: 0.6540645427725201.\u001b[0m\n",
            "\u001b[32m[I 2022-07-11 15:46:52,136]\u001b[0m Trial 25 finished with value: 0.6405619711651631 and parameters: {'criterion': 'entropy', 'splitter': 'random', 'max_depth': 35, 'min_samples_split': 45, 'min_samples_leaf': 50, 'max_leaf_nodes': 610, 'class_weight': None}. Best is trial 7 with value: 0.6540645427725201.\u001b[0m\n",
            "\u001b[32m[I 2022-07-11 15:46:52,626]\u001b[0m Trial 26 finished with value: 0.5956963174758206 and parameters: {'criterion': 'entropy', 'splitter': 'best', 'max_depth': 30, 'min_samples_split': 45, 'min_samples_leaf': 50, 'max_leaf_nodes': 610, 'class_weight': None}. Best is trial 7 with value: 0.6540645427725201.\u001b[0m\n",
            "\u001b[32m[I 2022-07-11 15:46:52,935]\u001b[0m Trial 27 finished with value: 0.6026894159600378 and parameters: {'criterion': 'entropy', 'splitter': 'random', 'max_depth': 15, 'min_samples_split': 90, 'min_samples_leaf': 60, 'max_leaf_nodes': 810, 'class_weight': None}. Best is trial 7 with value: 0.6540645427725201.\u001b[0m\n",
            "\u001b[32m[I 2022-07-11 15:46:53,320]\u001b[0m Trial 28 finished with value: 0.5989097443621157 and parameters: {'criterion': 'gini', 'splitter': 'best', 'max_depth': 35, 'min_samples_split': 30, 'min_samples_leaf': 50, 'max_leaf_nodes': 710, 'class_weight': None}. Best is trial 7 with value: 0.6540645427725201.\u001b[0m\n",
            "\u001b[32m[I 2022-07-11 15:46:53,650]\u001b[0m Trial 29 finished with value: 0.62715207215686 and parameters: {'criterion': 'entropy', 'splitter': 'random', 'max_depth': 25, 'min_samples_split': 60, 'min_samples_leaf': 20, 'max_leaf_nodes': 910, 'class_weight': None}. Best is trial 7 with value: 0.6540645427725201.\u001b[0m\n",
            "\u001b[32m[I 2022-07-11 15:46:53,977]\u001b[0m Trial 30 finished with value: 0.6302067366524841 and parameters: {'criterion': 'entropy', 'splitter': 'random', 'max_depth': 100, 'min_samples_split': 75, 'min_samples_leaf': 80, 'max_leaf_nodes': 210, 'class_weight': None}. Best is trial 7 with value: 0.6540645427725201.\u001b[0m\n",
            "\u001b[32m[I 2022-07-11 15:46:54,295]\u001b[0m Trial 31 finished with value: 0.6388172148542477 and parameters: {'criterion': 'entropy', 'splitter': 'random', 'max_depth': 45, 'min_samples_split': 20, 'min_samples_leaf': 40, 'max_leaf_nodes': 610, 'class_weight': None}. Best is trial 7 with value: 0.6540645427725201.\u001b[0m\n",
            "\u001b[32m[I 2022-07-11 15:46:54,716]\u001b[0m Trial 32 finished with value: 0.6267838602560896 and parameters: {'criterion': 'entropy', 'splitter': 'random', 'max_depth': 40, 'min_samples_split': 30, 'min_samples_leaf': 35, 'max_leaf_nodes': 610, 'class_weight': None}. Best is trial 7 with value: 0.6540645427725201.\u001b[0m\n",
            "\u001b[32m[I 2022-07-11 15:46:55,072]\u001b[0m Trial 33 finished with value: 0.6332564002440945 and parameters: {'criterion': 'entropy', 'splitter': 'random', 'max_depth': 50, 'min_samples_split': 95, 'min_samples_leaf': 45, 'max_leaf_nodes': 510, 'class_weight': None}. Best is trial 7 with value: 0.6540645427725201.\u001b[0m\n",
            "\u001b[32m[I 2022-07-11 15:46:55,462]\u001b[0m Trial 34 finished with value: 0.6151617118684132 and parameters: {'criterion': 'entropy', 'splitter': 'random', 'max_depth': 20, 'min_samples_split': 45, 'min_samples_leaf': 30, 'max_leaf_nodes': 410, 'class_weight': None}. Best is trial 7 with value: 0.6540645427725201.\u001b[0m\n",
            "\u001b[32m[I 2022-07-11 15:46:55,975]\u001b[0m Trial 35 finished with value: 0.5937433847224103 and parameters: {'criterion': 'entropy', 'splitter': 'best', 'max_depth': 30, 'min_samples_split': 70, 'min_samples_leaf': 65, 'max_leaf_nodes': 510, 'class_weight': None}. Best is trial 7 with value: 0.6540645427725201.\u001b[0m\n",
            "\u001b[32m[I 2022-07-11 15:46:56,395]\u001b[0m Trial 36 finished with value: 0.6388172148542477 and parameters: {'criterion': 'entropy', 'splitter': 'random', 'max_depth': 40, 'min_samples_split': 25, 'min_samples_leaf': 40, 'max_leaf_nodes': 710, 'class_weight': None}. Best is trial 7 with value: 0.6540645427725201.\u001b[0m\n",
            "\u001b[32m[I 2022-07-11 15:46:56,997]\u001b[0m Trial 37 finished with value: 0.6026894159600378 and parameters: {'criterion': 'entropy', 'splitter': 'random', 'max_depth': 40, 'min_samples_split': 30, 'min_samples_leaf': 60, 'max_leaf_nodes': 810, 'class_weight': None}. Best is trial 7 with value: 0.6540645427725201.\u001b[0m\n",
            "\u001b[32m[I 2022-07-11 15:46:57,517]\u001b[0m Trial 38 finished with value: 0.6278587022713314 and parameters: {'criterion': 'gini', 'splitter': 'best', 'max_depth': 70, 'min_samples_split': 10, 'min_samples_leaf': 25, 'max_leaf_nodes': 310, 'class_weight': None}. Best is trial 7 with value: 0.6540645427725201.\u001b[0m\n",
            "\u001b[32m[I 2022-07-11 15:46:58,018]\u001b[0m Trial 39 finished with value: 0.6103615255239928 and parameters: {'criterion': 'gini', 'splitter': 'best', 'max_depth': 55, 'min_samples_split': 90, 'min_samples_leaf': 70, 'max_leaf_nodes': 310, 'class_weight': None}. Best is trial 7 with value: 0.6540645427725201.\u001b[0m\n",
            "\u001b[32m[I 2022-07-11 15:46:58,442]\u001b[0m Trial 40 finished with value: 0.6263532127975735 and parameters: {'criterion': 'entropy', 'splitter': 'random', 'max_depth': 20, 'min_samples_split': 55, 'min_samples_leaf': 15, 'max_leaf_nodes': 810, 'class_weight': None}. Best is trial 7 with value: 0.6540645427725201.\u001b[0m\n",
            "\u001b[32m[I 2022-07-11 15:46:58,920]\u001b[0m Trial 41 finished with value: 0.6151617118684132 and parameters: {'criterion': 'entropy', 'splitter': 'random', 'max_depth': 45, 'min_samples_split': 5, 'min_samples_leaf': 30, 'max_leaf_nodes': 410, 'class_weight': None}. Best is trial 7 with value: 0.6540645427725201.\u001b[0m\n",
            "\u001b[32m[I 2022-07-11 15:46:59,431]\u001b[0m Trial 42 finished with value: 0.6267838602560896 and parameters: {'criterion': 'entropy', 'splitter': 'random', 'max_depth': 50, 'min_samples_split': 15, 'min_samples_leaf': 35, 'max_leaf_nodes': 610, 'class_weight': None}. Best is trial 7 with value: 0.6540645427725201.\u001b[0m\n",
            "\u001b[32m[I 2022-07-11 15:46:59,919]\u001b[0m Trial 43 finished with value: 0.6332564002440945 and parameters: {'criterion': 'entropy', 'splitter': 'random', 'max_depth': 90, 'min_samples_split': 5, 'min_samples_leaf': 45, 'max_leaf_nodes': 510, 'class_weight': None}. Best is trial 7 with value: 0.6540645427725201.\u001b[0m\n",
            "\u001b[32m[I 2022-07-11 15:47:00,411]\u001b[0m Trial 44 finished with value: 0.6405619711651631 and parameters: {'criterion': 'entropy', 'splitter': 'random', 'max_depth': 30, 'min_samples_split': 10, 'min_samples_leaf': 50, 'max_leaf_nodes': 510, 'class_weight': None}. Best is trial 7 with value: 0.6540645427725201.\u001b[0m\n",
            "\u001b[32m[I 2022-07-11 15:47:00,817]\u001b[0m Trial 45 finished with value: 0.6175122297095158 and parameters: {'criterion': 'gini', 'splitter': 'random', 'max_depth': 10, 'min_samples_split': 80, 'min_samples_leaf': 55, 'max_leaf_nodes': 1010, 'class_weight': None}. Best is trial 7 with value: 0.6540645427725201.\u001b[0m\n",
            "\u001b[32m[I 2022-07-11 15:47:01,163]\u001b[0m Trial 46 finished with value: 0.5956963174758206 and parameters: {'criterion': 'entropy', 'splitter': 'best', 'max_depth': 25, 'min_samples_split': 15, 'min_samples_leaf': 50, 'max_leaf_nodes': 910, 'class_weight': None}. Best is trial 7 with value: 0.6540645427725201.\u001b[0m\n",
            "\u001b[32m[I 2022-07-11 15:47:01,642]\u001b[0m Trial 47 finished with value: 0.6110929107166907 and parameters: {'criterion': 'gini', 'splitter': 'random', 'max_depth': 30, 'min_samples_split': 35, 'min_samples_leaf': 65, 'max_leaf_nodes': 410, 'class_weight': None}. Best is trial 7 with value: 0.6540645427725201.\u001b[0m\n",
            "\u001b[32m[I 2022-07-11 15:47:01,975]\u001b[0m Trial 48 finished with value: 0.5890651770545976 and parameters: {'criterion': 'entropy', 'splitter': 'best', 'max_depth': 35, 'min_samples_split': 85, 'min_samples_leaf': 55, 'max_leaf_nodes': 710, 'class_weight': None}. Best is trial 7 with value: 0.6540645427725201.\u001b[0m\n",
            "\u001b[32m[I 2022-07-11 15:47:02,346]\u001b[0m Trial 49 finished with value: 0.6311157826051206 and parameters: {'criterion': 'entropy', 'splitter': 'random', 'max_depth': 20, 'min_samples_split': 25, 'min_samples_leaf': 90, 'max_leaf_nodes': 610, 'class_weight': None}. Best is trial 7 with value: 0.6540645427725201.\u001b[0m\n",
            "\u001b[32m[I 2022-07-11 15:47:02,720]\u001b[0m Trial 50 finished with value: 0.6405619711651631 and parameters: {'criterion': 'entropy', 'splitter': 'random', 'max_depth': 25, 'min_samples_split': 25, 'min_samples_leaf': 50, 'max_leaf_nodes': 710, 'class_weight': None}. Best is trial 7 with value: 0.6540645427725201.\u001b[0m\n",
            "\u001b[32m[I 2022-07-11 15:47:03,148]\u001b[0m Trial 51 finished with value: 0.6405619711651631 and parameters: {'criterion': 'entropy', 'splitter': 'random', 'max_depth': 35, 'min_samples_split': 15, 'min_samples_leaf': 50, 'max_leaf_nodes': 710, 'class_weight': None}. Best is trial 7 with value: 0.6540645427725201.\u001b[0m\n",
            "\u001b[32m[I 2022-07-11 15:47:03,556]\u001b[0m Trial 52 finished with value: 0.6405619711651631 and parameters: {'criterion': 'entropy', 'splitter': 'random', 'max_depth': 25, 'min_samples_split': 10, 'min_samples_leaf': 50, 'max_leaf_nodes': 810, 'class_weight': None}. Best is trial 7 with value: 0.6540645427725201.\u001b[0m\n",
            "\u001b[32m[I 2022-07-11 15:47:03,892]\u001b[0m Trial 53 finished with value: 0.6026894159600378 and parameters: {'criterion': 'entropy', 'splitter': 'random', 'max_depth': 10, 'min_samples_split': 25, 'min_samples_leaf': 60, 'max_leaf_nodes': 810, 'class_weight': None}. Best is trial 7 with value: 0.6540645427725201.\u001b[0m\n",
            "\u001b[32m[I 2022-07-11 15:47:04,216]\u001b[0m Trial 54 finished with value: 0.6332564002440945 and parameters: {'criterion': 'entropy', 'splitter': 'random', 'max_depth': 20, 'min_samples_split': 40, 'min_samples_leaf': 45, 'max_leaf_nodes': 710, 'class_weight': None}. Best is trial 7 with value: 0.6540645427725201.\u001b[0m\n",
            "\u001b[32m[I 2022-07-11 15:47:04,534]\u001b[0m Trial 55 finished with value: 0.6175122297095158 and parameters: {'criterion': 'gini', 'splitter': 'random', 'max_depth': 25, 'min_samples_split': 15, 'min_samples_leaf': 55, 'max_leaf_nodes': 810, 'class_weight': None}. Best is trial 7 with value: 0.6540645427725201.\u001b[0m\n",
            "\u001b[32m[I 2022-07-11 15:47:04,846]\u001b[0m Trial 56 finished with value: 0.6248805589694888 and parameters: {'criterion': 'entropy', 'splitter': 'random', 'max_depth': 10, 'min_samples_split': 10, 'min_samples_leaf': 75, 'max_leaf_nodes': 910, 'class_weight': None}. Best is trial 7 with value: 0.6540645427725201.\u001b[0m\n",
            "\u001b[32m[I 2022-07-11 15:47:05,064]\u001b[0m Trial 57 finished with value: 0.6405619711651631 and parameters: {'criterion': 'entropy', 'splitter': 'random', 'max_depth': 30, 'min_samples_split': 20, 'min_samples_leaf': 50, 'max_leaf_nodes': 1010, 'class_weight': None}. Best is trial 7 with value: 0.6540645427725201.\u001b[0m\n",
            "\u001b[32m[I 2022-07-11 15:47:05,257]\u001b[0m Trial 58 finished with value: 0.6111697372486466 and parameters: {'criterion': 'gini', 'splitter': 'best', 'max_depth': 30, 'min_samples_split': 65, 'min_samples_leaf': 60, 'max_leaf_nodes': 1010, 'class_weight': None}. Best is trial 7 with value: 0.6540645427725201.\u001b[0m\n",
            "\u001b[32m[I 2022-07-11 15:47:05,453]\u001b[0m Trial 59 finished with value: 0.6332564002440945 and parameters: {'criterion': 'entropy', 'splitter': 'random', 'max_depth': 35, 'min_samples_split': 20, 'min_samples_leaf': 45, 'max_leaf_nodes': 1010, 'class_weight': None}. Best is trial 7 with value: 0.6540645427725201.\u001b[0m\n",
            "\u001b[32m[I 2022-07-11 15:47:05,638]\u001b[0m Trial 60 finished with value: 0.6110929107166907 and parameters: {'criterion': 'entropy', 'splitter': 'random', 'max_depth': 40, 'min_samples_split': 50, 'min_samples_leaf': 65, 'max_leaf_nodes': 910, 'class_weight': None}. Best is trial 7 with value: 0.6540645427725201.\u001b[0m\n",
            "\u001b[32m[I 2022-07-11 15:47:05,821]\u001b[0m Trial 61 finished with value: 0.6388172148542477 and parameters: {'criterion': 'entropy', 'splitter': 'random', 'max_depth': 25, 'min_samples_split': 15, 'min_samples_leaf': 40, 'max_leaf_nodes': 710, 'class_weight': None}. Best is trial 7 with value: 0.6540645427725201.\u001b[0m\n",
            "\u001b[32m[I 2022-07-11 15:47:06,007]\u001b[0m Trial 62 finished with value: 0.6405619711651631 and parameters: {'criterion': 'entropy', 'splitter': 'random', 'max_depth': 30, 'min_samples_split': 10, 'min_samples_leaf': 50, 'max_leaf_nodes': 810, 'class_weight': None}. Best is trial 7 with value: 0.6540645427725201.\u001b[0m\n",
            "\u001b[32m[I 2022-07-11 15:47:06,199]\u001b[0m Trial 63 finished with value: 0.6405619711651631 and parameters: {'criterion': 'entropy', 'splitter': 'random', 'max_depth': 15, 'min_samples_split': 10, 'min_samples_leaf': 50, 'max_leaf_nodes': 910, 'class_weight': None}. Best is trial 7 with value: 0.6540645427725201.\u001b[0m\n",
            "\u001b[32m[I 2022-07-11 15:47:06,380]\u001b[0m Trial 64 finished with value: 0.6200287138909444 and parameters: {'criterion': 'entropy', 'splitter': 'random', 'max_depth': 15, 'min_samples_split': 25, 'min_samples_leaf': 55, 'max_leaf_nodes': 910, 'class_weight': None}. Best is trial 7 with value: 0.6540645427725201.\u001b[0m\n",
            "\u001b[32m[I 2022-07-11 15:47:06,563]\u001b[0m Trial 65 finished with value: 0.6077985861594772 and parameters: {'criterion': 'entropy', 'splitter': 'random', 'max_depth': 5, 'min_samples_split': 10, 'min_samples_leaf': 35, 'max_leaf_nodes': 810, 'class_weight': None}. Best is trial 7 with value: 0.6540645427725201.\u001b[0m\n",
            "\u001b[32m[I 2022-07-11 15:47:06,745]\u001b[0m Trial 66 finished with value: 0.5970780771936582 and parameters: {'criterion': 'entropy', 'splitter': 'best', 'max_depth': 35, 'min_samples_split': 35, 'min_samples_leaf': 45, 'max_leaf_nodes': 1010, 'class_weight': None}. Best is trial 7 with value: 0.6540645427725201.\u001b[0m\n",
            "\u001b[32m[I 2022-07-11 15:47:06,929]\u001b[0m Trial 67 finished with value: 0.626425220665528 and parameters: {'criterion': 'gini', 'splitter': 'random', 'max_depth': 25, 'min_samples_split': 20, 'min_samples_leaf': 50, 'max_leaf_nodes': 810, 'class_weight': None}. Best is trial 7 with value: 0.6540645427725201.\u001b[0m\n",
            "\u001b[32m[I 2022-07-11 15:47:07,103]\u001b[0m Trial 68 finished with value: 0.6388172148542477 and parameters: {'criterion': 'entropy', 'splitter': 'random', 'max_depth': 30, 'min_samples_split': 5, 'min_samples_leaf': 40, 'max_leaf_nodes': 1010, 'class_weight': None}. Best is trial 7 with value: 0.6540645427725201.\u001b[0m\n",
            "\u001b[32m[I 2022-07-11 15:47:07,292]\u001b[0m Trial 69 finished with value: 0.6200287138909444 and parameters: {'criterion': 'entropy', 'splitter': 'random', 'max_depth': 15, 'min_samples_split': 95, 'min_samples_leaf': 55, 'max_leaf_nodes': 610, 'class_weight': None}. Best is trial 7 with value: 0.6540645427725201.\u001b[0m\n",
            "\u001b[32m[I 2022-07-11 15:47:07,480]\u001b[0m Trial 70 finished with value: 0.5980719571880841 and parameters: {'criterion': 'entropy', 'splitter': 'best', 'max_depth': 35, 'min_samples_split': 75, 'min_samples_leaf': 60, 'max_leaf_nodes': 710, 'class_weight': None}. Best is trial 7 with value: 0.6540645427725201.\u001b[0m\n",
            "\u001b[32m[I 2022-07-11 15:47:07,657]\u001b[0m Trial 71 finished with value: 0.6405619711651631 and parameters: {'criterion': 'entropy', 'splitter': 'random', 'max_depth': 20, 'min_samples_split': 10, 'min_samples_leaf': 50, 'max_leaf_nodes': 810, 'class_weight': None}. Best is trial 7 with value: 0.6540645427725201.\u001b[0m\n",
            "\u001b[32m[I 2022-07-11 15:47:07,836]\u001b[0m Trial 72 finished with value: 0.6405619711651631 and parameters: {'criterion': 'entropy', 'splitter': 'random', 'max_depth': 25, 'min_samples_split': 10, 'min_samples_leaf': 50, 'max_leaf_nodes': 810, 'class_weight': None}. Best is trial 7 with value: 0.6540645427725201.\u001b[0m\n",
            "\u001b[32m[I 2022-07-11 15:47:08,029]\u001b[0m Trial 73 finished with value: 0.6332564002440945 and parameters: {'criterion': 'entropy', 'splitter': 'random', 'max_depth': 25, 'min_samples_split': 15, 'min_samples_leaf': 45, 'max_leaf_nodes': 910, 'class_weight': None}. Best is trial 7 with value: 0.6540645427725201.\u001b[0m\n",
            "\u001b[32m[I 2022-07-11 15:47:08,210]\u001b[0m Trial 74 finished with value: 0.6200287138909444 and parameters: {'criterion': 'entropy', 'splitter': 'random', 'max_depth': 20, 'min_samples_split': 45, 'min_samples_leaf': 55, 'max_leaf_nodes': 910, 'class_weight': None}. Best is trial 7 with value: 0.6540645427725201.\u001b[0m\n",
            "\u001b[32m[I 2022-07-11 15:47:08,412]\u001b[0m Trial 75 finished with value: 0.6388172148542477 and parameters: {'criterion': 'entropy', 'splitter': 'random', 'max_depth': 30, 'min_samples_split': 20, 'min_samples_leaf': 40, 'max_leaf_nodes': 710, 'class_weight': None}. Best is trial 7 with value: 0.6540645427725201.\u001b[0m\n",
            "\u001b[32m[I 2022-07-11 15:47:08,598]\u001b[0m Trial 76 finished with value: 0.6405619711651631 and parameters: {'criterion': 'entropy', 'splitter': 'random', 'max_depth': 20, 'min_samples_split': 60, 'min_samples_leaf': 50, 'max_leaf_nodes': 510, 'class_weight': None}. Best is trial 7 with value: 0.6540645427725201.\u001b[0m\n",
            "\u001b[32m[I 2022-07-11 15:47:08,775]\u001b[0m Trial 77 finished with value: 0.6162503070962616 and parameters: {'criterion': 'gini', 'splitter': 'random', 'max_depth': 20, 'min_samples_split': 60, 'min_samples_leaf': 70, 'max_leaf_nodes': 510, 'class_weight': None}. Best is trial 7 with value: 0.6540645427725201.\u001b[0m\n",
            "\u001b[32m[I 2022-07-11 15:47:08,966]\u001b[0m Trial 78 finished with value: 0.5980719571880841 and parameters: {'criterion': 'entropy', 'splitter': 'best', 'max_depth': 40, 'min_samples_split': 5, 'min_samples_leaf': 60, 'max_leaf_nodes': 610, 'class_weight': None}. Best is trial 7 with value: 0.6540645427725201.\u001b[0m\n",
            "\u001b[32m[I 2022-07-11 15:47:09,141]\u001b[0m Trial 79 finished with value: 0.6311157826051206 and parameters: {'criterion': 'entropy', 'splitter': 'random', 'max_depth': 25, 'min_samples_split': 10, 'min_samples_leaf': 100, 'max_leaf_nodes': 810, 'class_weight': None}. Best is trial 7 with value: 0.6540645427725201.\u001b[0m\n",
            "\u001b[32m[I 2022-07-11 15:47:09,322]\u001b[0m Trial 80 finished with value: 0.6311160006050641 and parameters: {'criterion': 'gini', 'splitter': 'random', 'max_depth': 35, 'min_samples_split': 55, 'min_samples_leaf': 45, 'max_leaf_nodes': 610, 'class_weight': None}. Best is trial 7 with value: 0.6540645427725201.\u001b[0m\n",
            "\u001b[32m[I 2022-07-11 15:47:09,509]\u001b[0m Trial 81 finished with value: 0.6405619711651631 and parameters: {'criterion': 'entropy', 'splitter': 'random', 'max_depth': 10, 'min_samples_split': 65, 'min_samples_leaf': 50, 'max_leaf_nodes': 710, 'class_weight': None}. Best is trial 7 with value: 0.6540645427725201.\u001b[0m\n",
            "\u001b[32m[I 2022-07-11 15:47:09,691]\u001b[0m Trial 82 finished with value: 0.6200287138909444 and parameters: {'criterion': 'entropy', 'splitter': 'random', 'max_depth': 10, 'min_samples_split': 65, 'min_samples_leaf': 55, 'max_leaf_nodes': 710, 'class_weight': None}. Best is trial 7 with value: 0.6540645427725201.\u001b[0m\n",
            "\u001b[32m[I 2022-07-11 15:47:09,877]\u001b[0m Trial 83 finished with value: 0.6405619711651631 and parameters: {'criterion': 'entropy', 'splitter': 'random', 'max_depth': 15, 'min_samples_split': 70, 'min_samples_leaf': 50, 'max_leaf_nodes': 810, 'class_weight': None}. Best is trial 7 with value: 0.6540645427725201.\u001b[0m\n",
            "\u001b[32m[I 2022-07-11 15:47:10,080]\u001b[0m Trial 84 finished with value: 0.6388172148542477 and parameters: {'criterion': 'entropy', 'splitter': 'random', 'max_depth': 45, 'min_samples_split': 85, 'min_samples_leaf': 40, 'max_leaf_nodes': 710, 'class_weight': None}. Best is trial 7 with value: 0.6540645427725201.\u001b[0m\n",
            "\u001b[32m[I 2022-07-11 15:47:10,275]\u001b[0m Trial 85 finished with value: 0.6332564002440945 and parameters: {'criterion': 'entropy', 'splitter': 'random', 'max_depth': 30, 'min_samples_split': 60, 'min_samples_leaf': 45, 'max_leaf_nodes': 510, 'class_weight': None}. Best is trial 7 with value: 0.6540645427725201.\u001b[0m\n",
            "\u001b[32m[I 2022-07-11 15:47:10,465]\u001b[0m Trial 86 finished with value: 0.6200287138909444 and parameters: {'criterion': 'entropy', 'splitter': 'random', 'max_depth': 30, 'min_samples_split': 5, 'min_samples_leaf': 55, 'max_leaf_nodes': 910, 'class_weight': None}. Best is trial 7 with value: 0.6540645427725201.\u001b[0m\n",
            "\u001b[32m[I 2022-07-11 15:47:10,642]\u001b[0m Trial 87 finished with value: 0.6110929107166907 and parameters: {'criterion': 'entropy', 'splitter': 'random', 'max_depth': 40, 'min_samples_split': 100, 'min_samples_leaf': 65, 'max_leaf_nodes': 910, 'class_weight': None}. Best is trial 7 with value: 0.6540645427725201.\u001b[0m\n",
            "\u001b[32m[I 2022-07-11 15:47:10,827]\u001b[0m Trial 88 finished with value: 0.5956963174758206 and parameters: {'criterion': 'entropy', 'splitter': 'best', 'max_depth': 15, 'min_samples_split': 15, 'min_samples_leaf': 50, 'max_leaf_nodes': 1010, 'class_weight': None}. Best is trial 7 with value: 0.6540645427725201.\u001b[0m\n",
            "\u001b[32m[I 2022-07-11 15:47:11,025]\u001b[0m Trial 89 finished with value: 0.6332564002440945 and parameters: {'criterion': 'entropy', 'splitter': 'random', 'max_depth': 30, 'min_samples_split': 20, 'min_samples_leaf': 45, 'max_leaf_nodes': 910, 'class_weight': None}. Best is trial 7 with value: 0.6540645427725201.\u001b[0m\n",
            "\u001b[32m[I 2022-07-11 15:47:11,227]\u001b[0m Trial 90 finished with value: 0.631297252635847 and parameters: {'criterion': 'gini', 'splitter': 'random', 'max_depth': 35, 'min_samples_split': 25, 'min_samples_leaf': 35, 'max_leaf_nodes': 710, 'class_weight': None}. Best is trial 7 with value: 0.6540645427725201.\u001b[0m\n",
            "\u001b[32m[I 2022-07-11 15:47:11,400]\u001b[0m Trial 91 finished with value: 0.6326369561380126 and parameters: {'criterion': 'entropy', 'splitter': 'random', 'max_depth': 5, 'min_samples_split': 75, 'min_samples_leaf': 50, 'max_leaf_nodes': 810, 'class_weight': None}. Best is trial 7 with value: 0.6540645427725201.\u001b[0m\n",
            "\u001b[32m[I 2022-07-11 15:47:11,589]\u001b[0m Trial 92 finished with value: 0.6405619711651631 and parameters: {'criterion': 'entropy', 'splitter': 'random', 'max_depth': 20, 'min_samples_split': 70, 'min_samples_leaf': 50, 'max_leaf_nodes': 810, 'class_weight': None}. Best is trial 7 with value: 0.6540645427725201.\u001b[0m\n",
            "\u001b[32m[I 2022-07-11 15:47:11,775]\u001b[0m Trial 93 finished with value: 0.6388172148542477 and parameters: {'criterion': 'entropy', 'splitter': 'random', 'max_depth': 20, 'min_samples_split': 70, 'min_samples_leaf': 40, 'max_leaf_nodes': 810, 'class_weight': None}. Best is trial 7 with value: 0.6540645427725201.\u001b[0m\n",
            "\u001b[32m[I 2022-07-11 15:47:11,965]\u001b[0m Trial 94 finished with value: 0.6332564002440945 and parameters: {'criterion': 'entropy', 'splitter': 'random', 'max_depth': 10, 'min_samples_split': 65, 'min_samples_leaf': 45, 'max_leaf_nodes': 810, 'class_weight': None}. Best is trial 7 with value: 0.6540645427725201.\u001b[0m\n",
            "\u001b[32m[I 2022-07-11 15:47:12,153]\u001b[0m Trial 95 finished with value: 0.6200287138909444 and parameters: {'criterion': 'entropy', 'splitter': 'random', 'max_depth': 25, 'min_samples_split': 10, 'min_samples_leaf': 55, 'max_leaf_nodes': 910, 'class_weight': None}. Best is trial 7 with value: 0.6540645427725201.\u001b[0m\n",
            "\u001b[32m[I 2022-07-11 15:47:12,341]\u001b[0m Trial 96 finished with value: 0.6026894159600378 and parameters: {'criterion': 'entropy', 'splitter': 'random', 'max_depth': 15, 'min_samples_split': 75, 'min_samples_leaf': 60, 'max_leaf_nodes': 510, 'class_weight': None}. Best is trial 7 with value: 0.6540645427725201.\u001b[0m\n",
            "\u001b[32m[I 2022-07-11 15:47:12,533]\u001b[0m Trial 97 finished with value: 0.5707010920650334 and parameters: {'criterion': 'entropy', 'splitter': 'best', 'max_depth': 25, 'min_samples_split': 15, 'min_samples_leaf': 95, 'max_leaf_nodes': 610, 'class_weight': None}. Best is trial 7 with value: 0.6540645427725201.\u001b[0m\n",
            "\u001b[32m[I 2022-07-11 15:47:12,720]\u001b[0m Trial 98 finished with value: 0.6405619711651631 and parameters: {'criterion': 'entropy', 'splitter': 'random', 'max_depth': 15, 'min_samples_split': 60, 'min_samples_leaf': 50, 'max_leaf_nodes': 10, 'class_weight': None}. Best is trial 7 with value: 0.6540645427725201.\u001b[0m\n",
            "\u001b[32m[I 2022-07-11 15:47:12,898]\u001b[0m Trial 99 finished with value: 0.6302067366524841 and parameters: {'criterion': 'gini', 'splitter': 'random', 'max_depth': 20, 'min_samples_split': 50, 'min_samples_leaf': 85, 'max_leaf_nodes': 110, 'class_weight': None}. Best is trial 7 with value: 0.6540645427725201.\u001b[0m\n"
          ]
        }
      ]
    },
    {
      "cell_type": "markdown",
      "source": [
        "# (Optional) Inspect the Results of the Study"
      ],
      "metadata": {
        "id": "Ek04AFmB6x56"
      }
    },
    {
      "cell_type": "code",
      "source": [
        "# What were the best params?\n",
        "study.best_params"
      ],
      "metadata": {
        "colab": {
          "base_uri": "https://localhost:8080/"
        },
        "id": "3zHdSy823gkt",
        "outputId": "9dbd2301-c991-4e1d-ec25-d537b2ac1fd0"
      },
      "execution_count": 9,
      "outputs": [
        {
          "output_type": "execute_result",
          "data": {
            "text/plain": [
              "{'class_weight': 'balanced',\n",
              " 'criterion': 'gini',\n",
              " 'max_depth': 35,\n",
              " 'max_leaf_nodes': 810,\n",
              " 'min_samples_leaf': 75,\n",
              " 'min_samples_split': 95,\n",
              " 'splitter': 'random'}"
            ]
          },
          "metadata": {},
          "execution_count": 9
        }
      ]
    },
    {
      "cell_type": "code",
      "source": [
        "# What was the best value?\n",
        "study.best_value"
      ],
      "metadata": {
        "colab": {
          "base_uri": "https://localhost:8080/"
        },
        "id": "bUCsHVLI6NUo",
        "outputId": "5fa56417-f4b3-4f88-912b-183c29c82020"
      },
      "execution_count": 10,
      "outputs": [
        {
          "output_type": "execute_result",
          "data": {
            "text/plain": [
              "0.6540645427725201"
            ]
          },
          "metadata": {},
          "execution_count": 10
        }
      ]
    },
    {
      "cell_type": "code",
      "source": [
        "# All the details of the best trial\n",
        "study.best_trial"
      ],
      "metadata": {
        "colab": {
          "base_uri": "https://localhost:8080/"
        },
        "id": "WCe1PODk6Tru",
        "outputId": "65b33e61-78f4-46b4-f3ee-3c1002041359"
      },
      "execution_count": 11,
      "outputs": [
        {
          "output_type": "execute_result",
          "data": {
            "text/plain": [
              "FrozenTrial(number=7, values=[0.6540645427725201], datetime_start=datetime.datetime(2022, 7, 11, 15, 46, 45, 651614), datetime_complete=datetime.datetime(2022, 7, 11, 15, 46, 45, 814459), params={'criterion': 'gini', 'splitter': 'random', 'max_depth': 35, 'min_samples_split': 95, 'min_samples_leaf': 75, 'max_leaf_nodes': 810, 'class_weight': 'balanced'}, distributions={'criterion': CategoricalDistribution(choices=('gini', 'entropy')), 'splitter': CategoricalDistribution(choices=('best', 'random')), 'max_depth': IntUniformDistribution(high=100, low=5, step=5), 'min_samples_split': IntUniformDistribution(high=100, low=5, step=5), 'min_samples_leaf': IntUniformDistribution(high=100, low=5, step=5), 'max_leaf_nodes': IntUniformDistribution(high=1010, low=10, step=100), 'class_weight': CategoricalDistribution(choices=('balanced', None))}, user_attrs={}, system_attrs={}, intermediate_values={}, trial_id=7, state=TrialState.COMPLETE, value=None)"
            ]
          },
          "metadata": {},
          "execution_count": 11
        }
      ]
    },
    {
      "cell_type": "code",
      "source": [
        "fig = optuna.visualization.plot_optimization_history(study)\n",
        "fig.show()"
      ],
      "metadata": {
        "colab": {
          "base_uri": "https://localhost:8080/",
          "height": 542
        },
        "id": "Sgi4l7Ws63bF",
        "outputId": "0bb68b6c-97e6-4fe2-dd40-8f4490187478"
      },
      "execution_count": 12,
      "outputs": [
        {
          "output_type": "display_data",
          "data": {
            "text/html": [
              "<html>\n",
              "<head><meta charset=\"utf-8\" /></head>\n",
              "<body>\n",
              "    <div>            <script src=\"https://cdnjs.cloudflare.com/ajax/libs/mathjax/2.7.5/MathJax.js?config=TeX-AMS-MML_SVG\"></script><script type=\"text/javascript\">if (window.MathJax) {MathJax.Hub.Config({SVG: {font: \"STIX-Web\"}});}</script>                <script type=\"text/javascript\">window.PlotlyConfig = {MathJaxConfig: 'local'};</script>\n",
              "        <script src=\"https://cdn.plot.ly/plotly-2.8.3.min.js\"></script>                <div id=\"428dbfa6-dd88-404d-8de3-2a24e081a758\" class=\"plotly-graph-div\" style=\"height:525px; width:100%;\"></div>            <script type=\"text/javascript\">                                    window.PLOTLYENV=window.PLOTLYENV || {};                                    if (document.getElementById(\"428dbfa6-dd88-404d-8de3-2a24e081a758\")) {                    Plotly.newPlot(                        \"428dbfa6-dd88-404d-8de3-2a24e081a758\",                        [{\"mode\":\"markers\",\"name\":\"Objective Value\",\"x\":[0,1,2,3,4,5,6,7,8,9,10,11,12,13,14,15,16,17,18,19,20,21,22,23,24,25,26,27,28,29,30,31,32,33,34,35,36,37,38,39,40,41,42,43,44,45,46,47,48,49,50,51,52,53,54,55,56,57,58,59,60,61,62,63,64,65,66,67,68,69,70,71,72,73,74,75,76,77,78,79,80,81,82,83,84,85,86,87,88,89,90,91,92,93,94,95,96,97,98,99],\"y\":[0.6320754457375056,0.6362491445911533,0.6388172148542477,0.6437142569055366,0.5911964940014421,0.6368758754832926,0.6302367333250428,0.6540645427725201,0.6103615255239928,0.6358830078409856,0.6311157826051206,0.6162503070962616,0.5981647540603531,0.6302067366524841,0.5890651770545976,0.6302067366524841,0.6332564002440945,0.6247499367597559,0.5876782992077239,0.6311157826051206,0.6055314704893647,0.6388172148542477,0.6332564002440945,0.6267838602560896,0.6248805589694888,0.6405619711651631,0.5956963174758206,0.6026894159600378,0.5989097443621157,0.62715207215686,0.6302067366524841,0.6388172148542477,0.6267838602560896,0.6332564002440945,0.6151617118684132,0.5937433847224103,0.6388172148542477,0.6026894159600378,0.6278587022713314,0.6103615255239928,0.6263532127975735,0.6151617118684132,0.6267838602560896,0.6332564002440945,0.6405619711651631,0.6175122297095158,0.5956963174758206,0.6110929107166907,0.5890651770545976,0.6311157826051206,0.6405619711651631,0.6405619711651631,0.6405619711651631,0.6026894159600378,0.6332564002440945,0.6175122297095158,0.6248805589694888,0.6405619711651631,0.6111697372486466,0.6332564002440945,0.6110929107166907,0.6388172148542477,0.6405619711651631,0.6405619711651631,0.6200287138909444,0.6077985861594772,0.5970780771936582,0.626425220665528,0.6388172148542477,0.6200287138909444,0.5980719571880841,0.6405619711651631,0.6405619711651631,0.6332564002440945,0.6200287138909444,0.6388172148542477,0.6405619711651631,0.6162503070962616,0.5980719571880841,0.6311157826051206,0.6311160006050641,0.6405619711651631,0.6200287138909444,0.6405619711651631,0.6388172148542477,0.6332564002440945,0.6200287138909444,0.6110929107166907,0.5956963174758206,0.6332564002440945,0.631297252635847,0.6326369561380126,0.6405619711651631,0.6388172148542477,0.6332564002440945,0.6200287138909444,0.6026894159600378,0.5707010920650334,0.6405619711651631,0.6302067366524841],\"type\":\"scatter\"},{\"name\":\"Best Value\",\"x\":[0,1,2,3,4,5,6,7,8,9,10,11,12,13,14,15,16,17,18,19,20,21,22,23,24,25,26,27,28,29,30,31,32,33,34,35,36,37,38,39,40,41,42,43,44,45,46,47,48,49,50,51,52,53,54,55,56,57,58,59,60,61,62,63,64,65,66,67,68,69,70,71,72,73,74,75,76,77,78,79,80,81,82,83,84,85,86,87,88,89,90,91,92,93,94,95,96,97,98,99],\"y\":[0.6320754457375056,0.6362491445911533,0.6388172148542477,0.6437142569055366,0.6437142569055366,0.6437142569055366,0.6437142569055366,0.6540645427725201,0.6540645427725201,0.6540645427725201,0.6540645427725201,0.6540645427725201,0.6540645427725201,0.6540645427725201,0.6540645427725201,0.6540645427725201,0.6540645427725201,0.6540645427725201,0.6540645427725201,0.6540645427725201,0.6540645427725201,0.6540645427725201,0.6540645427725201,0.6540645427725201,0.6540645427725201,0.6540645427725201,0.6540645427725201,0.6540645427725201,0.6540645427725201,0.6540645427725201,0.6540645427725201,0.6540645427725201,0.6540645427725201,0.6540645427725201,0.6540645427725201,0.6540645427725201,0.6540645427725201,0.6540645427725201,0.6540645427725201,0.6540645427725201,0.6540645427725201,0.6540645427725201,0.6540645427725201,0.6540645427725201,0.6540645427725201,0.6540645427725201,0.6540645427725201,0.6540645427725201,0.6540645427725201,0.6540645427725201,0.6540645427725201,0.6540645427725201,0.6540645427725201,0.6540645427725201,0.6540645427725201,0.6540645427725201,0.6540645427725201,0.6540645427725201,0.6540645427725201,0.6540645427725201,0.6540645427725201,0.6540645427725201,0.6540645427725201,0.6540645427725201,0.6540645427725201,0.6540645427725201,0.6540645427725201,0.6540645427725201,0.6540645427725201,0.6540645427725201,0.6540645427725201,0.6540645427725201,0.6540645427725201,0.6540645427725201,0.6540645427725201,0.6540645427725201,0.6540645427725201,0.6540645427725201,0.6540645427725201,0.6540645427725201,0.6540645427725201,0.6540645427725201,0.6540645427725201,0.6540645427725201,0.6540645427725201,0.6540645427725201,0.6540645427725201,0.6540645427725201,0.6540645427725201,0.6540645427725201,0.6540645427725201,0.6540645427725201,0.6540645427725201,0.6540645427725201,0.6540645427725201,0.6540645427725201,0.6540645427725201,0.6540645427725201,0.6540645427725201,0.6540645427725201],\"type\":\"scatter\"}],                        {\"title\":{\"text\":\"Optimization History Plot\"},\"xaxis\":{\"title\":{\"text\":\"#Trials\"}},\"yaxis\":{\"title\":{\"text\":\"Objective Value\"}},\"template\":{\"data\":{\"bar\":[{\"error_x\":{\"color\":\"#2a3f5f\"},\"error_y\":{\"color\":\"#2a3f5f\"},\"marker\":{\"line\":{\"color\":\"#E5ECF6\",\"width\":0.5},\"pattern\":{\"fillmode\":\"overlay\",\"size\":10,\"solidity\":0.2}},\"type\":\"bar\"}],\"barpolar\":[{\"marker\":{\"line\":{\"color\":\"#E5ECF6\",\"width\":0.5},\"pattern\":{\"fillmode\":\"overlay\",\"size\":10,\"solidity\":0.2}},\"type\":\"barpolar\"}],\"carpet\":[{\"aaxis\":{\"endlinecolor\":\"#2a3f5f\",\"gridcolor\":\"white\",\"linecolor\":\"white\",\"minorgridcolor\":\"white\",\"startlinecolor\":\"#2a3f5f\"},\"baxis\":{\"endlinecolor\":\"#2a3f5f\",\"gridcolor\":\"white\",\"linecolor\":\"white\",\"minorgridcolor\":\"white\",\"startlinecolor\":\"#2a3f5f\"},\"type\":\"carpet\"}],\"choropleth\":[{\"colorbar\":{\"outlinewidth\":0,\"ticks\":\"\"},\"type\":\"choropleth\"}],\"contour\":[{\"colorbar\":{\"outlinewidth\":0,\"ticks\":\"\"},\"colorscale\":[[0.0,\"#0d0887\"],[0.1111111111111111,\"#46039f\"],[0.2222222222222222,\"#7201a8\"],[0.3333333333333333,\"#9c179e\"],[0.4444444444444444,\"#bd3786\"],[0.5555555555555556,\"#d8576b\"],[0.6666666666666666,\"#ed7953\"],[0.7777777777777778,\"#fb9f3a\"],[0.8888888888888888,\"#fdca26\"],[1.0,\"#f0f921\"]],\"type\":\"contour\"}],\"contourcarpet\":[{\"colorbar\":{\"outlinewidth\":0,\"ticks\":\"\"},\"type\":\"contourcarpet\"}],\"heatmap\":[{\"colorbar\":{\"outlinewidth\":0,\"ticks\":\"\"},\"colorscale\":[[0.0,\"#0d0887\"],[0.1111111111111111,\"#46039f\"],[0.2222222222222222,\"#7201a8\"],[0.3333333333333333,\"#9c179e\"],[0.4444444444444444,\"#bd3786\"],[0.5555555555555556,\"#d8576b\"],[0.6666666666666666,\"#ed7953\"],[0.7777777777777778,\"#fb9f3a\"],[0.8888888888888888,\"#fdca26\"],[1.0,\"#f0f921\"]],\"type\":\"heatmap\"}],\"heatmapgl\":[{\"colorbar\":{\"outlinewidth\":0,\"ticks\":\"\"},\"colorscale\":[[0.0,\"#0d0887\"],[0.1111111111111111,\"#46039f\"],[0.2222222222222222,\"#7201a8\"],[0.3333333333333333,\"#9c179e\"],[0.4444444444444444,\"#bd3786\"],[0.5555555555555556,\"#d8576b\"],[0.6666666666666666,\"#ed7953\"],[0.7777777777777778,\"#fb9f3a\"],[0.8888888888888888,\"#fdca26\"],[1.0,\"#f0f921\"]],\"type\":\"heatmapgl\"}],\"histogram\":[{\"marker\":{\"pattern\":{\"fillmode\":\"overlay\",\"size\":10,\"solidity\":0.2}},\"type\":\"histogram\"}],\"histogram2d\":[{\"colorbar\":{\"outlinewidth\":0,\"ticks\":\"\"},\"colorscale\":[[0.0,\"#0d0887\"],[0.1111111111111111,\"#46039f\"],[0.2222222222222222,\"#7201a8\"],[0.3333333333333333,\"#9c179e\"],[0.4444444444444444,\"#bd3786\"],[0.5555555555555556,\"#d8576b\"],[0.6666666666666666,\"#ed7953\"],[0.7777777777777778,\"#fb9f3a\"],[0.8888888888888888,\"#fdca26\"],[1.0,\"#f0f921\"]],\"type\":\"histogram2d\"}],\"histogram2dcontour\":[{\"colorbar\":{\"outlinewidth\":0,\"ticks\":\"\"},\"colorscale\":[[0.0,\"#0d0887\"],[0.1111111111111111,\"#46039f\"],[0.2222222222222222,\"#7201a8\"],[0.3333333333333333,\"#9c179e\"],[0.4444444444444444,\"#bd3786\"],[0.5555555555555556,\"#d8576b\"],[0.6666666666666666,\"#ed7953\"],[0.7777777777777778,\"#fb9f3a\"],[0.8888888888888888,\"#fdca26\"],[1.0,\"#f0f921\"]],\"type\":\"histogram2dcontour\"}],\"mesh3d\":[{\"colorbar\":{\"outlinewidth\":0,\"ticks\":\"\"},\"type\":\"mesh3d\"}],\"parcoords\":[{\"line\":{\"colorbar\":{\"outlinewidth\":0,\"ticks\":\"\"}},\"type\":\"parcoords\"}],\"pie\":[{\"automargin\":true,\"type\":\"pie\"}],\"scatter\":[{\"marker\":{\"colorbar\":{\"outlinewidth\":0,\"ticks\":\"\"}},\"type\":\"scatter\"}],\"scatter3d\":[{\"line\":{\"colorbar\":{\"outlinewidth\":0,\"ticks\":\"\"}},\"marker\":{\"colorbar\":{\"outlinewidth\":0,\"ticks\":\"\"}},\"type\":\"scatter3d\"}],\"scattercarpet\":[{\"marker\":{\"colorbar\":{\"outlinewidth\":0,\"ticks\":\"\"}},\"type\":\"scattercarpet\"}],\"scattergeo\":[{\"marker\":{\"colorbar\":{\"outlinewidth\":0,\"ticks\":\"\"}},\"type\":\"scattergeo\"}],\"scattergl\":[{\"marker\":{\"colorbar\":{\"outlinewidth\":0,\"ticks\":\"\"}},\"type\":\"scattergl\"}],\"scattermapbox\":[{\"marker\":{\"colorbar\":{\"outlinewidth\":0,\"ticks\":\"\"}},\"type\":\"scattermapbox\"}],\"scatterpolar\":[{\"marker\":{\"colorbar\":{\"outlinewidth\":0,\"ticks\":\"\"}},\"type\":\"scatterpolar\"}],\"scatterpolargl\":[{\"marker\":{\"colorbar\":{\"outlinewidth\":0,\"ticks\":\"\"}},\"type\":\"scatterpolargl\"}],\"scatterternary\":[{\"marker\":{\"colorbar\":{\"outlinewidth\":0,\"ticks\":\"\"}},\"type\":\"scatterternary\"}],\"surface\":[{\"colorbar\":{\"outlinewidth\":0,\"ticks\":\"\"},\"colorscale\":[[0.0,\"#0d0887\"],[0.1111111111111111,\"#46039f\"],[0.2222222222222222,\"#7201a8\"],[0.3333333333333333,\"#9c179e\"],[0.4444444444444444,\"#bd3786\"],[0.5555555555555556,\"#d8576b\"],[0.6666666666666666,\"#ed7953\"],[0.7777777777777778,\"#fb9f3a\"],[0.8888888888888888,\"#fdca26\"],[1.0,\"#f0f921\"]],\"type\":\"surface\"}],\"table\":[{\"cells\":{\"fill\":{\"color\":\"#EBF0F8\"},\"line\":{\"color\":\"white\"}},\"header\":{\"fill\":{\"color\":\"#C8D4E3\"},\"line\":{\"color\":\"white\"}},\"type\":\"table\"}]},\"layout\":{\"annotationdefaults\":{\"arrowcolor\":\"#2a3f5f\",\"arrowhead\":0,\"arrowwidth\":1},\"autotypenumbers\":\"strict\",\"coloraxis\":{\"colorbar\":{\"outlinewidth\":0,\"ticks\":\"\"}},\"colorscale\":{\"diverging\":[[0,\"#8e0152\"],[0.1,\"#c51b7d\"],[0.2,\"#de77ae\"],[0.3,\"#f1b6da\"],[0.4,\"#fde0ef\"],[0.5,\"#f7f7f7\"],[0.6,\"#e6f5d0\"],[0.7,\"#b8e186\"],[0.8,\"#7fbc41\"],[0.9,\"#4d9221\"],[1,\"#276419\"]],\"sequential\":[[0.0,\"#0d0887\"],[0.1111111111111111,\"#46039f\"],[0.2222222222222222,\"#7201a8\"],[0.3333333333333333,\"#9c179e\"],[0.4444444444444444,\"#bd3786\"],[0.5555555555555556,\"#d8576b\"],[0.6666666666666666,\"#ed7953\"],[0.7777777777777778,\"#fb9f3a\"],[0.8888888888888888,\"#fdca26\"],[1.0,\"#f0f921\"]],\"sequentialminus\":[[0.0,\"#0d0887\"],[0.1111111111111111,\"#46039f\"],[0.2222222222222222,\"#7201a8\"],[0.3333333333333333,\"#9c179e\"],[0.4444444444444444,\"#bd3786\"],[0.5555555555555556,\"#d8576b\"],[0.6666666666666666,\"#ed7953\"],[0.7777777777777778,\"#fb9f3a\"],[0.8888888888888888,\"#fdca26\"],[1.0,\"#f0f921\"]]},\"colorway\":[\"#636efa\",\"#EF553B\",\"#00cc96\",\"#ab63fa\",\"#FFA15A\",\"#19d3f3\",\"#FF6692\",\"#B6E880\",\"#FF97FF\",\"#FECB52\"],\"font\":{\"color\":\"#2a3f5f\"},\"geo\":{\"bgcolor\":\"white\",\"lakecolor\":\"white\",\"landcolor\":\"#E5ECF6\",\"showlakes\":true,\"showland\":true,\"subunitcolor\":\"white\"},\"hoverlabel\":{\"align\":\"left\"},\"hovermode\":\"closest\",\"mapbox\":{\"style\":\"light\"},\"paper_bgcolor\":\"white\",\"plot_bgcolor\":\"#E5ECF6\",\"polar\":{\"angularaxis\":{\"gridcolor\":\"white\",\"linecolor\":\"white\",\"ticks\":\"\"},\"bgcolor\":\"#E5ECF6\",\"radialaxis\":{\"gridcolor\":\"white\",\"linecolor\":\"white\",\"ticks\":\"\"}},\"scene\":{\"xaxis\":{\"backgroundcolor\":\"#E5ECF6\",\"gridcolor\":\"white\",\"gridwidth\":2,\"linecolor\":\"white\",\"showbackground\":true,\"ticks\":\"\",\"zerolinecolor\":\"white\"},\"yaxis\":{\"backgroundcolor\":\"#E5ECF6\",\"gridcolor\":\"white\",\"gridwidth\":2,\"linecolor\":\"white\",\"showbackground\":true,\"ticks\":\"\",\"zerolinecolor\":\"white\"},\"zaxis\":{\"backgroundcolor\":\"#E5ECF6\",\"gridcolor\":\"white\",\"gridwidth\":2,\"linecolor\":\"white\",\"showbackground\":true,\"ticks\":\"\",\"zerolinecolor\":\"white\"}},\"shapedefaults\":{\"line\":{\"color\":\"#2a3f5f\"}},\"ternary\":{\"aaxis\":{\"gridcolor\":\"white\",\"linecolor\":\"white\",\"ticks\":\"\"},\"baxis\":{\"gridcolor\":\"white\",\"linecolor\":\"white\",\"ticks\":\"\"},\"bgcolor\":\"#E5ECF6\",\"caxis\":{\"gridcolor\":\"white\",\"linecolor\":\"white\",\"ticks\":\"\"}},\"title\":{\"x\":0.05},\"xaxis\":{\"automargin\":true,\"gridcolor\":\"white\",\"linecolor\":\"white\",\"ticks\":\"\",\"title\":{\"standoff\":15},\"zerolinecolor\":\"white\",\"zerolinewidth\":2},\"yaxis\":{\"automargin\":true,\"gridcolor\":\"white\",\"linecolor\":\"white\",\"ticks\":\"\",\"title\":{\"standoff\":15},\"zerolinecolor\":\"white\",\"zerolinewidth\":2}}}},                        {\"responsive\": true}                    ).then(function(){\n",
              "                            \n",
              "var gd = document.getElementById('428dbfa6-dd88-404d-8de3-2a24e081a758');\n",
              "var x = new MutationObserver(function (mutations, observer) {{\n",
              "        var display = window.getComputedStyle(gd).display;\n",
              "        if (!display || display === 'none') {{\n",
              "            console.log([gd, 'removed!']);\n",
              "            Plotly.purge(gd);\n",
              "            observer.disconnect();\n",
              "        }}\n",
              "}});\n",
              "\n",
              "// Listen for the removal of the full notebook cells\n",
              "var notebookContainer = gd.closest('#notebook-container');\n",
              "if (notebookContainer) {{\n",
              "    x.observe(notebookContainer, {childList: true});\n",
              "}}\n",
              "\n",
              "// Listen for the clearing of the current output cell\n",
              "var outputEl = gd.closest('.output');\n",
              "if (outputEl) {{\n",
              "    x.observe(outputEl, {childList: true});\n",
              "}}\n",
              "\n",
              "                        })                };                            </script>        </div>\n",
              "</body>\n",
              "</html>"
            ]
          },
          "metadata": {}
        }
      ]
    },
    {
      "cell_type": "code",
      "source": [
        "fig = optuna.visualization.plot_param_importances(study)\n",
        "fig.show()"
      ],
      "metadata": {
        "colab": {
          "base_uri": "https://localhost:8080/",
          "height": 542
        },
        "id": "Zee8TWky7R_k",
        "outputId": "9bd8a87b-8976-4542-8d18-36b30fe8eefc"
      },
      "execution_count": 13,
      "outputs": [
        {
          "output_type": "display_data",
          "data": {
            "text/html": [
              "<html>\n",
              "<head><meta charset=\"utf-8\" /></head>\n",
              "<body>\n",
              "    <div>            <script src=\"https://cdnjs.cloudflare.com/ajax/libs/mathjax/2.7.5/MathJax.js?config=TeX-AMS-MML_SVG\"></script><script type=\"text/javascript\">if (window.MathJax) {MathJax.Hub.Config({SVG: {font: \"STIX-Web\"}});}</script>                <script type=\"text/javascript\">window.PlotlyConfig = {MathJaxConfig: 'local'};</script>\n",
              "        <script src=\"https://cdn.plot.ly/plotly-2.8.3.min.js\"></script>                <div id=\"8c5d8b75-6fa8-4db1-9491-314b9f2d918a\" class=\"plotly-graph-div\" style=\"height:525px; width:100%;\"></div>            <script type=\"text/javascript\">                                    window.PLOTLYENV=window.PLOTLYENV || {};                                    if (document.getElementById(\"8c5d8b75-6fa8-4db1-9491-314b9f2d918a\")) {                    Plotly.newPlot(                        \"8c5d8b75-6fa8-4db1-9491-314b9f2d918a\",                        [{\"cliponaxis\":false,\"hovertemplate\":[\"max_leaf_nodes (IntUniformDistribution): 0.011837614597560369<extra></extra>\",\"min_samples_split (IntUniformDistribution): 0.020333920257156468<extra></extra>\",\"max_depth (IntUniformDistribution): 0.02740345807159432<extra></extra>\",\"criterion (CategoricalDistribution): 0.05288890371079667<extra></extra>\",\"splitter (CategoricalDistribution): 0.26858656381784807<extra></extra>\",\"class_weight (CategoricalDistribution): 0.29745105757088613<extra></extra>\",\"min_samples_leaf (IntUniformDistribution): 0.321498481974158<extra></extra>\"],\"marker\":{\"color\":\"rgb(66,146,198)\"},\"orientation\":\"h\",\"text\":[\"0.011837614597560369\",\"0.020333920257156468\",\"0.02740345807159432\",\"0.05288890371079667\",\"0.26858656381784807\",\"0.29745105757088613\",\"0.321498481974158\"],\"textposition\":\"outside\",\"texttemplate\":\"%{text:.2f}\",\"x\":[0.011837614597560369,0.020333920257156468,0.02740345807159432,0.05288890371079667,0.26858656381784807,0.29745105757088613,0.321498481974158],\"y\":[\"max_leaf_nodes\",\"min_samples_split\",\"max_depth\",\"criterion\",\"splitter\",\"class_weight\",\"min_samples_leaf\"],\"type\":\"bar\"}],                        {\"showlegend\":false,\"title\":{\"text\":\"Hyperparameter Importances\"},\"xaxis\":{\"title\":{\"text\":\"Importance for Objective Value\"}},\"yaxis\":{\"title\":{\"text\":\"Hyperparameter\"}},\"template\":{\"data\":{\"bar\":[{\"error_x\":{\"color\":\"#2a3f5f\"},\"error_y\":{\"color\":\"#2a3f5f\"},\"marker\":{\"line\":{\"color\":\"#E5ECF6\",\"width\":0.5},\"pattern\":{\"fillmode\":\"overlay\",\"size\":10,\"solidity\":0.2}},\"type\":\"bar\"}],\"barpolar\":[{\"marker\":{\"line\":{\"color\":\"#E5ECF6\",\"width\":0.5},\"pattern\":{\"fillmode\":\"overlay\",\"size\":10,\"solidity\":0.2}},\"type\":\"barpolar\"}],\"carpet\":[{\"aaxis\":{\"endlinecolor\":\"#2a3f5f\",\"gridcolor\":\"white\",\"linecolor\":\"white\",\"minorgridcolor\":\"white\",\"startlinecolor\":\"#2a3f5f\"},\"baxis\":{\"endlinecolor\":\"#2a3f5f\",\"gridcolor\":\"white\",\"linecolor\":\"white\",\"minorgridcolor\":\"white\",\"startlinecolor\":\"#2a3f5f\"},\"type\":\"carpet\"}],\"choropleth\":[{\"colorbar\":{\"outlinewidth\":0,\"ticks\":\"\"},\"type\":\"choropleth\"}],\"contour\":[{\"colorbar\":{\"outlinewidth\":0,\"ticks\":\"\"},\"colorscale\":[[0.0,\"#0d0887\"],[0.1111111111111111,\"#46039f\"],[0.2222222222222222,\"#7201a8\"],[0.3333333333333333,\"#9c179e\"],[0.4444444444444444,\"#bd3786\"],[0.5555555555555556,\"#d8576b\"],[0.6666666666666666,\"#ed7953\"],[0.7777777777777778,\"#fb9f3a\"],[0.8888888888888888,\"#fdca26\"],[1.0,\"#f0f921\"]],\"type\":\"contour\"}],\"contourcarpet\":[{\"colorbar\":{\"outlinewidth\":0,\"ticks\":\"\"},\"type\":\"contourcarpet\"}],\"heatmap\":[{\"colorbar\":{\"outlinewidth\":0,\"ticks\":\"\"},\"colorscale\":[[0.0,\"#0d0887\"],[0.1111111111111111,\"#46039f\"],[0.2222222222222222,\"#7201a8\"],[0.3333333333333333,\"#9c179e\"],[0.4444444444444444,\"#bd3786\"],[0.5555555555555556,\"#d8576b\"],[0.6666666666666666,\"#ed7953\"],[0.7777777777777778,\"#fb9f3a\"],[0.8888888888888888,\"#fdca26\"],[1.0,\"#f0f921\"]],\"type\":\"heatmap\"}],\"heatmapgl\":[{\"colorbar\":{\"outlinewidth\":0,\"ticks\":\"\"},\"colorscale\":[[0.0,\"#0d0887\"],[0.1111111111111111,\"#46039f\"],[0.2222222222222222,\"#7201a8\"],[0.3333333333333333,\"#9c179e\"],[0.4444444444444444,\"#bd3786\"],[0.5555555555555556,\"#d8576b\"],[0.6666666666666666,\"#ed7953\"],[0.7777777777777778,\"#fb9f3a\"],[0.8888888888888888,\"#fdca26\"],[1.0,\"#f0f921\"]],\"type\":\"heatmapgl\"}],\"histogram\":[{\"marker\":{\"pattern\":{\"fillmode\":\"overlay\",\"size\":10,\"solidity\":0.2}},\"type\":\"histogram\"}],\"histogram2d\":[{\"colorbar\":{\"outlinewidth\":0,\"ticks\":\"\"},\"colorscale\":[[0.0,\"#0d0887\"],[0.1111111111111111,\"#46039f\"],[0.2222222222222222,\"#7201a8\"],[0.3333333333333333,\"#9c179e\"],[0.4444444444444444,\"#bd3786\"],[0.5555555555555556,\"#d8576b\"],[0.6666666666666666,\"#ed7953\"],[0.7777777777777778,\"#fb9f3a\"],[0.8888888888888888,\"#fdca26\"],[1.0,\"#f0f921\"]],\"type\":\"histogram2d\"}],\"histogram2dcontour\":[{\"colorbar\":{\"outlinewidth\":0,\"ticks\":\"\"},\"colorscale\":[[0.0,\"#0d0887\"],[0.1111111111111111,\"#46039f\"],[0.2222222222222222,\"#7201a8\"],[0.3333333333333333,\"#9c179e\"],[0.4444444444444444,\"#bd3786\"],[0.5555555555555556,\"#d8576b\"],[0.6666666666666666,\"#ed7953\"],[0.7777777777777778,\"#fb9f3a\"],[0.8888888888888888,\"#fdca26\"],[1.0,\"#f0f921\"]],\"type\":\"histogram2dcontour\"}],\"mesh3d\":[{\"colorbar\":{\"outlinewidth\":0,\"ticks\":\"\"},\"type\":\"mesh3d\"}],\"parcoords\":[{\"line\":{\"colorbar\":{\"outlinewidth\":0,\"ticks\":\"\"}},\"type\":\"parcoords\"}],\"pie\":[{\"automargin\":true,\"type\":\"pie\"}],\"scatter\":[{\"marker\":{\"colorbar\":{\"outlinewidth\":0,\"ticks\":\"\"}},\"type\":\"scatter\"}],\"scatter3d\":[{\"line\":{\"colorbar\":{\"outlinewidth\":0,\"ticks\":\"\"}},\"marker\":{\"colorbar\":{\"outlinewidth\":0,\"ticks\":\"\"}},\"type\":\"scatter3d\"}],\"scattercarpet\":[{\"marker\":{\"colorbar\":{\"outlinewidth\":0,\"ticks\":\"\"}},\"type\":\"scattercarpet\"}],\"scattergeo\":[{\"marker\":{\"colorbar\":{\"outlinewidth\":0,\"ticks\":\"\"}},\"type\":\"scattergeo\"}],\"scattergl\":[{\"marker\":{\"colorbar\":{\"outlinewidth\":0,\"ticks\":\"\"}},\"type\":\"scattergl\"}],\"scattermapbox\":[{\"marker\":{\"colorbar\":{\"outlinewidth\":0,\"ticks\":\"\"}},\"type\":\"scattermapbox\"}],\"scatterpolar\":[{\"marker\":{\"colorbar\":{\"outlinewidth\":0,\"ticks\":\"\"}},\"type\":\"scatterpolar\"}],\"scatterpolargl\":[{\"marker\":{\"colorbar\":{\"outlinewidth\":0,\"ticks\":\"\"}},\"type\":\"scatterpolargl\"}],\"scatterternary\":[{\"marker\":{\"colorbar\":{\"outlinewidth\":0,\"ticks\":\"\"}},\"type\":\"scatterternary\"}],\"surface\":[{\"colorbar\":{\"outlinewidth\":0,\"ticks\":\"\"},\"colorscale\":[[0.0,\"#0d0887\"],[0.1111111111111111,\"#46039f\"],[0.2222222222222222,\"#7201a8\"],[0.3333333333333333,\"#9c179e\"],[0.4444444444444444,\"#bd3786\"],[0.5555555555555556,\"#d8576b\"],[0.6666666666666666,\"#ed7953\"],[0.7777777777777778,\"#fb9f3a\"],[0.8888888888888888,\"#fdca26\"],[1.0,\"#f0f921\"]],\"type\":\"surface\"}],\"table\":[{\"cells\":{\"fill\":{\"color\":\"#EBF0F8\"},\"line\":{\"color\":\"white\"}},\"header\":{\"fill\":{\"color\":\"#C8D4E3\"},\"line\":{\"color\":\"white\"}},\"type\":\"table\"}]},\"layout\":{\"annotationdefaults\":{\"arrowcolor\":\"#2a3f5f\",\"arrowhead\":0,\"arrowwidth\":1},\"autotypenumbers\":\"strict\",\"coloraxis\":{\"colorbar\":{\"outlinewidth\":0,\"ticks\":\"\"}},\"colorscale\":{\"diverging\":[[0,\"#8e0152\"],[0.1,\"#c51b7d\"],[0.2,\"#de77ae\"],[0.3,\"#f1b6da\"],[0.4,\"#fde0ef\"],[0.5,\"#f7f7f7\"],[0.6,\"#e6f5d0\"],[0.7,\"#b8e186\"],[0.8,\"#7fbc41\"],[0.9,\"#4d9221\"],[1,\"#276419\"]],\"sequential\":[[0.0,\"#0d0887\"],[0.1111111111111111,\"#46039f\"],[0.2222222222222222,\"#7201a8\"],[0.3333333333333333,\"#9c179e\"],[0.4444444444444444,\"#bd3786\"],[0.5555555555555556,\"#d8576b\"],[0.6666666666666666,\"#ed7953\"],[0.7777777777777778,\"#fb9f3a\"],[0.8888888888888888,\"#fdca26\"],[1.0,\"#f0f921\"]],\"sequentialminus\":[[0.0,\"#0d0887\"],[0.1111111111111111,\"#46039f\"],[0.2222222222222222,\"#7201a8\"],[0.3333333333333333,\"#9c179e\"],[0.4444444444444444,\"#bd3786\"],[0.5555555555555556,\"#d8576b\"],[0.6666666666666666,\"#ed7953\"],[0.7777777777777778,\"#fb9f3a\"],[0.8888888888888888,\"#fdca26\"],[1.0,\"#f0f921\"]]},\"colorway\":[\"#636efa\",\"#EF553B\",\"#00cc96\",\"#ab63fa\",\"#FFA15A\",\"#19d3f3\",\"#FF6692\",\"#B6E880\",\"#FF97FF\",\"#FECB52\"],\"font\":{\"color\":\"#2a3f5f\"},\"geo\":{\"bgcolor\":\"white\",\"lakecolor\":\"white\",\"landcolor\":\"#E5ECF6\",\"showlakes\":true,\"showland\":true,\"subunitcolor\":\"white\"},\"hoverlabel\":{\"align\":\"left\"},\"hovermode\":\"closest\",\"mapbox\":{\"style\":\"light\"},\"paper_bgcolor\":\"white\",\"plot_bgcolor\":\"#E5ECF6\",\"polar\":{\"angularaxis\":{\"gridcolor\":\"white\",\"linecolor\":\"white\",\"ticks\":\"\"},\"bgcolor\":\"#E5ECF6\",\"radialaxis\":{\"gridcolor\":\"white\",\"linecolor\":\"white\",\"ticks\":\"\"}},\"scene\":{\"xaxis\":{\"backgroundcolor\":\"#E5ECF6\",\"gridcolor\":\"white\",\"gridwidth\":2,\"linecolor\":\"white\",\"showbackground\":true,\"ticks\":\"\",\"zerolinecolor\":\"white\"},\"yaxis\":{\"backgroundcolor\":\"#E5ECF6\",\"gridcolor\":\"white\",\"gridwidth\":2,\"linecolor\":\"white\",\"showbackground\":true,\"ticks\":\"\",\"zerolinecolor\":\"white\"},\"zaxis\":{\"backgroundcolor\":\"#E5ECF6\",\"gridcolor\":\"white\",\"gridwidth\":2,\"linecolor\":\"white\",\"showbackground\":true,\"ticks\":\"\",\"zerolinecolor\":\"white\"}},\"shapedefaults\":{\"line\":{\"color\":\"#2a3f5f\"}},\"ternary\":{\"aaxis\":{\"gridcolor\":\"white\",\"linecolor\":\"white\",\"ticks\":\"\"},\"baxis\":{\"gridcolor\":\"white\",\"linecolor\":\"white\",\"ticks\":\"\"},\"bgcolor\":\"#E5ECF6\",\"caxis\":{\"gridcolor\":\"white\",\"linecolor\":\"white\",\"ticks\":\"\"}},\"title\":{\"x\":0.05},\"xaxis\":{\"automargin\":true,\"gridcolor\":\"white\",\"linecolor\":\"white\",\"ticks\":\"\",\"title\":{\"standoff\":15},\"zerolinecolor\":\"white\",\"zerolinewidth\":2},\"yaxis\":{\"automargin\":true,\"gridcolor\":\"white\",\"linecolor\":\"white\",\"ticks\":\"\",\"title\":{\"standoff\":15},\"zerolinecolor\":\"white\",\"zerolinewidth\":2}}}},                        {\"responsive\": true}                    ).then(function(){\n",
              "                            \n",
              "var gd = document.getElementById('8c5d8b75-6fa8-4db1-9491-314b9f2d918a');\n",
              "var x = new MutationObserver(function (mutations, observer) {{\n",
              "        var display = window.getComputedStyle(gd).display;\n",
              "        if (!display || display === 'none') {{\n",
              "            console.log([gd, 'removed!']);\n",
              "            Plotly.purge(gd);\n",
              "            observer.disconnect();\n",
              "        }}\n",
              "}});\n",
              "\n",
              "// Listen for the removal of the full notebook cells\n",
              "var notebookContainer = gd.closest('#notebook-container');\n",
              "if (notebookContainer) {{\n",
              "    x.observe(notebookContainer, {childList: true});\n",
              "}}\n",
              "\n",
              "// Listen for the clearing of the current output cell\n",
              "var outputEl = gd.closest('.output');\n",
              "if (outputEl) {{\n",
              "    x.observe(outputEl, {childList: true});\n",
              "}}\n",
              "\n",
              "                        })                };                            </script>        </div>\n",
              "</body>\n",
              "</html>"
            ]
          },
          "metadata": {}
        }
      ]
    },
    {
      "cell_type": "markdown",
      "source": [
        "# Build the Final Model (on all the data)"
      ],
      "metadata": {
        "id": "3s0nDvT06diA"
      }
    },
    {
      "cell_type": "code",
      "source": [
        "clf = DecisionTreeClassifier(**study.best_params)\n",
        "clf.fit(X,y)"
      ],
      "metadata": {
        "colab": {
          "base_uri": "https://localhost:8080/"
        },
        "id": "iA_sZZNz6erB",
        "outputId": "83c4ed92-c4bb-48b0-dcb3-76a16dbe58ae"
      },
      "execution_count": 14,
      "outputs": [
        {
          "output_type": "execute_result",
          "data": {
            "text/plain": [
              "DecisionTreeClassifier(class_weight='balanced', max_depth=35,\n",
              "                       max_leaf_nodes=810, min_samples_leaf=75,\n",
              "                       min_samples_split=95, splitter='random')"
            ]
          },
          "metadata": {},
          "execution_count": 14
        }
      ]
    },
    {
      "cell_type": "code",
      "source": [
        " # ... and now you can make predictions on new (competition, or real) data, deploy, etc..."
      ],
      "metadata": {
        "id": "h9X5xxlA6n6K"
      },
      "execution_count": 15,
      "outputs": []
    }
  ],
  "metadata": {
    "colab": {
      "collapsed_sections": [],
      "name": "optuna_example.ipynb",
      "provenance": [],
      "authorship_tag": "ABX9TyMyRqtAol79hmrriVWmszXj",
      "include_colab_link": true
    },
    "kernelspec": {
      "display_name": "Python 3",
      "name": "python3"
    },
    "language_info": {
      "name": "python"
    }
  },
  "nbformat": 4,
  "nbformat_minor": 0
}