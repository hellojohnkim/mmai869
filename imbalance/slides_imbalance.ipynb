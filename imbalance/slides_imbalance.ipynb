{
  "cells": [
    {
      "cell_type": "markdown",
      "metadata": {
        "id": "pkYfEZ_2zYjQ"
      },
      "source": [
        "# Playground for Class Imbalance Slides\n",
        "\n",
        "- Stephen W. Thomas\n",
        "- Used for MMA 869, MMAI 869, and GMMA 869"
      ]
    },
    {
      "cell_type": "code",
      "execution_count": 1,
      "metadata": {
        "id": "yUjezJ9gzYjV",
        "outputId": "a7ea622a-44cd-4c66-d9ca-df7177a37e5a",
        "colab": {
          "base_uri": "https://localhost:8080/"
        }
      },
      "outputs": [
        {
          "output_type": "stream",
          "name": "stdout",
          "text": [
            "2022-07-15 14:21:44.470162\n"
          ]
        }
      ],
      "source": [
        "import datetime\n",
        "print(datetime.datetime.now())"
      ]
    },
    {
      "cell_type": "code",
      "execution_count": 2,
      "metadata": {
        "id": "nyqI2w-BzYjb"
      },
      "outputs": [],
      "source": [
        "import pandas as pd\n",
        "import numpy as np\n",
        "\n",
        "import matplotlib.pyplot as plt\n",
        "\n",
        "from IPython.core.interactiveshell import InteractiveShell\n",
        "InteractiveShell.ast_node_interactivity = \"all\""
      ]
    },
    {
      "cell_type": "markdown",
      "source": [
        "# Extreme Example"
      ],
      "metadata": {
        "id": "IyeylPSB0Jq5"
      }
    },
    {
      "cell_type": "code",
      "source": [
        "from matplotlib.colors import ListedColormap\n",
        "from sklearn.metrics import roc_curve, auc\n",
        "import matplotlib.pyplot as plt\n",
        "import numpy as np\n",
        "\n",
        "# Adopted from: https://scikit-learn.org/stable/auto_examples/classification/plot_classifier_comparison.html\n",
        "\n",
        "def plot_boundaries(X, y, clf, clf_name, xlabel, ylabel, ax):\n",
        "    cm = plt.cm.RdBu\n",
        "    cm_bright = ListedColormap(['#FF0000', '#0000FF'])\n",
        "    \n",
        "    x_min, x_max = X[:, 0].min() - .5, X[:, 0].max() + .5\n",
        "    y_min, y_max = X[:, 1].min() - .5, X[:, 1].max() + .5\n",
        "    xx, yy = np.meshgrid(np.arange(x_min, x_max, 0.02), np.arange(y_min, y_max, 0.02));\n",
        "\n",
        "    # Plot the decision boundary. For that, we will assign a color to each\n",
        "    # point in the mesh [x_min, x_max]x[y_min, y_max].\n",
        "    if hasattr(clf, \"decision_function\"):\n",
        "        Z = clf.decision_function(np.c_[xx.ravel(), yy.ravel()]);\n",
        "    else:\n",
        "        Z = clf.predict_proba(np.c_[xx.ravel(), yy.ravel()])[:, 1];\n",
        "\n",
        "    # Put the result into a color plot\n",
        "    Z = Z.reshape(xx.shape)\n",
        "    ax.contourf(xx, yy, Z, cmap=cm, alpha=.8);\n",
        "\n",
        "    # Plot the training points\n",
        "    ax.scatter(X[:, 0], X[:, 1], c=y, s=50, cmap=cm_bright, edgecolors='k');\n",
        "\n",
        "    ax.set_xlim(xx.min(), xx.max());\n",
        "    ax.set_ylim(yy.min(), yy.max());\n",
        "    ax.tick_params(axis='both', which='major', labelsize=12)\n",
        "        \n",
        "    ax.set_title(clf_name, fontsize=20);\n",
        "    ax.grid();\n",
        "\n",
        "    ax.set_xlabel(xlabel, fontsize=16)\n",
        "    ax.set_ylabel(ylabel, fontsize=16)"
      ],
      "metadata": {
        "id": "sv5HEjHd1ytf"
      },
      "execution_count": 3,
      "outputs": []
    },
    {
      "cell_type": "code",
      "source": [
        "df = pd.read_csv('https://raw.githubusercontent.com/stepthom/869_course/main/data/generated_marketing_extreme.csv')\n",
        "X = df[['Age', 'Income']].to_numpy()\n",
        "y = df['Bought'].to_numpy()"
      ],
      "metadata": {
        "id": "I79QqwXg0Lxc"
      },
      "execution_count": 4,
      "outputs": []
    },
    {
      "cell_type": "code",
      "source": [
        "from sklearn.tree import DecisionTreeClassifier\n",
        "from sklearn.linear_model import LogisticRegression\n",
        "\n",
        "clf = DecisionTreeClassifier(random_state=42, \n",
        "                             criterion=\"entropy\",\n",
        "                             class_weight=None,\n",
        "                             max_depth=3, \n",
        "                             max_leaf_nodes=3,\n",
        "                             )\n",
        "clf.fit(X, y)\n",
        "\n",
        "figure = plt.figure(figsize=(8, 6));\n",
        "ax = plt.subplot(1, 1, 1);\n",
        "plot_boundaries(X, y, clf, \"Decision Tree (class_weight=None)\", \"Age\", \"Income\", ax)"
      ],
      "metadata": {
        "id": "dqqciub81XHy",
        "outputId": "40137c76-ff5e-4766-befd-beee323bc697",
        "colab": {
          "base_uri": "https://localhost:8080/",
          "height": 452
        }
      },
      "execution_count": 5,
      "outputs": [
        {
          "output_type": "execute_result",
          "data": {
            "text/plain": [
              "DecisionTreeClassifier(criterion='entropy', max_depth=3, max_leaf_nodes=3,\n",
              "                       random_state=42)"
            ]
          },
          "metadata": {},
          "execution_count": 5
        },
        {
          "output_type": "display_data",
          "data": {
            "text/plain": [
              "<Figure size 576x432 with 1 Axes>"
            ],
            "image/png": "[encoded data removed]"
          },
          "metadata": {
            "needs_background": "light"
          }
        }
      ]
    },
    {
      "cell_type": "code",
      "source": [
        "from sklearn.tree import DecisionTreeClassifier\n",
        "\n",
        "clf = DecisionTreeClassifier(random_state=42, \n",
        "                             criterion=\"entropy\",\n",
        "                             class_weight=\"balanced\",\n",
        "                             max_depth=3, \n",
        "                             max_leaf_nodes=4,\n",
        "                             )\n",
        "clf.fit(X, y)\n",
        "\n",
        "figure = plt.figure(figsize=(8, 6));\n",
        "ax = plt.subplot(1, 1, 1);\n",
        "plot_boundaries(X, y, clf, \"Decision Tree (class_weight=\\\"balanced\\\")\", \"Age\", \"Income\", ax)"
      ],
      "metadata": {
        "id": "nMsxynVl1OQO",
        "outputId": "4872da8e-c77c-441b-944d-0c904dfb4729",
        "colab": {
          "base_uri": "https://localhost:8080/",
          "height": 452
        }
      },
      "execution_count": 6,
      "outputs": [
        {
          "output_type": "execute_result",
          "data": {
            "text/plain": [
              "DecisionTreeClassifier(class_weight='balanced', criterion='entropy',\n",
              "                       max_depth=3, max_leaf_nodes=4, random_state=42)"
            ]
          },
          "metadata": {},
          "execution_count": 6
        },
        {
          "output_type": "display_data",
          "data": {
            "text/plain": [
              "<Figure size 576x432 with 1 Axes>"
            ],
            "image/png": "[encoded data removed]"
          },
          "metadata": {
            "needs_background": "light"
          }
        }
      ]
    },
    {
      "cell_type": "markdown",
      "metadata": {
        "id": "q0p-CGiszYjd"
      },
      "source": [
        "# Load Dataset\n",
        "\n",
        "The following dataset is a well-known imbalanced dataset from Kaggle:\n",
        "    https://www.kaggle.com/mlg-ulb/creditcardfraud/home?select=creditcard.csv"
      ]
    },
    {
      "cell_type": "code",
      "execution_count": 7,
      "metadata": {
        "id": "QTSIx7S0zYje",
        "outputId": "a651acd8-2aa7-432b-e23a-a4f347fd4fbd",
        "colab": {
          "base_uri": "https://localhost:8080/",
          "height": 971
        }
      },
      "outputs": [
        {
          "output_type": "stream",
          "name": "stdout",
          "text": [
            "<class 'pandas.core.frame.DataFrame'>\n",
            "RangeIndex: 142403 entries, 0 to 142402\n",
            "Data columns (total 31 columns):\n",
            " #   Column  Non-Null Count   Dtype  \n",
            "---  ------  --------------   -----  \n",
            " 0   Time    142403 non-null  int64  \n",
            " 1   V1      142403 non-null  float64\n",
            " 2   V2      142403 non-null  float64\n",
            " 3   V3      142403 non-null  float64\n",
            " 4   V4      142403 non-null  float64\n",
            " 5   V5      142403 non-null  float64\n",
            " 6   V6      142403 non-null  float64\n",
            " 7   V7      142403 non-null  float64\n",
            " 8   V8      142403 non-null  float64\n",
            " 9   V9      142403 non-null  float64\n",
            " 10  V10     142403 non-null  float64\n",
            " 11  V11     142403 non-null  float64\n",
            " 12  V12     142403 non-null  float64\n",
            " 13  V13     142403 non-null  float64\n",
            " 14  V14     142403 non-null  float64\n",
            " 15  V15     142403 non-null  float64\n",
            " 16  V16     142403 non-null  float64\n",
            " 17  V17     142403 non-null  float64\n",
            " 18  V18     142403 non-null  float64\n",
            " 19  V19     142403 non-null  float64\n",
            " 20  V20     142403 non-null  float64\n",
            " 21  V21     142403 non-null  float64\n",
            " 22  V22     142403 non-null  float64\n",
            " 23  V23     142403 non-null  float64\n",
            " 24  V24     142403 non-null  float64\n",
            " 25  V25     142403 non-null  float64\n",
            " 26  V26     142403 non-null  float64\n",
            " 27  V27     142403 non-null  float64\n",
            " 28  V28     142403 non-null  float64\n",
            " 29  Amount  142403 non-null  float64\n",
            " 30  Class   142403 non-null  int64  \n",
            "dtypes: float64(29), int64(2)\n",
            "memory usage: 33.7 MB\n"
          ]
        },
        {
          "output_type": "execute_result",
          "data": {
            "text/plain": [
              "   Time        V1        V2        V3        V4        V5        V6        V7  \\\n",
              "0     0 -1.359807 -0.072781  2.536347  1.378155 -0.338321  0.462388  0.239599   \n",
              "1     0  1.191857  0.266151  0.166480  0.448154  0.060018 -0.082361 -0.078803   \n",
              "2     1 -1.358354 -1.340163  1.773209  0.379780 -0.503198  1.800499  0.791461   \n",
              "3     1 -0.966272 -0.185226  1.792993 -0.863291 -0.010309  1.247203  0.237609   \n",
              "4     2 -1.158233  0.877737  1.548718  0.403034 -0.407193  0.095921  0.592941   \n",
              "\n",
              "         V8        V9  ...       V21       V22       V23       V24       V25  \\\n",
              "0  0.098698  0.363787  ... -0.018307  0.277838 -0.110474  0.066928  0.128539   \n",
              "1  0.085102 -0.255425  ... -0.225775 -0.638672  0.101288 -0.339846  0.167170   \n",
              "2  0.247676 -1.514654  ...  0.247998  0.771679  0.909412 -0.689281 -0.327642   \n",
              "3  0.377436 -1.387024  ... -0.108300  0.005274 -0.190321 -1.175575  0.647376   \n",
              "4 -0.270533  0.817739  ... -0.009431  0.798278 -0.137458  0.141267 -0.206010   \n",
              "\n",
              "        V26       V27       V28  Amount  Class  \n",
              "0 -0.189115  0.133558 -0.021053  149.62      0  \n",
              "1  0.125895 -0.008983  0.014724    2.69      0  \n",
              "2 -0.139097 -0.055353 -0.059752  378.66      0  \n",
              "3 -0.221929  0.062723  0.061458  123.50      0  \n",
              "4  0.502292  0.219422  0.215153   69.99      0  \n",
              "\n",
              "[5 rows x 31 columns]"
            ],
            "text/html": [
              "\n",
              "  <div id=\"df-f776749f-f283-4f44-b93f-9e51990648ab\">\n",
              "    <div class=\"colab-df-container\">\n",
              "      <div>\n",
              "<style scoped>\n",
              "    .dataframe tbody tr th:only-of-type {\n",
              "        vertical-align: middle;\n",
              "    }\n",
              "\n",
              "    .dataframe tbody tr th {\n",
              "        vertical-align: top;\n",
              "    }\n",
              "\n",
              "    .dataframe thead th {\n",
              "        text-align: right;\n",
              "    }\n",
              "</style>\n",
              "<table border=\"1\" class=\"dataframe\">\n",
              "  <thead>\n",
              "    <tr style=\"text-align: right;\">\n",
              "      <th></th>\n",
              "      <th>Time</th>\n",
              "      <th>V1</th>\n",
              "      <th>V2</th>\n",
              "      <th>V3</th>\n",
              "      <th>V4</th>\n",
              "      <th>V5</th>\n",
              "      <th>V6</th>\n",
              "      <th>V7</th>\n",
              "      <th>V8</th>\n",
              "      <th>V9</th>\n",
              "      <th>...</th>\n",
              "      <th>V21</th>\n",
              "      <th>V22</th>\n",
              "      <th>V23</th>\n",
              "      <th>V24</th>\n",
              "      <th>V25</th>\n",
              "      <th>V26</th>\n",
              "      <th>V27</th>\n",
              "      <th>V28</th>\n",
              "      <th>Amount</th>\n",
              "      <th>Class</th>\n",
              "    </tr>\n",
              "  </thead>\n",
              "  <tbody>\n",
              "    <tr>\n",
              "      <th>0</th>\n",
              "      <td>0</td>\n",
              "      <td>-1.359807</td>\n",
              "      <td>-0.072781</td>\n",
              "      <td>2.536347</td>\n",
              "      <td>1.378155</td>\n",
              "      <td>-0.338321</td>\n",
              "      <td>0.462388</td>\n",
              "      <td>0.239599</td>\n",
              "      <td>0.098698</td>\n",
              "      <td>0.363787</td>\n",
              "      <td>...</td>\n",
              "      <td>-0.018307</td>\n",
              "      <td>0.277838</td>\n",
              "      <td>-0.110474</td>\n",
              "      <td>0.066928</td>\n",
              "      <td>0.128539</td>\n",
              "      <td>-0.189115</td>\n",
              "      <td>0.133558</td>\n",
              "      <td>-0.021053</td>\n",
              "      <td>149.62</td>\n",
              "      <td>0</td>\n",
              "    </tr>\n",
              "    <tr>\n",
              "      <th>1</th>\n",
              "      <td>0</td>\n",
              "      <td>1.191857</td>\n",
              "      <td>0.266151</td>\n",
              "      <td>0.166480</td>\n",
              "      <td>0.448154</td>\n",
              "      <td>0.060018</td>\n",
              "      <td>-0.082361</td>\n",
              "      <td>-0.078803</td>\n",
              "      <td>0.085102</td>\n",
              "      <td>-0.255425</td>\n",
              "      <td>...</td>\n",
              "      <td>-0.225775</td>\n",
              "      <td>-0.638672</td>\n",
              "      <td>0.101288</td>\n",
              "      <td>-0.339846</td>\n",
              "      <td>0.167170</td>\n",
              "      <td>0.125895</td>\n",
              "      <td>-0.008983</td>\n",
              "      <td>0.014724</td>\n",
              "      <td>2.69</td>\n",
              "      <td>0</td>\n",
              "    </tr>\n",
              "    <tr>\n",
              "      <th>2</th>\n",
              "      <td>1</td>\n",
              "      <td>-1.358354</td>\n",
              "      <td>-1.340163</td>\n",
              "      <td>1.773209</td>\n",
              "      <td>0.379780</td>\n",
              "      <td>-0.503198</td>\n",
              "      <td>1.800499</td>\n",
              "      <td>0.791461</td>\n",
              "      <td>0.247676</td>\n",
              "      <td>-1.514654</td>\n",
              "      <td>...</td>\n",
              "      <td>0.247998</td>\n",
              "      <td>0.771679</td>\n",
              "      <td>0.909412</td>\n",
              "      <td>-0.689281</td>\n",
              "      <td>-0.327642</td>\n",
              "      <td>-0.139097</td>\n",
              "      <td>-0.055353</td>\n",
              "      <td>-0.059752</td>\n",
              "      <td>378.66</td>\n",
              "      <td>0</td>\n",
              "    </tr>\n",
              "    <tr>\n",
              "      <th>3</th>\n",
              "      <td>1</td>\n",
              "      <td>-0.966272</td>\n",
              "      <td>-0.185226</td>\n",
              "      <td>1.792993</td>\n",
              "      <td>-0.863291</td>\n",
              "      <td>-0.010309</td>\n",
              "      <td>1.247203</td>\n",
              "      <td>0.237609</td>\n",
              "      <td>0.377436</td>\n",
              "      <td>-1.387024</td>\n",
              "      <td>...</td>\n",
              "      <td>-0.108300</td>\n",
              "      <td>0.005274</td>\n",
              "      <td>-0.190321</td>\n",
              "      <td>-1.175575</td>\n",
              "      <td>0.647376</td>\n",
              "      <td>-0.221929</td>\n",
              "      <td>0.062723</td>\n",
              "      <td>0.061458</td>\n",
              "      <td>123.50</td>\n",
              "      <td>0</td>\n",
              "    </tr>\n",
              "    <tr>\n",
              "      <th>4</th>\n",
              "      <td>2</td>\n",
              "      <td>-1.158233</td>\n",
              "      <td>0.877737</td>\n",
              "      <td>1.548718</td>\n",
              "      <td>0.403034</td>\n",
              "      <td>-0.407193</td>\n",
              "      <td>0.095921</td>\n",
              "      <td>0.592941</td>\n",
              "      <td>-0.270533</td>\n",
              "      <td>0.817739</td>\n",
              "      <td>...</td>\n",
              "      <td>-0.009431</td>\n",
              "      <td>0.798278</td>\n",
              "      <td>-0.137458</td>\n",
              "      <td>0.141267</td>\n",
              "      <td>-0.206010</td>\n",
              "      <td>0.502292</td>\n",
              "      <td>0.219422</td>\n",
              "      <td>0.215153</td>\n",
              "      <td>69.99</td>\n",
              "      <td>0</td>\n",
              "    </tr>\n",
              "  </tbody>\n",
              "</table>\n",
              "<p>5 rows × 31 columns</p>\n",
              "</div>\n",
              "      <button class=\"colab-df-convert\" onclick=\"convertToInteractive('df-f776749f-f283-4f44-b93f-9e51990648ab')\"\n",
              "              title=\"Convert this dataframe to an interactive table.\"\n",
              "              style=\"display:none;\">\n",
              "        \n",
              "  <svg xmlns=\"http://www.w3.org/2000/svg\" height=\"24px\"viewBox=\"0 0 24 24\"\n",
              "       width=\"24px\">\n",
              "    <path d=\"M0 0h24v24H0V0z\" fill=\"none\"/>\n",
              "    <path d=\"M18.56 5.44l.94 2.06.94-2.06 2.06-.94-2.06-.94-.94-2.06-.94 2.06-2.06.94zm-11 1L8.5 8.5l.94-2.06 2.06-.94-2.06-.94L8.5 2.5l-.94 2.06-2.06.94zm10 10l.94 2.06.94-2.06 2.06-.94-2.06-.94-.94-2.06-.94 2.06-2.06.94z\"/><path d=\"M17.41 7.96l-1.37-1.37c-.4-.4-.92-.59-1.43-.59-.52 0-1.04.2-1.43.59L10.3 9.45l-7.72 7.72c-.78.78-.78 2.05 0 2.83L4 21.41c.39.39.9.59 1.41.59.51 0 1.02-.2 1.41-.59l7.78-7.78 2.81-2.81c.8-.78.8-2.07 0-2.86zM5.41 20L4 18.59l7.72-7.72 1.47 1.35L5.41 20z\"/>\n",
              "  </svg>\n",
              "      </button>\n",
              "      \n",
              "  <style>\n",
              "    .colab-df-container {\n",
              "      display:flex;\n",
              "      flex-wrap:wrap;\n",
              "      gap: 12px;\n",
              "    }\n",
              "\n",
              "    .colab-df-convert {\n",
              "      background-color: #E8F0FE;\n",
              "      border: none;\n",
              "      border-radius: 50%;\n",
              "      cursor: pointer;\n",
              "      display: none;\n",
              "      fill: #1967D2;\n",
              "      height: 32px;\n",
              "      padding: 0 0 0 0;\n",
              "      width: 32px;\n",
              "    }\n",
              "\n",
              "    .colab-df-convert:hover {\n",
              "      background-color: #E2EBFA;\n",
              "      box-shadow: 0px 1px 2px rgba(60, 64, 67, 0.3), 0px 1px 3px 1px rgba(60, 64, 67, 0.15);\n",
              "      fill: #174EA6;\n",
              "    }\n",
              "\n",
              "    [theme=dark] .colab-df-convert {\n",
              "      background-color: #3B4455;\n",
              "      fill: #D2E3FC;\n",
              "    }\n",
              "\n",
              "    [theme=dark] .colab-df-convert:hover {\n",
              "      background-color: #434B5C;\n",
              "      box-shadow: 0px 1px 3px 1px rgba(0, 0, 0, 0.15);\n",
              "      filter: drop-shadow(0px 1px 2px rgba(0, 0, 0, 0.3));\n",
              "      fill: #FFFFFF;\n",
              "    }\n",
              "  </style>\n",
              "\n",
              "      <script>\n",
              "        const buttonEl =\n",
              "          document.querySelector('#df-f776749f-f283-4f44-b93f-9e51990648ab button.colab-df-convert');\n",
              "        buttonEl.style.display =\n",
              "          google.colab.kernel.accessAllowed ? 'block' : 'none';\n",
              "\n",
              "        async function convertToInteractive(key) {\n",
              "          const element = document.querySelector('#df-f776749f-f283-4f44-b93f-9e51990648ab');\n",
              "          const dataTable =\n",
              "            await google.colab.kernel.invokeFunction('convertToInteractive',\n",
              "                                                     [key], {});\n",
              "          if (!dataTable) return;\n",
              "\n",
              "          const docLinkHtml = 'Like what you see? Visit the ' +\n",
              "            '<a target=\"_blank\" href=https://colab.research.google.com/notebooks/data_table.ipynb>data table notebook</a>'\n",
              "            + ' to learn more about interactive tables.';\n",
              "          element.innerHTML = '';\n",
              "          dataTable['output_type'] = 'display_data';\n",
              "          await google.colab.output.renderOutput(dataTable, element);\n",
              "          const docLink = document.createElement('div');\n",
              "          docLink.innerHTML = docLinkHtml;\n",
              "          element.appendChild(docLink);\n",
              "        }\n",
              "      </script>\n",
              "    </div>\n",
              "  </div>\n",
              "  "
            ]
          },
          "metadata": {},
          "execution_count": 7
        }
      ],
      "source": [
        "df = pd.read_csv('https://raw.githubusercontent.com/stepthom/869_course/main/data/creditcard_sample.csv')\n",
        "df.info()\n",
        "df.head()"
      ]
    },
    {
      "cell_type": "markdown",
      "metadata": {
        "id": "TOeDcDjjzYjf"
      },
      "source": [
        "Take a random sample, and then create X, y variables, and then split into training and testing."
      ]
    },
    {
      "cell_type": "code",
      "execution_count": 8,
      "metadata": {
        "id": "2ddE97LWzYjh"
      },
      "outputs": [],
      "source": [
        "from sklearn.model_selection import train_test_split\n",
        "\n",
        "# This dataset is huge, so let's take a sample to speed things up\n",
        "# df = df.sample(frac=0.5, replace=False, random_state=1, axis=0)\n",
        "X = df.drop(['Class'], axis=1)\n",
        "y = df['Class']\n",
        "X_train, X_test, y_train, y_test = train_test_split(X, y, test_size=0.2, stratify=y, random_state=44)"
      ]
    },
    {
      "cell_type": "code",
      "execution_count": 9,
      "metadata": {
        "id": "rllbSvtFzYjj",
        "outputId": "97e80db4-4cd3-433c-f346-8b24a7a3eef8",
        "colab": {
          "base_uri": "https://localhost:8080/"
        }
      },
      "outputs": [
        {
          "output_type": "execute_result",
          "data": {
            "text/plain": [
              "0    113707\n",
              "1       215\n",
              "Name: Class, dtype: int64"
            ]
          },
          "metadata": {},
          "execution_count": 9
        },
        {
          "output_type": "execute_result",
          "data": {
            "text/plain": [
              "0    28427\n",
              "1       54\n",
              "Name: Class, dtype: int64"
            ]
          },
          "metadata": {},
          "execution_count": 9
        }
      ],
      "source": [
        "y_train.value_counts()\n",
        "y_test.value_counts()"
      ]
    },
    {
      "cell_type": "code",
      "execution_count": 10,
      "metadata": {
        "id": "o5Xx5nLwzYjl"
      },
      "outputs": [],
      "source": [
        "from sklearn.tree import DecisionTreeClassifier\n",
        "from sklearn.ensemble import RandomForestClassifier\n",
        "from sklearn.model_selection import GridSearchCV\n",
        "from sklearn.metrics import confusion_matrix, accuracy_score, f1_score, recall_score, precision_score, roc_auc_score\n",
        "\n",
        "# Helper function\n",
        "def quick_evaluate_with_dt(X_train, X_test, y_train, y_test, name, balance_weights=False):\n",
        "    \n",
        "    cw = None\n",
        "    if balance_weights == True:\n",
        "        cw = 'balanced'\n",
        "        \n",
        "    clf = DecisionTreeClassifier(random_state=0, class_weight=cw)\n",
        "    clf = RandomForestClassifier(random_state=0, n_estimators=100, class_weight=cw)\n",
        "    \n",
        "    clf.fit(X_train, y_train)\n",
        "    y_pred = clf.predict(X_test)\n",
        "    \n",
        "    tn, fp, fn, tp = confusion_matrix(y_test, y_pred).ravel()\n",
        "    accuracy       = accuracy_score(y_test, y_pred)\n",
        "    f1             = f1_score(y_test, y_pred)\n",
        "    recall         = recall_score(y_test, y_pred)\n",
        "    precision      = precision_score(y_test, y_pred)\n",
        "    roc_auc        = roc_auc_score(y_test, y_pred)\n",
        "    \n",
        "    df = pd.DataFrame({\"Method\"    : [name],\n",
        "                       \"Neg\"       : [tn + fn],\n",
        "                       \"True Neg\"  : [tn],\n",
        "                       \"False Neg\" : [fn],\n",
        "                       \"Pos\"       : [tp + fp],\n",
        "                       \"TP\"        : [tp],\n",
        "                       \"FP\"        : [fp],\n",
        "                       \"Accuracy\"  : [accuracy],\n",
        "                       \"Recall\"    : [recall],\n",
        "                       \"Precision\" : [precision],\n",
        "                       \"F1\"        : [f1],\n",
        "                       \"AUC\"       : [roc_auc],\n",
        "                      })\n",
        "    \n",
        "    print(df)\n",
        "    return df"
      ]
    },
    {
      "cell_type": "code",
      "execution_count": 11,
      "metadata": {
        "id": "F2Ek-wB1zYjn"
      },
      "outputs": [],
      "source": [
        "evals = list()"
      ]
    },
    {
      "cell_type": "code",
      "execution_count": 12,
      "metadata": {
        "id": "Q-Rgyp-tzYjo",
        "outputId": "f02cc4b4-865b-41f5-d2a6-9afda0b8d5cf",
        "colab": {
          "base_uri": "https://localhost:8080/"
        }
      },
      "outputs": [
        {
          "output_type": "execute_result",
          "data": {
            "text/plain": [
              "(113922, 30)"
            ]
          },
          "metadata": {},
          "execution_count": 12
        },
        {
          "output_type": "execute_result",
          "data": {
            "text/plain": [
              "(113922,)"
            ]
          },
          "metadata": {},
          "execution_count": 12
        },
        {
          "output_type": "execute_result",
          "data": {
            "text/plain": [
              "array([113707,    215])"
            ]
          },
          "metadata": {},
          "execution_count": 12
        },
        {
          "output_type": "stream",
          "name": "stdout",
          "text": [
            "  Method    Neg  True Neg  False Neg  Pos  TP  FP  Accuracy    Recall  \\\n",
            "0   None  28435     28425         10   46  44   2  0.999579  0.814815   \n",
            "\n",
            "   Precision    F1       AUC  \n",
            "0   0.956522  0.88  0.907372  \n"
          ]
        }
      ],
      "source": [
        "X_train.shape\n",
        "y_train.shape\n",
        "np.bincount(y_train)\n",
        "\n",
        "evals.append(quick_evaluate_with_dt(X_train, X_test, y_train, y_test, 'None'))"
      ]
    },
    {
      "cell_type": "code",
      "execution_count": 13,
      "metadata": {
        "id": "4tDhx1xXzYjp",
        "outputId": "91482d80-42fb-444b-f7e4-884ac1856eb4",
        "colab": {
          "base_uri": "https://localhost:8080/"
        }
      },
      "outputs": [
        {
          "output_type": "execute_result",
          "data": {
            "text/plain": [
              "(113922, 30)"
            ]
          },
          "metadata": {},
          "execution_count": 13
        },
        {
          "output_type": "execute_result",
          "data": {
            "text/plain": [
              "(113922,)"
            ]
          },
          "metadata": {},
          "execution_count": 13
        },
        {
          "output_type": "execute_result",
          "data": {
            "text/plain": [
              "array([113707,    215])"
            ]
          },
          "metadata": {},
          "execution_count": 13
        },
        {
          "output_type": "stream",
          "name": "stdout",
          "text": [
            "          Method    Neg  True Neg  False Neg  Pos  TP  FP  Accuracy    Recall  \\\n",
            "0  Class Weights  28435     28425         10   46  44   2  0.999579  0.814815   \n",
            "\n",
            "   Precision    F1       AUC  \n",
            "0   0.956522  0.88  0.907372  \n"
          ]
        }
      ],
      "source": [
        "X_train.shape\n",
        "y_train.shape\n",
        "np.bincount(y_train)\n",
        "\n",
        "evals.append(quick_evaluate_with_dt(X_train, X_test, y_train, y_test, 'Class Weights', balance_weights=True))"
      ]
    },
    {
      "cell_type": "code",
      "execution_count": 14,
      "metadata": {
        "id": "IMmdANY3zYjq",
        "outputId": "2f807a20-07ed-40e5-9dad-d9be6d9ba3a1",
        "colab": {
          "base_uri": "https://localhost:8080/"
        }
      },
      "outputs": [
        {
          "output_type": "execute_result",
          "data": {
            "text/plain": [
              "(227414, 30)"
            ]
          },
          "metadata": {},
          "execution_count": 14
        },
        {
          "output_type": "execute_result",
          "data": {
            "text/plain": [
              "(227414,)"
            ]
          },
          "metadata": {},
          "execution_count": 14
        },
        {
          "output_type": "execute_result",
          "data": {
            "text/plain": [
              "array([113707, 113707])"
            ]
          },
          "metadata": {},
          "execution_count": 14
        },
        {
          "output_type": "stream",
          "name": "stdout",
          "text": [
            "        Method    Neg  True Neg  False Neg  Pos  TP  FP  Accuracy    Recall  \\\n",
            "0  Over Random  28434     28425          9   47  45   2  0.999614  0.833333   \n",
            "\n",
            "   Precision        F1       AUC  \n",
            "0   0.957447  0.891089  0.916631  \n"
          ]
        }
      ],
      "source": [
        "from imblearn.over_sampling import RandomOverSampler\n",
        "\n",
        "ros = RandomOverSampler(random_state=0)\n",
        "\n",
        "X_resampled, y_resampled = ros.fit_resample(X_train, y_train)\n",
        "X_resampled.shape\n",
        "y_resampled.shape\n",
        "np.bincount(y_resampled)\n",
        "\n",
        "evals.append(quick_evaluate_with_dt(X_resampled, X_test, y_resampled, y_test, 'Over Random'))"
      ]
    },
    {
      "cell_type": "code",
      "execution_count": 15,
      "metadata": {
        "id": "wEFtvuARzYjr",
        "outputId": "52c0a943-898f-477e-b7ea-2d51dfd60795",
        "colab": {
          "base_uri": "https://localhost:8080/"
        }
      },
      "outputs": [
        {
          "output_type": "execute_result",
          "data": {
            "text/plain": [
              "(227414, 30)"
            ]
          },
          "metadata": {},
          "execution_count": 15
        },
        {
          "output_type": "execute_result",
          "data": {
            "text/plain": [
              "(227414,)"
            ]
          },
          "metadata": {},
          "execution_count": 15
        },
        {
          "output_type": "execute_result",
          "data": {
            "text/plain": [
              "array([113707, 113707])"
            ]
          },
          "metadata": {},
          "execution_count": 15
        },
        {
          "output_type": "stream",
          "name": "stdout",
          "text": [
            "       Method    Neg  True Neg  False Neg  Pos  TP  FP  Accuracy   Recall  \\\n",
            "0  Over SMOTE  28428     28421          7   53  47   6  0.999544  0.87037   \n",
            "\n",
            "   Precision        F1      AUC  \n",
            "0   0.886792  0.878505  0.93508  \n"
          ]
        }
      ],
      "source": [
        "from imblearn.over_sampling import SMOTE\n",
        "\n",
        "X_resampled, y_resampled = SMOTE(random_state=0).fit_resample(X_train, y_train)\n",
        "\n",
        "X_resampled.shape\n",
        "y_resampled.shape\n",
        "np.bincount(y_resampled)\n",
        "\n",
        "evals.append(quick_evaluate_with_dt(X_resampled, X_test, y_resampled, y_test, 'Over SMOTE'))"
      ]
    },
    {
      "cell_type": "code",
      "execution_count": 16,
      "metadata": {
        "id": "O3uFJgmyzYjr",
        "outputId": "e9e5657b-f58a-4c9b-c33e-d7d3e96cec1f",
        "colab": {
          "base_uri": "https://localhost:8080/"
        }
      },
      "outputs": [
        {
          "data": {
            "text/plain": [
              "(227450, 30)"
            ]
          },
          "execution_count": null,
          "metadata": {},
          "output_type": "execute_result"
        },
        {
          "data": {
            "text/plain": [
              "(227450,)"
            ]
          },
          "execution_count": null,
          "metadata": {},
          "output_type": "execute_result"
        },
        {
          "data": {
            "text/plain": [
              "array([113707, 113743])"
            ]
          },
          "execution_count": null,
          "metadata": {},
          "output_type": "execute_result"
        },
        {
          "metadata": {
            "tags": null
          },
          "name": "stdout",
          "output_type": "stream",
          "text": [
            "        Method    Neg  True Neg  False Neg  Pos  TP  FP  Accuracy    Recall  \\\n",
            "0  Over ADASYN  28428     28420          8   53  46   7  0.999473  0.851852   \n",
            "\n",
            "   Precision        F1       AUC  \n",
            "0   0.867925  0.859813  0.925803  \n"
          ]
        }
      ],
      "source": [
        "from imblearn.over_sampling import ADASYN\n",
        "\n",
        "X_resampled, y_resampled = ADASYN(random_state=0).fit_resample(X_train, y_train)\n",
        "\n",
        "X_resampled.shape\n",
        "y_resampled.shape\n",
        "np.bincount(y_resampled)\n",
        "\n",
        "evals.append(quick_evaluate_with_dt(X_resampled, X_test, y_resampled, y_test,  'Over ADASYN'))"
      ]
    },
    {
      "cell_type": "code",
      "execution_count": 17,
      "metadata": {
        "id": "5p5loP-TzYjs",
        "outputId": "c1c1f9e9-e0a6-4e60-d081-1a142b3159a5",
        "colab": {
          "base_uri": "https://localhost:8080/"
        }
      },
      "outputs": [
        {
          "data": {
            "text/plain": [
              "(430, 30)"
            ]
          },
          "execution_count": null,
          "metadata": {},
          "output_type": "execute_result"
        },
        {
          "data": {
            "text/plain": [
              "(430,)"
            ]
          },
          "execution_count": null,
          "metadata": {},
          "output_type": "execute_result"
        },
        {
          "data": {
            "text/plain": [
              "array([215, 215])"
            ]
          },
          "execution_count": null,
          "metadata": {},
          "output_type": "execute_result"
        },
        {
          "metadata": {
            "tags": null
          },
          "name": "stdout",
          "output_type": "stream",
          "text": [
            "         Method    Neg  True Neg  False Neg  Pos  TP   FP  Accuracy    Recall  \\\n",
            "0  Under Sample  27874     27868          6  607  48  559  0.980162  0.888889   \n",
            "\n",
            "   Precision        F1       AUC  \n",
            "0   0.079077  0.145234  0.934612  \n"
          ]
        }
      ],
      "source": [
        "from imblearn.under_sampling import RandomUnderSampler\n",
        "\n",
        "rus = RandomUnderSampler(random_state=0)\n",
        "X_resampled, y_resampled = rus.fit_resample(X_train, y_train)\n",
        "\n",
        "X_resampled.shape\n",
        "y_resampled.shape\n",
        "np.bincount(y_resampled)\n",
        "\n",
        "evals.append(quick_evaluate_with_dt(X_resampled, X_test, y_resampled, y_test,  'Under Sample'))"
      ]
    },
    {
      "cell_type": "code",
      "execution_count": 18,
      "metadata": {
        "id": "1pnLZLyWzYjt",
        "outputId": "202f3cda-6e32-4b42-b59e-f5276cc8c666",
        "colab": {
          "base_uri": "https://localhost:8080/",
          "height": 290
        }
      },
      "outputs": [
        {
          "data": {
            "text/plain": [
              "0    28427\n",
              "1       54\n",
              "Name: Class, dtype: int64"
            ]
          },
          "execution_count": null,
          "metadata": {},
          "output_type": "execute_result"
        },
        {
          "data": {
            "text/html": [
              "\n",
              "  <div id=\"df-df309638-7157-42a4-98cc-bfc2ed58285c\">\n",
              "    <div class=\"colab-df-container\">\n",
              "      <div>\n",
              "<style scoped>\n",
              "    .dataframe tbody tr th:only-of-type {\n",
              "        vertical-align: middle;\n",
              "    }\n",
              "\n",
              "    .dataframe tbody tr th {\n",
              "        vertical-align: top;\n",
              "    }\n",
              "\n",
              "    .dataframe thead th {\n",
              "        text-align: right;\n",
              "    }\n",
              "</style>\n",
              "<table border=\"1\" class=\"dataframe\">\n",
              "  <thead>\n",
              "    <tr style=\"text-align: right;\">\n",
              "      <th></th>\n",
              "      <th>Method</th>\n",
              "      <th>Neg</th>\n",
              "      <th>True Neg</th>\n",
              "      <th>False Neg</th>\n",
              "      <th>Pos</th>\n",
              "      <th>TP</th>\n",
              "      <th>FP</th>\n",
              "      <th>Accuracy</th>\n",
              "      <th>Recall</th>\n",
              "      <th>Precision</th>\n",
              "      <th>F1</th>\n",
              "      <th>AUC</th>\n",
              "    </tr>\n",
              "  </thead>\n",
              "  <tbody>\n",
              "    <tr>\n",
              "      <th>2</th>\n",
              "      <td>Over Random</td>\n",
              "      <td>28434</td>\n",
              "      <td>28425</td>\n",
              "      <td>9</td>\n",
              "      <td>47</td>\n",
              "      <td>45</td>\n",
              "      <td>2</td>\n",
              "      <td>0.999614</td>\n",
              "      <td>0.833333</td>\n",
              "      <td>0.957447</td>\n",
              "      <td>0.891089</td>\n",
              "      <td>0.916631</td>\n",
              "    </tr>\n",
              "    <tr>\n",
              "      <th>0</th>\n",
              "      <td>None</td>\n",
              "      <td>28435</td>\n",
              "      <td>28425</td>\n",
              "      <td>10</td>\n",
              "      <td>46</td>\n",
              "      <td>44</td>\n",
              "      <td>2</td>\n",
              "      <td>0.999579</td>\n",
              "      <td>0.814815</td>\n",
              "      <td>0.956522</td>\n",
              "      <td>0.880000</td>\n",
              "      <td>0.907372</td>\n",
              "    </tr>\n",
              "    <tr>\n",
              "      <th>1</th>\n",
              "      <td>Class Weights</td>\n",
              "      <td>28435</td>\n",
              "      <td>28425</td>\n",
              "      <td>10</td>\n",
              "      <td>46</td>\n",
              "      <td>44</td>\n",
              "      <td>2</td>\n",
              "      <td>0.999579</td>\n",
              "      <td>0.814815</td>\n",
              "      <td>0.956522</td>\n",
              "      <td>0.880000</td>\n",
              "      <td>0.907372</td>\n",
              "    </tr>\n",
              "    <tr>\n",
              "      <th>3</th>\n",
              "      <td>Over SMOTE</td>\n",
              "      <td>28428</td>\n",
              "      <td>28421</td>\n",
              "      <td>7</td>\n",
              "      <td>53</td>\n",
              "      <td>47</td>\n",
              "      <td>6</td>\n",
              "      <td>0.999544</td>\n",
              "      <td>0.870370</td>\n",
              "      <td>0.886792</td>\n",
              "      <td>0.878505</td>\n",
              "      <td>0.935080</td>\n",
              "    </tr>\n",
              "    <tr>\n",
              "      <th>4</th>\n",
              "      <td>Over ADASYN</td>\n",
              "      <td>28428</td>\n",
              "      <td>28420</td>\n",
              "      <td>8</td>\n",
              "      <td>53</td>\n",
              "      <td>46</td>\n",
              "      <td>7</td>\n",
              "      <td>0.999473</td>\n",
              "      <td>0.851852</td>\n",
              "      <td>0.867925</td>\n",
              "      <td>0.859813</td>\n",
              "      <td>0.925803</td>\n",
              "    </tr>\n",
              "    <tr>\n",
              "      <th>5</th>\n",
              "      <td>Under Sample</td>\n",
              "      <td>27874</td>\n",
              "      <td>27868</td>\n",
              "      <td>6</td>\n",
              "      <td>607</td>\n",
              "      <td>48</td>\n",
              "      <td>559</td>\n",
              "      <td>0.980162</td>\n",
              "      <td>0.888889</td>\n",
              "      <td>0.079077</td>\n",
              "      <td>0.145234</td>\n",
              "      <td>0.934612</td>\n",
              "    </tr>\n",
              "  </tbody>\n",
              "</table>\n",
              "</div>\n",
              "      <button class=\"colab-df-convert\" onclick=\"convertToInteractive('df-df309638-7157-42a4-98cc-bfc2ed58285c')\"\n",
              "              title=\"Convert this dataframe to an interactive table.\"\n",
              "              style=\"display:none;\">\n",
              "        \n",
              "  <svg xmlns=\"http://www.w3.org/2000/svg\" height=\"24px\"viewBox=\"0 0 24 24\"\n",
              "       width=\"24px\">\n",
              "    <path d=\"M0 0h24v24H0V0z\" fill=\"none\"/>\n",
              "    <path d=\"M18.56 5.44l.94 2.06.94-2.06 2.06-.94-2.06-.94-.94-2.06-.94 2.06-2.06.94zm-11 1L8.5 8.5l.94-2.06 2.06-.94-2.06-.94L8.5 2.5l-.94 2.06-2.06.94zm10 10l.94 2.06.94-2.06 2.06-.94-2.06-.94-.94-2.06-.94 2.06-2.06.94z\"/><path d=\"M17.41 7.96l-1.37-1.37c-.4-.4-.92-.59-1.43-.59-.52 0-1.04.2-1.43.59L10.3 9.45l-7.72 7.72c-.78.78-.78 2.05 0 2.83L4 21.41c.39.39.9.59 1.41.59.51 0 1.02-.2 1.41-.59l7.78-7.78 2.81-2.81c.8-.78.8-2.07 0-2.86zM5.41 20L4 18.59l7.72-7.72 1.47 1.35L5.41 20z\"/>\n",
              "  </svg>\n",
              "      </button>\n",
              "      \n",
              "  <style>\n",
              "    .colab-df-container {\n",
              "      display:flex;\n",
              "      flex-wrap:wrap;\n",
              "      gap: 12px;\n",
              "    }\n",
              "\n",
              "    .colab-df-convert {\n",
              "      background-color: #E8F0FE;\n",
              "      border: none;\n",
              "      border-radius: 50%;\n",
              "      cursor: pointer;\n",
              "      display: none;\n",
              "      fill: #1967D2;\n",
              "      height: 32px;\n",
              "      padding: 0 0 0 0;\n",
              "      width: 32px;\n",
              "    }\n",
              "\n",
              "    .colab-df-convert:hover {\n",
              "      background-color: #E2EBFA;\n",
              "      box-shadow: 0px 1px 2px rgba(60, 64, 67, 0.3), 0px 1px 3px 1px rgba(60, 64, 67, 0.15);\n",
              "      fill: #174EA6;\n",
              "    }\n",
              "\n",
              "    [theme=dark] .colab-df-convert {\n",
              "      background-color: #3B4455;\n",
              "      fill: #D2E3FC;\n",
              "    }\n",
              "\n",
              "    [theme=dark] .colab-df-convert:hover {\n",
              "      background-color: #434B5C;\n",
              "      box-shadow: 0px 1px 3px 1px rgba(0, 0, 0, 0.15);\n",
              "      filter: drop-shadow(0px 1px 2px rgba(0, 0, 0, 0.3));\n",
              "      fill: #FFFFFF;\n",
              "    }\n",
              "  </style>\n",
              "\n",
              "      <script>\n",
              "        const buttonEl =\n",
              "          document.querySelector('#df-df309638-7157-42a4-98cc-bfc2ed58285c button.colab-df-convert');\n",
              "        buttonEl.style.display =\n",
              "          google.colab.kernel.accessAllowed ? 'block' : 'none';\n",
              "\n",
              "        async function convertToInteractive(key) {\n",
              "          const element = document.querySelector('#df-df309638-7157-42a4-98cc-bfc2ed58285c');\n",
              "          const dataTable =\n",
              "            await google.colab.kernel.invokeFunction('convertToInteractive',\n",
              "                                                     [key], {});\n",
              "          if (!dataTable) return;\n",
              "\n",
              "          const docLinkHtml = 'Like what you see? Visit the ' +\n",
              "            '<a target=\"_blank\" href=https://colab.research.google.com/notebooks/data_table.ipynb>data table notebook</a>'\n",
              "            + ' to learn more about interactive tables.';\n",
              "          element.innerHTML = '';\n",
              "          dataTable['output_type'] = 'display_data';\n",
              "          await google.colab.output.renderOutput(dataTable, element);\n",
              "          const docLink = document.createElement('div');\n",
              "          docLink.innerHTML = docLinkHtml;\n",
              "          element.appendChild(docLink);\n",
              "        }\n",
              "      </script>\n",
              "    </div>\n",
              "  </div>\n",
              "  "
            ],
            "text/plain": [
              "          Method    Neg  True Neg  False Neg  Pos  TP   FP  Accuracy  \\\n",
              "2    Over Random  28434     28425          9   47  45    2  0.999614   \n",
              "0           None  28435     28425         10   46  44    2  0.999579   \n",
              "1  Class Weights  28435     28425         10   46  44    2  0.999579   \n",
              "3     Over SMOTE  28428     28421          7   53  47    6  0.999544   \n",
              "4    Over ADASYN  28428     28420          8   53  46    7  0.999473   \n",
              "5   Under Sample  27874     27868          6  607  48  559  0.980162   \n",
              "\n",
              "     Recall  Precision        F1       AUC  \n",
              "2  0.833333   0.957447  0.891089  0.916631  \n",
              "0  0.814815   0.956522  0.880000  0.907372  \n",
              "1  0.814815   0.956522  0.880000  0.907372  \n",
              "3  0.870370   0.886792  0.878505  0.935080  \n",
              "4  0.851852   0.867925  0.859813  0.925803  \n",
              "5  0.888889   0.079077  0.145234  0.934612  "
            ]
          },
          "execution_count": null,
          "metadata": {},
          "output_type": "execute_result"
        }
      ],
      "source": [
        "# Recall the actual distrition of the truth labels of the testing set.\n",
        "y_test.value_counts()\n",
        "\n",
        "evals_all = pd.concat([m for m in evals], axis = 0).reset_index()\n",
        "\n",
        "evals_all = evals_all.drop(columns = \"index\",axis =1)\n",
        "evals_all.sort_values(by=['F1'], ascending=False)"
      ]
    },
    {
      "cell_type": "markdown",
      "metadata": {
        "id": "pDjyXWqfzYju"
      },
      "source": [
        "# Another Dataset\n",
        "\n",
        "The dataset is also imbalanced, although less so. It comes from:\n",
        "\n",
        "https://www.kaggle.com/uciml/pima-indians-diabetes-database"
      ]
    },
    {
      "cell_type": "code",
      "execution_count": 19,
      "metadata": {
        "id": "Fp6SejVlzYju",
        "outputId": "fbd8b1d5-53f4-4ee5-e25a-36523de2ae31",
        "colab": {
          "base_uri": "https://localhost:8080/",
          "height": 506
        }
      },
      "outputs": [
        {
          "metadata": {
            "tags": null
          },
          "name": "stdout",
          "output_type": "stream",
          "text": [
            "<class 'pandas.core.frame.DataFrame'>\n",
            "RangeIndex: 768 entries, 0 to 767\n",
            "Data columns (total 10 columns):\n",
            " #   Column              Non-Null Count  Dtype  \n",
            "---  ------              --------------  -----  \n",
            " 0   Id                  768 non-null    int64  \n",
            " 1   num_times_pregnant  768 non-null    int64  \n",
            " 2   plasma_glucose      768 non-null    int64  \n",
            " 3   DBP                 768 non-null    int64  \n",
            " 4   triceps_skin        768 non-null    int64  \n",
            " 5   serum_insulin       768 non-null    int64  \n",
            " 6   BMI                 768 non-null    float64\n",
            " 7   pedigree            768 non-null    float64\n",
            " 8   age                 768 non-null    int64  \n",
            " 9   diabetes            768 non-null    int64  \n",
            "dtypes: float64(2), int64(8)\n",
            "memory usage: 60.1 KB\n"
          ]
        },
        {
          "data": {
            "text/html": [
              "\n",
              "  <div id=\"df-648e869b-cf95-48b9-aa85-79f92a1be00d\">\n",
              "    <div class=\"colab-df-container\">\n",
              "      <div>\n",
              "<style scoped>\n",
              "    .dataframe tbody tr th:only-of-type {\n",
              "        vertical-align: middle;\n",
              "    }\n",
              "\n",
              "    .dataframe tbody tr th {\n",
              "        vertical-align: top;\n",
              "    }\n",
              "\n",
              "    .dataframe thead th {\n",
              "        text-align: right;\n",
              "    }\n",
              "</style>\n",
              "<table border=\"1\" class=\"dataframe\">\n",
              "  <thead>\n",
              "    <tr style=\"text-align: right;\">\n",
              "      <th></th>\n",
              "      <th>Id</th>\n",
              "      <th>num_times_pregnant</th>\n",
              "      <th>plasma_glucose</th>\n",
              "      <th>DBP</th>\n",
              "      <th>triceps_skin</th>\n",
              "      <th>serum_insulin</th>\n",
              "      <th>BMI</th>\n",
              "      <th>pedigree</th>\n",
              "      <th>age</th>\n",
              "      <th>diabetes</th>\n",
              "    </tr>\n",
              "  </thead>\n",
              "  <tbody>\n",
              "    <tr>\n",
              "      <th>0</th>\n",
              "      <td>1</td>\n",
              "      <td>6</td>\n",
              "      <td>148</td>\n",
              "      <td>72</td>\n",
              "      <td>35</td>\n",
              "      <td>0</td>\n",
              "      <td>33.6</td>\n",
              "      <td>0.627</td>\n",
              "      <td>50</td>\n",
              "      <td>1</td>\n",
              "    </tr>\n",
              "    <tr>\n",
              "      <th>1</th>\n",
              "      <td>2</td>\n",
              "      <td>1</td>\n",
              "      <td>85</td>\n",
              "      <td>66</td>\n",
              "      <td>29</td>\n",
              "      <td>0</td>\n",
              "      <td>26.6</td>\n",
              "      <td>0.351</td>\n",
              "      <td>31</td>\n",
              "      <td>0</td>\n",
              "    </tr>\n",
              "    <tr>\n",
              "      <th>2</th>\n",
              "      <td>3</td>\n",
              "      <td>8</td>\n",
              "      <td>183</td>\n",
              "      <td>64</td>\n",
              "      <td>0</td>\n",
              "      <td>0</td>\n",
              "      <td>23.3</td>\n",
              "      <td>0.672</td>\n",
              "      <td>32</td>\n",
              "      <td>1</td>\n",
              "    </tr>\n",
              "    <tr>\n",
              "      <th>3</th>\n",
              "      <td>4</td>\n",
              "      <td>1</td>\n",
              "      <td>89</td>\n",
              "      <td>66</td>\n",
              "      <td>23</td>\n",
              "      <td>94</td>\n",
              "      <td>28.1</td>\n",
              "      <td>0.167</td>\n",
              "      <td>21</td>\n",
              "      <td>0</td>\n",
              "    </tr>\n",
              "    <tr>\n",
              "      <th>4</th>\n",
              "      <td>5</td>\n",
              "      <td>0</td>\n",
              "      <td>137</td>\n",
              "      <td>40</td>\n",
              "      <td>35</td>\n",
              "      <td>168</td>\n",
              "      <td>43.1</td>\n",
              "      <td>2.288</td>\n",
              "      <td>33</td>\n",
              "      <td>1</td>\n",
              "    </tr>\n",
              "  </tbody>\n",
              "</table>\n",
              "</div>\n",
              "      <button class=\"colab-df-convert\" onclick=\"convertToInteractive('df-648e869b-cf95-48b9-aa85-79f92a1be00d')\"\n",
              "              title=\"Convert this dataframe to an interactive table.\"\n",
              "              style=\"display:none;\">\n",
              "        \n",
              "  <svg xmlns=\"http://www.w3.org/2000/svg\" height=\"24px\"viewBox=\"0 0 24 24\"\n",
              "       width=\"24px\">\n",
              "    <path d=\"M0 0h24v24H0V0z\" fill=\"none\"/>\n",
              "    <path d=\"M18.56 5.44l.94 2.06.94-2.06 2.06-.94-2.06-.94-.94-2.06-.94 2.06-2.06.94zm-11 1L8.5 8.5l.94-2.06 2.06-.94-2.06-.94L8.5 2.5l-.94 2.06-2.06.94zm10 10l.94 2.06.94-2.06 2.06-.94-2.06-.94-.94-2.06-.94 2.06-2.06.94z\"/><path d=\"M17.41 7.96l-1.37-1.37c-.4-.4-.92-.59-1.43-.59-.52 0-1.04.2-1.43.59L10.3 9.45l-7.72 7.72c-.78.78-.78 2.05 0 2.83L4 21.41c.39.39.9.59 1.41.59.51 0 1.02-.2 1.41-.59l7.78-7.78 2.81-2.81c.8-.78.8-2.07 0-2.86zM5.41 20L4 18.59l7.72-7.72 1.47 1.35L5.41 20z\"/>\n",
              "  </svg>\n",
              "      </button>\n",
              "      \n",
              "  <style>\n",
              "    .colab-df-container {\n",
              "      display:flex;\n",
              "      flex-wrap:wrap;\n",
              "      gap: 12px;\n",
              "    }\n",
              "\n",
              "    .colab-df-convert {\n",
              "      background-color: #E8F0FE;\n",
              "      border: none;\n",
              "      border-radius: 50%;\n",
              "      cursor: pointer;\n",
              "      display: none;\n",
              "      fill: #1967D2;\n",
              "      height: 32px;\n",
              "      padding: 0 0 0 0;\n",
              "      width: 32px;\n",
              "    }\n",
              "\n",
              "    .colab-df-convert:hover {\n",
              "      background-color: #E2EBFA;\n",
              "      box-shadow: 0px 1px 2px rgba(60, 64, 67, 0.3), 0px 1px 3px 1px rgba(60, 64, 67, 0.15);\n",
              "      fill: #174EA6;\n",
              "    }\n",
              "\n",
              "    [theme=dark] .colab-df-convert {\n",
              "      background-color: #3B4455;\n",
              "      fill: #D2E3FC;\n",
              "    }\n",
              "\n",
              "    [theme=dark] .colab-df-convert:hover {\n",
              "      background-color: #434B5C;\n",
              "      box-shadow: 0px 1px 3px 1px rgba(0, 0, 0, 0.15);\n",
              "      filter: drop-shadow(0px 1px 2px rgba(0, 0, 0, 0.3));\n",
              "      fill: #FFFFFF;\n",
              "    }\n",
              "  </style>\n",
              "\n",
              "      <script>\n",
              "        const buttonEl =\n",
              "          document.querySelector('#df-648e869b-cf95-48b9-aa85-79f92a1be00d button.colab-df-convert');\n",
              "        buttonEl.style.display =\n",
              "          google.colab.kernel.accessAllowed ? 'block' : 'none';\n",
              "\n",
              "        async function convertToInteractive(key) {\n",
              "          const element = document.querySelector('#df-648e869b-cf95-48b9-aa85-79f92a1be00d');\n",
              "          const dataTable =\n",
              "            await google.colab.kernel.invokeFunction('convertToInteractive',\n",
              "                                                     [key], {});\n",
              "          if (!dataTable) return;\n",
              "\n",
              "          const docLinkHtml = 'Like what you see? Visit the ' +\n",
              "            '<a target=\"_blank\" href=https://colab.research.google.com/notebooks/data_table.ipynb>data table notebook</a>'\n",
              "            + ' to learn more about interactive tables.';\n",
              "          element.innerHTML = '';\n",
              "          dataTable['output_type'] = 'display_data';\n",
              "          await google.colab.output.renderOutput(dataTable, element);\n",
              "          const docLink = document.createElement('div');\n",
              "          docLink.innerHTML = docLinkHtml;\n",
              "          element.appendChild(docLink);\n",
              "        }\n",
              "      </script>\n",
              "    </div>\n",
              "  </div>\n",
              "  "
            ],
            "text/plain": [
              "   Id  num_times_pregnant  plasma_glucose  DBP  triceps_skin  serum_insulin  \\\n",
              "0   1                   6             148   72            35              0   \n",
              "1   2                   1              85   66            29              0   \n",
              "2   3                   8             183   64             0              0   \n",
              "3   4                   1              89   66            23             94   \n",
              "4   5                   0             137   40            35            168   \n",
              "\n",
              "    BMI  pedigree  age  diabetes  \n",
              "0  33.6     0.627   50         1  \n",
              "1  26.6     0.351   31         0  \n",
              "2  23.3     0.672   32         1  \n",
              "3  28.1     0.167   21         0  \n",
              "4  43.1     2.288   33         1  "
            ]
          },
          "execution_count": null,
          "metadata": {},
          "output_type": "execute_result"
        }
      ],
      "source": [
        "df_d = pd.read_csv('https://raw.githubusercontent.com/stepthom/869_course/main/data/diabetes_orig.csv')\n",
        "df_d.info()\n",
        "df_d.head()\n",
        "\n",
        "X = df_d.drop(['Id', 'diabetes'], axis=1)\n",
        "y = df_d['diabetes']\n",
        "X_train, X_test, y_train, y_test = train_test_split(X, y, test_size=0.2, stratify=y, random_state=44)"
      ]
    },
    {
      "cell_type": "code",
      "execution_count": 20,
      "metadata": {
        "id": "cwr6qyZTzYjv",
        "outputId": "c8f17975-ffc9-4020-ca30-fa7b201be4c6",
        "colab": {
          "base_uri": "https://localhost:8080/"
        }
      },
      "outputs": [
        {
          "data": {
            "text/plain": [
              "0    400\n",
              "1    214\n",
              "Name: diabetes, dtype: int64"
            ]
          },
          "execution_count": null,
          "metadata": {},
          "output_type": "execute_result"
        },
        {
          "data": {
            "text/plain": [
              "0    100\n",
              "1     54\n",
              "Name: diabetes, dtype: int64"
            ]
          },
          "execution_count": null,
          "metadata": {},
          "output_type": "execute_result"
        }
      ],
      "source": [
        "y_train.value_counts()\n",
        "y_test.value_counts()"
      ]
    },
    {
      "cell_type": "code",
      "execution_count": 21,
      "metadata": {
        "id": "ps1Z1D6LzYjv"
      },
      "outputs": [],
      "source": [
        "evals_d = list()"
      ]
    },
    {
      "cell_type": "code",
      "execution_count": 22,
      "metadata": {
        "id": "1W193xB6zYjw",
        "outputId": "f83ad468-b156-425d-9a69-8aaf2a210590",
        "colab": {
          "base_uri": "https://localhost:8080/"
        }
      },
      "outputs": [
        {
          "data": {
            "text/plain": [
              "(614, 8)"
            ]
          },
          "execution_count": null,
          "metadata": {},
          "output_type": "execute_result"
        },
        {
          "data": {
            "text/plain": [
              "(614,)"
            ]
          },
          "execution_count": null,
          "metadata": {},
          "output_type": "execute_result"
        },
        {
          "data": {
            "text/plain": [
              "array([400, 214])"
            ]
          },
          "execution_count": null,
          "metadata": {},
          "output_type": "execute_result"
        },
        {
          "metadata": {
            "tags": null
          },
          "name": "stdout",
          "output_type": "stream",
          "text": [
            "  Method  Neg  True Neg  False Neg  Pos  TP  FP  Accuracy    Recall  \\\n",
            "0   None  116        88         28   38  26  12   0.74026  0.481481   \n",
            "\n",
            "   Precision        F1       AUC  \n",
            "0   0.684211  0.565217  0.680741  \n"
          ]
        }
      ],
      "source": [
        "X_train.shape\n",
        "y_train.shape\n",
        "np.bincount(y_train)\n",
        "\n",
        "evals_d.append(quick_evaluate_with_dt(X_train, X_test, y_train, y_test, 'None'))"
      ]
    },
    {
      "cell_type": "code",
      "execution_count": 23,
      "metadata": {
        "id": "6qRqp08kzYjx",
        "outputId": "c84c3982-8db3-48c7-8552-e4849319885d",
        "colab": {
          "base_uri": "https://localhost:8080/"
        }
      },
      "outputs": [
        {
          "data": {
            "text/plain": [
              "(614, 8)"
            ]
          },
          "execution_count": null,
          "metadata": {},
          "output_type": "execute_result"
        },
        {
          "data": {
            "text/plain": [
              "(614,)"
            ]
          },
          "execution_count": null,
          "metadata": {},
          "output_type": "execute_result"
        },
        {
          "data": {
            "text/plain": [
              "array([400, 214])"
            ]
          },
          "execution_count": null,
          "metadata": {},
          "output_type": "execute_result"
        },
        {
          "metadata": {
            "tags": null
          },
          "name": "stdout",
          "output_type": "stream",
          "text": [
            "          Method  Neg  True Neg  False Neg  Pos  TP  FP  Accuracy    Recall  \\\n",
            "0  Class Weights  120        91         29   34  25   9  0.753247  0.462963   \n",
            "\n",
            "   Precision        F1       AUC  \n",
            "0   0.735294  0.568182  0.686481  \n"
          ]
        }
      ],
      "source": [
        "X_train.shape\n",
        "y_train.shape\n",
        "np.bincount(y_train)\n",
        "\n",
        "evals_d.append(quick_evaluate_with_dt(X_train, X_test, y_train, y_test, 'Class Weights', balance_weights=True))"
      ]
    },
    {
      "cell_type": "code",
      "execution_count": 24,
      "metadata": {
        "id": "s6jXisZZzYjx",
        "outputId": "65b4509a-6bc1-498d-e175-655e13ea81f6",
        "colab": {
          "base_uri": "https://localhost:8080/"
        }
      },
      "outputs": [
        {
          "data": {
            "text/plain": [
              "(800, 8)"
            ]
          },
          "execution_count": null,
          "metadata": {},
          "output_type": "execute_result"
        },
        {
          "data": {
            "text/plain": [
              "(800,)"
            ]
          },
          "execution_count": null,
          "metadata": {},
          "output_type": "execute_result"
        },
        {
          "data": {
            "text/plain": [
              "array([400, 400])"
            ]
          },
          "execution_count": null,
          "metadata": {},
          "output_type": "execute_result"
        },
        {
          "metadata": {
            "tags": null
          },
          "name": "stdout",
          "output_type": "stream",
          "text": [
            "        Method  Neg  True Neg  False Neg  Pos  TP  FP  Accuracy    Recall  \\\n",
            "0  Over Random  110        86         24   44  30  14  0.753247  0.555556   \n",
            "\n",
            "   Precision        F1       AUC  \n",
            "0   0.681818  0.612245  0.707778  \n"
          ]
        }
      ],
      "source": [
        "from imblearn.over_sampling import RandomOverSampler\n",
        "\n",
        "ros = RandomOverSampler(random_state=0)\n",
        "\n",
        "X_resampled, y_resampled = ros.fit_resample(X_train, y_train)\n",
        "X_resampled.shape\n",
        "y_resampled.shape\n",
        "np.bincount(y_resampled)\n",
        "\n",
        "evals_d.append(quick_evaluate_with_dt(X_resampled, X_test, y_resampled, y_test, 'Over Random'))"
      ]
    },
    {
      "cell_type": "code",
      "execution_count": 25,
      "metadata": {
        "id": "piPWm24wzYjy",
        "outputId": "d3b80aa5-8a7a-4849-a28c-001928109fd7",
        "colab": {
          "base_uri": "https://localhost:8080/"
        }
      },
      "outputs": [
        {
          "data": {
            "text/plain": [
              "(800, 8)"
            ]
          },
          "execution_count": null,
          "metadata": {},
          "output_type": "execute_result"
        },
        {
          "data": {
            "text/plain": [
              "(800,)"
            ]
          },
          "execution_count": null,
          "metadata": {},
          "output_type": "execute_result"
        },
        {
          "data": {
            "text/plain": [
              "array([400, 400])"
            ]
          },
          "execution_count": null,
          "metadata": {},
          "output_type": "execute_result"
        },
        {
          "metadata": {
            "tags": null
          },
          "name": "stdout",
          "output_type": "stream",
          "text": [
            "       Method  Neg  True Neg  False Neg  Pos  TP  FP  Accuracy    Recall  \\\n",
            "0  Over SMOTE  107        84         23   47  31  16  0.746753  0.574074   \n",
            "\n",
            "   Precision        F1       AUC  \n",
            "0   0.659574  0.613861  0.707037  \n"
          ]
        }
      ],
      "source": [
        "from imblearn.over_sampling import SMOTE\n",
        "\n",
        "X_resampled, y_resampled = SMOTE(random_state=0).fit_resample(X_train, y_train)\n",
        "\n",
        "X_resampled.shape\n",
        "y_resampled.shape\n",
        "np.bincount(y_resampled)\n",
        "\n",
        "evals_d.append(quick_evaluate_with_dt(X_resampled, X_test, y_resampled, y_test, 'Over SMOTE'))"
      ]
    },
    {
      "cell_type": "code",
      "execution_count": 26,
      "metadata": {
        "id": "N0L9zFDpzYjz",
        "outputId": "e78c72b7-b62c-471c-8c88-daf3efb15825",
        "colab": {
          "base_uri": "https://localhost:8080/"
        }
      },
      "outputs": [
        {
          "data": {
            "text/plain": [
              "(775, 8)"
            ]
          },
          "execution_count": null,
          "metadata": {},
          "output_type": "execute_result"
        },
        {
          "data": {
            "text/plain": [
              "(775,)"
            ]
          },
          "execution_count": null,
          "metadata": {},
          "output_type": "execute_result"
        },
        {
          "data": {
            "text/plain": [
              "array([400, 375])"
            ]
          },
          "execution_count": null,
          "metadata": {},
          "output_type": "execute_result"
        },
        {
          "metadata": {
            "tags": null
          },
          "name": "stdout",
          "output_type": "stream",
          "text": [
            "        Method  Neg  True Neg  False Neg  Pos  TP  FP  Accuracy   Recall  \\\n",
            "0  Over ADASYN  101        81         20   53  34  19  0.746753  0.62963   \n",
            "\n",
            "   Precision        F1       AUC  \n",
            "0   0.641509  0.635514  0.719815  \n"
          ]
        }
      ],
      "source": [
        "from imblearn.over_sampling import ADASYN\n",
        "\n",
        "X_resampled, y_resampled = ADASYN(random_state=0).fit_resample(X_train, y_train)\n",
        "\n",
        "X_resampled.shape\n",
        "y_resampled.shape\n",
        "np.bincount(y_resampled)\n",
        "\n",
        "evals_d.append(quick_evaluate_with_dt(X_resampled, X_test, y_resampled, y_test,  'Over ADASYN'))"
      ]
    },
    {
      "cell_type": "code",
      "execution_count": 27,
      "metadata": {
        "id": "eGMqAisUzYjz",
        "outputId": "6d70eead-4c72-4e73-8f56-e9c323eeca4f",
        "colab": {
          "base_uri": "https://localhost:8080/"
        }
      },
      "outputs": [
        {
          "data": {
            "text/plain": [
              "(428, 8)"
            ]
          },
          "execution_count": null,
          "metadata": {},
          "output_type": "execute_result"
        },
        {
          "data": {
            "text/plain": [
              "(428,)"
            ]
          },
          "execution_count": null,
          "metadata": {},
          "output_type": "execute_result"
        },
        {
          "data": {
            "text/plain": [
              "array([214, 214])"
            ]
          },
          "execution_count": null,
          "metadata": {},
          "output_type": "execute_result"
        },
        {
          "metadata": {
            "tags": null
          },
          "name": "stdout",
          "output_type": "stream",
          "text": [
            "         Method  Neg  True Neg  False Neg  Pos  TP  FP  Accuracy    Recall  \\\n",
            "0  Under Sample   92        73         19   62  35  27  0.701299  0.648148   \n",
            "\n",
            "   Precision        F1       AUC  \n",
            "0   0.564516  0.603448  0.689074  \n"
          ]
        }
      ],
      "source": [
        "from imblearn.under_sampling import RandomUnderSampler\n",
        "\n",
        "rus = RandomUnderSampler(random_state=0)\n",
        "X_resampled, y_resampled = rus.fit_resample(X_train, y_train)\n",
        "\n",
        "X_resampled.shape\n",
        "y_resampled.shape\n",
        "np.bincount(y_resampled)\n",
        "\n",
        "evals_d.append(quick_evaluate_with_dt(X_resampled, X_test, y_resampled, y_test,  'Under Sample'))"
      ]
    },
    {
      "cell_type": "code",
      "execution_count": 28,
      "metadata": {
        "id": "gOJ729rxzYjz",
        "outputId": "fde80196-c6ab-4de1-94b9-7d425bffe08e",
        "colab": {
          "base_uri": "https://localhost:8080/",
          "height": 290
        }
      },
      "outputs": [
        {
          "data": {
            "text/plain": [
              "0    100\n",
              "1     54\n",
              "Name: diabetes, dtype: int64"
            ]
          },
          "execution_count": null,
          "metadata": {},
          "output_type": "execute_result"
        },
        {
          "data": {
            "text/html": [
              "\n",
              "  <div id=\"df-64e2d279-34f4-4a65-9bd9-23b19ef7f073\">\n",
              "    <div class=\"colab-df-container\">\n",
              "      <div>\n",
              "<style scoped>\n",
              "    .dataframe tbody tr th:only-of-type {\n",
              "        vertical-align: middle;\n",
              "    }\n",
              "\n",
              "    .dataframe tbody tr th {\n",
              "        vertical-align: top;\n",
              "    }\n",
              "\n",
              "    .dataframe thead th {\n",
              "        text-align: right;\n",
              "    }\n",
              "</style>\n",
              "<table border=\"1\" class=\"dataframe\">\n",
              "  <thead>\n",
              "    <tr style=\"text-align: right;\">\n",
              "      <th></th>\n",
              "      <th>Method</th>\n",
              "      <th>Neg</th>\n",
              "      <th>True Neg</th>\n",
              "      <th>False Neg</th>\n",
              "      <th>Pos</th>\n",
              "      <th>TP</th>\n",
              "      <th>FP</th>\n",
              "      <th>Accuracy</th>\n",
              "      <th>Recall</th>\n",
              "      <th>Precision</th>\n",
              "      <th>F1</th>\n",
              "      <th>AUC</th>\n",
              "    </tr>\n",
              "  </thead>\n",
              "  <tbody>\n",
              "    <tr>\n",
              "      <th>4</th>\n",
              "      <td>Over ADASYN</td>\n",
              "      <td>101</td>\n",
              "      <td>81</td>\n",
              "      <td>20</td>\n",
              "      <td>53</td>\n",
              "      <td>34</td>\n",
              "      <td>19</td>\n",
              "      <td>0.746753</td>\n",
              "      <td>0.629630</td>\n",
              "      <td>0.641509</td>\n",
              "      <td>0.635514</td>\n",
              "      <td>0.719815</td>\n",
              "    </tr>\n",
              "    <tr>\n",
              "      <th>3</th>\n",
              "      <td>Over SMOTE</td>\n",
              "      <td>107</td>\n",
              "      <td>84</td>\n",
              "      <td>23</td>\n",
              "      <td>47</td>\n",
              "      <td>31</td>\n",
              "      <td>16</td>\n",
              "      <td>0.746753</td>\n",
              "      <td>0.574074</td>\n",
              "      <td>0.659574</td>\n",
              "      <td>0.613861</td>\n",
              "      <td>0.707037</td>\n",
              "    </tr>\n",
              "    <tr>\n",
              "      <th>2</th>\n",
              "      <td>Over Random</td>\n",
              "      <td>110</td>\n",
              "      <td>86</td>\n",
              "      <td>24</td>\n",
              "      <td>44</td>\n",
              "      <td>30</td>\n",
              "      <td>14</td>\n",
              "      <td>0.753247</td>\n",
              "      <td>0.555556</td>\n",
              "      <td>0.681818</td>\n",
              "      <td>0.612245</td>\n",
              "      <td>0.707778</td>\n",
              "    </tr>\n",
              "    <tr>\n",
              "      <th>5</th>\n",
              "      <td>Under Sample</td>\n",
              "      <td>92</td>\n",
              "      <td>73</td>\n",
              "      <td>19</td>\n",
              "      <td>62</td>\n",
              "      <td>35</td>\n",
              "      <td>27</td>\n",
              "      <td>0.701299</td>\n",
              "      <td>0.648148</td>\n",
              "      <td>0.564516</td>\n",
              "      <td>0.603448</td>\n",
              "      <td>0.689074</td>\n",
              "    </tr>\n",
              "    <tr>\n",
              "      <th>1</th>\n",
              "      <td>Class Weights</td>\n",
              "      <td>120</td>\n",
              "      <td>91</td>\n",
              "      <td>29</td>\n",
              "      <td>34</td>\n",
              "      <td>25</td>\n",
              "      <td>9</td>\n",
              "      <td>0.753247</td>\n",
              "      <td>0.462963</td>\n",
              "      <td>0.735294</td>\n",
              "      <td>0.568182</td>\n",
              "      <td>0.686481</td>\n",
              "    </tr>\n",
              "    <tr>\n",
              "      <th>0</th>\n",
              "      <td>None</td>\n",
              "      <td>116</td>\n",
              "      <td>88</td>\n",
              "      <td>28</td>\n",
              "      <td>38</td>\n",
              "      <td>26</td>\n",
              "      <td>12</td>\n",
              "      <td>0.740260</td>\n",
              "      <td>0.481481</td>\n",
              "      <td>0.684211</td>\n",
              "      <td>0.565217</td>\n",
              "      <td>0.680741</td>\n",
              "    </tr>\n",
              "  </tbody>\n",
              "</table>\n",
              "</div>\n",
              "      <button class=\"colab-df-convert\" onclick=\"convertToInteractive('df-64e2d279-34f4-4a65-9bd9-23b19ef7f073')\"\n",
              "              title=\"Convert this dataframe to an interactive table.\"\n",
              "              style=\"display:none;\">\n",
              "        \n",
              "  <svg xmlns=\"http://www.w3.org/2000/svg\" height=\"24px\"viewBox=\"0 0 24 24\"\n",
              "       width=\"24px\">\n",
              "    <path d=\"M0 0h24v24H0V0z\" fill=\"none\"/>\n",
              "    <path d=\"M18.56 5.44l.94 2.06.94-2.06 2.06-.94-2.06-.94-.94-2.06-.94 2.06-2.06.94zm-11 1L8.5 8.5l.94-2.06 2.06-.94-2.06-.94L8.5 2.5l-.94 2.06-2.06.94zm10 10l.94 2.06.94-2.06 2.06-.94-2.06-.94-.94-2.06-.94 2.06-2.06.94z\"/><path d=\"M17.41 7.96l-1.37-1.37c-.4-.4-.92-.59-1.43-.59-.52 0-1.04.2-1.43.59L10.3 9.45l-7.72 7.72c-.78.78-.78 2.05 0 2.83L4 21.41c.39.39.9.59 1.41.59.51 0 1.02-.2 1.41-.59l7.78-7.78 2.81-2.81c.8-.78.8-2.07 0-2.86zM5.41 20L4 18.59l7.72-7.72 1.47 1.35L5.41 20z\"/>\n",
              "  </svg>\n",
              "      </button>\n",
              "      \n",
              "  <style>\n",
              "    .colab-df-container {\n",
              "      display:flex;\n",
              "      flex-wrap:wrap;\n",
              "      gap: 12px;\n",
              "    }\n",
              "\n",
              "    .colab-df-convert {\n",
              "      background-color: #E8F0FE;\n",
              "      border: none;\n",
              "      border-radius: 50%;\n",
              "      cursor: pointer;\n",
              "      display: none;\n",
              "      fill: #1967D2;\n",
              "      height: 32px;\n",
              "      padding: 0 0 0 0;\n",
              "      width: 32px;\n",
              "    }\n",
              "\n",
              "    .colab-df-convert:hover {\n",
              "      background-color: #E2EBFA;\n",
              "      box-shadow: 0px 1px 2px rgba(60, 64, 67, 0.3), 0px 1px 3px 1px rgba(60, 64, 67, 0.15);\n",
              "      fill: #174EA6;\n",
              "    }\n",
              "\n",
              "    [theme=dark] .colab-df-convert {\n",
              "      background-color: #3B4455;\n",
              "      fill: #D2E3FC;\n",
              "    }\n",
              "\n",
              "    [theme=dark] .colab-df-convert:hover {\n",
              "      background-color: #434B5C;\n",
              "      box-shadow: 0px 1px 3px 1px rgba(0, 0, 0, 0.15);\n",
              "      filter: drop-shadow(0px 1px 2px rgba(0, 0, 0, 0.3));\n",
              "      fill: #FFFFFF;\n",
              "    }\n",
              "  </style>\n",
              "\n",
              "      <script>\n",
              "        const buttonEl =\n",
              "          document.querySelector('#df-64e2d279-34f4-4a65-9bd9-23b19ef7f073 button.colab-df-convert');\n",
              "        buttonEl.style.display =\n",
              "          google.colab.kernel.accessAllowed ? 'block' : 'none';\n",
              "\n",
              "        async function convertToInteractive(key) {\n",
              "          const element = document.querySelector('#df-64e2d279-34f4-4a65-9bd9-23b19ef7f073');\n",
              "          const dataTable =\n",
              "            await google.colab.kernel.invokeFunction('convertToInteractive',\n",
              "                                                     [key], {});\n",
              "          if (!dataTable) return;\n",
              "\n",
              "          const docLinkHtml = 'Like what you see? Visit the ' +\n",
              "            '<a target=\"_blank\" href=https://colab.research.google.com/notebooks/data_table.ipynb>data table notebook</a>'\n",
              "            + ' to learn more about interactive tables.';\n",
              "          element.innerHTML = '';\n",
              "          dataTable['output_type'] = 'display_data';\n",
              "          await google.colab.output.renderOutput(dataTable, element);\n",
              "          const docLink = document.createElement('div');\n",
              "          docLink.innerHTML = docLinkHtml;\n",
              "          element.appendChild(docLink);\n",
              "        }\n",
              "      </script>\n",
              "    </div>\n",
              "  </div>\n",
              "  "
            ],
            "text/plain": [
              "          Method  Neg  True Neg  False Neg  Pos  TP  FP  Accuracy    Recall  \\\n",
              "4    Over ADASYN  101        81         20   53  34  19  0.746753  0.629630   \n",
              "3     Over SMOTE  107        84         23   47  31  16  0.746753  0.574074   \n",
              "2    Over Random  110        86         24   44  30  14  0.753247  0.555556   \n",
              "5   Under Sample   92        73         19   62  35  27  0.701299  0.648148   \n",
              "1  Class Weights  120        91         29   34  25   9  0.753247  0.462963   \n",
              "0           None  116        88         28   38  26  12  0.740260  0.481481   \n",
              "\n",
              "   Precision        F1       AUC  \n",
              "4   0.641509  0.635514  0.719815  \n",
              "3   0.659574  0.613861  0.707037  \n",
              "2   0.681818  0.612245  0.707778  \n",
              "5   0.564516  0.603448  0.689074  \n",
              "1   0.735294  0.568182  0.686481  \n",
              "0   0.684211  0.565217  0.680741  "
            ]
          },
          "execution_count": null,
          "metadata": {},
          "output_type": "execute_result"
        }
      ],
      "source": [
        "# Recall the actual distrition of the truth labels of the testing set.\n",
        "y_test.value_counts()\n",
        "\n",
        "evals_d_all = pd.concat([m for m in evals_d], axis = 0).reset_index()\n",
        "\n",
        "evals_d_all = evals_d_all.drop(columns = \"index\",axis =1)\n",
        "evals_d_all.sort_values(by=['F1'], ascending=False)"
      ]
    }
  ],
  "metadata": {
    "kernelspec": {
      "display_name": "small_sklearn_kernel",
      "language": "python",
      "name": "small_sklearn_kernel"
    },
    "language_info": {
      "codemirror_mode": {
        "name": "ipython",
        "version": 3
      },
      "file_extension": ".py",
      "mimetype": "text/x-python",
      "name": "python",
      "nbconvert_exporter": "python",
      "pygments_lexer": "ipython3",
      "version": "3.6.10"
    },
    "colab": {
      "name": "slides_imbalance.ipynb",
      "provenance": []
    }
  },
  "nbformat": 4,
  "nbformat_minor": 0
}