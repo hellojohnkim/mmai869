{
  "cells": [
    {
      "cell_type": "markdown",
      "metadata": {
        "id": "view-in-github",
        "colab_type": "text"
      },
      "source": [
        "<a href=\"https://colab.research.google.com/github/hellojohnkim/mmai869/blob/main/2024_869_JohnKim.ipynb\" target=\"_parent\"><img src=\"https://colab.research.google.com/assets/colab-badge.svg\" alt=\"Open In Colab\"/></a>"
      ]
    },
    {
      "cell_type": "markdown",
      "metadata": {
        "id": "HKmorPdno_n_"
      },
      "source": [
        "# MMAI 869 2024: Individual Assignment\n",
        "\n",
        "- Student Name: Kim, John\n",
        "- Student Number: 20439250\n",
        "- Section Number: MMAI 2024\n",
        "- Favourite Book: Pachinko by Min Jin Lee\n",
        "- Submitted Date: 2024-01-07"
      ]
    },
    {
      "cell_type": "code",
      "execution_count": 2,
      "metadata": {
        "id": "xj34Jz-Do_oK"
      },
      "outputs": [],
      "source": [
        "import datetime\n",
        "import pandas as pd\n",
        "import numpy as np\n",
        "import matplotlib.pyplot as plt\n",
        "import sklearn\n",
        "from sklearn.metrics import silhouette_score, silhouette_samples\n",
        "from sklearn.preprocessing import StandardScaler\n",
        "from sklearn.cluster import KMeans, DBSCAN, AgglomerativeClustering\n",
        "from sklearn.mixture import GaussianMixture"
      ]
    },
    {
      "cell_type": "code",
      "execution_count": null,
      "metadata": {
        "colab": {
          "base_uri": "https://localhost:8080/"
        },
        "id": "mqQ_XOKyXTS6",
        "outputId": "25fe5c2c-939f-49eb-aaf6-0f3caffc998c"
      },
      "outputs": [
        {
          "name": "stdout",
          "output_type": "stream",
          "text": [
            "2023-11-21 04:05:57.540773\n"
          ]
        }
      ],
      "source": [
        "print(datetime.datetime.now())"
      ]
    },
    {
      "cell_type": "code",
      "execution_count": null,
      "metadata": {
        "colab": {
          "base_uri": "https://localhost:8080/"
        },
        "id": "LfOMt1lErLhZ",
        "outputId": "a667defb-07cb-493a-94b1-5d906420cc07"
      },
      "outputs": [
        {
          "name": "stdout",
          "output_type": "stream",
          "text": [
            "/usr/local/bin/python\n"
          ]
        }
      ],
      "source": [
        "!which python"
      ]
    },
    {
      "cell_type": "code",
      "execution_count": null,
      "metadata": {
        "colab": {
          "base_uri": "https://localhost:8080/"
        },
        "id": "aub2w1-arM5K",
        "outputId": "27c8b598-d2cc-4e89-b5d0-204d57ead224"
      },
      "outputs": [
        {
          "name": "stdout",
          "output_type": "stream",
          "text": [
            "Python 3.10.12\n"
          ]
        }
      ],
      "source": [
        "!python --version"
      ]
    },
    {
      "cell_type": "code",
      "execution_count": null,
      "metadata": {
        "colab": {
          "base_uri": "https://localhost:8080/"
        },
        "id": "E9Y_n_8UrO9i",
        "outputId": "4a5563d9-1834-429b-ce97-fbd49a00ea5f"
      },
      "outputs": [
        {
          "name": "stdout",
          "output_type": "stream",
          "text": [
            "/env/python\n"
          ]
        }
      ],
      "source": [
        "!echo $PYTHONPATH"
      ]
    },
    {
      "cell_type": "markdown",
      "metadata": {
        "id": "RLlBjIyS2o54"
      },
      "source": [
        "# Question 1: Uncle Steve's Diamonds"
      ]
    },
    {
      "cell_type": "markdown",
      "metadata": {
        "id": "qj1NSQelo_oN"
      },
      "source": [
        "## Instructions\n",
        "\n",
        "You work at a local jewelry store named *Uncle Steve's Diamonds*. You started as a janitor, but you’ve recently been promoted to senior data analyst. Congratulations!\n",
        "\n",
        "Uncle Steve, the store's owner, needs to better understand the store's customers. In particular, he wants to know what kind of customers shop at the store. He wants to know the main types of *customer personas*. Once he knows these, he will contemplate ways to better market to each persona, better satisfy each persona, better cater to each persona, increase the loyalty of each persona, etc. But first, he must know the personas.\n",
        "\n",
        "You want to help Uncle Steve. Using sneaky magic (and the help of Environics), you've collected four useful features for a subset of the customers: age, income, spending score (i.e., a score based on how much they’ve spent at the store in total), and savings (i.e., how much money they have in their bank account).\n",
        "\n",
        "**Your tasks**\n",
        "\n",
        "1. Pick a clustering algorithm (the [`sklearn.cluster`](https://scikit-learn.org/stable/modules/classes.html#module-sklearn.cluster) module has many good choices, including [`KMeans`](https://scikit-learn.org/stable/modules/generated/sklearn.cluster.KMeans.html#sklearn.cluster.KMeans), [`DBSCAN`](https://scikit-learn.org/stable/modules/generated/sklearn.cluster.DBSCAN.html#sklearn.cluster.DBSCAN), and [`AgglomerativeClustering`](https://scikit-learn.org/stable/modules/generated/sklearn.cluster.AgglomerativeClustering.html#sklearn.cluster.AgglomerativeClustering) (aka Hierarchical)). (Note that another popular implementation of the hierarchical algorithm can be found in SciPy's [`scipy.cluster.hierarchy.linkage`](https://docs.scipy.org/doc/scipy/reference/generated/scipy.cluster.hierarchy.linkage.html).) Don't spend a lot of time thinking about which algorithm to choose - just pick one. Cluster the customers as best as you can, within reason. That is, try different feature preprocessing steps, hyperparameter values, and/or distance metrics. You don't need to try every posssible combination, but try a few at least. Measure how good each  model configuration is by calculating an internal validation metric (e.g., [`calinski_harabasz_score`](https://scikit-learn.org/stable/modules/generated/sklearn.metrics.calinski_harabasz_score.html) or [`silhouette_score`](https://scikit-learn.org/stable/modules/generated/sklearn.metrics.silhouette_score.html#sklearn.metrics.silhouette_score)).\n",
        "2. You have some doubts - you're not sure if the algorithm you chose in part 1 is the best algorithm for this dataset/problem. Neither is Uncle Steve. So, choose a different algorithm (any!) and do it all again.\n",
        "3. Which clustering algorithm is \"better\" in this case? Think about charateristics of the algorithm like quality of results, ease of use, speed, interpretability, etc. Choose a \"winner\" and justify to Uncle Steve.\n",
        "4. Interpret the clusters of the winning model. That is, describe, in words, a *persona* that accurately depicts each cluster. Use statistics (e.g., cluster means/distributions), examples (e.g., exemplar instances from each cluster), and/or visualizations (e.g., relative importance plots, snakeplots) to get started. Human judgement and creativity will be necessary. This is where it all comes together. Be descriptive and *help Uncle Steve understand his customers better*. Please!\n",
        "\n",
        "**Marking**\n",
        "\n",
        "The coding parts (i.e., 1 and 2) will be marked based on:\n",
        "\n",
        "- *Correctness*. Code clearly and fully performs the task specified.\n",
        "- *Reproducibility*. Code is fully reproducible. I.e., you (and I) are able to run this Notebook again and again, from top to bottom, and get the same results each time.\n",
        "- *Style*. Code is organized. All parts commented with clear reasoning and rationale. No old code laying around. Code easy to follow.\n",
        "\n",
        "\n",
        "Parts 3 and 4 will be marked on:\n",
        "\n",
        "- *Quality*. Response is well-justified and convincing. Responses uses facts and data where possible.\n",
        "- *Style*. Response uses proper grammar, spelling, and punctuation. Response is clear and professional. Response is complete, but not overly-verbose. Response follows length guidelines.\n",
        "\n",
        "\n",
        "**Tips**\n",
        "\n",
        "- Since clustering is an unsupervised ML technique, you don't need to split the data into training/validation/test or anything like that. Phew!\n",
        "- On the flip side, since clustering is unsupervised, you will never know the \"true\" clusters, and so you will never know if a given algorithm is \"correct.\" There really is no notion of \"correctness\" - only \"usefullness.\"\n",
        "- Many online clustering tutorials (including some from Uncle Steve) create flashy visualizations of the clusters by plotting the instances on a 2-D graph and coloring each point by the cluster ID. This is really nice and all, but it can only work if your dataset only has exactly two features - no more, no less. This dataset has more than two features, so you cannot use this technique. (But that's OK - you don't need to use this technique.)\n",
        "- Must you use all four features in the clustering? Not necessarily, no. But \"throwing away\" quality data, for no reason, is unlikely to improve a model.\n",
        "- Some people have success applying a dimensionality reduction technique (like [`sklearn.decomposition.PCA`](https://scikit-learn.org/stable/modules/generated/sklearn.decomposition.PCA.html)) to the features before clustering. You may do this if you wish, although it may not be as helpful in this case because there are only four features to begin with.\n",
        "- If you apply a transformation (e.g., [`MinMaxScaler`](https://scikit-learn.org/stable/modules/generated/sklearn.preprocessing.MinMaxScaler.html) or [`StandardScaler`](https://scikit-learn.org/stable/modules/generated/sklearn.preprocessing.StandardScaler.html#sklearn.preprocessing.StandardScaler)) to the features before clustering, you may have difficulty interpretting the means of the clusters (e.g., what is a mean Age of 0.2234??). There are two options to fix this: first, you can always reverse a transformation with the `inverse_transform` method. Second, you can just use the original dataset (i.e., before any preprocessing) during the interpreation step.\n",
        "- You cannot change the distance metric for K-Means. (This is for theoretical reasons: K-Means only works/makes sense with Euclidean distance.)\n"
      ]
    },
    {
      "cell_type": "markdown",
      "metadata": {
        "id": "Yww0-vtpOw7z"
      },
      "source": [
        "## 1.0: Load data"
      ]
    },
    {
      "cell_type": "code",
      "execution_count": 3,
      "metadata": {
        "colab": {
          "base_uri": "https://localhost:8080/"
        },
        "id": "qVWx2c-DhQYo",
        "outputId": "c63c2c7d-17e8-437c-a81e-543d28a45c0a"
      },
      "outputs": [
        {
          "output_type": "stream",
          "name": "stdout",
          "text": [
            "<class 'pandas.core.frame.DataFrame'>\n",
            "RangeIndex: 505 entries, 0 to 504\n",
            "Data columns (total 4 columns):\n",
            " #   Column         Non-Null Count  Dtype  \n",
            "---  ------         --------------  -----  \n",
            " 0   Age            505 non-null    int64  \n",
            " 1   Income         505 non-null    int64  \n",
            " 2   SpendingScore  505 non-null    float64\n",
            " 3   Savings        505 non-null    float64\n",
            "dtypes: float64(2), int64(2)\n",
            "memory usage: 15.9 KB\n"
          ]
        }
      ],
      "source": [
        "# DO NOT MODIFY THIS CELL\n",
        "df1 = pd.read_csv(\"https://drive.google.com/uc?export=download&id=1thHDCwQK3GijytoSSZNekAsItN_FGHtm\")\n",
        "df1.info()"
      ]
    },
    {
      "cell_type": "code",
      "execution_count": 4,
      "metadata": {
        "colab": {
          "base_uri": "https://localhost:8080/",
          "height": 403
        },
        "id": "zGojixXVCVNY",
        "outputId": "743471ec-66a2-4c2c-be36-f9ca5705d330"
      },
      "outputs": [
        {
          "output_type": "stream",
          "name": "stdout",
          "text": [
            "<class 'pandas.core.frame.DataFrame'>\n",
            "RangeIndex: 505 entries, 0 to 504\n",
            "Data columns (total 4 columns):\n",
            " #   Column         Non-Null Count  Dtype  \n",
            "---  ------         --------------  -----  \n",
            " 0   Age            505 non-null    int64  \n",
            " 1   Income         505 non-null    int64  \n",
            " 2   SpendingScore  505 non-null    float64\n",
            " 3   Savings        505 non-null    float64\n",
            "dtypes: float64(2), int64(2)\n",
            "memory usage: 15.9 KB\n"
          ]
        },
        {
          "output_type": "execute_result",
          "data": {
            "text/plain": [
              "     Age  Income  SpendingScore       Savings\n",
              "500   28  101206       0.387441  14936.775389\n",
              "501   93   19934       0.203140  17969.693769\n",
              "502   90   35297       0.355149  16091.401954\n",
              "503   91   20681       0.354679  18401.088445\n",
              "504   89   30267       0.289310  14386.351880"
            ],
            "text/html": [
              "\n",
              "  <div id=\"df-7f486b3b-4172-44a9-9b95-1793e6675f59\" class=\"colab-df-container\">\n",
              "    <div>\n",
              "<style scoped>\n",
              "    .dataframe tbody tr th:only-of-type {\n",
              "        vertical-align: middle;\n",
              "    }\n",
              "\n",
              "    .dataframe tbody tr th {\n",
              "        vertical-align: top;\n",
              "    }\n",
              "\n",
              "    .dataframe thead th {\n",
              "        text-align: right;\n",
              "    }\n",
              "</style>\n",
              "<table border=\"1\" class=\"dataframe\">\n",
              "  <thead>\n",
              "    <tr style=\"text-align: right;\">\n",
              "      <th></th>\n",
              "      <th>Age</th>\n",
              "      <th>Income</th>\n",
              "      <th>SpendingScore</th>\n",
              "      <th>Savings</th>\n",
              "    </tr>\n",
              "  </thead>\n",
              "  <tbody>\n",
              "    <tr>\n",
              "      <th>500</th>\n",
              "      <td>28</td>\n",
              "      <td>101206</td>\n",
              "      <td>0.387441</td>\n",
              "      <td>14936.775389</td>\n",
              "    </tr>\n",
              "    <tr>\n",
              "      <th>501</th>\n",
              "      <td>93</td>\n",
              "      <td>19934</td>\n",
              "      <td>0.203140</td>\n",
              "      <td>17969.693769</td>\n",
              "    </tr>\n",
              "    <tr>\n",
              "      <th>502</th>\n",
              "      <td>90</td>\n",
              "      <td>35297</td>\n",
              "      <td>0.355149</td>\n",
              "      <td>16091.401954</td>\n",
              "    </tr>\n",
              "    <tr>\n",
              "      <th>503</th>\n",
              "      <td>91</td>\n",
              "      <td>20681</td>\n",
              "      <td>0.354679</td>\n",
              "      <td>18401.088445</td>\n",
              "    </tr>\n",
              "    <tr>\n",
              "      <th>504</th>\n",
              "      <td>89</td>\n",
              "      <td>30267</td>\n",
              "      <td>0.289310</td>\n",
              "      <td>14386.351880</td>\n",
              "    </tr>\n",
              "  </tbody>\n",
              "</table>\n",
              "</div>\n",
              "    <div class=\"colab-df-buttons\">\n",
              "\n",
              "  <div class=\"colab-df-container\">\n",
              "    <button class=\"colab-df-convert\" onclick=\"convertToInteractive('df-7f486b3b-4172-44a9-9b95-1793e6675f59')\"\n",
              "            title=\"Convert this dataframe to an interactive table.\"\n",
              "            style=\"display:none;\">\n",
              "\n",
              "  <svg xmlns=\"http://www.w3.org/2000/svg\" height=\"24px\" viewBox=\"0 -960 960 960\">\n",
              "    <path d=\"M120-120v-720h720v720H120Zm60-500h600v-160H180v160Zm220 220h160v-160H400v160Zm0 220h160v-160H400v160ZM180-400h160v-160H180v160Zm440 0h160v-160H620v160ZM180-180h160v-160H180v160Zm440 0h160v-160H620v160Z\"/>\n",
              "  </svg>\n",
              "    </button>\n",
              "\n",
              "  <style>\n",
              "    .colab-df-container {\n",
              "      display:flex;\n",
              "      gap: 12px;\n",
              "    }\n",
              "\n",
              "    .colab-df-convert {\n",
              "      background-color: #E8F0FE;\n",
              "      border: none;\n",
              "      border-radius: 50%;\n",
              "      cursor: pointer;\n",
              "      display: none;\n",
              "      fill: #1967D2;\n",
              "      height: 32px;\n",
              "      padding: 0 0 0 0;\n",
              "      width: 32px;\n",
              "    }\n",
              "\n",
              "    .colab-df-convert:hover {\n",
              "      background-color: #E2EBFA;\n",
              "      box-shadow: 0px 1px 2px rgba(60, 64, 67, 0.3), 0px 1px 3px 1px rgba(60, 64, 67, 0.15);\n",
              "      fill: #174EA6;\n",
              "    }\n",
              "\n",
              "    .colab-df-buttons div {\n",
              "      margin-bottom: 4px;\n",
              "    }\n",
              "\n",
              "    [theme=dark] .colab-df-convert {\n",
              "      background-color: #3B4455;\n",
              "      fill: #D2E3FC;\n",
              "    }\n",
              "\n",
              "    [theme=dark] .colab-df-convert:hover {\n",
              "      background-color: #434B5C;\n",
              "      box-shadow: 0px 1px 3px 1px rgba(0, 0, 0, 0.15);\n",
              "      filter: drop-shadow(0px 1px 2px rgba(0, 0, 0, 0.3));\n",
              "      fill: #FFFFFF;\n",
              "    }\n",
              "  </style>\n",
              "\n",
              "    <script>\n",
              "      const buttonEl =\n",
              "        document.querySelector('#df-7f486b3b-4172-44a9-9b95-1793e6675f59 button.colab-df-convert');\n",
              "      buttonEl.style.display =\n",
              "        google.colab.kernel.accessAllowed ? 'block' : 'none';\n",
              "\n",
              "      async function convertToInteractive(key) {\n",
              "        const element = document.querySelector('#df-7f486b3b-4172-44a9-9b95-1793e6675f59');\n",
              "        const dataTable =\n",
              "          await google.colab.kernel.invokeFunction('convertToInteractive',\n",
              "                                                    [key], {});\n",
              "        if (!dataTable) return;\n",
              "\n",
              "        const docLinkHtml = 'Like what you see? Visit the ' +\n",
              "          '<a target=\"_blank\" href=https://colab.research.google.com/notebooks/data_table.ipynb>data table notebook</a>'\n",
              "          + ' to learn more about interactive tables.';\n",
              "        element.innerHTML = '';\n",
              "        dataTable['output_type'] = 'display_data';\n",
              "        await google.colab.output.renderOutput(dataTable, element);\n",
              "        const docLink = document.createElement('div');\n",
              "        docLink.innerHTML = docLinkHtml;\n",
              "        element.appendChild(docLink);\n",
              "      }\n",
              "    </script>\n",
              "  </div>\n",
              "\n",
              "\n",
              "<div id=\"df-a99ce3dd-dbc8-467e-9366-83059638130e\">\n",
              "  <button class=\"colab-df-quickchart\" onclick=\"quickchart('df-a99ce3dd-dbc8-467e-9366-83059638130e')\"\n",
              "            title=\"Suggest charts\"\n",
              "            style=\"display:none;\">\n",
              "\n",
              "<svg xmlns=\"http://www.w3.org/2000/svg\" height=\"24px\"viewBox=\"0 0 24 24\"\n",
              "     width=\"24px\">\n",
              "    <g>\n",
              "        <path d=\"M19 3H5c-1.1 0-2 .9-2 2v14c0 1.1.9 2 2 2h14c1.1 0 2-.9 2-2V5c0-1.1-.9-2-2-2zM9 17H7v-7h2v7zm4 0h-2V7h2v10zm4 0h-2v-4h2v4z\"/>\n",
              "    </g>\n",
              "</svg>\n",
              "  </button>\n",
              "\n",
              "<style>\n",
              "  .colab-df-quickchart {\n",
              "      --bg-color: #E8F0FE;\n",
              "      --fill-color: #1967D2;\n",
              "      --hover-bg-color: #E2EBFA;\n",
              "      --hover-fill-color: #174EA6;\n",
              "      --disabled-fill-color: #AAA;\n",
              "      --disabled-bg-color: #DDD;\n",
              "  }\n",
              "\n",
              "  [theme=dark] .colab-df-quickchart {\n",
              "      --bg-color: #3B4455;\n",
              "      --fill-color: #D2E3FC;\n",
              "      --hover-bg-color: #434B5C;\n",
              "      --hover-fill-color: #FFFFFF;\n",
              "      --disabled-bg-color: #3B4455;\n",
              "      --disabled-fill-color: #666;\n",
              "  }\n",
              "\n",
              "  .colab-df-quickchart {\n",
              "    background-color: var(--bg-color);\n",
              "    border: none;\n",
              "    border-radius: 50%;\n",
              "    cursor: pointer;\n",
              "    display: none;\n",
              "    fill: var(--fill-color);\n",
              "    height: 32px;\n",
              "    padding: 0;\n",
              "    width: 32px;\n",
              "  }\n",
              "\n",
              "  .colab-df-quickchart:hover {\n",
              "    background-color: var(--hover-bg-color);\n",
              "    box-shadow: 0 1px 2px rgba(60, 64, 67, 0.3), 0 1px 3px 1px rgba(60, 64, 67, 0.15);\n",
              "    fill: var(--button-hover-fill-color);\n",
              "  }\n",
              "\n",
              "  .colab-df-quickchart-complete:disabled,\n",
              "  .colab-df-quickchart-complete:disabled:hover {\n",
              "    background-color: var(--disabled-bg-color);\n",
              "    fill: var(--disabled-fill-color);\n",
              "    box-shadow: none;\n",
              "  }\n",
              "\n",
              "  .colab-df-spinner {\n",
              "    border: 2px solid var(--fill-color);\n",
              "    border-color: transparent;\n",
              "    border-bottom-color: var(--fill-color);\n",
              "    animation:\n",
              "      spin 1s steps(1) infinite;\n",
              "  }\n",
              "\n",
              "  @keyframes spin {\n",
              "    0% {\n",
              "      border-color: transparent;\n",
              "      border-bottom-color: var(--fill-color);\n",
              "      border-left-color: var(--fill-color);\n",
              "    }\n",
              "    20% {\n",
              "      border-color: transparent;\n",
              "      border-left-color: var(--fill-color);\n",
              "      border-top-color: var(--fill-color);\n",
              "    }\n",
              "    30% {\n",
              "      border-color: transparent;\n",
              "      border-left-color: var(--fill-color);\n",
              "      border-top-color: var(--fill-color);\n",
              "      border-right-color: var(--fill-color);\n",
              "    }\n",
              "    40% {\n",
              "      border-color: transparent;\n",
              "      border-right-color: var(--fill-color);\n",
              "      border-top-color: var(--fill-color);\n",
              "    }\n",
              "    60% {\n",
              "      border-color: transparent;\n",
              "      border-right-color: var(--fill-color);\n",
              "    }\n",
              "    80% {\n",
              "      border-color: transparent;\n",
              "      border-right-color: var(--fill-color);\n",
              "      border-bottom-color: var(--fill-color);\n",
              "    }\n",
              "    90% {\n",
              "      border-color: transparent;\n",
              "      border-bottom-color: var(--fill-color);\n",
              "    }\n",
              "  }\n",
              "</style>\n",
              "\n",
              "  <script>\n",
              "    async function quickchart(key) {\n",
              "      const quickchartButtonEl =\n",
              "        document.querySelector('#' + key + ' button');\n",
              "      quickchartButtonEl.disabled = true;  // To prevent multiple clicks.\n",
              "      quickchartButtonEl.classList.add('colab-df-spinner');\n",
              "      try {\n",
              "        const charts = await google.colab.kernel.invokeFunction(\n",
              "            'suggestCharts', [key], {});\n",
              "      } catch (error) {\n",
              "        console.error('Error during call to suggestCharts:', error);\n",
              "      }\n",
              "      quickchartButtonEl.classList.remove('colab-df-spinner');\n",
              "      quickchartButtonEl.classList.add('colab-df-quickchart-complete');\n",
              "    }\n",
              "    (() => {\n",
              "      let quickchartButtonEl =\n",
              "        document.querySelector('#df-a99ce3dd-dbc8-467e-9366-83059638130e button');\n",
              "      quickchartButtonEl.style.display =\n",
              "        google.colab.kernel.accessAllowed ? 'block' : 'none';\n",
              "    })();\n",
              "  </script>\n",
              "</div>\n",
              "\n",
              "    </div>\n",
              "  </div>\n"
            ]
          },
          "metadata": {},
          "execution_count": 4
        }
      ],
      "source": [
        "## Data Exploration\n",
        "df1.describe()\n",
        "list(df1)\n",
        "df1.shape\n",
        "df1.info()\n",
        "df1.describe().transpose()\n",
        "df1.head(n=20)\n",
        "df1.tail()"
      ]
    },
    {
      "cell_type": "markdown",
      "metadata": {
        "id": "R04NzckZKbG2"
      },
      "source": [
        "## 1.1: Clustering Algorithm #1"
      ]
    },
    {
      "cell_type": "code",
      "execution_count": 5,
      "metadata": {
        "id": "Qeavkicwo_oN",
        "outputId": "adafe99f-1e49-4b8d-8d3d-00044ab5d1cb",
        "colab": {
          "base_uri": "https://localhost:8080/",
          "height": 1000
        }
      },
      "outputs": [
        {
          "output_type": "stream",
          "name": "stderr",
          "text": [
            "/usr/local/lib/python3.10/dist-packages/sklearn/cluster/_kmeans.py:870: FutureWarning: The default value of `n_init` will change from 10 to 'auto' in 1.4. Set the value of `n_init` explicitly to suppress the warning\n",
            "  warnings.warn(\n"
          ]
        },
        {
          "output_type": "stream",
          "name": "stdout",
          "text": [
            "[1 1 1 1 2 1 1 2 2 2 0 0 0 0 1 0 1 2 2 0 0 0 1 2 0 1 1 1 2 1 1 1 2 1 0 1 2\n",
            " 1 0 0 1 2 1 1 1 1 0 1 0 1 2 0 1 2 1 2 0 2 2 2 2 2 2 1 1 1 2 1 1 1 1 0 2 2\n",
            " 0 1 0 1 1 1 1 0 1 2 2 0 0 1 1 1 1 1 1 2 1 1 0 1 1 0 0 1 0 1 0 2 2 0 0 1 2\n",
            " 0 1 0 0 0 1 0 1 2 0 2 2 2 0 0 1 2 1 1 0 1 0 1 1 2 0 1 1 0 2 1 1 1 1 1 1 0\n",
            " 1 2 1 0 2 1 2 0 0 1 2 1 0 2 1 0 2 0 2 1 0 1 2 1 0 1 2 1 1 2 2 2 1 1 0 1 1\n",
            " 2 0 1 1 1 0 2 1 1 1 2 1 0 2 2 2 0 1 0 1 0 1 2 1 1 2 2 2 2 1 2 0 1 0 2 1 1\n",
            " 0 2 0 1 0 1 1 2 1 1 2 1 1 1 0 1 0 0 1 1 1 1 0 1 0 2 1 1 1 2 1 0 2 2 0 0 1\n",
            " 1 0 1 1 2 1 2 0 1 1 0 2 1 2 2 0 1 2 2 1 1 2 0 0 0 0 2 2 0 0 2 2 1 1 0 0 1\n",
            " 0 2 2 0 1 0 2 1 0 1 1 2 0 0 2 0 0 1 2 0 1 1 2 0 2 0 2 0 2 2 0 2 0 1 0 1 1\n",
            " 0 0 2 2 1 1 0 2 1 2 0 1 1 1 2 2 0 0 0 0 0 1 0 1 2 1 2 1 1 2 2 1 2 0 1 0 0\n",
            " 0 1 2 2 2 2 2 0 0 2 1 0 1 0 2 2 1 2 2 1 2 2 0 2 1 0 1 0 1 2 0 1 1 1 2 0 1\n",
            " 0 1 0 1 1 1 0 0 1 0 0 2 1 2 0 2 0 1 1 2 0 0 2 0 1 1 0 1 2 1 0 1 2 1 2 1 0\n",
            " 0 1 0 0 2 2 1 1 1 0 0 0 1 0 1 2 0 0 1 0 2 2 1 1 0 1 1 0 1 1 1 2 0 0 1 1 1\n",
            " 2 0 2 2 2 2 1 2 2 2 1 1 2 2 1 1 2 0 1 0 2 2 2 2]\n"
          ]
        },
        {
          "output_type": "display_data",
          "data": {
            "text/plain": [
              "<Figure size 640x480 with 1 Axes>"
            ],
            "image/png": "[encoded data removed]"
          },
          "metadata": {}
        },
        {
          "output_type": "execute_result",
          "data": {
            "text/plain": [
              "array([0.73100956, 0.71642847, 0.56917434, 0.71559645, 0.86298683,\n",
              "       0.46840813, 0.71661812, 0.78680321, 0.79890903, 0.84733002,\n",
              "       0.1828712 , 0.72609323, 0.6880296 , 0.71878893, 0.69186164,\n",
              "       0.19519231, 0.68534893, 0.87304183, 0.81712856, 0.22821723,\n",
              "       0.73485571, 0.28447469, 0.70098085, 0.84249685, 0.19134004,\n",
              "       0.48714139, 0.41342248, 0.67225313, 0.8426756 , 0.71011869,\n",
              "       0.7145752 , 0.70583066, 0.85258019, 0.67371477, 0.75363167,\n",
              "       0.71389445, 0.85187443, 0.69205811, 0.67848548, 0.73579617,\n",
              "       0.7198081 , 0.8489437 , 0.42094686, 0.69712017, 0.7172976 ,\n",
              "       0.41185167, 0.26515654, 0.45220885, 0.75816873, 0.72773405,\n",
              "       0.83550137, 0.73463831, 0.50203112, 0.87151329, 0.64736504,\n",
              "       0.85137437, 0.72183047, 0.83293576, 0.87540209, 0.82864177,\n",
              "       0.8109131 , 0.86241131, 0.84712672, 0.71308427, 0.63256911,\n",
              "       0.71714102, 0.87429181, 0.51239237, 0.46909472, 0.69751724,\n",
              "       0.70109138, 0.7295484 , 0.84422028, 0.77788435, 0.7339561 ,\n",
              "       0.72016249, 0.74448791, 0.7346469 , 0.68137887, 0.5126824 ,\n",
              "       0.5347776 , 0.20496971, 0.66403145, 0.86528016, 0.82052995,\n",
              "       0.75738843, 0.70196781, 0.71234915, 0.59127126, 0.68789758,\n",
              "       0.7195295 , 0.71194928, 0.4373982 , 0.85652159, 0.69889397,\n",
              "       0.47274971, 0.74114934, 0.71173932, 0.70808469, 0.76029176,\n",
              "       0.74208044, 0.46361243, 0.73669623, 0.48107235, 0.70791157,\n",
              "       0.85085129, 0.72924759, 0.7352927 , 0.73514017, 0.73115573,\n",
              "       0.83507319, 0.74088509, 0.6694543 , 0.76125083, 0.75396558,\n",
              "       0.71761552, 0.71907573, 0.74654248, 0.47436799, 0.84928434,\n",
              "       0.72585387, 0.88303045, 0.79137597, 0.85014985, 0.74672878,\n",
              "       0.29782918, 0.70854478, 0.81951488, 0.68919191, 0.66751049,\n",
              "       0.75916839, 0.67201525, 0.74532336, 0.69076754, 0.48127526,\n",
              "       0.87677452, 0.30753954, 0.48600057, 0.67480199, 0.75318564,\n",
              "       0.85024016, 0.69924765, 0.69474919, 0.48564684, 0.71979051,\n",
              "       0.43549258, 0.70185053, 0.28537462, 0.68109749, 0.8403394 ,\n",
              "       0.69584851, 0.71262309, 0.86173302, 0.69445175, 0.85879149,\n",
              "       0.21812246, 0.71939044, 0.65799993, 0.85916006, 0.71582646,\n",
              "       0.74988931, 0.82559394, 0.68982085, 0.70615401, 0.79639154,\n",
              "       0.7400784 , 0.85011207, 0.67124283, 0.75213236, 0.6849708 ,\n",
              "       0.85119543, 0.63363534, 0.7454938 , 0.64217087, 0.85051127,\n",
              "       0.71881329, 0.67420887, 0.85627015, 0.86116478, 0.8594511 ,\n",
              "       0.72423853, 0.67471175, 0.66881271, 0.5045327 , 0.51844111,\n",
              "       0.83552755, 0.73329077, 0.68063405, 0.71970376, 0.70374004,\n",
              "       0.69936662, 0.85574873, 0.68535332, 0.62237031, 0.66497938,\n",
              "       0.84620434, 0.48417057, 0.75221654, 0.86889672, 0.85467505,\n",
              "       0.85777244, 0.72903199, 0.71302497, 0.73907491, 0.71311845,\n",
              "       0.67176537, 0.70882188, 0.81263659, 0.44671452, 0.65517924,\n",
              "       0.83988253, 0.8798549 , 0.74115356, 0.75301929, 0.6416302 ,\n",
              "       0.87152785, 0.7348131 , 0.45562545, 0.70492555, 0.85928788,\n",
              "       0.72644725, 0.71659184, 0.67730498, 0.86013777, 0.69405567,\n",
              "       0.43935872, 0.73333397, 0.6854005 , 0.70656558, 0.875658  ,\n",
              "       0.69268997, 0.7134073 , 0.84391292, 0.62434873, 0.69172382,\n",
              "       0.72092654, 0.65209814, 0.70702172, 0.72427454, 0.73543783,\n",
              "       0.44905438, 0.67992784, 0.69719732, 0.71953904, 0.18661626,\n",
              "       0.69268998, 0.74944151, 0.79975658, 0.45232411, 0.42428588,\n",
              "       0.49471846, 0.80885368, 0.72980914, 0.70115268, 0.85815655,\n",
              "       0.77348028, 0.71749626, 0.72461839, 0.70082022, 0.7160552 ,\n",
              "       0.26355067, 0.60346122, 0.70902926, 0.74405873, 0.72798308,\n",
              "       0.8355469 , 0.75591482, 0.46198221, 0.65601741, 0.75507651,\n",
              "       0.85040734, 0.62010717, 0.88169743, 0.83172189, 0.65326792,\n",
              "       0.73295815, 0.87349252, 0.84615642, 0.66486273, 0.68745103,\n",
              "       0.86759549, 0.6947057 , 0.69432969, 0.21777086, 0.73846118,\n",
              "       0.86461465, 0.87500383, 0.64952325, 0.26085596, 0.81916189,\n",
              "       0.72747191, 0.41711079, 0.70034072, 0.71586686, 0.75346682,\n",
              "       0.72392689, 0.75561395, 0.833864  , 0.84890202, 0.69179141,\n",
              "       0.69765891, 0.6756669 , 0.87221081, 0.71443158, 0.75475429,\n",
              "       0.46916536, 0.66591316, 0.79943943, 0.72414115, 0.73870896,\n",
              "       0.86322424, 0.24587036, 0.1412116 , 0.64012418, 0.83059872,\n",
              "       0.69636987, 0.71922259, 0.72107044, 0.84953069, 0.68557485,\n",
              "       0.83367601, 0.71812838, 0.83907914, 0.71327032, 0.83565842,\n",
              "       0.81235929, 0.75986205, 0.86163269, 0.72554619, 0.60831511,\n",
              "       0.7192081 , 0.70483905, 0.69073603, 0.71235993, 0.71858652,\n",
              "       0.88676293, 0.82312506, 0.40236657, 0.45046404, 0.59856019,\n",
              "       0.83071235, 0.46331246, 0.83470407, 0.24199206, 0.66079095,\n",
              "       0.71585647, 0.66405884, 0.82335802, 0.84466737, 0.69566712,\n",
              "       0.7494278 , 0.18010446, 0.72872712, 0.36537409, 0.68985159,\n",
              "       0.7271065 , 0.45455339, 0.86230411, 0.66649804, 0.84950714,\n",
              "       0.50724269, 0.72113716, 0.8404018 , 0.83219413, 0.669726  ,\n",
              "       0.8028518 , 0.73645474, 0.67881864, 0.20384108, 0.73759993,\n",
              "       0.75819232, 0.67619351, 0.87850944, 0.87369195, 0.8649662 ,\n",
              "       0.87111386, 0.85367969, 0.7105348 , 0.72289832, 0.88600891,\n",
              "       0.68163351, 0.73195647, 0.68320897, 0.22086361, 0.82610636,\n",
              "       0.87499682, 0.69456339, 0.77759534, 0.811995  , 0.71065377,\n",
              "       0.83695554, 0.85570047, 0.72165389, 0.78285995, 0.6896763 ,\n",
              "       0.72147592, 0.43456646, 0.73682491, 0.72612497, 0.86006675,\n",
              "       0.66833359, 0.70715746, 0.68192338, 0.62383194, 0.86900218,\n",
              "       0.76488148, 0.4733649 , 0.68649714, 0.65882244, 0.7475779 ,\n",
              "       0.6798793 , 0.68654868, 0.45638524, 0.74151751, 0.23997255,\n",
              "       0.46340649, 0.71842796, 0.68204494, 0.78798562, 0.70169486,\n",
              "       0.84063572, 0.6790291 , 0.79819261, 0.73476436, 0.72191494,\n",
              "       0.7079306 , 0.82705383, 0.25107329, 0.7585503 , 0.86630526,\n",
              "       0.68963801, 0.70300446, 0.61349826, 0.72169968, 0.69373381,\n",
              "       0.84214478, 0.61422597, 0.73379214, 0.72972205, 0.86102797,\n",
              "       0.64211701, 0.83155875, 0.41471999, 0.73822047, 0.69254596,\n",
              "       0.49026172, 0.70553264, 0.75051302, 0.85240195, 0.79918156,\n",
              "       0.70150828, 0.50576663, 0.70293065, 0.73087477, 0.59330692,\n",
              "       0.19899201, 0.45528177, 0.7642146 , 0.46792253, 0.8655412 ,\n",
              "       0.74128988, 0.73791745, 0.70018584, 0.716098  , 0.87987808,\n",
              "       0.87118232, 0.41095253, 0.72057566, 0.72606096, 0.70655482,\n",
              "       0.70204841, 0.72359513, 0.70720595, 0.67685059, 0.71926082,\n",
              "       0.86324899, 0.75730858, 0.74895964, 0.65638294, 0.70990364,\n",
              "       0.62246826, 0.83834993, 0.74572981, 0.85281365, 0.84430713,\n",
              "       0.86977186, 0.87045952, 0.50168846, 0.84373196, 0.80727641,\n",
              "       0.83919811, 0.68660535, 0.66002387, 0.84755494, 0.85312522,\n",
              "       0.66647124, 0.45013218, 0.85422877, 0.66039821, 0.43339637,\n",
              "       0.68517847, 0.79151081, 0.8538649 , 0.83928524, 0.80828854])"
            ]
          },
          "metadata": {},
          "execution_count": 5
        }
      ],
      "source": [
        "# prompt:\n",
        "\n",
        "# Create a scaler object\n",
        "scaler = StandardScaler()\n",
        "\n",
        "# Fit and transform the data\n",
        "scaler.fit(df1)\n",
        "df1_scaled = scaler.transform(df1)\n",
        "\n",
        "# Create a KMeans object with 3 clusters\n",
        "kmeans = KMeans(n_clusters=3)\n",
        "\n",
        "# Fit the KMeans object to the scaled data\n",
        "kmeans.fit(df1_scaled)\n",
        "\n",
        "# Get the cluster labels for each data point\n",
        "labels = kmeans.labels_\n",
        "\n",
        "# Print the cluster labels\n",
        "print(labels)\n",
        "\n",
        "# Plot the data points with different colors for each cluster\n",
        "plt.scatter(df1_scaled[:, 0], df1_scaled[:, 1], c=labels)\n",
        "plt.show()\n",
        "\n",
        "# Calculate the silhouette score for the KMeans model\n",
        "silhouette_score(df1_scaled, labels)\n",
        "\n",
        "# Calculate the silhouette samples for the KMeans model\n",
        "silhouette_samples(df1_scaled, labels)\n"
      ]
    },
    {
      "cell_type": "markdown",
      "metadata": {
        "id": "ihVtYBWg1NM6"
      },
      "source": [
        "## 1.2: Clustering Algorithm #2"
      ]
    },
    {
      "cell_type": "code",
      "execution_count": 6,
      "metadata": {
        "id": "Pu2xugQj1Mci",
        "outputId": "87854382-0841-401f-e38f-786551ce9ccb",
        "colab": {
          "base_uri": "https://localhost:8080/",
          "height": 1000
        }
      },
      "outputs": [
        {
          "output_type": "stream",
          "name": "stdout",
          "text": [
            "[0 0 0 0 2 0 0 2 2 2 1 1 1 1 0 1 0 2 2 1 1 1 0 2 1 0 0 0 2 0 0 0 2 0 1 0 2\n",
            " 0 1 1 0 2 0 0 0 0 1 0 1 0 2 1 0 2 0 2 1 2 2 2 2 2 2 0 0 0 2 0 0 0 0 1 2 2\n",
            " 1 0 1 0 0 0 0 1 0 2 2 1 1 0 0 0 0 0 0 2 0 0 1 0 0 1 1 0 1 0 1 2 2 1 1 0 2\n",
            " 1 0 1 1 1 0 1 0 2 1 2 2 2 1 1 0 2 0 0 1 0 1 0 0 2 1 0 0 1 2 0 0 0 0 0 0 1\n",
            " 0 2 0 1 2 0 2 1 1 0 2 0 1 2 0 1 2 1 2 0 1 0 2 0 1 0 2 0 0 2 2 2 0 0 1 0 0\n",
            " 2 1 0 0 0 1 2 0 0 0 2 0 1 2 2 2 1 0 1 0 1 0 2 0 0 2 2 2 2 0 2 1 0 1 2 0 0\n",
            " 1 2 1 0 1 0 0 2 0 0 2 0 0 0 1 0 1 1 0 0 0 0 1 0 1 2 0 0 0 2 0 1 2 2 1 1 0\n",
            " 0 1 0 0 2 0 2 1 0 0 1 2 0 2 2 1 0 2 2 0 0 2 1 1 1 1 2 2 1 1 2 2 0 0 1 1 0\n",
            " 1 2 2 1 0 1 2 0 1 0 0 2 1 1 2 1 1 0 2 1 0 0 2 1 2 1 2 1 2 2 1 2 1 0 1 0 0\n",
            " 1 1 2 2 0 0 1 2 0 2 1 0 0 0 2 2 1 1 1 1 1 0 1 0 2 0 2 0 0 2 2 0 2 1 0 1 1\n",
            " 1 0 2 2 2 2 2 1 1 2 0 1 0 1 2 2 0 2 2 0 2 2 1 2 0 1 0 1 0 2 1 0 0 0 2 1 0\n",
            " 1 0 1 0 0 0 1 1 0 1 1 2 0 2 1 2 1 0 0 2 1 1 2 1 0 0 1 0 2 0 1 0 2 0 2 0 1\n",
            " 1 0 1 1 2 2 0 0 0 1 1 1 0 1 0 2 1 1 0 1 2 2 0 0 1 0 0 1 0 0 0 2 1 1 0 0 0\n",
            " 2 1 2 2 2 2 0 2 2 2 0 0 2 2 0 0 2 1 0 1 2 2 2 2]\n"
          ]
        },
        {
          "output_type": "display_data",
          "data": {
            "text/plain": [
              "<Figure size 640x480 with 1 Axes>"
            ],
            "image/png": "[encoded data removed]"
          },
          "metadata": {}
        },
        {
          "output_type": "execute_result",
          "data": {
            "text/plain": [
              "array([0.73100956, 0.71642847, 0.56917434, 0.71559645, 0.86298683,\n",
              "       0.46840813, 0.71661812, 0.78680321, 0.79890903, 0.84733002,\n",
              "       0.1828712 , 0.72609323, 0.6880296 , 0.71878893, 0.69186164,\n",
              "       0.19519231, 0.68534893, 0.87304183, 0.81712856, 0.22821723,\n",
              "       0.73485571, 0.28447469, 0.70098085, 0.84249685, 0.19134004,\n",
              "       0.48714139, 0.41342248, 0.67225313, 0.8426756 , 0.71011869,\n",
              "       0.7145752 , 0.70583066, 0.85258019, 0.67371477, 0.75363167,\n",
              "       0.71389445, 0.85187443, 0.69205811, 0.67848548, 0.73579617,\n",
              "       0.7198081 , 0.8489437 , 0.42094686, 0.69712017, 0.7172976 ,\n",
              "       0.41185167, 0.26515654, 0.45220885, 0.75816873, 0.72773405,\n",
              "       0.83550137, 0.73463831, 0.50203112, 0.87151329, 0.64736504,\n",
              "       0.85137437, 0.72183047, 0.83293576, 0.87540209, 0.82864177,\n",
              "       0.8109131 , 0.86241131, 0.84712672, 0.71308427, 0.63256911,\n",
              "       0.71714102, 0.87429181, 0.51239237, 0.46909472, 0.69751724,\n",
              "       0.70109138, 0.7295484 , 0.84422028, 0.77788435, 0.7339561 ,\n",
              "       0.72016249, 0.74448791, 0.7346469 , 0.68137887, 0.5126824 ,\n",
              "       0.5347776 , 0.20496971, 0.66403145, 0.86528016, 0.82052995,\n",
              "       0.75738843, 0.70196781, 0.71234915, 0.59127126, 0.68789758,\n",
              "       0.7195295 , 0.71194928, 0.4373982 , 0.85652159, 0.69889397,\n",
              "       0.47274971, 0.74114934, 0.71173932, 0.70808469, 0.76029176,\n",
              "       0.74208044, 0.46361243, 0.73669623, 0.48107235, 0.70791157,\n",
              "       0.85085129, 0.72924759, 0.7352927 , 0.73514017, 0.73115573,\n",
              "       0.83507319, 0.74088509, 0.6694543 , 0.76125083, 0.75396558,\n",
              "       0.71761552, 0.71907573, 0.74654248, 0.47436799, 0.84928434,\n",
              "       0.72585387, 0.88303045, 0.79137597, 0.85014985, 0.74672878,\n",
              "       0.29782918, 0.70854478, 0.81951488, 0.68919191, 0.66751049,\n",
              "       0.75916839, 0.67201525, 0.74532336, 0.69076754, 0.48127526,\n",
              "       0.87677452, 0.30753954, 0.48600057, 0.67480199, 0.75318564,\n",
              "       0.85024016, 0.69924765, 0.69474919, 0.48564684, 0.71979051,\n",
              "       0.43549258, 0.70185053, 0.28537462, 0.68109749, 0.8403394 ,\n",
              "       0.69584851, 0.71262309, 0.86173302, 0.69445175, 0.85879149,\n",
              "       0.21812246, 0.71939044, 0.65799993, 0.85916006, 0.71582646,\n",
              "       0.74988931, 0.82559394, 0.68982085, 0.70615401, 0.79639154,\n",
              "       0.7400784 , 0.85011207, 0.67124283, 0.75213236, 0.6849708 ,\n",
              "       0.85119543, 0.63363534, 0.7454938 , 0.64217087, 0.85051127,\n",
              "       0.71881329, 0.67420887, 0.85627015, 0.86116478, 0.8594511 ,\n",
              "       0.72423853, 0.67471175, 0.66881271, 0.5045327 , 0.51844111,\n",
              "       0.83552755, 0.73329077, 0.68063405, 0.71970376, 0.70374004,\n",
              "       0.69936662, 0.85574873, 0.68535332, 0.62237031, 0.66497938,\n",
              "       0.84620434, 0.48417057, 0.75221654, 0.86889672, 0.85467505,\n",
              "       0.85777244, 0.72903199, 0.71302497, 0.73907491, 0.71311845,\n",
              "       0.67176537, 0.70882188, 0.81263659, 0.44671452, 0.65517924,\n",
              "       0.83988253, 0.8798549 , 0.74115356, 0.75301929, 0.6416302 ,\n",
              "       0.87152785, 0.7348131 , 0.45562545, 0.70492555, 0.85928788,\n",
              "       0.72644725, 0.71659184, 0.67730498, 0.86013777, 0.69405567,\n",
              "       0.43935872, 0.73333397, 0.6854005 , 0.70656558, 0.875658  ,\n",
              "       0.69268997, 0.7134073 , 0.84391292, 0.62434873, 0.69172382,\n",
              "       0.72092654, 0.65209814, 0.70702172, 0.72427454, 0.73543783,\n",
              "       0.44905438, 0.67992784, 0.69719732, 0.71953904, 0.18661626,\n",
              "       0.69268998, 0.74944151, 0.79975658, 0.45232411, 0.42428588,\n",
              "       0.49471846, 0.80885368, 0.72980914, 0.70115268, 0.85815655,\n",
              "       0.77348028, 0.71749626, 0.72461839, 0.70082022, 0.7160552 ,\n",
              "       0.26355067, 0.60346122, 0.70902926, 0.74405873, 0.72798308,\n",
              "       0.8355469 , 0.75591482, 0.46198221, 0.65601741, 0.75507651,\n",
              "       0.85040734, 0.62010717, 0.88169743, 0.83172189, 0.65326792,\n",
              "       0.73295815, 0.87349252, 0.84615642, 0.66486273, 0.68745103,\n",
              "       0.86759549, 0.6947057 , 0.69432969, 0.21777086, 0.73846118,\n",
              "       0.86461465, 0.87500383, 0.64952325, 0.26085596, 0.81916189,\n",
              "       0.72747191, 0.41711079, 0.70034072, 0.71586686, 0.75346682,\n",
              "       0.72392689, 0.75561395, 0.833864  , 0.84890202, 0.69179141,\n",
              "       0.69765891, 0.6756669 , 0.87221081, 0.71443158, 0.75475429,\n",
              "       0.46916536, 0.66591316, 0.79943943, 0.72414115, 0.73870896,\n",
              "       0.86322424, 0.24587036, 0.1412116 , 0.64012418, 0.83059872,\n",
              "       0.69636987, 0.71922259, 0.72107044, 0.84953069, 0.68557485,\n",
              "       0.83367601, 0.71812838, 0.83907914, 0.71327032, 0.83565842,\n",
              "       0.81235929, 0.75986205, 0.86163269, 0.72554619, 0.60831511,\n",
              "       0.7192081 , 0.70483905, 0.69073603, 0.71235993, 0.71858652,\n",
              "       0.88676293, 0.82312506, 0.40236657, 0.45046404, 0.59856019,\n",
              "       0.83071235, 0.46331246, 0.83470407, 0.24199206, 0.66079095,\n",
              "       0.71585647, 0.66405884, 0.82335802, 0.84466737, 0.69566712,\n",
              "       0.7494278 , 0.18010446, 0.72872712, 0.36537409, 0.68985159,\n",
              "       0.7271065 , 0.45455339, 0.86230411, 0.66649804, 0.84950714,\n",
              "       0.50724269, 0.72113716, 0.8404018 , 0.83219413, 0.669726  ,\n",
              "       0.8028518 , 0.73645474, 0.67881864, 0.20384108, 0.73759993,\n",
              "       0.75819232, 0.67619351, 0.87850944, 0.87369195, 0.8649662 ,\n",
              "       0.87111386, 0.85367969, 0.7105348 , 0.72289832, 0.88600891,\n",
              "       0.68163351, 0.73195647, 0.68320897, 0.22086361, 0.82610636,\n",
              "       0.87499682, 0.69456339, 0.77759534, 0.811995  , 0.71065377,\n",
              "       0.83695554, 0.85570047, 0.72165389, 0.78285995, 0.6896763 ,\n",
              "       0.72147592, 0.43456646, 0.73682491, 0.72612497, 0.86006675,\n",
              "       0.66833359, 0.70715746, 0.68192338, 0.62383194, 0.86900218,\n",
              "       0.76488148, 0.4733649 , 0.68649714, 0.65882244, 0.7475779 ,\n",
              "       0.6798793 , 0.68654868, 0.45638524, 0.74151751, 0.23997255,\n",
              "       0.46340649, 0.71842796, 0.68204494, 0.78798562, 0.70169486,\n",
              "       0.84063572, 0.6790291 , 0.79819261, 0.73476436, 0.72191494,\n",
              "       0.7079306 , 0.82705383, 0.25107329, 0.7585503 , 0.86630526,\n",
              "       0.68963801, 0.70300446, 0.61349826, 0.72169968, 0.69373381,\n",
              "       0.84214478, 0.61422597, 0.73379214, 0.72972205, 0.86102797,\n",
              "       0.64211701, 0.83155875, 0.41471999, 0.73822047, 0.69254596,\n",
              "       0.49026172, 0.70553264, 0.75051302, 0.85240195, 0.79918156,\n",
              "       0.70150828, 0.50576663, 0.70293065, 0.73087477, 0.59330692,\n",
              "       0.19899201, 0.45528177, 0.7642146 , 0.46792253, 0.8655412 ,\n",
              "       0.74128988, 0.73791745, 0.70018584, 0.716098  , 0.87987808,\n",
              "       0.87118232, 0.41095253, 0.72057566, 0.72606096, 0.70655482,\n",
              "       0.70204841, 0.72359513, 0.70720595, 0.67685059, 0.71926082,\n",
              "       0.86324899, 0.75730858, 0.74895964, 0.65638294, 0.70990364,\n",
              "       0.62246826, 0.83834993, 0.74572981, 0.85281365, 0.84430713,\n",
              "       0.86977186, 0.87045952, 0.50168846, 0.84373196, 0.80727641,\n",
              "       0.83919811, 0.68660535, 0.66002387, 0.84755494, 0.85312522,\n",
              "       0.66647124, 0.45013218, 0.85422877, 0.66039821, 0.43339637,\n",
              "       0.68517847, 0.79151081, 0.8538649 , 0.83928524, 0.80828854])"
            ]
          },
          "metadata": {},
          "execution_count": 6
        }
      ],
      "source": [
        "# prompt: hierarchical clustering\n",
        "\n",
        "# Create an AgglomerativeClustering object with 3 clusters\n",
        "agglomerative_clustering = AgglomerativeClustering(n_clusters=3)\n",
        "\n",
        "# Fit the AgglomerativeClustering object to the scaled data\n",
        "agglomerative_clustering.fit(df1_scaled)\n",
        "\n",
        "# Get the cluster labels for each data point\n",
        "labels = agglomerative_clustering.labels_\n",
        "\n",
        "# Print the cluster labels\n",
        "print(labels)\n",
        "\n",
        "# Plot the data points with different colors for each cluster\n",
        "plt.scatter(df1_scaled[:, 0], df1_scaled[:, 1], c=labels)\n",
        "plt.show()\n",
        "\n",
        "# Calculate the silhouette score for the AgglomerativeClustering model\n",
        "silhouette_score(df1_scaled, labels)\n",
        "\n",
        "# Calculate the silhouette samples for the AgglomerativeClustering model\n",
        "silhouette_samples(df1_scaled, labels)\n"
      ]
    },
    {
      "cell_type": "markdown",
      "metadata": {
        "id": "6ySJIgNr1Sfy"
      },
      "source": [
        "## 1.3 Model Comparison"
      ]
    },
    {
      "cell_type": "code",
      "source": [
        "# prompt: compare the two clustering models\n",
        "\n",
        "# Print the silhouette scores for both models\n",
        "print(\"KMeans silhouette score:\", silhouette_score(df1_scaled, labels))\n",
        "print(\"AgglomerativeClustering silhouette score:\", silhouette_score(df1_scaled, labels))\n",
        "\n",
        "# Plot the silhouette plots for both models\n",
        "plt.subplot(1, 2, 1)\n",
        "plt.title(\"KMeans Silhouette Plot\")\n",
        "plt.plot(silhouette_samples(df1_scaled, labels))\n",
        "plt.xlabel(\"Data point index\")\n",
        "plt.ylabel(\"Silhouette coefficient\")\n",
        "\n",
        "plt.subplot(1, 2, 2)\n",
        "plt.title(\"AgglomerativeClustering Silhouette Plot\")\n",
        "plt.plot(silhouette_samples(df1_scaled, labels))\n",
        "plt.xlabel(\"Data point index\")\n",
        "plt.ylabel(\"Silhouette coefficient\")\n",
        "\n",
        "plt.show()\n",
        "\n",
        "# Compare the silhouette scores and plots to determine which model is better\n"
      ],
      "metadata": {
        "id": "UOktF_5rkqU6",
        "outputId": "002b49f8-04fa-4e55-a14a-16ff0319e464",
        "colab": {
          "base_uri": "https://localhost:8080/",
          "height": 508
        }
      },
      "execution_count": 7,
      "outputs": [
        {
          "output_type": "stream",
          "name": "stdout",
          "text": [
            "KMeans silhouette score: 0.6963481945884472\n",
            "AgglomerativeClustering silhouette score: 0.6963481945884472\n"
          ]
        },
        {
          "output_type": "display_data",
          "data": {
            "text/plain": [
              "<Figure size 640x480 with 2 Axes>"
            ],
            "image/png": "[encoded data removed]"
          },
          "metadata": {}
        }
      ]
    },
    {
      "cell_type": "markdown",
      "metadata": {
        "id": "MP2EAnCJ1Xta"
      },
      "source": [
        "## 1.4 Personas"
      ]
    },
    {
      "cell_type": "markdown",
      "metadata": {
        "id": "dVewu2TZ1XhK"
      },
      "source": [
        "TODO: Delete this text and insert your answer here."
      ]
    },
    {
      "cell_type": "markdown",
      "metadata": {
        "id": "DYwuYIgczYSv"
      },
      "source": [
        "# Question 2: Uncle Steve's Fine Foods"
      ]
    },
    {
      "cell_type": "markdown",
      "metadata": {
        "id": "3YQsOb6CzYVq"
      },
      "source": [
        "## 2.1: A rule that might have high support and high confidence."
      ]
    },
    {
      "cell_type": "markdown",
      "metadata": {
        "id": "DzXu1IvK-MEg"
      },
      "source": [
        "Rule: {frozen pizza} -> {beer}\n",
        "Answer: This rule would have high support and confidence as both are popular for casual dining and social gatherings. Uncle Steve might find this rule somewhat obvious, as the combination is a common choice for quick meals and parties.\n",
        "\n",
        "Rule: {organic vegetables} -> {plant-based milk}\n",
        "Answer: This rule would likely have high support and confidence, reflecting a health-conscious consumer trend. However, Uncle Steve might not find it very surprising, given the increasing popularity of organic and plant-based products.\n",
        "\n",
        "Rule: {baby food} -> {baby wipes}\n",
        "Answer: This rule would have high support and confidence due to the necessities for parents with infants. Uncle Steve might already be aware of this pattern, as these are essential items for a specific customer segment.\n",
        "\n",
        "Rule: {sports drinks} -> {protein bars}\n",
        "Answer: The rule would likely have high support and confidence, catering to fitness enthusiasts. This might not be novel to Uncle Steve, as the pairing is a well-known trend among health-conscious customers.\n",
        "\n",
        "Rule: {instant coffee} -> {breakfast biscuits}\n",
        "Answer: This rule would have high support and confidence as a common quick breakfast choice. However, this may not be particularly insightful for Uncle Steve, as the pairing is typical for busy, on-the-go lifestyles."
      ]
    },
    {
      "cell_type": "markdown",
      "metadata": {
        "id": "VNIrAgJk-L4l"
      },
      "source": [
        "## 2.2: A rule that might have reasonably high support but low confidence."
      ]
    },
    {
      "cell_type": "markdown",
      "metadata": {
        "id": "svdzYW3S-LvF"
      },
      "source": [
        "Rule: {wine} -> {gourmet cheese}\n",
        "Answer: This rule would have reasonably high support but low confidence, common in social settings but not always purchased together. Uncle Steve might find this interesting for targeted promotions, although the pairing is fairly well-known.\n",
        "\n",
        "Rule: {sunscreen} -> {beach toys}\n",
        "Answer: This rule would have high support but low confidence due to their seasonal nature. This might not be a revelation to Uncle Steve, but it could suggest strategic placement during summer months.\n",
        "\n",
        "Rule: {fresh herbs} -> {exotic spices}\n",
        "Answer: This rule might have high support but low confidence, reflecting a segment interested in gourmet cooking. Uncle Steve might find this pairing obvious, yet it could inform targeted marketing strategies.\n",
        "\n",
        "Rule: {artisan bread} -> {olive oil}\n",
        "Answer: This rule would have high support but low confidence, common for premium dining experiences. Uncle Steve might not find this particularly surprising, as it's a well-known combination among food enthusiasts.\n",
        "\n",
        "Rule: {energy drinks} -> {gaming accessories}\n",
        "Answer: This rule would have high support but low confidence, appealing to a younger demographic. While not novel to Uncle Steve, it could inform targeted marketing efforts for this specific customer group."
      ]
    },
    {
      "cell_type": "markdown",
      "metadata": {
        "id": "loe--LMz-Ll8"
      },
      "source": [
        "## 2.3: A rule that might have low support and low confidence."
      ]
    },
    {
      "cell_type": "markdown",
      "metadata": {
        "id": "HdyOB5fe-Zgy"
      },
      "source": [
        "Rule: {gluten-free pasta} -> {soy candles}\n",
        "Answer: This rule would have low support and confidence, reflecting a niche wellness-focused lifestyle. Uncle Steve might find this combination too obscure and not particularly actionable for store strategy.\n",
        "\n",
        "Rule: {gourmet dog food} -> {craft beer}\n",
        "Answer: This rule would have low support and low confidence, indicating a demographic of upscale pet owners. While creative, Uncle Steve might consider this pairing too unconventional for practical marketing use.\n",
        "\n",
        "Rule: {travel magazines} -> {international foods}\n",
        "Answer: This rule would have low support and confidence, appealing to a globally-minded customer. Uncle Steve might find this interesting but too niche for widespread application in his store.\n",
        "\n",
        "Rule: {eco-friendly cleaning products} -> {reusable bags}\n",
        "Answer: This rule would have low support and confidence, suggesting environmentally conscious customers. Uncle Steve might consider this too specific, although it aligns with sustainable living trends.\n",
        "\n",
        "Rule: {yoga mats} -> {kombucha}\n",
        "Answer: This rule would have low support and confidence, reflecting a health and wellness lifestyle. While interesting, Uncle Steve might find it too niche for general store strategy."
      ]
    },
    {
      "cell_type": "markdown",
      "metadata": {
        "id": "St2eI3We-ZYs"
      },
      "source": [
        "## 2.4: A rule that might have low support and high confidence."
      ]
    },
    {
      "cell_type": "markdown",
      "metadata": {
        "id": "LcdZc-B1-fE7"
      },
      "source": [
        "Rule: {champagne} -> {luxury chocolates}\n",
        "Answer: This rule would have low support but high confidence, specific to celebrations or gifts. Uncle Steve might find this pairing insightful for special occasions, although it's a relatively niche market.\n",
        "\n",
        "Rule: {gourmet coffee beans} -> {French press}\n",
        "Answer: This rule would have low support but high confidence, appealing to coffee connoisseurs. Uncle Steve might consider this too specific for the general customer base, but useful for targeting a premium segment.\n",
        "\n",
        "Rule: {allergy medicine} -> {air purifiers}\n",
        "Answer: This rule would have low support but high confidence, targeted to customers with health concerns. While specific, Uncle Steve might find it useful for a 'health and wellness' focused display.\n",
        "\n",
        "Rule: {camping gear} -> {trail mix}\n",
        "Answer: This rule would have low support but high confidence, reflecting outdoor enthusiasts. Uncle Steve might see this as too seasonal and niche, but it could inform summer product placements.\n",
        "\n",
        "Rule: {vegan snacks} -> {eco-friendly personal care products}\n",
        "Answer: This rule would have low support but high confidence, indicating a lifestyle-focused consumer group. Uncle Steve might find this too targeted for his general customer base, but it aligns with sustainable living trends."
      ]
    },
    {
      "cell_type": "markdown",
      "metadata": {
        "id": "B_IHoz7f2yIV"
      },
      "source": [
        "# Question 3: Uncle Steve's Credit Union"
      ]
    },
    {
      "cell_type": "markdown",
      "metadata": {
        "id": "jqm_REd4oouz"
      },
      "source": [
        "## 3.0: Load data and split"
      ]
    },
    {
      "cell_type": "code",
      "execution_count": 9,
      "metadata": {
        "colab": {
          "base_uri": "https://localhost:8080/"
        },
        "id": "X6b_BM0Nz9sF",
        "outputId": "0ea6da79-f51b-4f05-e2e1-f0eea595449c"
      },
      "outputs": [
        {
          "output_type": "stream",
          "name": "stdout",
          "text": [
            "<class 'pandas.core.frame.DataFrame'>\n",
            "RangeIndex: 6000 entries, 0 to 5999\n",
            "Data columns (total 17 columns):\n",
            " #   Column             Non-Null Count  Dtype \n",
            "---  ------             --------------  ----- \n",
            " 0   UserID             6000 non-null   object\n",
            " 1   Sex                6000 non-null   object\n",
            " 2   PreviousDefault    6000 non-null   int64 \n",
            " 3   FirstName          6000 non-null   object\n",
            " 4   LastName           6000 non-null   object\n",
            " 5   NumberPets         6000 non-null   int64 \n",
            " 6   PreviousAccounts   6000 non-null   int64 \n",
            " 7   ResidenceDuration  6000 non-null   int64 \n",
            " 8   Street             6000 non-null   object\n",
            " 9   LicensePlate       6000 non-null   object\n",
            " 10  BadCredit          6000 non-null   int64 \n",
            " 11  Amount             6000 non-null   int64 \n",
            " 12  Married            6000 non-null   int64 \n",
            " 13  Duration           6000 non-null   int64 \n",
            " 14  City               6000 non-null   object\n",
            " 15  Purpose            6000 non-null   object\n",
            " 16  DateOfBirth        6000 non-null   object\n",
            "dtypes: int64(8), object(9)\n",
            "memory usage: 797.0+ KB\n"
          ]
        }
      ],
      "source": [
        "# DO NOT MODIFY THIS CELL\n",
        "\n",
        "# First, we'll read the provided labeled training data\n",
        "df3 = pd.read_csv(\"https://drive.google.com/uc?export=download&id=1wOhyCnvGeY4jplxI8lZ-bbYN3zLtickf\")\n",
        "df3.info()\n",
        "\n",
        "from sklearn.model_selection import train_test_split\n",
        "\n",
        "X = df3.drop('BadCredit', axis=1) #.select_dtypes(['number'])\n",
        "y = df3['BadCredit']\n",
        "\n",
        "X_train, X_test, y_train, y_test = train_test_split(X, y, test_size=0.2, random_state=42)"
      ]
    },
    {
      "cell_type": "code",
      "execution_count": 10,
      "metadata": {
        "colab": {
          "base_uri": "https://localhost:8080/"
        },
        "id": "V3Q-h0aAKKMn",
        "outputId": "0d0cbbfb-2c84-403c-abae-a08dc7e78a32"
      },
      "outputs": [
        {
          "output_type": "execute_result",
          "data": {
            "text/plain": [
              "Index(['UserID', 'Sex', 'FirstName', 'LastName', 'Street', 'LicensePlate',\n",
              "       'City', 'Purpose', 'DateOfBirth'],\n",
              "      dtype='object')"
            ]
          },
          "metadata": {},
          "execution_count": 10
        }
      ],
      "source": [
        "X.head()\n",
        "X_train.shape, X_test.shape, y_train.shape, y_test.shape\n",
        "X_train.select_dtypes(include=['object']).columns"
      ]
    },
    {
      "cell_type": "markdown",
      "metadata": {
        "id": "sdiKKblCo53S"
      },
      "source": [
        "## 3.1: Baseline model\n",
        "\n"
      ]
    },
    {
      "cell_type": "code",
      "execution_count": 11,
      "metadata": {
        "id": "hCkLW1Ekj7MK",
        "outputId": "f5b2022c-1460-495a-c521-85a50bed02ee",
        "colab": {
          "base_uri": "https://localhost:8080/"
        }
      },
      "outputs": [
        {
          "output_type": "stream",
          "name": "stdout",
          "text": [
            "Mean ROC AUC Score: 0.7854290639111674\n"
          ]
        }
      ],
      "source": [
        "from sklearn.compose import ColumnTransformer\n",
        "from sklearn.pipeline import Pipeline\n",
        "from sklearn.ensemble import RandomForestClassifier\n",
        "from sklearn.model_selection import cross_val_score\n",
        "from sklearn.preprocessing import OneHotEncoder\n",
        "\n",
        "# Identifying categorical columns\n",
        "categorical_cols = X_train.select_dtypes(include=['object']).columns\n",
        "\n",
        "# Creating a column transformer for one-hot encoding categorical variables\n",
        "preprocessor = ColumnTransformer(transformers=[('cat', OneHotEncoder(handle_unknown='ignore'), categorical_cols)], remainder='passthrough')\n",
        "\n",
        "# Creating a pipeline with preprocessor and a Random Forestclassifier\n",
        "pipeline = Pipeline(steps=[('preprocessor', preprocessor),('classifier', RandomForestClassifier(random_state=42))])\n",
        "\n",
        "# Performing 10-fold cross-validation to evaluate the baseline model\n",
        "scores = cross_val_score(pipeline, X_train, y_train, cv=10, scoring='roc_auc')\n",
        "\n",
        "# Displaying the mean score\n",
        "print(\"Mean ROC AUC Score:\", scores.mean())\n"
      ]
    },
    {
      "cell_type": "markdown",
      "metadata": {
        "id": "ugyTS51Ko5vz"
      },
      "source": [
        "## 3.2: Adding feature engineering"
      ]
    },
    {
      "cell_type": "markdown",
      "metadata": {
        "id": "PsdD0clko5pz"
      },
      "source": [
        "## 3.3: Adding feature selection"
      ]
    },
    {
      "cell_type": "markdown",
      "metadata": {
        "id": "Ff4l2aNKo5fr"
      },
      "source": [
        "## 3.4: Adding hyperparameter tuning"
      ]
    },
    {
      "cell_type": "markdown",
      "metadata": {
        "id": "Te9gGGLEpXRG"
      },
      "source": [
        "## 3.5: Performance estimation on testing data"
      ]
    },
    {
      "cell_type": "markdown",
      "metadata": {
        "id": "bPiErnUaTQSk"
      },
      "source": [
        "# Question 4: Uncle Steve's Wind Farm"
      ]
    },
    {
      "cell_type": "markdown",
      "metadata": {
        "id": "Ug7A_K0yj7MR"
      },
      "source": [
        "# Answers\n",
        "**Current Situtation**\n",
        "- 256 Failed Turbines\n",
        "- Failure Repair Cost: $20,000 per turbine\n",
        "- Mainteance Service Cost: $2,000 per turbine\n",
        "- Inspection CostL $500 per turbine\n",
        "\n",
        "Uncle Steve is currently paying $5.12 million in maintenance costs without any predictive mainteance models,\n",
        "\n",
        "- number of fails * failure repair cost per turbine = 256 turbines * $20,000 = $5,120,000\n",
        "\n",
        "Random Forest Model will save $3,492,500 for Uncle Steve and cost less than RNN Model.\n",
        "\n",
        "Additional metrics like\n",
        "\n",
        "|         | Cost           |Savings   |\n",
        "| ------------- |:------------:|:------------:\n",
        "| **No Predictive Models**      | $5,120,000 |  -    |\n",
        "| **Random Forest**   | **$1,627,500** | **$3,492,500** |\n",
        "| **Recurrent Neural Network**   | $1,765,000 | $3,355,000 |\n",
        "\n",
        "\n",
        "**Random Forest Cost Analysis**\n",
        "\n",
        "Confusion matrix for the random forest:\n",
        "|         | Predicted Fail           | Predicted No Fail  | |\n",
        "| ------------- |:------------:| :-----:|:-----:|\n",
        "| **Actual Fail**      | 201 | 55 |256|\n",
        "| **Actual No Fail**   | 50 | 255,195 |255,245|\n",
        "|                      | 251|255,250|255,501|\n",
        "\n",
        "Cost matrix for the random forest:\n",
        "|         | Predicted Fail           | Predicted No Fail  |\n",
        "| ------------- |:------------:| :-----:|\n",
        "| **Actual Fail**      | $2500 | $20,000 |\n",
        "| **Actual No Fail**   | $500 | - |\n",
        "\n",
        "Total Cost for the random forest:\n",
        "|         | Predicted Fail           | Predicted No Fail  |\n",
        "| ------------- |:------------:| :-----:|\n",
        "| **Actual Fail**      | $502,500 | $1,100,000 |\n",
        "| **Actual No Fail**   | $25,000 | - |\n",
        "\n",
        "Total Cost = $502,500 + $25,000 + $1,100,000 =  $1,627,500\n",
        "\n",
        "**RNN Cost Analysis**\n",
        "\n",
        "Confusion matrix for the RNN:\n",
        "|         | Predicted Fail           | Predicted No Fail  | |\n",
        "| ------------- |:------------:| :-----:|:-----:|\n",
        "| **Actual Fail**      | 226 | 30 |256|\n",
        "| **Actual No Fail**   | 1200 | 25,4045 | 254,245|\n",
        "|                      | 1426 | 254,075| 255,501|\n",
        "\n",
        "Cost matrix for the RNN:\n",
        "|         | Predicted Fail           | Predicted No Fail  |\n",
        "| ------------- |:------------:| :-----:|\n",
        "| **Actual Fail**      | $2500 | $20,000 |\n",
        "| **Actual No Fail**   | $500 | - |\n",
        "\n",
        "Total Cost for the RNN:\n",
        "|         | Predicted Fail           | Predicted No Fail  |\n",
        "| ------------- |:------------:| :-----:|\n",
        "| **Actual Fail**      |  $565,000  | $600,000  |\n",
        "| **Actual No Fail**   |  $600,000  | - |\n",
        "\n",
        "Total Cost = $565,000 + $600,000 + $600,000 = $1,765,000"
      ]
    }
  ],
  "metadata": {
    "colab": {
      "provenance": [],
      "include_colab_link": true
    },
    "kernelspec": {
      "display_name": "Python 3",
      "name": "python3"
    },
    "language_info": {
      "codemirror_mode": {
        "name": "ipython",
        "version": 3
      },
      "file_extension": ".py",
      "mimetype": "text/x-python",
      "name": "python",
      "nbconvert_exporter": "python",
      "pygments_lexer": "ipython3",
      "version": "3.11.3"
    }
  },
  "nbformat": 4,
  "nbformat_minor": 0
}