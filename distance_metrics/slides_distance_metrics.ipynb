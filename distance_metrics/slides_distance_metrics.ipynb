{
 "cells": [
  {
   "cell_type": "markdown",
   "metadata": {},
   "source": [
    "# Playground for Distance Metrics\n",
    "\n",
    "- Stephen W. Thomas\n",
    "- Used for MMA 869, MMAI 869, GMMA 869"
   ]
  },
  {
   "cell_type": "code",
   "execution_count": 4,
   "metadata": {},
   "outputs": [
    {
     "name": "stdout",
     "output_type": "stream",
     "text": [
      "2020-11-05 07:43:19.314683\n"
     ]
    }
   ],
   "source": [
    "import datetime\n",
    "print(datetime.datetime.now())"
   ]
  },
  {
   "cell_type": "code",
   "execution_count": 5,
   "metadata": {},
   "outputs": [],
   "source": [
    "import pandas as pd\n",
    "import numpy as np\n",
    "\n",
    "import matplotlib.pyplot as plt\n",
    "\n",
    "from IPython.core.interactiveshell import InteractiveShell\n",
    "InteractiveShell.ast_node_interactivity = \"all\""
   ]
  },
  {
   "cell_type": "code",
   "execution_count": 3,
   "metadata": {},
   "outputs": [],
   "source": [
    "# Default plot settings\n",
    "SMALL_SIZE = 12\n",
    "MEDIUM_SIZE = 14\n",
    "BIGGER_SIZE = 16\n",
    "\n",
    "\n",
    "plt.rc('figure', figsize=[8.0, 5.0])     # controls the size of the figure\n",
    "plt.rc('font', size=SMALL_SIZE)          # controls default text sizes\n",
    "plt.rc('axes', titlesize=SMALL_SIZE)     # fontsize of the axes title\n",
    "plt.rc('axes', labelsize=MEDIUM_SIZE)    # fontsize of the x and y labels\n",
    "plt.rc('xtick', labelsize=SMALL_SIZE)    # fontsize of the tick labels\n",
    "plt.rc('ytick', labelsize=SMALL_SIZE)    # fontsize of the tick labels\n",
    "plt.rc('legend', fontsize=SMALL_SIZE)    # legend fontsize\n",
    "plt.rc('figure', titlesize=BIGGER_SIZE)  # fontsize of the figure title\n",
    "plt.rc('axes', grid=True)"
   ]
  },
  {
   "cell_type": "markdown",
   "metadata": {},
   "source": [
    "# Distance Metrics for Simple Numeric Features\n",
    "\n",
    "Let's make up some data and a nice plot for the slides"
   ]
  },
  {
   "cell_type": "code",
   "execution_count": 7,
   "metadata": {},
   "outputs": [
    {
     "data": {
      "text/html": [
       "<div>\n",
       "<style scoped>\n",
       "    .dataframe tbody tr th:only-of-type {\n",
       "        vertical-align: middle;\n",
       "    }\n",
       "\n",
       "    .dataframe tbody tr th {\n",
       "        vertical-align: top;\n",
       "    }\n",
       "\n",
       "    .dataframe thead th {\n",
       "        text-align: right;\n",
       "    }\n",
       "</style>\n",
       "<table border=\"1\" class=\"dataframe\">\n",
       "  <thead>\n",
       "    <tr style=\"text-align: right;\">\n",
       "      <th></th>\n",
       "      <th>id</th>\n",
       "      <th>dim1</th>\n",
       "      <th>dim2</th>\n",
       "    </tr>\n",
       "  </thead>\n",
       "  <tbody>\n",
       "    <tr>\n",
       "      <th>0</th>\n",
       "      <td>A</td>\n",
       "      <td>1</td>\n",
       "      <td>1</td>\n",
       "    </tr>\n",
       "    <tr>\n",
       "      <th>1</th>\n",
       "      <td>B</td>\n",
       "      <td>2</td>\n",
       "      <td>1</td>\n",
       "    </tr>\n",
       "    <tr>\n",
       "      <th>2</th>\n",
       "      <td>C</td>\n",
       "      <td>5</td>\n",
       "      <td>5</td>\n",
       "    </tr>\n",
       "  </tbody>\n",
       "</table>\n",
       "</div>"
      ],
      "text/plain": [
       "  id  dim1  dim2\n",
       "0  A     1     1\n",
       "1  B     2     1\n",
       "2  C     5     5"
      ]
     },
     "metadata": {},
     "output_type": "display_data"
    }
   ],
   "source": [
    "import scipy.spatial.distance as dist\n",
    "import numpy as np\n",
    "import itertools\n",
    "\n",
    "# Prepare 3 vectors (data points) of 2 dimensions\n",
    "points = pd.DataFrame(data={'id':['A', 'B', 'C'], 'dim1':[1, 2, 5], 'dim2':[1, 1, 5]})\n",
    "display(points.head())"
   ]
  },
  {
   "cell_type": "code",
   "execution_count": 5,
   "metadata": {},
   "outputs": [
    {
     "name": "stdout",
     "output_type": "stream",
     "text": [
      "\n",
      "Points A and B:\n",
      "Euclidean distance: 1.00\n",
      "Manhattan distance: 1.00\n",
      "Chebyshev distance: 1.00\n",
      "Canberra distance: 0.33\n",
      "Cosine distance: 0.05\n",
      "\n",
      "Points A and C:\n",
      "Euclidean distance: 5.66\n",
      "Manhattan distance: 8.00\n",
      "Chebyshev distance: 4.00\n",
      "Canberra distance: 1.33\n",
      "Cosine distance: 0.00\n",
      "\n",
      "Points B and C:\n",
      "Euclidean distance: 5.00\n",
      "Manhattan distance: 7.00\n",
      "Chebyshev distance: 4.00\n",
      "Canberra distance: 1.10\n",
      "Cosine distance: 0.05\n"
     ]
    }
   ],
   "source": [
    "for combo in itertools.combinations(points['id'], 2):\n",
    "    v1 = points[points['id'] == combo[0]][['dim1', 'dim2']]\n",
    "    v2 = points[points['id'] == combo[1]][['dim1', 'dim2']]\n",
    "    \n",
    "    print('\\nPoints {} and {}:'.format(combo[0], combo[1]))\n",
    "    print('Euclidean distance: {:.2f}'.format(dist.euclidean(v1, v2)))\n",
    "    print('Manhattan distance: {:.2f}'.format(dist.cityblock(v1, v2)))\n",
    "    print('Chebyshev distance: {:.2f}'.format(dist.chebyshev(v1, v2)))\n",
    "    print('Canberra distance: {:.2f}'.format(dist.canberra(v1, v2)))\n",
    "    print('Cosine distance: {:.2f}'.format(dist.cosine(v1, v2)))\n",
    "    "
   ]
  },
  {
   "cell_type": "code",
   "execution_count": 6,
   "metadata": {},
   "outputs": [
    {
     "data": {
      "image/png": "[encoded data removed]",
      "text/plain": [
       "<Figure size 720x720 with 1 Axes>"
      ]
     },
     "metadata": {
      "needs_background": "light"
     },
     "output_type": "display_data"
    }
   ],
   "source": [
    "plt.figure(figsize=(10, 10));\n",
    "plt.grid(True);\n",
    "\n",
    "plt.scatter(points['dim1'], points['dim2'], s=6000, marker='o', edgecolors='black');\n",
    "#plt.title(\"Distances\", fontsize=20);\n",
    "plt.xlabel('Feature 1', fontsize=32);\n",
    "plt.ylabel('Feature 2', fontsize=32);\n",
    "plt.xticks(fontsize=26);\n",
    "plt.yticks(fontsize=26);\n",
    "plt.xlim(left=0, right=6);\n",
    "plt.ylim(bottom=0, top=6);\n",
    "\n",
    "for i, txt in enumerate(points['id']):\n",
    "    plt.text(x=points['dim1'].iloc[i], y=points['dim2'].iloc[i], s=txt, fontsize=32, \n",
    "             horizontalalignment='center', verticalalignment='center', color='white');\n",
    "    \n",
    "plt.show();"
   ]
  },
  {
   "cell_type": "markdown",
   "metadata": {},
   "source": [
    "# What Happens if we scale?"
   ]
  },
  {
   "cell_type": "code",
   "execution_count": 17,
   "metadata": {},
   "outputs": [
    {
     "data": {
      "text/plain": [
       "array([[1, 1],\n",
       "       [2, 1],\n",
       "       [5, 5]], dtype=int64)"
      ]
     },
     "execution_count": 17,
     "metadata": {},
     "output_type": "execute_result"
    },
    {
     "data": {
      "text/plain": [
       "array([[-0.98058068, -0.70710678],\n",
       "       [-0.39223227, -0.70710678],\n",
       "       [ 1.37281295,  1.41421356]])"
      ]
     },
     "execution_count": 17,
     "metadata": {},
     "output_type": "execute_result"
    }
   ],
   "source": [
    "from sklearn.preprocessing import StandardScaler\n",
    "\n",
    "X = points[['dim1', 'dim2']].to_numpy()\n",
    "X\n",
    "\n",
    "X_scaled = StandardScaler().fit_transform(X)\n",
    "X_scaled"
   ]
  },
  {
   "cell_type": "code",
   "execution_count": 23,
   "metadata": {},
   "outputs": [
    {
     "name": "stdout",
     "output_type": "stream",
     "text": [
      "\n",
      "Metric: euclidean\n",
      "  Raw:    [1.    5.657 5.   ]\n",
      "  Scaled: [0.588 3.168 2.76 ]\n",
      "  Raw Norm:    [0.086 0.485 0.429]\n",
      "  Scaled Norm: [0.09  0.486 0.423]\n",
      "\n",
      "Metric: cosine\n",
      "  Raw:    [0.051 0.    0.051]\n",
      "  Scaled: [0.095 1.985 1.965]\n",
      "  Raw Norm:    [0.5 0.  0.5]\n",
      "  Scaled Norm: [0.024 0.491 0.486]\n",
      "\n",
      "Metric: chebyshev\n",
      "  Raw:    [1. 4. 4.]\n",
      "  Scaled: [0.588 2.353 2.121]\n",
      "  Raw Norm:    [0.111 0.444 0.444]\n",
      "  Scaled Norm: [0.116 0.465 0.419]\n",
      "\n",
      "Metric: cityblock\n",
      "  Raw:    [1. 8. 7.]\n",
      "  Scaled: [0.588 4.475 3.886]\n",
      "  Raw Norm:    [0.062 0.5   0.438]\n",
      "  Scaled Norm: [0.066 0.5   0.434]\n",
      "\n",
      "Metric: canberra\n",
      "  Raw:    [0.333 1.333 1.095]\n",
      "  Scaled: [0.429 2.    2.   ]\n",
      "  Raw Norm:    [0.121 0.483 0.397]\n",
      "  Scaled Norm: [0.097 0.452 0.452]\n"
     ]
    }
   ],
   "source": [
    "\n",
    "np.set_printoptions(precision=3)\n",
    "np.set_printoptions(suppress=True)\n",
    "\n",
    "metrics = [\"euclidean\", \"cosine\", \"chebyshev\", \"cityblock\", \"canberra\"]\n",
    "for metric in metrics:\n",
    "    d1 = dist.pdist(X, metric=metric)\n",
    "    d2 = dist.pdist(X_scaled, metric=metric)\n",
    "    print(\"\\nMetric: {}\".format(metric))\n",
    "    print(\"  Raw:    {}\".format(d1))\n",
    "    print(\"  Scaled: {}\".format(d2))\n",
    "    print(\"  Raw Norm:    {}\".format(d1/d1.sum()))\n",
    "    print(\"  Scaled Norm: {}\".format(d2/d2.sum()))"
   ]
  },
  {
   "cell_type": "code",
   "execution_count": null,
   "metadata": {},
   "outputs": [],
   "source": []
  },
  {
   "cell_type": "code",
   "execution_count": 9,
   "metadata": {},
   "outputs": [
    {
     "data": {
      "text/plain": [
       "1.9849433241279208"
      ]
     },
     "execution_count": 9,
     "metadata": {},
     "output_type": "execute_result"
    }
   ],
   "source": [
    "a = np.array([1.6, -0.4, -0.1, -0.1, -0.5, -0.4, 0.3])\n",
    "b = np.array([1.3, -0.2, -0.1, -0.1, -2.1, -0.9, 1.3])\n",
    "dist.euclidean(a, b)"
   ]
  },
  {
   "cell_type": "code",
   "execution_count": 10,
   "metadata": {},
   "outputs": [
    {
     "data": {
      "text/plain": [
       "1.0699999999999998"
      ]
     },
     "execution_count": 10,
     "metadata": {},
     "output_type": "execute_result"
    }
   ],
   "source": [
    "(0.29*7 + 1.98*6) / 13 "
   ]
  },
  {
   "cell_type": "code",
   "execution_count": null,
   "metadata": {},
   "outputs": [],
   "source": []
  }
 ],
 "metadata": {
  "kernelspec": {
   "display_name": "small_sklearn_kernel",
   "language": "python",
   "name": "small_sklearn_kernel"
  },
  "language_info": {
   "codemirror_mode": {
    "name": "ipython",
    "version": 3
   },
   "file_extension": ".py",
   "mimetype": "text/x-python",
   "name": "python",
   "nbconvert_exporter": "python",
   "pygments_lexer": "ipython3",
   "version": "3.6.10"
  }
 },
 "nbformat": 4,
 "nbformat_minor": 4
}
