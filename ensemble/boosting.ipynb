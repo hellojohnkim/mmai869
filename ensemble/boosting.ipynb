{
  "nbformat": 4,
  "nbformat_minor": 0,
  "metadata": {
    "colab": {
      "name": "boosting.ipynb",
      "provenance": [],
      "authorship_tag": "ABX9TyOUQJSBNzFiY4+p7fMV2lWx",
      "include_colab_link": true
    },
    "kernelspec": {
      "name": "python3",
      "display_name": "Python 3"
    },
    "language_info": {
      "name": "python"
    }
  },
  "cells": [
    {
      "cell_type": "markdown",
      "metadata": {
        "id": "view-in-github",
        "colab_type": "text"
      },
      "source": [
        "<a href=\"https://colab.research.google.com/github/stepthom/869_course/blob/main/ensemble/boosting.ipynb\" target=\"_parent\"><img src=\"https://colab.research.google.com/assets/colab-badge.svg\" alt=\"Open In Colab\"/></a>"
      ]
    },
    {
      "cell_type": "markdown",
      "metadata": {
        "id": "JPdoQ95SqdFV"
      },
      "source": [
        "# Playground for Boosting\n",
        "\n",
        "- Stephen W. Thomas\n",
        "- Used for MMA 869, MMAI 869, and GMMA 869\n",
        "\n",
        "\n",
        "Here we try some of the best boosting algorithms: XGBoost, Catboost, and LGBM.\n",
        "\n",
        "We'll use the Portugese Bank Marketing dataset."
      ]
    },
    {
      "cell_type": "code",
      "metadata": {
        "id": "iIDna83vqcZT"
      },
      "source": [
        "import pandas as pd\n",
        "import time\n",
        "import numpy as np\n",
        "\n",
        "from IPython.core.interactiveshell import InteractiveShell\n",
        "InteractiveShell.ast_node_interactivity = \"all\""
      ],
      "execution_count": 1,
      "outputs": []
    },
    {
      "cell_type": "code",
      "metadata": {
        "colab": {
          "base_uri": "https://localhost:8080/"
        },
        "id": "nwqz-oNkVbk2",
        "outputId": "310c3dc3-44b3-4d62-859a-85f2740457f6"
      },
      "source": [
        "!pip install -U scikit-learn"
      ],
      "execution_count": 2,
      "outputs": [
        {
          "output_type": "stream",
          "name": "stdout",
          "text": [
            "Requirement already satisfied: scikit-learn in /usr/local/lib/python3.7/dist-packages (1.0)\n",
            "Requirement already satisfied: threadpoolctl>=2.0.0 in /usr/local/lib/python3.7/dist-packages (from scikit-learn) (2.2.0)\n",
            "Requirement already satisfied: numpy>=1.14.6 in /usr/local/lib/python3.7/dist-packages (from scikit-learn) (1.19.5)\n",
            "Requirement already satisfied: joblib>=0.11 in /usr/local/lib/python3.7/dist-packages (from scikit-learn) (1.0.1)\n",
            "Requirement already satisfied: scipy>=1.1.0 in /usr/local/lib/python3.7/dist-packages (from scikit-learn) (1.4.1)\n"
          ]
        }
      ]
    },
    {
      "cell_type": "code",
      "metadata": {
        "colab": {
          "base_uri": "https://localhost:8080/"
        },
        "id": "j50sr69nVV1V",
        "outputId": "70357556-84a0-462e-8e99-be970a745dcb"
      },
      "source": [
        "import sklearn\n",
        "print('The scikit-learn version is {}.'.format(sklearn.__version__))"
      ],
      "execution_count": 3,
      "outputs": [
        {
          "output_type": "stream",
          "name": "stdout",
          "text": [
            "The scikit-learn version is 1.0.\n"
          ]
        }
      ]
    },
    {
      "cell_type": "code",
      "metadata": {
        "colab": {
          "base_uri": "https://localhost:8080/"
        },
        "id": "gcqWkE5rrIfd",
        "outputId": "0f016d55-e5b2-4f6c-e0b7-4690976d9b78"
      },
      "source": [
        "df = pd.read_csv('https://raw.githubusercontent.com/stepthom/869_course/main/data/bank.csv')\n",
        "df.info()"
      ],
      "execution_count": 4,
      "outputs": [
        {
          "output_type": "stream",
          "name": "stdout",
          "text": [
            "<class 'pandas.core.frame.DataFrame'>\n",
            "RangeIndex: 4521 entries, 0 to 4520\n",
            "Data columns (total 17 columns):\n",
            " #   Column     Non-Null Count  Dtype \n",
            "---  ------     --------------  ----- \n",
            " 0   age        4521 non-null   int64 \n",
            " 1   job        4521 non-null   object\n",
            " 2   marital    4521 non-null   object\n",
            " 3   education  4521 non-null   object\n",
            " 4   default    4521 non-null   object\n",
            " 5   balance    4521 non-null   int64 \n",
            " 6   housing    4521 non-null   object\n",
            " 7   loan       4521 non-null   object\n",
            " 8   contact    4521 non-null   object\n",
            " 9   day        4521 non-null   int64 \n",
            " 10  month      4521 non-null   object\n",
            " 11  duration   4521 non-null   int64 \n",
            " 12  campaign   4521 non-null   int64 \n",
            " 13  pdays      4521 non-null   int64 \n",
            " 14  previous   4521 non-null   int64 \n",
            " 15  poutcome   4521 non-null   object\n",
            " 16  y          4521 non-null   object\n",
            "dtypes: int64(7), object(10)\n",
            "memory usage: 600.6+ KB\n"
          ]
        }
      ]
    },
    {
      "cell_type": "code",
      "metadata": {
        "colab": {
          "base_uri": "https://localhost:8080/",
          "height": 206
        },
        "id": "vZUPa2F-tEhC",
        "outputId": "1e13c0d4-18d3-4016-85a6-b598c74bfed9"
      },
      "source": [
        "df.head()"
      ],
      "execution_count": 5,
      "outputs": [
        {
          "output_type": "execute_result",
          "data": {
            "text/html": [
              "<div>\n",
              "<style scoped>\n",
              "    .dataframe tbody tr th:only-of-type {\n",
              "        vertical-align: middle;\n",
              "    }\n",
              "\n",
              "    .dataframe tbody tr th {\n",
              "        vertical-align: top;\n",
              "    }\n",
              "\n",
              "    .dataframe thead th {\n",
              "        text-align: right;\n",
              "    }\n",
              "</style>\n",
              "<table border=\"1\" class=\"dataframe\">\n",
              "  <thead>\n",
              "    <tr style=\"text-align: right;\">\n",
              "      <th></th>\n",
              "      <th>age</th>\n",
              "      <th>job</th>\n",
              "      <th>marital</th>\n",
              "      <th>education</th>\n",
              "      <th>default</th>\n",
              "      <th>balance</th>\n",
              "      <th>housing</th>\n",
              "      <th>loan</th>\n",
              "      <th>contact</th>\n",
              "      <th>day</th>\n",
              "      <th>month</th>\n",
              "      <th>duration</th>\n",
              "      <th>campaign</th>\n",
              "      <th>pdays</th>\n",
              "      <th>previous</th>\n",
              "      <th>poutcome</th>\n",
              "      <th>y</th>\n",
              "    </tr>\n",
              "  </thead>\n",
              "  <tbody>\n",
              "    <tr>\n",
              "      <th>0</th>\n",
              "      <td>30</td>\n",
              "      <td>unemployed</td>\n",
              "      <td>married</td>\n",
              "      <td>primary</td>\n",
              "      <td>no</td>\n",
              "      <td>1787</td>\n",
              "      <td>no</td>\n",
              "      <td>no</td>\n",
              "      <td>cellular</td>\n",
              "      <td>19</td>\n",
              "      <td>oct</td>\n",
              "      <td>79</td>\n",
              "      <td>1</td>\n",
              "      <td>-1</td>\n",
              "      <td>0</td>\n",
              "      <td>unknown</td>\n",
              "      <td>no</td>\n",
              "    </tr>\n",
              "    <tr>\n",
              "      <th>1</th>\n",
              "      <td>33</td>\n",
              "      <td>services</td>\n",
              "      <td>married</td>\n",
              "      <td>secondary</td>\n",
              "      <td>no</td>\n",
              "      <td>4789</td>\n",
              "      <td>yes</td>\n",
              "      <td>yes</td>\n",
              "      <td>cellular</td>\n",
              "      <td>11</td>\n",
              "      <td>may</td>\n",
              "      <td>220</td>\n",
              "      <td>1</td>\n",
              "      <td>339</td>\n",
              "      <td>4</td>\n",
              "      <td>failure</td>\n",
              "      <td>no</td>\n",
              "    </tr>\n",
              "    <tr>\n",
              "      <th>2</th>\n",
              "      <td>35</td>\n",
              "      <td>management</td>\n",
              "      <td>single</td>\n",
              "      <td>tertiary</td>\n",
              "      <td>no</td>\n",
              "      <td>1350</td>\n",
              "      <td>yes</td>\n",
              "      <td>no</td>\n",
              "      <td>cellular</td>\n",
              "      <td>16</td>\n",
              "      <td>apr</td>\n",
              "      <td>185</td>\n",
              "      <td>1</td>\n",
              "      <td>330</td>\n",
              "      <td>1</td>\n",
              "      <td>failure</td>\n",
              "      <td>no</td>\n",
              "    </tr>\n",
              "    <tr>\n",
              "      <th>3</th>\n",
              "      <td>30</td>\n",
              "      <td>management</td>\n",
              "      <td>married</td>\n",
              "      <td>tertiary</td>\n",
              "      <td>no</td>\n",
              "      <td>1476</td>\n",
              "      <td>yes</td>\n",
              "      <td>yes</td>\n",
              "      <td>unknown</td>\n",
              "      <td>3</td>\n",
              "      <td>jun</td>\n",
              "      <td>199</td>\n",
              "      <td>4</td>\n",
              "      <td>-1</td>\n",
              "      <td>0</td>\n",
              "      <td>unknown</td>\n",
              "      <td>no</td>\n",
              "    </tr>\n",
              "    <tr>\n",
              "      <th>4</th>\n",
              "      <td>59</td>\n",
              "      <td>blue-collar</td>\n",
              "      <td>married</td>\n",
              "      <td>secondary</td>\n",
              "      <td>no</td>\n",
              "      <td>0</td>\n",
              "      <td>yes</td>\n",
              "      <td>no</td>\n",
              "      <td>unknown</td>\n",
              "      <td>5</td>\n",
              "      <td>may</td>\n",
              "      <td>226</td>\n",
              "      <td>1</td>\n",
              "      <td>-1</td>\n",
              "      <td>0</td>\n",
              "      <td>unknown</td>\n",
              "      <td>no</td>\n",
              "    </tr>\n",
              "  </tbody>\n",
              "</table>\n",
              "</div>"
            ],
            "text/plain": [
              "   age          job  marital  education  ... pdays  previous poutcome   y\n",
              "0   30   unemployed  married    primary  ...    -1         0  unknown  no\n",
              "1   33     services  married  secondary  ...   339         4  failure  no\n",
              "2   35   management   single   tertiary  ...   330         1  failure  no\n",
              "3   30   management  married   tertiary  ...    -1         0  unknown  no\n",
              "4   59  blue-collar  married  secondary  ...    -1         0  unknown  no\n",
              "\n",
              "[5 rows x 17 columns]"
            ]
          },
          "metadata": {},
          "execution_count": 5
        }
      ]
    },
    {
      "cell_type": "code",
      "metadata": {
        "id": "KOY69bMBB5K8"
      },
      "source": [
        "# Make sure the label is in 0/1 format, not \"no/yes\" format\n",
        "from sklearn.preprocessing import LabelEncoder\n",
        "label_transformer = LabelEncoder()\n",
        "df['y'] = label_transformer.fit_transform(df['y'])"
      ],
      "execution_count": 6,
      "outputs": []
    },
    {
      "cell_type": "markdown",
      "metadata": {
        "id": "R5TR_1bBss0o"
      },
      "source": [
        "# LightGBM\n",
        "\n",
        "LightGBM is fast and can handle categorical features internally. A very good choice!"
      ]
    },
    {
      "cell_type": "code",
      "metadata": {
        "colab": {
          "base_uri": "https://localhost:8080/"
        },
        "id": "d-GM54D2su35",
        "outputId": "0fe0e48b-5df2-481f-e257-dab01b095e9c"
      },
      "source": [
        "from lightgbm import LGBMClassifier\n",
        "from sklearn.model_selection import cross_validate\n",
        "\n",
        "# Split the dataframe into X (features) and y (target, aka, label).\n",
        "X = df.copy().drop('y', axis=1)\n",
        "y = df.copy()['y']\n",
        "\n",
        "# This is a simple dataset that does not need any cleaning or feature engineering,\n",
        "# so we will skip those here. In most real-world situations, we'd want to do the\n",
        "# normal pipeline dance at this point.\n",
        "\n",
        "# LightGBM can handle categorical features by itself. We just need to make \n",
        "# sure the dataframe is using panda's built-in \"category\" data type.\n",
        "cat_cols = ['job', 'marital', 'education', 'default', \n",
        "            'loan', 'housing', 'contact', 'month', 'poutcome']\n",
        "X[cat_cols] = X[cat_cols].astype('category')\n",
        "\n",
        "params = {\n",
        "      \"cat_l2\": 10,\n",
        "      \"cat_smooth\": 10,\n",
        "      \"colsample_bytree\": 0.8,\n",
        "      \"feature_fraction_bynode\":  0.8,\n",
        "      \"learning_rate\": 0.03,\n",
        "      \"max_depth\": 6,\n",
        "      \"min_child_samples\": 63,\n",
        "      \"min_data_per_group\": 100,\n",
        "      \"n_estimators\": 200,\n",
        "      \"num_leaves\": 63,\n",
        "      \"path_smooth\": 0,\n",
        "      \"reg_alpha\":  0.05,\n",
        "      \"reg_lambda\": 0.05,\n",
        "      \"subsample_freq\": 1,\n",
        "      \"subsample\": 0.8,\n",
        "      \"max_bin\": 127,\n",
        "      \"extra_trees\": False,\n",
        "      \"is_unbalance\": True,\n",
        "      \"boosting_type\": 'gbdt',\n",
        "      \"n_jobs\": 1,\n",
        "      \"verbosity\": -1,\n",
        "      \"seed\": 77,\n",
        "}\n",
        "        \n",
        "fit_params= {\n",
        "    'feature_name': \"auto\",\n",
        "    'categorical_feature': cat_cols,\n",
        "}\n",
        "\n",
        "start = time.time()\n",
        "estimator = LGBMClassifier(**params)\n",
        "\n",
        "# The more CV, the better our estimate of the score\n",
        "inner_cv_scores = cross_validate(estimator, X, y, \n",
        "                                 fit_params=fit_params, \n",
        "                                 cv=15, \n",
        "                                 scoring=\"roc_auc\", \n",
        "                                 n_jobs=5, \n",
        "                                 verbose=0, \n",
        "                                 return_train_score=True)\n",
        "cv_scores=inner_cv_scores['test_score'].tolist()\n",
        "duration = time.time() - start\n",
        "\n",
        "print(\"CV Scores:\")\n",
        "print([\"{:0.4f}\".format(cv_score) for cv_score in cv_scores])\n",
        "print(\"CV Score mean: {:.4f} \".format(np.mean(cv_scores)))\n",
        "print(\"CV Score range: {:0.4f} -- {:0.4f}\".format(np.mean(cv_scores) - np.std(cv_scores), np.mean(cv_scores) + np.std(cv_scores)))\n",
        "print(\"Fit times: {}\".format(duration))\n",
        "print(\"Total duration: {}\".format(duration))"
      ],
      "execution_count": 7,
      "outputs": [
        {
          "output_type": "stream",
          "name": "stdout",
          "text": [
            "CV Scores:\n",
            "['0.9123', '0.9084', '0.9264', '0.8633', '0.9157', '0.8977', '0.9347', '0.9186', '0.9049', '0.9030', '0.9302', '0.9331', '0.9159', '0.8726', '0.9233']\n",
            "CV Score mean: 0.9107 \n",
            "CV Score range: 0.8908 -- 0.9306\n",
            "Fit times: 7.002415895462036\n",
            "Total duration: 7.002415895462036\n"
          ]
        }
      ]
    },
    {
      "cell_type": "code",
      "metadata": {
        "colab": {
          "base_uri": "https://localhost:8080/"
        },
        "id": "3pR9mMFUtM6u",
        "outputId": "303b03a0-5287-439d-c055-5a17656c2704"
      },
      "source": [
        "# Of course, at this point, once you've found the best parameters etc., you would retrain the model on the full dataset:\n",
        "estimator = LGBMClassifier(**params)\n",
        "estimator = estimator.fit(X, y, **fit_params)"
      ],
      "execution_count": 8,
      "outputs": [
        {
          "output_type": "stream",
          "name": "stderr",
          "text": [
            "/usr/local/lib/python3.7/dist-packages/lightgbm/basic.py:1209: UserWarning: categorical_feature in Dataset is overridden.\n",
            "New categorical_feature is ['contact', 'default', 'education', 'housing', 'job', 'loan', 'marital', 'month', 'poutcome']\n",
            "  'New categorical_feature is {}'.format(sorted(list(categorical_feature))))\n"
          ]
        }
      ]
    },
    {
      "cell_type": "markdown",
      "metadata": {
        "id": "AOFmP8vZsvss"
      },
      "source": [
        "# Catboost"
      ]
    },
    {
      "cell_type": "code",
      "metadata": {
        "colab": {
          "base_uri": "https://localhost:8080/"
        },
        "id": "BRBKo_u_sJlJ",
        "outputId": "1e4224d1-e689-48fd-8967-16ff001eff09"
      },
      "source": [
        "pip install catboost"
      ],
      "execution_count": 9,
      "outputs": [
        {
          "output_type": "stream",
          "name": "stdout",
          "text": [
            "Requirement already satisfied: catboost in /usr/local/lib/python3.7/dist-packages (0.26.1)\n",
            "Requirement already satisfied: numpy>=1.16.0 in /usr/local/lib/python3.7/dist-packages (from catboost) (1.19.5)\n",
            "Requirement already satisfied: scipy in /usr/local/lib/python3.7/dist-packages (from catboost) (1.4.1)\n",
            "Requirement already satisfied: matplotlib in /usr/local/lib/python3.7/dist-packages (from catboost) (3.2.2)\n",
            "Requirement already satisfied: graphviz in /usr/local/lib/python3.7/dist-packages (from catboost) (0.10.1)\n",
            "Requirement already satisfied: six in /usr/local/lib/python3.7/dist-packages (from catboost) (1.15.0)\n",
            "Requirement already satisfied: plotly in /usr/local/lib/python3.7/dist-packages (from catboost) (4.4.1)\n",
            "Requirement already satisfied: pandas>=0.24.0 in /usr/local/lib/python3.7/dist-packages (from catboost) (1.1.5)\n",
            "Requirement already satisfied: python-dateutil>=2.7.3 in /usr/local/lib/python3.7/dist-packages (from pandas>=0.24.0->catboost) (2.8.2)\n",
            "Requirement already satisfied: pytz>=2017.2 in /usr/local/lib/python3.7/dist-packages (from pandas>=0.24.0->catboost) (2018.9)\n",
            "Requirement already satisfied: pyparsing!=2.0.4,!=2.1.2,!=2.1.6,>=2.0.1 in /usr/local/lib/python3.7/dist-packages (from matplotlib->catboost) (2.4.7)\n",
            "Requirement already satisfied: cycler>=0.10 in /usr/local/lib/python3.7/dist-packages (from matplotlib->catboost) (0.10.0)\n",
            "Requirement already satisfied: kiwisolver>=1.0.1 in /usr/local/lib/python3.7/dist-packages (from matplotlib->catboost) (1.3.2)\n",
            "Requirement already satisfied: retrying>=1.3.3 in /usr/local/lib/python3.7/dist-packages (from plotly->catboost) (1.3.3)\n"
          ]
        }
      ]
    },
    {
      "cell_type": "code",
      "metadata": {
        "colab": {
          "base_uri": "https://localhost:8080/"
        },
        "id": "YVaUj62yKBUl",
        "outputId": "17f6b08f-a345-4d3a-f55f-ffb1eb50e90f"
      },
      "source": [
        "from catboost import CatBoostClassifier\n",
        "from sklearn.preprocessing import OrdinalEncoder\n",
        "from sklearn.model_selection import cross_validate\n",
        "\n",
        "# Split the dataframe into X (features) and y (target, aka, label).\n",
        "X = df.copy().drop('y', axis=1)\n",
        "y = df.copy()['y']\n",
        "\n",
        "# This is a simple dataset that does not need any cleaning or feature engineering,\n",
        "# so we will skip those here. In most real-world situations, we'd want to do the\n",
        "# normal pipeline dance at this point.\n",
        "\n",
        "# Catboost can handle categorical features by itself. We just need to make \n",
        "# sure the dataframe is using panda's built-in \"category\" data type.\n",
        "cat_cols = ['job', 'marital', 'education', 'default', \n",
        "            'loan', 'housing', 'contact', 'month', 'poutcome']\n",
        "X[cat_cols] = X[cat_cols].astype('category')\n",
        "\n",
        "params= {\n",
        "    'cat_features': cat_cols,\n",
        "    'verbose': 0,\n",
        "}\n",
        "\n",
        "start = time.time()\n",
        "estimator = CatBoostClassifier(**params)\n",
        "\n",
        "# The more CV, the better our estimate of the score\n",
        "inner_cv_scores = cross_validate(estimator, X, y, \n",
        "                                 cv=15, \n",
        "                                 scoring=\"roc_auc\", \n",
        "                                 n_jobs=5, \n",
        "                                 verbose=0, \n",
        "                                 return_train_score=True)\n",
        "cv_scores=inner_cv_scores['test_score'].tolist()\n",
        "fit_times=inner_cv_scores['fit_time'].tolist()\n",
        "duration = time.time() - start\n",
        "\n",
        "print(\"CV Scores:\")\n",
        "print([\"{:0.4f}\".format(cv_score) for cv_score in cv_scores])\n",
        "print(\"CV Score mean: {:.4f} \".format(np.mean(cv_scores)))\n",
        "print(\"CV Score range: {:0.4f} -- {:0.4f}\".format(np.mean(cv_scores) - np.std(cv_scores), np.mean(cv_scores) + np.std(cv_scores)))\n",
        "print(\"Total duration: {}\".format(duration))"
      ],
      "execution_count": 10,
      "outputs": [
        {
          "output_type": "stream",
          "name": "stdout",
          "text": [
            "CV Scores:\n",
            "['0.9240', '0.9005', '0.9247', '0.8809', '0.9129', '0.9007', '0.9430', '0.9265', '0.9348', '0.9005', '0.9378', '0.9376', '0.9086', '0.8871', '0.9396']\n",
            "CV Score mean: 0.9173 \n",
            "CV Score range: 0.8979 -- 0.9367\n",
            "Total duration: 156.7729434967041\n"
          ]
        }
      ]
    },
    {
      "cell_type": "markdown",
      "metadata": {
        "id": "CFGF0qeesoQ0"
      },
      "source": [
        "# XGBoost"
      ]
    },
    {
      "cell_type": "code",
      "metadata": {
        "colab": {
          "base_uri": "https://localhost:8080/"
        },
        "id": "qbRGg28VsHDa",
        "outputId": "9bee7b46-8cf1-4467-daca-1b3783b5ef95"
      },
      "source": [
        "from xgboost import XGBClassifier\n",
        "from sklearn.pipeline import Pipeline\n",
        "from sklearn.preprocessing import OneHotEncoder, OrdinalEncoder\n",
        "\n",
        "# Split the dataframe into X (features) and y (target, aka, label).\n",
        "X = df.copy().drop('y', axis=1)\n",
        "y = df.copy()['y']\n",
        "\n",
        "# XGBoost does not handle categorical automatically, so we will OHE them.\n",
        "\n",
        "# We just need to make sure the dataframe is using panda's\n",
        "#  built-in \"category\" data type.\n",
        "cat_cols = ['job', 'marital', 'education', 'default', \n",
        "            'loan', 'housing', 'contact', 'month', 'poutcome']\n",
        "X[cat_cols] = X[cat_cols].astype('category')\n",
        "\n",
        "params = {\n",
        "      \"learning_rate\": 0.03,\n",
        "      \"max_depth\": 6,\n",
        "      \"min_child_samples\": 63,\n",
        "      \"min_data_per_group\": 100,\n",
        "      \"n_estimators\": 200,\n",
        "      \"num_leaves\": 63,\n",
        "      \"reg_alpha\":  0.05,\n",
        "      \"reg_lambda\": 0.05,\n",
        "      \"subsample\": 0.8,\n",
        "      \"boosting_type\": 'gbtree',\n",
        "      \"n_jobs\": 1,\n",
        "      \"verbosity\": 0,\n",
        "      \"seed\": 77,\n",
        "}\n",
        "\n",
        "pipe = Pipeline(steps=[\n",
        "   #('encoder', OrdinalEncoder(handle_unknown=\"use_encoded_value\", unknown_value=-1, dtype=np.int32)),\n",
        "   ('encoder', OneHotEncoder(handle_unknown='ignore', sparse=False, dtype=np.int32)),\n",
        "   ('clf', XGBClassifier(**params)),                    \n",
        "])\n",
        "\n",
        "start = time.time()\n",
        "pipe.fit(X, y)\n",
        "\n",
        "# The more CV, the better our estimate of the score\n",
        "inner_cv_scores = cross_validate(pipe, X, y, \n",
        "                                 cv=5, \n",
        "                                 scoring=\"roc_auc\", \n",
        "                                 n_jobs=15, \n",
        "                                 verbose=0, \n",
        "                                 return_train_score=True)\n",
        "cv_scores=inner_cv_scores['test_score'].tolist()\n",
        "fit_times=inner_cv_scores['fit_time'].tolist()\n",
        "duration = time.time() - start\n",
        "\n",
        "print(\"CV Scores:\")\n",
        "print([\"{:0.4f}\".format(cv_score) for cv_score in cv_scores])\n",
        "print(\"CV Score mean: {:.4f} \".format(np.mean(cv_scores)))\n",
        "print(\"CV Score range: {:0.4f} -- {:0.4f}\".format(np.mean(cv_scores) - np.std(cv_scores), np.mean(cv_scores) + np.std(cv_scores)))\n",
        "print(\"Total duration: {}\".format(duration))"
      ],
      "execution_count": 11,
      "outputs": [
        {
          "output_type": "execute_result",
          "data": {
            "text/plain": [
              "Pipeline(steps=[('encoder',\n",
              "                 OneHotEncoder(dtype=<class 'numpy.int32'>,\n",
              "                               handle_unknown='ignore', sparse=False)),\n",
              "                ('clf',\n",
              "                 XGBClassifier(boosting_type='gbtree', learning_rate=0.03,\n",
              "                               max_depth=6, min_child_samples=63,\n",
              "                               min_data_per_group=100, n_estimators=200,\n",
              "                               num_leaves=63, reg_alpha=0.05, reg_lambda=0.05,\n",
              "                               seed=77, subsample=0.8, verbosity=0))])"
            ]
          },
          "metadata": {},
          "execution_count": 11
        },
        {
          "output_type": "stream",
          "name": "stdout",
          "text": [
            "CV Scores:\n",
            "['0.7655', '0.7482', '0.7226', '0.7562', '0.7303']\n",
            "CV Score mean: 0.7446 \n",
            "CV Score range: 0.7286 -- 0.7605\n",
            "Total duration: 505.54399943351746\n"
          ]
        }
      ]
    },
    {
      "cell_type": "code",
      "metadata": {
        "id": "oK7cozxmPSsb"
      },
      "source": [
        ""
      ],
      "execution_count": 11,
      "outputs": []
    }
  ]
}